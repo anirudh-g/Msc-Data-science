{
  "nbformat": 4,
  "nbformat_minor": 0,
  "metadata": {
    "colab": {
      "name": "Baseline CNN.ipynb",
      "provenance": [],
      "authorship_tag": "ABX9TyPg4zg1WRn/oWq0UyEhD6wY",
      "include_colab_link": true
    },
    "kernelspec": {
      "name": "python3",
      "display_name": "Python 3"
    }
  },
  "cells": [
    {
      "cell_type": "markdown",
      "metadata": {
        "id": "view-in-github",
        "colab_type": "text"
      },
      "source": [
        "<a href=\"https://colab.research.google.com/github/anirudh-g/Msc-Data-science/blob/master/Baseline_CNN.ipynb\" target=\"_parent\"><img src=\"https://colab.research.google.com/assets/colab-badge.svg\" alt=\"Open In Colab\"/></a>"
      ]
    },
    {
      "cell_type": "markdown",
      "metadata": {
        "id": "kDTHIUvaGpaD",
        "colab_type": "text"
      },
      "source": [
        "SETUP"
      ]
    },
    {
      "cell_type": "code",
      "metadata": {
        "id": "mxXe1X8y6nc6",
        "colab_type": "code",
        "colab": {}
      },
      "source": [
        "#import os\n",
        "#import tensorflow as tf\n",
        "#import numpy as np\n",
        "#import random as rn\n",
        "\n",
        "#os.environ['PYTHONHASHSEED'] = '0'\n",
        "#os.environ['CUDA_VISIBLE_DEVICES'] = ''\n",
        "#np.random.seed(37)\n",
        "#tf.random.set_seed(89)\n",
        "\n",
        "import numpy as np\n",
        "import os\n",
        "import random\n",
        "import tensorflow as tf # 2.2.0\n",
        "\n",
        "SEED = 42\n",
        "os.environ['PYTHONHASHSEED']=str(SEED)\n",
        "os.environ['TF_CUDNN_DETERMINISTIC'] = '1'  # TF 2.1+\n",
        "np.random.seed(SEED)\n",
        "random.seed(SEED)\n",
        "tf.random.set_seed(SEED)"
      ],
      "execution_count": 14,
      "outputs": []
    },
    {
      "cell_type": "code",
      "metadata": {
        "id": "28pB07J85_lo",
        "colab_type": "code",
        "colab": {}
      },
      "source": [
        "from tensorflow import keras\n",
        "from tensorflow.keras.models import Sequential\n",
        "from tensorflow.keras.layers import Dense, Conv2D, Flatten, Dropout, MaxPooling2D\n",
        "from tensorflow.keras.preprocessing.image import ImageDataGenerator\n",
        "from keras import backend as K\n",
        "import matplotlib.pyplot as plt"
      ],
      "execution_count": 15,
      "outputs": []
    },
    {
      "cell_type": "code",
      "metadata": {
        "id": "0dp7Obwp6CwW",
        "colab_type": "code",
        "colab": {
          "base_uri": "https://localhost:8080/",
          "height": 35
        },
        "outputId": "5e2dd355-e406-4513-9fab-c03ed14a01f0"
      },
      "source": [
        "from google.colab import drive\n",
        "drive.mount('/content/drive')"
      ],
      "execution_count": 16,
      "outputs": [
        {
          "output_type": "stream",
          "text": [
            "Drive already mounted at /content/drive; to attempt to forcibly remount, call drive.mount(\"/content/drive\", force_remount=True).\n"
          ],
          "name": "stdout"
        }
      ]
    },
    {
      "cell_type": "markdown",
      "metadata": {
        "id": "GB7naJX0JkOq",
        "colab_type": "text"
      },
      "source": [
        "DATA PROCESSING"
      ]
    },
    {
      "cell_type": "code",
      "metadata": {
        "id": "oOF8oDTX6GZ9",
        "colab_type": "code",
        "colab": {}
      },
      "source": [
        "train_dir = '/content/drive/My Drive/Colab Notebooks/Charts_5/Train'\n",
        "validation_dir = '/content/drive/My Drive/Colab Notebooks/Charts_5/Validation'"
      ],
      "execution_count": 18,
      "outputs": []
    },
    {
      "cell_type": "code",
      "metadata": {
        "id": "nIvKBrJK6LuY",
        "colab_type": "code",
        "colab": {}
      },
      "source": [
        "img_width, img_height = 224, 224\n",
        "nb_train_samples = 80\n",
        "nb_validation_samples = 20\n",
        "epochs = 30\n",
        "batch_size = 10"
      ],
      "execution_count": 19,
      "outputs": []
    },
    {
      "cell_type": "code",
      "metadata": {
        "id": "ynlfZSd76QoU",
        "colab_type": "code",
        "colab": {}
      },
      "source": [
        "#checking whether the rgb channel is first or last to feed the input shape accordingly\n",
        "if K.image_data_format() == 'channels_first': \n",
        "    input_shape = (3, img_width, img_height) \n",
        "else: \n",
        "    input_shape = (img_width, img_height, 3) "
      ],
      "execution_count": 20,
      "outputs": []
    },
    {
      "cell_type": "code",
      "metadata": {
        "id": "naq_9Ovo6Uaj",
        "colab_type": "code",
        "colab": {
          "base_uri": "https://localhost:8080/",
          "height": 52
        },
        "outputId": "7357db55-9bfd-493f-b35d-8f5732feab0f"
      },
      "source": [
        "#Performing augmentation on image scaling, zoom and fliiping the images horizontally so that the network has more training samples\n",
        "train_datagen = ImageDataGenerator( \n",
        "\trescale=1. / 255, \n",
        "\tshear_range=0.2, \n",
        "\tzoom_range=0.2, \n",
        "\thorizontal_flip=True) \n",
        "\n",
        "#Not having any augmentation apart from scaling as the validation data should resemble the real-world data as close as possible\n",
        "val_datagen = ImageDataGenerator(rescale=1. / 255) \n",
        "\n",
        "train_generator = train_datagen.flow_from_directory( \n",
        "\ttrain_dir, \n",
        "\ttarget_size=(img_width, img_height), \n",
        "\tbatch_size=batch_size, \n",
        "\tclass_mode='categorical') \n",
        "\n",
        "validation_generator = val_datagen.flow_from_directory( \n",
        "\tvalidation_dir, \n",
        "\ttarget_size=(img_width, img_height), \n",
        "\tbatch_size=batch_size, \n",
        "\tclass_mode='categorical')"
      ],
      "execution_count": 21,
      "outputs": [
        {
          "output_type": "stream",
          "text": [
            "Found 400 images belonging to 5 classes.\n",
            "Found 100 images belonging to 5 classes.\n"
          ],
          "name": "stdout"
        }
      ]
    },
    {
      "cell_type": "code",
      "metadata": {
        "id": "JKelaDk46YAA",
        "colab_type": "code",
        "colab": {
          "base_uri": "https://localhost:8080/",
          "height": 468
        },
        "outputId": "2fe509e7-6012-4f94-b590-f8ce6d38d3fc"
      },
      "source": [
        "# 3 CNN blocks containing a max pooling layer in each of them. On top of that is a fully connected layer with relu activation function\n",
        "model = Sequential([\n",
        "    Conv2D(16, 3, padding='same', activation='relu', input_shape=input_shape),\n",
        "    MaxPooling2D(),\n",
        "    Conv2D(32, 3, padding='same', activation='relu'),\n",
        "    MaxPooling2D(),\n",
        "    Conv2D(64, 3, padding='same', activation='relu'),\n",
        "    MaxPooling2D(),\n",
        "    Flatten(),\n",
        "    Dense(512, activation='relu'),\n",
        "    Dense(5, activation='softmax') #Nodes in the final dense layer should be equal to number of classes + softmax activation\n",
        "])\n",
        "\n",
        "\n",
        "model.compile(optimizer='adam',\n",
        "              loss=tf.keras.losses.categorical_crossentropy,\n",
        "              metrics=['accuracy'])\n",
        "\n",
        "model.summary()"
      ],
      "execution_count": 22,
      "outputs": [
        {
          "output_type": "stream",
          "text": [
            "Model: \"sequential_1\"\n",
            "_________________________________________________________________\n",
            "Layer (type)                 Output Shape              Param #   \n",
            "=================================================================\n",
            "conv2d_3 (Conv2D)            (None, 224, 224, 16)      448       \n",
            "_________________________________________________________________\n",
            "max_pooling2d_3 (MaxPooling2 (None, 112, 112, 16)      0         \n",
            "_________________________________________________________________\n",
            "conv2d_4 (Conv2D)            (None, 112, 112, 32)      4640      \n",
            "_________________________________________________________________\n",
            "max_pooling2d_4 (MaxPooling2 (None, 56, 56, 32)        0         \n",
            "_________________________________________________________________\n",
            "conv2d_5 (Conv2D)            (None, 56, 56, 64)        18496     \n",
            "_________________________________________________________________\n",
            "max_pooling2d_5 (MaxPooling2 (None, 28, 28, 64)        0         \n",
            "_________________________________________________________________\n",
            "flatten_1 (Flatten)          (None, 50176)             0         \n",
            "_________________________________________________________________\n",
            "dense_2 (Dense)              (None, 512)               25690624  \n",
            "_________________________________________________________________\n",
            "dense_3 (Dense)              (None, 5)                 2565      \n",
            "=================================================================\n",
            "Total params: 25,716,773\n",
            "Trainable params: 25,716,773\n",
            "Non-trainable params: 0\n",
            "_________________________________________________________________\n"
          ],
          "name": "stdout"
        }
      ]
    },
    {
      "cell_type": "code",
      "metadata": {
        "id": "fw1dsqUW73td",
        "colab_type": "code",
        "colab": {
          "base_uri": "https://localhost:8080/",
          "height": 1000
        },
        "outputId": "3dee1f57-4f81-47a6-abcb-8ba5ef408b4c"
      },
      "source": [
        "history = model.fit( \n",
        "\ttrain_generator, \n",
        "\tsteps_per_epoch=nb_train_samples // batch_size, \n",
        "\tepochs=epochs, \n",
        "\tvalidation_data=validation_generator, \n",
        "\tvalidation_steps=nb_validation_samples // batch_size) "
      ],
      "execution_count": 23,
      "outputs": [
        {
          "output_type": "stream",
          "text": [
            "Epoch 1/30\n",
            "8/8 [==============================] - 6s 750ms/step - loss: 4.6549 - accuracy: 0.1875 - val_loss: 1.5450 - val_accuracy: 0.3000\n",
            "Epoch 2/30\n",
            "8/8 [==============================] - 6s 740ms/step - loss: 1.5727 - accuracy: 0.3500 - val_loss: 1.6485 - val_accuracy: 0.2000\n",
            "Epoch 3/30\n",
            "8/8 [==============================] - 6s 726ms/step - loss: 1.5436 - accuracy: 0.3125 - val_loss: 1.4124 - val_accuracy: 0.7000\n",
            "Epoch 4/30\n",
            "8/8 [==============================] - 6s 717ms/step - loss: 1.3289 - accuracy: 0.4125 - val_loss: 1.4397 - val_accuracy: 0.4500\n",
            "Epoch 5/30\n",
            "8/8 [==============================] - 6s 731ms/step - loss: 1.3510 - accuracy: 0.4125 - val_loss: 0.9835 - val_accuracy: 0.6500\n",
            "Epoch 6/30\n",
            "8/8 [==============================] - 6s 736ms/step - loss: 1.0977 - accuracy: 0.5375 - val_loss: 1.0090 - val_accuracy: 0.5000\n",
            "Epoch 7/30\n",
            "8/8 [==============================] - 6s 728ms/step - loss: 0.9521 - accuracy: 0.5250 - val_loss: 1.0340 - val_accuracy: 0.5500\n",
            "Epoch 8/30\n",
            "8/8 [==============================] - 6s 736ms/step - loss: 0.9712 - accuracy: 0.5125 - val_loss: 0.7682 - val_accuracy: 0.6500\n",
            "Epoch 9/30\n",
            "8/8 [==============================] - 6s 717ms/step - loss: 0.8262 - accuracy: 0.5875 - val_loss: 0.8766 - val_accuracy: 0.6000\n",
            "Epoch 10/30\n",
            "8/8 [==============================] - 6s 737ms/step - loss: 0.9693 - accuracy: 0.4750 - val_loss: 0.8478 - val_accuracy: 0.6500\n",
            "Epoch 11/30\n",
            "8/8 [==============================] - 6s 718ms/step - loss: 0.7530 - accuracy: 0.6625 - val_loss: 0.5898 - val_accuracy: 0.8000\n",
            "Epoch 12/30\n",
            "8/8 [==============================] - 6s 731ms/step - loss: 0.8742 - accuracy: 0.5625 - val_loss: 1.9762 - val_accuracy: 0.5000\n",
            "Epoch 13/30\n",
            "8/8 [==============================] - 6s 727ms/step - loss: 0.9608 - accuracy: 0.6000 - val_loss: 0.9541 - val_accuracy: 0.3500\n",
            "Epoch 14/30\n",
            "8/8 [==============================] - 6s 714ms/step - loss: 0.7172 - accuracy: 0.6250 - val_loss: 1.1971 - val_accuracy: 0.4500\n",
            "Epoch 15/30\n",
            "8/8 [==============================] - 6s 737ms/step - loss: 0.7807 - accuracy: 0.6625 - val_loss: 0.7703 - val_accuracy: 0.7000\n",
            "Epoch 16/30\n",
            "8/8 [==============================] - 6s 715ms/step - loss: 0.8587 - accuracy: 0.6000 - val_loss: 0.8627 - val_accuracy: 0.5500\n",
            "Epoch 17/30\n",
            "8/8 [==============================] - 6s 719ms/step - loss: 0.9747 - accuracy: 0.5500 - val_loss: 0.7559 - val_accuracy: 0.7000\n",
            "Epoch 18/30\n",
            "8/8 [==============================] - 6s 773ms/step - loss: 0.6453 - accuracy: 0.6625 - val_loss: 1.4559 - val_accuracy: 0.6500\n",
            "Epoch 19/30\n",
            "8/8 [==============================] - 6s 717ms/step - loss: 0.5455 - accuracy: 0.7625 - val_loss: 0.6603 - val_accuracy: 0.7000\n",
            "Epoch 20/30\n",
            "8/8 [==============================] - 6s 726ms/step - loss: 0.7773 - accuracy: 0.6625 - val_loss: 0.8806 - val_accuracy: 0.5500\n",
            "Epoch 21/30\n",
            "8/8 [==============================] - 6s 745ms/step - loss: 0.7542 - accuracy: 0.7000 - val_loss: 0.8116 - val_accuracy: 0.6000\n",
            "Epoch 22/30\n",
            "8/8 [==============================] - 6s 738ms/step - loss: 0.7413 - accuracy: 0.6625 - val_loss: 0.8882 - val_accuracy: 0.7000\n",
            "Epoch 23/30\n",
            "8/8 [==============================] - 6s 735ms/step - loss: 0.5604 - accuracy: 0.8000 - val_loss: 0.9419 - val_accuracy: 0.6000\n",
            "Epoch 24/30\n",
            "8/8 [==============================] - 6s 729ms/step - loss: 0.5883 - accuracy: 0.7375 - val_loss: 1.2516 - val_accuracy: 0.6500\n",
            "Epoch 25/30\n",
            "8/8 [==============================] - 6s 721ms/step - loss: 0.5375 - accuracy: 0.7750 - val_loss: 1.1057 - val_accuracy: 0.5000\n",
            "Epoch 26/30\n",
            "8/8 [==============================] - 6s 722ms/step - loss: 0.5936 - accuracy: 0.6875 - val_loss: 0.7504 - val_accuracy: 0.6000\n",
            "Epoch 27/30\n",
            "8/8 [==============================] - 6s 747ms/step - loss: 0.6493 - accuracy: 0.6875 - val_loss: 1.2582 - val_accuracy: 0.7000\n",
            "Epoch 28/30\n",
            "8/8 [==============================] - 6s 711ms/step - loss: 0.6941 - accuracy: 0.6125 - val_loss: 1.3244 - val_accuracy: 0.6500\n",
            "Epoch 29/30\n",
            "8/8 [==============================] - 6s 733ms/step - loss: 0.6268 - accuracy: 0.6875 - val_loss: 0.8252 - val_accuracy: 0.5500\n",
            "Epoch 30/30\n",
            "8/8 [==============================] - 6s 731ms/step - loss: 0.5861 - accuracy: 0.7000 - val_loss: 1.0967 - val_accuracy: 0.5500\n"
          ],
          "name": "stdout"
        }
      ]
    },
    {
      "cell_type": "code",
      "metadata": {
        "id": "qWB_9BRA6edS",
        "colab_type": "code",
        "colab": {
          "base_uri": "https://localhost:8080/",
          "height": 295
        },
        "outputId": "ff3de133-6a35-48fa-8b64-06c23dd5b989"
      },
      "source": [
        "plt.plot(history.history['accuracy'])\n",
        "plt.plot(history.history['val_accuracy'])\n",
        "plt.title('model accuracy')\n",
        "plt.xticks(np.arange(0,21, 2))\n",
        "plt.ylabel('accuracy')\n",
        "plt.xlabel('epoch')\n",
        "plt.legend(['train', 'validation'], loc='upper left')\n",
        "plt.show()"
      ],
      "execution_count": 13,
      "outputs": [
        {
          "output_type": "display_data",
          "data": {
            "image/png": "[encoded data removed]",
            "text/plain": [
              "<Figure size 432x288 with 1 Axes>"
            ]
          },
          "metadata": {
            "tags": [],
            "needs_background": "light"
          }
        }
      ]
    },
    {
      "cell_type": "code",
      "metadata": {
        "id": "YMjNT4xXHAef",
        "colab_type": "code",
        "colab": {}
      },
      "source": [
        ""
      ],
      "execution_count": null,
      "outputs": []
    }
  ]
}