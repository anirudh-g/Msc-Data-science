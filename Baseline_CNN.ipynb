{
  "nbformat": 4,
  "nbformat_minor": 0,
  "metadata": {
    "colab": {
      "name": "Baseline CNN.ipynb",
      "provenance": [],
      "authorship_tag": "ABX9TyM7usfu6Xq13OK1cz1l57ye",
      "include_colab_link": true
    },
    "kernelspec": {
      "name": "python3",
      "display_name": "Python 3"
    }
  },
  "cells": [
    {
      "cell_type": "markdown",
      "metadata": {
        "id": "view-in-github",
        "colab_type": "text"
      },
      "source": [
        "<a href=\"https://colab.research.google.com/github/anirudh-g/Msc-Data-science/blob/master/Baseline_CNN.ipynb\" target=\"_parent\"><img src=\"https://colab.research.google.com/assets/colab-badge.svg\" alt=\"Open In Colab\"/></a>"
      ]
    },
    {
      "cell_type": "markdown",
      "metadata": {
        "id": "kDTHIUvaGpaD",
        "colab_type": "text"
      },
      "source": [
        "SETUP"
      ]
    },
    {
      "cell_type": "code",
      "metadata": {
        "id": "mxXe1X8y6nc6",
        "colab_type": "code",
        "colab": {}
      },
      "source": [
        "#import os\n",
        "#import tensorflow as tf\n",
        "#import numpy as np\n",
        "#import random as rn\n",
        "\n",
        "#os.environ['PYTHONHASHSEED'] = '0'\n",
        "#os.environ['CUDA_VISIBLE_DEVICES'] = ''\n",
        "#np.random.seed(37)\n",
        "#tf.random.set_seed(89)\n",
        "\n",
        "import numpy as np\n",
        "import os\n",
        "import random\n",
        "import tensorflow as tf # 2.2.0\n",
        "\n",
        "SEED = 42\n",
        "os.environ['PYTHONHASHSEED']=str(SEED)\n",
        "os.environ['TF_CUDNN_DETERMINISTIC'] = '1'  # TF 2.1+\n",
        "np.random.seed(SEED)\n",
        "random.seed(SEED)\n",
        "tf.random.set_seed(SEED)"
      ],
      "execution_count": 1,
      "outputs": []
    },
    {
      "cell_type": "code",
      "metadata": {
        "id": "28pB07J85_lo",
        "colab_type": "code",
        "colab": {
          "base_uri": "https://localhost:8080/",
          "height": 35
        },
        "outputId": "a835bfe0-cea3-4002-c501-586a0aea8274"
      },
      "source": [
        "from tensorflow import keras\n",
        "from tensorflow.keras.models import Sequential\n",
        "from tensorflow.keras.layers import Dense, Conv2D, Flatten, Dropout, MaxPooling2D\n",
        "from tensorflow.keras.preprocessing.image import ImageDataGenerator\n",
        "from keras import backend as K\n",
        "import matplotlib.pyplot as plt"
      ],
      "execution_count": 2,
      "outputs": [
        {
          "output_type": "stream",
          "text": [
            "Using TensorFlow backend.\n"
          ],
          "name": "stderr"
        }
      ]
    },
    {
      "cell_type": "code",
      "metadata": {
        "id": "0dp7Obwp6CwW",
        "colab_type": "code",
        "colab": {
          "base_uri": "https://localhost:8080/",
          "height": 35
        },
        "outputId": "490d7409-c303-4138-880e-df9f54018b9b"
      },
      "source": [
        "from google.colab import drive\n",
        "drive.mount('/content/drive')"
      ],
      "execution_count": 3,
      "outputs": [
        {
          "output_type": "stream",
          "text": [
            "Drive already mounted at /content/drive; to attempt to forcibly remount, call drive.mount(\"/content/drive\", force_remount=True).\n"
          ],
          "name": "stdout"
        }
      ]
    },
    {
      "cell_type": "markdown",
      "metadata": {
        "id": "GB7naJX0JkOq",
        "colab_type": "text"
      },
      "source": [
        "DATA PROCESSING"
      ]
    },
    {
      "cell_type": "code",
      "metadata": {
        "id": "oOF8oDTX6GZ9",
        "colab_type": "code",
        "colab": {}
      },
      "source": [
        "train_dir = '/content/drive/My Drive/Colab Notebooks/Charts_5/Train'\n",
        "validation_dir = '/content/drive/My Drive/Colab Notebooks/Charts_5/Validation'"
      ],
      "execution_count": 4,
      "outputs": []
    },
    {
      "cell_type": "code",
      "metadata": {
        "id": "nIvKBrJK6LuY",
        "colab_type": "code",
        "colab": {}
      },
      "source": [
        "img_width, img_height = 224, 224\n",
        "nb_train_samples = 400\n",
        "nb_validation_samples = 100\n",
        "epochs = 30\n",
        "batch_size = 16"
      ],
      "execution_count": 5,
      "outputs": []
    },
    {
      "cell_type": "code",
      "metadata": {
        "id": "ynlfZSd76QoU",
        "colab_type": "code",
        "colab": {}
      },
      "source": [
        "#checking whether the rgb channel is first or last to feed the input shape accordingly\n",
        "if K.image_data_format() == 'channels_first': \n",
        "    input_shape = (3, img_width, img_height) \n",
        "else: \n",
        "    input_shape = (img_width, img_height, 3) "
      ],
      "execution_count": 6,
      "outputs": []
    },
    {
      "cell_type": "code",
      "metadata": {
        "id": "naq_9Ovo6Uaj",
        "colab_type": "code",
        "colab": {
          "base_uri": "https://localhost:8080/",
          "height": 52
        },
        "outputId": "5ae32e20-76cc-4c3c-ee6f-e44ddd5824b6"
      },
      "source": [
        "#Performing augmentation on image scaling, zoom and fliiping the images horizontally so that the network has more training samples\n",
        "train_datagen = ImageDataGenerator( \n",
        "\trescale=1. / 255, \n",
        "\tshear_range=0.2, \n",
        "\tzoom_range=0.2) \n",
        "\n",
        "#Not having any augmentation apart from scaling as the validation data should resemble the real-world data as close as possible\n",
        "val_datagen = ImageDataGenerator(rescale=1. / 255) \n",
        "\n",
        "train_generator = train_datagen.flow_from_directory( \n",
        "\ttrain_dir, \n",
        "\ttarget_size=(img_width, img_height), \n",
        "\tbatch_size=batch_size, \n",
        "\tclass_mode='categorical') \n",
        "\n",
        "validation_generator = val_datagen.flow_from_directory( \n",
        "\tvalidation_dir, \n",
        "\ttarget_size=(img_width, img_height), \n",
        "\tbatch_size=batch_size, \n",
        "\tclass_mode='categorical')"
      ],
      "execution_count": 7,
      "outputs": [
        {
          "output_type": "stream",
          "text": [
            "Found 400 images belonging to 5 classes.\n",
            "Found 100 images belonging to 5 classes.\n"
          ],
          "name": "stdout"
        }
      ]
    },
    {
      "cell_type": "code",
      "metadata": {
        "id": "JKelaDk46YAA",
        "colab_type": "code",
        "colab": {
          "base_uri": "https://localhost:8080/",
          "height": 468
        },
        "outputId": "314c4ae1-89f6-477d-957c-d8ee3e75c8f7"
      },
      "source": [
        "# 3 CNN blocks containing a max pooling layer in each of them. On top of that is a fully connected layer with relu activation function\n",
        "model = Sequential([\n",
        "    Conv2D(16, 3, padding='same', activation='relu', input_shape=input_shape),\n",
        "    MaxPooling2D(),\n",
        "    Conv2D(32, 3, padding='same', activation='relu'),\n",
        "    MaxPooling2D(),\n",
        "    Conv2D(64, 3, padding='same', activation='relu'),\n",
        "    MaxPooling2D(),\n",
        "    Flatten(),\n",
        "    Dense(512, activation='relu'),\n",
        "    Dense(5, activation='softmax') #Nodes in the final dense layer should be equal to number of classes + softmax activation\n",
        "])\n",
        "\n",
        "\n",
        "model.compile(optimizer='adam',\n",
        "              loss=tf.keras.losses.categorical_crossentropy,\n",
        "              metrics=['accuracy'])\n",
        "\n",
        "model.summary()"
      ],
      "execution_count": 8,
      "outputs": [
        {
          "output_type": "stream",
          "text": [
            "Model: \"sequential\"\n",
            "_________________________________________________________________\n",
            "Layer (type)                 Output Shape              Param #   \n",
            "=================================================================\n",
            "conv2d (Conv2D)              (None, 224, 224, 16)      448       \n",
            "_________________________________________________________________\n",
            "max_pooling2d (MaxPooling2D) (None, 112, 112, 16)      0         \n",
            "_________________________________________________________________\n",
            "conv2d_1 (Conv2D)            (None, 112, 112, 32)      4640      \n",
            "_________________________________________________________________\n",
            "max_pooling2d_1 (MaxPooling2 (None, 56, 56, 32)        0         \n",
            "_________________________________________________________________\n",
            "conv2d_2 (Conv2D)            (None, 56, 56, 64)        18496     \n",
            "_________________________________________________________________\n",
            "max_pooling2d_2 (MaxPooling2 (None, 28, 28, 64)        0         \n",
            "_________________________________________________________________\n",
            "flatten (Flatten)            (None, 50176)             0         \n",
            "_________________________________________________________________\n",
            "dense (Dense)                (None, 512)               25690624  \n",
            "_________________________________________________________________\n",
            "dense_1 (Dense)              (None, 5)                 2565      \n",
            "=================================================================\n",
            "Total params: 25,716,773\n",
            "Trainable params: 25,716,773\n",
            "Non-trainable params: 0\n",
            "_________________________________________________________________\n"
          ],
          "name": "stdout"
        }
      ]
    },
    {
      "cell_type": "code",
      "metadata": {
        "id": "fw1dsqUW73td",
        "colab_type": "code",
        "colab": {
          "base_uri": "https://localhost:8080/",
          "height": 1000
        },
        "outputId": "8867ecad-26c4-4b64-b17c-0ee7cc5ab424"
      },
      "source": [
        "history = model.fit( \n",
        "\ttrain_generator, \n",
        "\tsteps_per_epoch=nb_train_samples // batch_size, \n",
        "\tepochs=epochs, \n",
        "\tvalidation_data=validation_generator, \n",
        "\tvalidation_steps=nb_validation_samples // batch_size) "
      ],
      "execution_count": 9,
      "outputs": [
        {
          "output_type": "stream",
          "text": [
            "Epoch 1/30\n",
            "25/25 [==============================] - 90s 4s/step - loss: 2.6995 - accuracy: 0.1800 - val_loss: 1.5932 - val_accuracy: 0.2812\n",
            "Epoch 2/30\n",
            "25/25 [==============================] - 27s 1s/step - loss: 1.4326 - accuracy: 0.3825 - val_loss: 1.3389 - val_accuracy: 0.4479\n",
            "Epoch 3/30\n",
            "25/25 [==============================] - 27s 1s/step - loss: 1.0303 - accuracy: 0.5575 - val_loss: 0.9751 - val_accuracy: 0.6042\n",
            "Epoch 4/30\n",
            "25/25 [==============================] - 27s 1s/step - loss: 0.8327 - accuracy: 0.6175 - val_loss: 0.9685 - val_accuracy: 0.6042\n",
            "Epoch 5/30\n",
            "25/25 [==============================] - 27s 1s/step - loss: 0.6805 - accuracy: 0.7200 - val_loss: 0.9558 - val_accuracy: 0.6354\n",
            "Epoch 6/30\n",
            "25/25 [==============================] - 27s 1s/step - loss: 0.5637 - accuracy: 0.7225 - val_loss: 0.8894 - val_accuracy: 0.6771\n",
            "Epoch 7/30\n",
            "25/25 [==============================] - 27s 1s/step - loss: 0.4705 - accuracy: 0.7900 - val_loss: 0.9400 - val_accuracy: 0.6146\n",
            "Epoch 8/30\n",
            "25/25 [==============================] - 27s 1s/step - loss: 0.4063 - accuracy: 0.8175 - val_loss: 1.2273 - val_accuracy: 0.6250\n",
            "Epoch 9/30\n",
            "25/25 [==============================] - 27s 1s/step - loss: 0.4702 - accuracy: 0.7900 - val_loss: 0.8839 - val_accuracy: 0.6458\n",
            "Epoch 10/30\n",
            "25/25 [==============================] - 27s 1s/step - loss: 0.4387 - accuracy: 0.8350 - val_loss: 1.1182 - val_accuracy: 0.6979\n",
            "Epoch 11/30\n",
            "25/25 [==============================] - 27s 1s/step - loss: 0.2890 - accuracy: 0.8875 - val_loss: 1.0277 - val_accuracy: 0.6667\n",
            "Epoch 12/30\n",
            "25/25 [==============================] - 27s 1s/step - loss: 0.3107 - accuracy: 0.8750 - val_loss: 1.0093 - val_accuracy: 0.6979\n",
            "Epoch 13/30\n",
            "25/25 [==============================] - 27s 1s/step - loss: 0.3308 - accuracy: 0.8550 - val_loss: 1.0662 - val_accuracy: 0.6667\n",
            "Epoch 14/30\n",
            "25/25 [==============================] - 27s 1s/step - loss: 0.2929 - accuracy: 0.9050 - val_loss: 1.9988 - val_accuracy: 0.6146\n",
            "Epoch 15/30\n",
            "25/25 [==============================] - 27s 1s/step - loss: 0.2794 - accuracy: 0.9075 - val_loss: 1.3706 - val_accuracy: 0.7812\n",
            "Epoch 16/30\n",
            "25/25 [==============================] - 27s 1s/step - loss: 0.2894 - accuracy: 0.8700 - val_loss: 1.4373 - val_accuracy: 0.6979\n",
            "Epoch 17/30\n",
            "25/25 [==============================] - 27s 1s/step - loss: 0.3033 - accuracy: 0.8825 - val_loss: 0.9374 - val_accuracy: 0.7083\n",
            "Epoch 18/30\n",
            "25/25 [==============================] - 27s 1s/step - loss: 0.1808 - accuracy: 0.9350 - val_loss: 1.3146 - val_accuracy: 0.6771\n",
            "Epoch 19/30\n",
            "25/25 [==============================] - 27s 1s/step - loss: 0.1384 - accuracy: 0.9400 - val_loss: 1.1991 - val_accuracy: 0.6771\n",
            "Epoch 20/30\n",
            "25/25 [==============================] - 27s 1s/step - loss: 0.1554 - accuracy: 0.9350 - val_loss: 1.3681 - val_accuracy: 0.7188\n",
            "Epoch 21/30\n",
            "25/25 [==============================] - 27s 1s/step - loss: 0.1741 - accuracy: 0.9450 - val_loss: 1.2267 - val_accuracy: 0.7083\n",
            "Epoch 22/30\n",
            "25/25 [==============================] - 27s 1s/step - loss: 0.1482 - accuracy: 0.9575 - val_loss: 1.1190 - val_accuracy: 0.7500\n",
            "Epoch 23/30\n",
            "25/25 [==============================] - 27s 1s/step - loss: 0.0986 - accuracy: 0.9675 - val_loss: 1.2527 - val_accuracy: 0.7604\n",
            "Epoch 24/30\n",
            "25/25 [==============================] - 27s 1s/step - loss: 0.1450 - accuracy: 0.9400 - val_loss: 1.0382 - val_accuracy: 0.7396\n",
            "Epoch 25/30\n",
            "25/25 [==============================] - 27s 1s/step - loss: 0.1021 - accuracy: 0.9575 - val_loss: 1.1192 - val_accuracy: 0.7917\n",
            "Epoch 26/30\n",
            "25/25 [==============================] - 27s 1s/step - loss: 0.0957 - accuracy: 0.9650 - val_loss: 1.3068 - val_accuracy: 0.7083\n",
            "Epoch 27/30\n",
            "25/25 [==============================] - 27s 1s/step - loss: 0.1273 - accuracy: 0.9550 - val_loss: 1.3641 - val_accuracy: 0.7500\n",
            "Epoch 28/30\n",
            "25/25 [==============================] - 27s 1s/step - loss: 0.1083 - accuracy: 0.9425 - val_loss: 1.2803 - val_accuracy: 0.7292\n",
            "Epoch 29/30\n",
            "25/25 [==============================] - 27s 1s/step - loss: 0.1030 - accuracy: 0.9650 - val_loss: 1.3660 - val_accuracy: 0.7604\n",
            "Epoch 30/30\n",
            "25/25 [==============================] - 27s 1s/step - loss: 0.0682 - accuracy: 0.9700 - val_loss: 1.2096 - val_accuracy: 0.7604\n"
          ],
          "name": "stdout"
        }
      ]
    },
    {
      "cell_type": "code",
      "metadata": {
        "id": "qWB_9BRA6edS",
        "colab_type": "code",
        "colab": {
          "base_uri": "https://localhost:8080/",
          "height": 295
        },
        "outputId": "3f16b85d-1621-493c-9773-83d22ab0ab38"
      },
      "source": [
        "plt.plot(history.history['accuracy'])\n",
        "plt.plot(history.history['val_accuracy'])\n",
        "plt.title('model accuracy')\n",
        "plt.xticks(np.arange(0,21, 2))\n",
        "plt.ylabel('accuracy')\n",
        "plt.xlabel('epoch')\n",
        "plt.legend(['train', 'validation'], loc='upper left')\n",
        "plt.show()"
      ],
      "execution_count": 10,
      "outputs": [
        {
          "output_type": "display_data",
          "data": {
            "image/png": "[encoded data removed]",
            "text/plain": [
              "<Figure size 432x288 with 1 Axes>"
            ]
          },
          "metadata": {
            "tags": [],
            "needs_background": "light"
          }
        }
      ]
    },
    {
      "cell_type": "code",
      "metadata": {
        "id": "YMjNT4xXHAef",
        "colab_type": "code",
        "colab": {
          "base_uri": "https://localhost:8080/",
          "height": 295
        },
        "outputId": "2aa522a3-6418-4105-e0e7-544737e86902"
      },
      "source": [
        "# summarize history for loss https://www.kaggle.com/prateek0x/multiclass-image-classification-using-keras\n",
        "plt.plot(history.history['loss'])\n",
        "plt.plot(history.history['val_loss'])\n",
        "plt.title('model loss')\n",
        "plt.ylabel('loss')\n",
        "plt.xlabel('epoch')\n",
        "plt.xticks(np.arange(0,21, 2))\n",
        "plt.legend(['train', 'validation'], loc='upper left')\n",
        "plt.show()"
      ],
      "execution_count": 11,
      "outputs": [
        {
          "output_type": "display_data",
          "data": {
            "image/png": "[encoded data removed]",
            "text/plain": [
              "<Figure size 432x288 with 1 Axes>"
            ]
          },
          "metadata": {
            "tags": [],
            "needs_background": "light"
          }
        }
      ]
    },
    {
      "cell_type": "code",
      "metadata": {
        "id": "Kx3LGq5WL_Er",
        "colab_type": "code",
        "colab": {
          "base_uri": "https://localhost:8080/",
          "height": 35
        },
        "outputId": "9febf510-126a-4b80-e88a-456d203ae976"
      },
      "source": [
        "print(validation_generator.class_indices)"
      ],
      "execution_count": 12,
      "outputs": [
        {
          "output_type": "stream",
          "text": [
            "{'AreaChart': 0, 'BarChart': 1, 'LineChart': 2, 'PieChart': 3, 'ScatterPlot': 4}\n"
          ],
          "name": "stdout"
        }
      ]
    },
    {
      "cell_type": "code",
      "metadata": {
        "id": "rWjRt5zyMBhN",
        "colab_type": "code",
        "colab": {
          "base_uri": "https://localhost:8080/",
          "height": 69
        },
        "outputId": "81e4bdbb-35a1-47f1-dafe-ab853ac8c849"
      },
      "source": [
        "final_loss, final_accuracy = model.evaluate(validation_generator, steps = nb_validation_samples // batch_size)\n",
        "print(\"Final loss: {:.2f}\".format(final_loss))\n",
        "print(\"Final accuracy: {:.2f}%\".format(final_accuracy * 100))"
      ],
      "execution_count": 13,
      "outputs": [
        {
          "output_type": "stream",
          "text": [
            "6/6 [==============================] - 2s 251ms/step - loss: 0.9770 - accuracy: 0.7812\n",
            "Final loss: 0.98\n",
            "Final accuracy: 78.12%\n"
          ],
          "name": "stdout"
        }
      ]
    }
  ]
}