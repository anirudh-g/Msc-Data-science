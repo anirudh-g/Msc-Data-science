{
  "nbformat": 4,
  "nbformat_minor": 0,
  "metadata": {
    "colab": {
      "name": "Chart Classification.ipynb",
      "provenance": [],
      "mount_file_id": "https://github.com/anirudh-g/Msc-Data-science/blob/master/Chart_Classification.ipynb",
      "authorship_tag": "ABX9TyOc2jI1mEjsMQUa1suwtp96",
      "include_colab_link": true
    },
    "kernelspec": {
      "name": "python3",
      "display_name": "Python 3"
    }
  },
  "cells": [
    {
      "cell_type": "markdown",
      "metadata": {
        "id": "view-in-github",
        "colab_type": "text"
      },
      "source": [
        "<a href=\"https://colab.research.google.com/github/anirudh-g/Msc-Data-science/blob/master/Chart_Classification.ipynb\" target=\"_parent\"><img src=\"https://colab.research.google.com/assets/colab-badge.svg\" alt=\"Open In Colab\"/></a>"
      ]
    },
    {
      "cell_type": "markdown",
      "metadata": {
        "id": "kxmfcp7LanKz",
        "colab_type": "text"
      },
      "source": [
        "<H1> SETUP </H1>"
      ]
    },
    {
      "cell_type": "code",
      "metadata": {
        "id": "0xCdT-18Xet3",
        "colab_type": "code",
        "colab": {}
      },
      "source": [
        "import tensorflow as tf\n",
        "from tensorflow.keras.models import Sequential\n",
        "from tensorflow.keras.layers import Dense, Conv2D, Flatten, Dropout, MaxPooling2D\n",
        "from tensorflow.keras.preprocessing.image import ImageDataGenerator\n",
        "from keras import backend as K\n",
        "import matplotlib.pyplot as plt\n",
        "import numpy as np"
      ],
      "execution_count": 102,
      "outputs": []
    },
    {
      "cell_type": "code",
      "metadata": {
        "id": "NFB-VqEVkXZY",
        "colab_type": "code",
        "colab": {
          "base_uri": "https://localhost:8080/",
          "height": 35
        },
        "outputId": "ccbc450c-c257-4f57-887b-73b400cfc1a9"
      },
      "source": [
        "from google.colab import drive\n",
        "drive.mount('/content/drive')"
      ],
      "execution_count": 103,
      "outputs": [
        {
          "output_type": "stream",
          "text": [
            "Drive already mounted at /content/drive; to attempt to forcibly remount, call drive.mount(\"/content/drive\", force_remount=True).\n"
          ],
          "name": "stdout"
        }
      ]
    },
    {
      "cell_type": "code",
      "metadata": {
        "id": "Xt6NXQC7UR7c",
        "colab_type": "code",
        "colab": {}
      },
      "source": [
        "#For now - 7 classes: Area chart, Bar chart, Line Chart, pie chart, scatter plot. 100 images per class. 80/20 train/val split\n",
        "train_dir = '/content/drive/My Drive/Colab Notebooks/Train'\n",
        "validation_dir = '/content/drive/My Drive/Colab Notebooks/Validation'"
      ],
      "execution_count": 104,
      "outputs": []
    },
    {
      "cell_type": "markdown",
      "metadata": {
        "id": "69CNEb7PXuCy",
        "colab_type": "text"
      },
      "source": [
        "<H1>BASELINE MODEL</H1>"
      ]
    },
    {
      "cell_type": "code",
      "metadata": {
        "id": "PZrVF4Eji28B",
        "colab_type": "code",
        "colab": {}
      },
      "source": [
        "#List of all basic tunable parameters of the model - to be updated\n",
        "img_width, img_height = 220, 220\n",
        "nb_train_samples = 80\n",
        "nb_validation_samples = 20\n",
        "epochs = 30\n",
        "batch_size = 10"
      ],
      "execution_count": 105,
      "outputs": []
    },
    {
      "cell_type": "code",
      "metadata": {
        "id": "xTZqZDi-i0Vl",
        "colab_type": "code",
        "colab": {
          "base_uri": "https://localhost:8080/",
          "height": 468
        },
        "outputId": "343ca330-99de-4bd5-f101-c9fb30ee26bf"
      },
      "source": [
        "#checking whether the rgb channel is first or last to feed the input shape accordingly\n",
        "if K.image_data_format() == 'channels_first': \n",
        "    input_shape = (3, img_width, img_height) \n",
        "else: \n",
        "    input_shape = (img_width, img_height, 3) \n",
        "\n",
        "# 3 CNN blocks containing a max pooling layer in each of them. On top of that is a fully connected layer with relu activation function\n",
        "model = Sequential([\n",
        "    Conv2D(16, 3, padding='same', activation='relu', input_shape=input_shape),\n",
        "    MaxPooling2D(),\n",
        "    Conv2D(32, 3, padding='same', activation='relu'),\n",
        "    MaxPooling2D(),\n",
        "    Conv2D(64, 3, padding='same', activation='relu'),\n",
        "    MaxPooling2D(),\n",
        "    Flatten(),\n",
        "    Dense(512, activation='relu'),\n",
        "    Dense(7, activation='softmax') #Nodes in the final dense layer should be equal to number of classes + softmax activation\n",
        "])\n",
        "\n",
        "\n",
        "model.compile(optimizer='adam',\n",
        "              loss=tf.keras.losses.categorical_crossentropy,\n",
        "              metrics=['accuracy'])\n",
        "\n",
        "model.summary()"
      ],
      "execution_count": 106,
      "outputs": [
        {
          "output_type": "stream",
          "text": [
            "Model: \"sequential_10\"\n",
            "_________________________________________________________________\n",
            "Layer (type)                 Output Shape              Param #   \n",
            "=================================================================\n",
            "conv2d_31 (Conv2D)           (None, 220, 220, 16)      448       \n",
            "_________________________________________________________________\n",
            "max_pooling2d_31 (MaxPooling (None, 110, 110, 16)      0         \n",
            "_________________________________________________________________\n",
            "conv2d_32 (Conv2D)           (None, 110, 110, 32)      4640      \n",
            "_________________________________________________________________\n",
            "max_pooling2d_32 (MaxPooling (None, 55, 55, 32)        0         \n",
            "_________________________________________________________________\n",
            "conv2d_33 (Conv2D)           (None, 55, 55, 64)        18496     \n",
            "_________________________________________________________________\n",
            "max_pooling2d_33 (MaxPooling (None, 27, 27, 64)        0         \n",
            "_________________________________________________________________\n",
            "flatten_10 (Flatten)         (None, 46656)             0         \n",
            "_________________________________________________________________\n",
            "dense_20 (Dense)             (None, 512)               23888384  \n",
            "_________________________________________________________________\n",
            "dense_21 (Dense)             (None, 7)                 3591      \n",
            "=================================================================\n",
            "Total params: 23,915,559\n",
            "Trainable params: 23,915,559\n",
            "Non-trainable params: 0\n",
            "_________________________________________________________________\n"
          ],
          "name": "stdout"
        }
      ]
    },
    {
      "cell_type": "code",
      "metadata": {
        "id": "XdDbye25puG3",
        "colab_type": "code",
        "colab": {
          "base_uri": "https://localhost:8080/",
          "height": 1000
        },
        "outputId": "21023e03-2256-4ae3-ac54-1a5c3bf20818"
      },
      "source": [
        "#Performing augmentation on image scaling, zoom and fliiping the images horizontally so that the network has more training samples\n",
        "train_datagen = ImageDataGenerator( \n",
        "\trescale=1. / 255, \n",
        "\tshear_range=0.2, \n",
        "\tzoom_range=0.2, \n",
        "\thorizontal_flip=True) \n",
        "\n",
        "#Not having any augmentation apart from scaling as the validation data should resemble the real-world data as close as possible\n",
        "val_datagen = ImageDataGenerator(rescale=1. / 255) \n",
        "\n",
        "train_generator = train_datagen.flow_from_directory( \n",
        "\ttrain_dir, \n",
        "\ttarget_size=(img_width, img_height), \n",
        "\tbatch_size=batch_size, \n",
        "\tclass_mode='categorical') \n",
        "\n",
        "validation_generator = val_datagen.flow_from_directory( \n",
        "\tvalidation_dir, \n",
        "\ttarget_size=(img_width, img_height), \n",
        "\tbatch_size=batch_size, \n",
        "\tclass_mode='categorical') \n",
        "\n",
        "history = model.fit( \n",
        "\ttrain_generator, \n",
        "\tsteps_per_epoch=nb_train_samples // batch_size, \n",
        "\tepochs=epochs, \n",
        "\tvalidation_data=validation_generator, \n",
        "\tvalidation_steps=nb_validation_samples // batch_size) \n"
      ],
      "execution_count": 107,
      "outputs": [
        {
          "output_type": "stream",
          "text": [
            "Found 560 images belonging to 7 classes.\n",
            "Found 140 images belonging to 7 classes.\n",
            "Epoch 1/30\n",
            "8/8 [==============================] - 6s 714ms/step - loss: 3.4998 - accuracy: 0.1875 - val_loss: 1.8713 - val_accuracy: 0.1500\n",
            "Epoch 2/30\n",
            "8/8 [==============================] - 6s 701ms/step - loss: 1.9521 - accuracy: 0.2375 - val_loss: 1.8617 - val_accuracy: 0.3500\n",
            "Epoch 3/30\n",
            "8/8 [==============================] - 5s 683ms/step - loss: 1.8529 - accuracy: 0.2000 - val_loss: 2.0916 - val_accuracy: 0.2000\n",
            "Epoch 4/30\n",
            "8/8 [==============================] - 6s 708ms/step - loss: 1.8248 - accuracy: 0.2875 - val_loss: 1.6836 - val_accuracy: 0.3000\n",
            "Epoch 5/30\n",
            "8/8 [==============================] - 6s 689ms/step - loss: 1.7201 - accuracy: 0.2625 - val_loss: 1.6348 - val_accuracy: 0.4500\n",
            "Epoch 6/30\n",
            "8/8 [==============================] - 5s 681ms/step - loss: 1.6287 - accuracy: 0.4125 - val_loss: 1.8728 - val_accuracy: 0.2500\n",
            "Epoch 7/30\n",
            "8/8 [==============================] - 6s 695ms/step - loss: 1.4596 - accuracy: 0.4250 - val_loss: 1.7130 - val_accuracy: 0.5500\n",
            "Epoch 8/30\n",
            "8/8 [==============================] - 6s 706ms/step - loss: 1.2754 - accuracy: 0.5625 - val_loss: 1.2266 - val_accuracy: 0.3500\n",
            "Epoch 9/30\n",
            "8/8 [==============================] - 6s 696ms/step - loss: 1.3053 - accuracy: 0.5625 - val_loss: 2.2300 - val_accuracy: 0.3500\n",
            "Epoch 10/30\n",
            "8/8 [==============================] - 6s 702ms/step - loss: 1.1681 - accuracy: 0.5625 - val_loss: 2.4943 - val_accuracy: 0.4500\n",
            "Epoch 11/30\n",
            "8/8 [==============================] - 6s 691ms/step - loss: 1.1126 - accuracy: 0.5875 - val_loss: 1.4016 - val_accuracy: 0.3500\n",
            "Epoch 12/30\n",
            "8/8 [==============================] - 5s 686ms/step - loss: 0.9527 - accuracy: 0.6625 - val_loss: 1.1557 - val_accuracy: 0.4500\n",
            "Epoch 13/30\n",
            "8/8 [==============================] - 6s 713ms/step - loss: 0.9995 - accuracy: 0.6250 - val_loss: 1.2670 - val_accuracy: 0.4500\n",
            "Epoch 14/30\n",
            "8/8 [==============================] - 6s 704ms/step - loss: 1.3764 - accuracy: 0.4875 - val_loss: 1.5410 - val_accuracy: 0.5000\n",
            "Epoch 15/30\n",
            "8/8 [==============================] - 6s 723ms/step - loss: 1.2030 - accuracy: 0.5625 - val_loss: 1.9257 - val_accuracy: 0.4500\n",
            "Epoch 16/30\n",
            "8/8 [==============================] - 6s 719ms/step - loss: 1.3733 - accuracy: 0.4875 - val_loss: 1.2422 - val_accuracy: 0.6000\n",
            "Epoch 17/30\n",
            "8/8 [==============================] - 6s 699ms/step - loss: 1.1550 - accuracy: 0.5375 - val_loss: 1.4095 - val_accuracy: 0.5000\n",
            "Epoch 18/30\n",
            "8/8 [==============================] - 6s 718ms/step - loss: 0.7593 - accuracy: 0.7000 - val_loss: 1.0216 - val_accuracy: 0.6000\n",
            "Epoch 19/30\n",
            "8/8 [==============================] - 6s 706ms/step - loss: 0.8341 - accuracy: 0.7000 - val_loss: 0.9480 - val_accuracy: 0.6500\n",
            "Epoch 20/30\n",
            "8/8 [==============================] - 6s 717ms/step - loss: 1.0290 - accuracy: 0.5875 - val_loss: 1.4759 - val_accuracy: 0.5500\n",
            "Epoch 21/30\n",
            "8/8 [==============================] - 6s 699ms/step - loss: 1.0149 - accuracy: 0.6250 - val_loss: 2.4325 - val_accuracy: 0.4000\n",
            "Epoch 22/30\n",
            "8/8 [==============================] - 6s 691ms/step - loss: 0.7719 - accuracy: 0.7250 - val_loss: 1.2450 - val_accuracy: 0.5500\n",
            "Epoch 23/30\n",
            "8/8 [==============================] - 5s 685ms/step - loss: 0.9625 - accuracy: 0.6250 - val_loss: 1.0204 - val_accuracy: 0.5500\n",
            "Epoch 24/30\n",
            "8/8 [==============================] - 6s 704ms/step - loss: 0.9847 - accuracy: 0.6625 - val_loss: 1.4313 - val_accuracy: 0.6500\n",
            "Epoch 25/30\n",
            "8/8 [==============================] - 6s 703ms/step - loss: 0.8659 - accuracy: 0.7250 - val_loss: 1.3776 - val_accuracy: 0.4500\n",
            "Epoch 26/30\n",
            "8/8 [==============================] - 6s 723ms/step - loss: 1.0512 - accuracy: 0.6750 - val_loss: 1.7317 - val_accuracy: 0.4500\n",
            "Epoch 27/30\n",
            "8/8 [==============================] - 6s 694ms/step - loss: 0.8306 - accuracy: 0.6500 - val_loss: 1.3679 - val_accuracy: 0.5500\n",
            "Epoch 28/30\n",
            "8/8 [==============================] - 6s 718ms/step - loss: 0.7726 - accuracy: 0.6500 - val_loss: 1.1685 - val_accuracy: 0.6500\n",
            "Epoch 29/30\n",
            "8/8 [==============================] - 6s 689ms/step - loss: 0.8028 - accuracy: 0.7250 - val_loss: 1.7863 - val_accuracy: 0.3500\n",
            "Epoch 30/30\n",
            "8/8 [==============================] - 6s 688ms/step - loss: 0.5448 - accuracy: 0.8250 - val_loss: 1.8040 - val_accuracy: 0.6000\n"
          ],
          "name": "stdout"
        }
      ]
    },
    {
      "cell_type": "code",
      "metadata": {
        "id": "YYTZ3MYKpxPq",
        "colab_type": "code",
        "colab": {
          "base_uri": "https://localhost:8080/",
          "height": 295
        },
        "outputId": "6b966463-267d-4acb-d7f6-54bda79fbdb9"
      },
      "source": [
        "\n",
        "plt.plot(history.history['accuracy'])\n",
        "plt.plot(history.history['val_accuracy'])\n",
        "plt.title('model accuracy')\n",
        "plt.xticks(np.arange(0,21, 2))\n",
        "plt.ylabel('accuracy')\n",
        "plt.xlabel('epoch')\n",
        "plt.legend(['train', 'validation'], loc='upper left')\n",
        "plt.show()"
      ],
      "execution_count": 108,
      "outputs": [
        {
          "output_type": "display_data",
          "data": {
            "image/png": "[encoded data removed]",
            "text/plain": [
              "<Figure size 432x288 with 1 Axes>"
            ]
          },
          "metadata": {
            "tags": [],
            "needs_background": "light"
          }
        }
      ]
    },
    {
      "cell_type": "code",
      "metadata": {
        "id": "nFB7QZTVQrhW",
        "colab_type": "code",
        "colab": {
          "base_uri": "https://localhost:8080/",
          "height": 295
        },
        "outputId": "9cbfb00d-0594-4387-fa98-a7db29bd5d60"
      },
      "source": [
        "# summarize history for loss https://www.kaggle.com/prateek0x/multiclass-image-classification-using-keras\n",
        "plt.plot(history.history['loss'])\n",
        "plt.plot(history.history['val_loss'])\n",
        "plt.title('model loss')\n",
        "plt.ylabel('loss')\n",
        "plt.xlabel('epoch')\n",
        "plt.xticks(np.arange(0,21, 2))\n",
        "plt.legend(['train', 'validation'], loc='upper left')\n",
        "plt.show()"
      ],
      "execution_count": 109,
      "outputs": [
        {
          "output_type": "display_data",
          "data": {
            "image/png": "[encoded data removed]",
            "text/plain": [
              "<Figure size 432x288 with 1 Axes>"
            ]
          },
          "metadata": {
            "tags": [],
            "needs_background": "light"
          }
        }
      ]
    },
    {
      "cell_type": "code",
      "metadata": {
        "id": "asgt775KVLvK",
        "colab_type": "code",
        "colab": {
          "base_uri": "https://localhost:8080/",
          "height": 35
        },
        "outputId": "bac87e20-f7e6-48fe-b1dd-ad9f06eaa562"
      },
      "source": [
        "print(validation_generator.class_indices)"
      ],
      "execution_count": 110,
      "outputs": [
        {
          "output_type": "stream",
          "text": [
            "{'AreaChart': 0, 'BarChart': 1, 'LineChart': 2, 'ParetoChart': 3, 'PieChart': 4, 'RadarChart': 5, 'ScatterPlot': 6}\n"
          ],
          "name": "stdout"
        }
      ]
    },
    {
      "cell_type": "code",
      "metadata": {
        "id": "8tOIqNC3XPns",
        "colab_type": "code",
        "colab": {
          "base_uri": "https://localhost:8080/",
          "height": 69
        },
        "outputId": "b375e17e-3936-4c55-bb88-536073ccf07f"
      },
      "source": [
        "final_loss, final_accuracy = model.evaluate(validation_generator, steps = nb_validation_samples // batch_size)\n",
        "print(\"Final loss: {:.2f}\".format(final_loss))\n",
        "print(\"Final accuracy: {:.2f}%\".format(final_accuracy * 100))"
      ],
      "execution_count": 111,
      "outputs": [
        {
          "output_type": "stream",
          "text": [
            "2/2 [==============================] - 0s 99ms/step - loss: 1.1644 - accuracy: 0.6500\n",
            "Final loss: 1.16\n",
            "Final accuracy: 65.00%\n"
          ],
          "name": "stdout"
        }
      ]
    }
  ]
}