{
  "nbformat": 4,
  "nbformat_minor": 0,
  "metadata": {
    "colab": {
      "name": "Chart Classification.ipynb",
      "provenance": [],
      "mount_file_id": "https://github.com/anirudh-g/Msc-Data-science/blob/master/Chart_Classification.ipynb",
      "authorship_tag": "ABX9TyNFO3i3v8KA6qCwunjme42z",
      "include_colab_link": true
    },
    "kernelspec": {
      "name": "python3",
      "display_name": "Python 3"
    }
  },
  "cells": [
    {
      "cell_type": "markdown",
      "metadata": {
        "id": "view-in-github",
        "colab_type": "text"
      },
      "source": [
        "<a href=\"https://colab.research.google.com/github/anirudh-g/Msc-Data-science/blob/master/Chart_Classification.ipynb\" target=\"_parent\"><img src=\"https://colab.research.google.com/assets/colab-badge.svg\" alt=\"Open In Colab\"/></a>"
      ]
    },
    {
      "cell_type": "markdown",
      "metadata": {
        "id": "kxmfcp7LanKz",
        "colab_type": "text"
      },
      "source": [
        "<H1> SETUP </H1>"
      ]
    },
    {
      "cell_type": "code",
      "metadata": {
        "id": "0xCdT-18Xet3",
        "colab_type": "code",
        "colab": {}
      },
      "source": [
        "import tensorflow as tf\n",
        "from tensorflow.keras.models import Sequential\n",
        "from tensorflow.keras.layers import Dense, Conv2D, Flatten, Dropout, MaxPooling2D\n",
        "from tensorflow.keras.preprocessing.image import ImageDataGenerator\n",
        "from keras import backend as K\n",
        "import matplotlib.pyplot as plt\n",
        "import numpy as np"
      ],
      "execution_count": 37,
      "outputs": []
    },
    {
      "cell_type": "code",
      "metadata": {
        "id": "NFB-VqEVkXZY",
        "colab_type": "code",
        "colab": {
          "base_uri": "https://localhost:8080/",
          "height": 35
        },
        "outputId": "ab0fbdb0-581d-44c2-882f-0bc365a05989"
      },
      "source": [
        "from google.colab import drive\n",
        "drive.mount('/content/drive')"
      ],
      "execution_count": 2,
      "outputs": [
        {
          "output_type": "stream",
          "text": [
            "Drive already mounted at /content/drive; to attempt to forcibly remount, call drive.mount(\"/content/drive\", force_remount=True).\n"
          ],
          "name": "stdout"
        }
      ]
    },
    {
      "cell_type": "code",
      "metadata": {
        "id": "Xt6NXQC7UR7c",
        "colab_type": "code",
        "colab": {}
      },
      "source": [
        "#For now - 3 classes: Bar chart, pie chart, scatter plot. 100 images per class. 80/20 train/val split\n",
        "train_dir = '/content/drive/My Drive/Colab Notebooks/Train'\n",
        "validation_dir = '/content/drive/My Drive/Colab Notebooks/Validation'"
      ],
      "execution_count": 25,
      "outputs": []
    },
    {
      "cell_type": "markdown",
      "metadata": {
        "id": "69CNEb7PXuCy",
        "colab_type": "text"
      },
      "source": [
        "<H1>BASELINE MODEL</H1>"
      ]
    },
    {
      "cell_type": "code",
      "metadata": {
        "id": "PZrVF4Eji28B",
        "colab_type": "code",
        "colab": {}
      },
      "source": [
        "#List of all basic tunable parameters of the model - to be updated\n",
        "img_width, img_height = 150, 150\n",
        "nb_train_samples = 80\n",
        "nb_validation_samples = 20\n",
        "epochs = 20\n",
        "batch_size = 10"
      ],
      "execution_count": 26,
      "outputs": []
    },
    {
      "cell_type": "code",
      "metadata": {
        "id": "xTZqZDi-i0Vl",
        "colab_type": "code",
        "colab": {
          "base_uri": "https://localhost:8080/",
          "height": 468
        },
        "outputId": "e16b11db-700d-473d-f2e1-d6f991e27d8f"
      },
      "source": [
        "#checking whether the rgb channel is first or last to feed the input shape accordingly\n",
        "if K.image_data_format() == 'channels_first': \n",
        "    input_shape = (3, img_width, img_height) \n",
        "else: \n",
        "    input_shape = (img_width, img_height, 3) \n",
        "\n",
        "# 3 CNN blocks containing a max pooling layer in each of them. On top of that is a fully connected layer with relu activation function\n",
        "model = Sequential([\n",
        "    Conv2D(16, 3, padding='same', activation='relu', input_shape=input_shape),\n",
        "    MaxPooling2D(),\n",
        "    Conv2D(32, 3, padding='same', activation='relu'),\n",
        "    MaxPooling2D(),\n",
        "    Conv2D(64, 3, padding='same', activation='relu'),\n",
        "    MaxPooling2D(),\n",
        "    Flatten(),\n",
        "    Dense(512, activation='relu'),\n",
        "    Dense(3, activation='softmax') #Nodes in the final dense layer should be equal to number of classes + softmax activation\n",
        "])\n",
        "\n",
        "\n",
        "model.compile(optimizer='adam',\n",
        "              loss=tf.keras.losses.categorical_crossentropy,\n",
        "              metrics=['accuracy'])\n",
        "\n",
        "model.summary()"
      ],
      "execution_count": 47,
      "outputs": [
        {
          "output_type": "stream",
          "text": [
            "Model: \"sequential_11\"\n",
            "_________________________________________________________________\n",
            "Layer (type)                 Output Shape              Param #   \n",
            "=================================================================\n",
            "conv2d_31 (Conv2D)           (None, 150, 150, 16)      448       \n",
            "_________________________________________________________________\n",
            "max_pooling2d_30 (MaxPooling (None, 75, 75, 16)        0         \n",
            "_________________________________________________________________\n",
            "conv2d_32 (Conv2D)           (None, 75, 75, 32)        4640      \n",
            "_________________________________________________________________\n",
            "max_pooling2d_31 (MaxPooling (None, 37, 37, 32)        0         \n",
            "_________________________________________________________________\n",
            "conv2d_33 (Conv2D)           (None, 37, 37, 64)        18496     \n",
            "_________________________________________________________________\n",
            "max_pooling2d_32 (MaxPooling (None, 18, 18, 64)        0         \n",
            "_________________________________________________________________\n",
            "flatten_10 (Flatten)         (None, 20736)             0         \n",
            "_________________________________________________________________\n",
            "dense_20 (Dense)             (None, 512)               10617344  \n",
            "_________________________________________________________________\n",
            "dense_21 (Dense)             (None, 3)                 1539      \n",
            "=================================================================\n",
            "Total params: 10,642,467\n",
            "Trainable params: 10,642,467\n",
            "Non-trainable params: 0\n",
            "_________________________________________________________________\n"
          ],
          "name": "stdout"
        }
      ]
    },
    {
      "cell_type": "code",
      "metadata": {
        "id": "XdDbye25puG3",
        "colab_type": "code",
        "colab": {
          "base_uri": "https://localhost:8080/",
          "height": 745
        },
        "outputId": "d01aa011-f7bd-4fba-8adb-6228198ab1a6"
      },
      "source": [
        "#Performing augmentation on image scaling, zoom and fliiping the images horizontally so that the network has more training samples\n",
        "train_datagen = ImageDataGenerator( \n",
        "\trescale=1. / 255, \n",
        "\tshear_range=0.2, \n",
        "\tzoom_range=0.2, \n",
        "\thorizontal_flip=True) \n",
        "\n",
        "#Not having any augmentation apart from scaling as the validation data should resemble the real-world data as close as possible\n",
        "val_datagen = ImageDataGenerator(rescale=1. / 255) \n",
        "\n",
        "train_generator = train_datagen.flow_from_directory( \n",
        "\ttrain_dir, \n",
        "\ttarget_size=(img_width, img_height), \n",
        "\tbatch_size=batch_size, \n",
        "\tclass_mode='categorical') \n",
        "\n",
        "validation_generator = val_datagen.flow_from_directory( \n",
        "\tvalidation_dir, \n",
        "\ttarget_size=(img_width, img_height), \n",
        "\tbatch_size=batch_size, \n",
        "\tclass_mode='categorical') \n",
        "\n",
        "history = model.fit( \n",
        "\ttrain_generator, \n",
        "\tsteps_per_epoch=nb_train_samples // batch_size, \n",
        "\tepochs=epochs, \n",
        "\tvalidation_data=validation_generator, \n",
        "\tvalidation_steps=nb_validation_samples // batch_size, \n",
        "  shuffle=True) \n"
      ],
      "execution_count": 28,
      "outputs": [
        {
          "output_type": "stream",
          "text": [
            "Found 240 images belonging to 3 classes.\n",
            "Found 60 images belonging to 3 classes.\n",
            "Epoch 1/20\n",
            "8/8 [==============================] - 3s 373ms/step - loss: 2.8959 - accuracy: 0.3875 - val_loss: 1.0598 - val_accuracy: 0.4000\n",
            "Epoch 2/20\n",
            "8/8 [==============================] - 3s 374ms/step - loss: 1.1232 - accuracy: 0.5250 - val_loss: 1.0526 - val_accuracy: 0.5000\n",
            "Epoch 3/20\n",
            "8/8 [==============================] - 3s 389ms/step - loss: 0.9292 - accuracy: 0.5875 - val_loss: 0.7917 - val_accuracy: 0.6000\n",
            "Epoch 4/20\n",
            "8/8 [==============================] - 3s 365ms/step - loss: 0.6480 - accuracy: 0.7500 - val_loss: 0.3328 - val_accuracy: 0.9000\n",
            "Epoch 5/20\n",
            "8/8 [==============================] - 3s 378ms/step - loss: 0.5228 - accuracy: 0.8125 - val_loss: 0.5198 - val_accuracy: 0.8500\n",
            "Epoch 6/20\n",
            "8/8 [==============================] - 3s 383ms/step - loss: 0.3843 - accuracy: 0.8125 - val_loss: 0.2673 - val_accuracy: 0.9500\n",
            "Epoch 7/20\n",
            "8/8 [==============================] - 3s 358ms/step - loss: 0.6269 - accuracy: 0.7500 - val_loss: 0.3836 - val_accuracy: 0.9000\n",
            "Epoch 8/20\n",
            "8/8 [==============================] - 3s 392ms/step - loss: 0.4521 - accuracy: 0.8250 - val_loss: 0.2088 - val_accuracy: 0.9500\n",
            "Epoch 9/20\n",
            "8/8 [==============================] - 3s 351ms/step - loss: 0.4881 - accuracy: 0.8125 - val_loss: 0.5297 - val_accuracy: 0.7500\n",
            "Epoch 10/20\n",
            "8/8 [==============================] - 3s 379ms/step - loss: 0.3346 - accuracy: 0.9000 - val_loss: 0.2218 - val_accuracy: 0.9000\n",
            "Epoch 11/20\n",
            "8/8 [==============================] - 3s 365ms/step - loss: 0.3103 - accuracy: 0.8750 - val_loss: 0.4005 - val_accuracy: 0.8000\n",
            "Epoch 12/20\n",
            "8/8 [==============================] - 3s 368ms/step - loss: 0.2622 - accuracy: 0.9250 - val_loss: 0.4133 - val_accuracy: 0.8500\n",
            "Epoch 13/20\n",
            "8/8 [==============================] - 3s 350ms/step - loss: 0.4176 - accuracy: 0.8375 - val_loss: 0.2692 - val_accuracy: 0.8500\n",
            "Epoch 14/20\n",
            "8/8 [==============================] - 3s 363ms/step - loss: 0.3325 - accuracy: 0.8875 - val_loss: 0.3294 - val_accuracy: 0.8500\n",
            "Epoch 15/20\n",
            "8/8 [==============================] - 3s 376ms/step - loss: 0.2865 - accuracy: 0.9000 - val_loss: 0.1829 - val_accuracy: 0.9500\n",
            "Epoch 16/20\n",
            "8/8 [==============================] - 3s 365ms/step - loss: 0.2116 - accuracy: 0.9500 - val_loss: 0.3675 - val_accuracy: 0.9000\n",
            "Epoch 17/20\n",
            "8/8 [==============================] - 3s 383ms/step - loss: 0.2029 - accuracy: 0.9375 - val_loss: 0.2031 - val_accuracy: 0.9000\n",
            "Epoch 18/20\n",
            "8/8 [==============================] - 3s 377ms/step - loss: 0.1956 - accuracy: 0.9375 - val_loss: 0.5289 - val_accuracy: 0.8000\n",
            "Epoch 19/20\n",
            "8/8 [==============================] - 3s 378ms/step - loss: 0.1885 - accuracy: 0.9250 - val_loss: 0.3461 - val_accuracy: 0.8500\n",
            "Epoch 20/20\n",
            "8/8 [==============================] - 3s 355ms/step - loss: 0.1669 - accuracy: 0.9500 - val_loss: 0.4392 - val_accuracy: 0.8000\n"
          ],
          "name": "stdout"
        }
      ]
    },
    {
      "cell_type": "code",
      "metadata": {
        "id": "YYTZ3MYKpxPq",
        "colab_type": "code",
        "colab": {
          "base_uri": "https://localhost:8080/",
          "height": 295
        },
        "outputId": "b1f62115-6e75-41c2-c70c-e01acdd2fbd2"
      },
      "source": [
        "\n",
        "plt.plot(history.history['accuracy'])\n",
        "plt.plot(history.history['val_accuracy'])\n",
        "plt.title('model accuracy')\n",
        "plt.xticks(np.arange(0,21, 2))\n",
        "plt.ylabel('accuracy')\n",
        "plt.xlabel('epoch')\n",
        "plt.legend(['train', 'validation'], loc='upper left')\n",
        "plt.show()"
      ],
      "execution_count": 43,
      "outputs": [
        {
          "output_type": "display_data",
          "data": {
            "image/png": "[encoded data removed]",
            "text/plain": [
              "<Figure size 432x288 with 1 Axes>"
            ]
          },
          "metadata": {
            "tags": [],
            "needs_background": "light"
          }
        }
      ]
    },
    {
      "cell_type": "code",
      "metadata": {
        "id": "nFB7QZTVQrhW",
        "colab_type": "code",
        "colab": {
          "base_uri": "https://localhost:8080/",
          "height": 295
        },
        "outputId": "eb4a8d85-f449-451f-a1ba-c57f98de3a3d"
      },
      "source": [
        "# summarize history for loss https://www.kaggle.com/prateek0x/multiclass-image-classification-using-keras\n",
        "plt.plot(history.history['loss'])\n",
        "plt.plot(history.history['val_loss'])\n",
        "plt.title('model loss')\n",
        "plt.ylabel('loss')\n",
        "plt.xlabel('epoch')\n",
        "plt.xticks(np.arange(0,21, 2))\n",
        "plt.legend(['train', 'validation'], loc='upper left')\n",
        "plt.show()"
      ],
      "execution_count": 45,
      "outputs": [
        {
          "output_type": "display_data",
          "data": {
            "image/png": "[encoded data removed]",
            "text/plain": [
              "<Figure size 432x288 with 1 Axes>"
            ]
          },
          "metadata": {
            "tags": [],
            "needs_background": "light"
          }
        }
      ]
    },
    {
      "cell_type": "code",
      "metadata": {
        "id": "asgt775KVLvK",
        "colab_type": "code",
        "colab": {
          "base_uri": "https://localhost:8080/",
          "height": 52
        },
        "outputId": "79f47e0c-b1b6-4bb4-e9d5-8cc7574b639e"
      },
      "source": [
        "print(validation_generator.classes)"
      ],
      "execution_count": 46,
      "outputs": [
        {
          "output_type": "stream",
          "text": [
            "[0 0 0 0 0 0 0 0 0 0 0 0 0 0 0 0 0 0 0 0 1 1 1 1 1 1 1 1 1 1 1 1 1 1 1 1 1\n",
            " 1 1 1 2 2 2 2 2 2 2 2 2 2 2 2 2 2 2 2 2 2 2 2]\n"
          ],
          "name": "stdout"
        }
      ]
    },
    {
      "cell_type": "code",
      "metadata": {
        "id": "8tOIqNC3XPns",
        "colab_type": "code",
        "colab": {}
      },
      "source": [
        ""
      ],
      "execution_count": null,
      "outputs": []
    }
  ]
}