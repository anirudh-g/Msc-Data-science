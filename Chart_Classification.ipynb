{
  "nbformat": 4,
  "nbformat_minor": 0,
  "metadata": {
    "colab": {
      "name": "Chart Classification.ipynb",
      "provenance": [],
      "mount_file_id": "https://github.com/anirudh-g/Msc-Data-science/blob/master/Chart_Classification.ipynb",
      "authorship_tag": "ABX9TyO74p/wXvKrlPzJvPWjBTod",
      "include_colab_link": true
    },
    "kernelspec": {
      "name": "python3",
      "display_name": "Python 3"
    }
  },
  "cells": [
    {
      "cell_type": "markdown",
      "metadata": {
        "id": "view-in-github",
        "colab_type": "text"
      },
      "source": [
        "<a href=\"https://colab.research.google.com/github/anirudh-g/Msc-Data-science/blob/master/Chart_Classification.ipynb\" target=\"_parent\"><img src=\"https://colab.research.google.com/assets/colab-badge.svg\" alt=\"Open In Colab\"/></a>"
      ]
    },
    {
      "cell_type": "markdown",
      "metadata": {
        "id": "kxmfcp7LanKz",
        "colab_type": "text"
      },
      "source": [
        "<H1> SETUP </H1>"
      ]
    },
    {
      "cell_type": "code",
      "metadata": {
        "id": "PWdmIMuuw1cA",
        "colab_type": "code",
        "colab": {}
      },
      "source": [
        "import os\n",
        "import numpy as np\n",
        "import tensorflow as tf\n",
        "import random as rn\n",
        "\n",
        "os.environ['PYTHONHASHSEED'] = '0'\n",
        "os.environ['CUDA_VISIBLE_DEVICES'] = ''\n",
        "\n",
        "np.random.seed(37)\n",
        "rn.seed(1254)\n",
        "tf.random.set_seed(89)"
      ],
      "execution_count": 83,
      "outputs": []
    },
    {
      "cell_type": "code",
      "metadata": {
        "id": "0xCdT-18Xet3",
        "colab_type": "code",
        "colab": {}
      },
      "source": [
        "#import tensorflow as tf\n",
        "from tensorflow.keras.models import Sequential\n",
        "from tensorflow.keras.layers import Dense, Conv2D, Flatten, Dropout, MaxPooling2D\n",
        "from tensorflow.keras.preprocessing.image import ImageDataGenerator\n",
        "from keras import backend as K\n",
        "import matplotlib.pyplot as plt\n",
        "#import numpy as np"
      ],
      "execution_count": 84,
      "outputs": []
    },
    {
      "cell_type": "code",
      "metadata": {
        "id": "-bd4QnrbrC8e",
        "colab_type": "code",
        "colab": {}
      },
      "source": [
        ""
      ],
      "execution_count": 84,
      "outputs": []
    },
    {
      "cell_type": "code",
      "metadata": {
        "id": "NFB-VqEVkXZY",
        "colab_type": "code",
        "colab": {
          "base_uri": "https://localhost:8080/",
          "height": 35
        },
        "outputId": "aa52bc77-6f3d-4584-c0c4-f39843fd7b60"
      },
      "source": [
        "from google.colab import drive\n",
        "drive.mount('/content/drive')"
      ],
      "execution_count": 85,
      "outputs": [
        {
          "output_type": "stream",
          "text": [
            "Drive already mounted at /content/drive; to attempt to forcibly remount, call drive.mount(\"/content/drive\", force_remount=True).\n"
          ],
          "name": "stdout"
        }
      ]
    },
    {
      "cell_type": "code",
      "metadata": {
        "id": "Xt6NXQC7UR7c",
        "colab_type": "code",
        "colab": {}
      },
      "source": [
        "#For now - 5 classes: Area chart, Bar chart, Line Chart, pie chart, scatter plot. 100 images per class. 80/20 train/val split\n",
        "train_dir = '/content/drive/My Drive/Colab Notebooks/Train'\n",
        "validation_dir = '/content/drive/My Drive/Colab Notebooks/Validation'"
      ],
      "execution_count": 86,
      "outputs": []
    },
    {
      "cell_type": "markdown",
      "metadata": {
        "id": "69CNEb7PXuCy",
        "colab_type": "text"
      },
      "source": [
        "<H1>BASELINE MODEL</H1>"
      ]
    },
    {
      "cell_type": "code",
      "metadata": {
        "id": "PZrVF4Eji28B",
        "colab_type": "code",
        "colab": {}
      },
      "source": [
        "#List of all basic tunable parameters of the model - to be updated\n",
        "img_width, img_height = 150, 150\n",
        "nb_train_samples = 80\n",
        "nb_validation_samples = 20\n",
        "epochs = 20\n",
        "batch_size = 10"
      ],
      "execution_count": 87,
      "outputs": []
    },
    {
      "cell_type": "code",
      "metadata": {
        "id": "xTZqZDi-i0Vl",
        "colab_type": "code",
        "colab": {
          "base_uri": "https://localhost:8080/",
          "height": 468
        },
        "outputId": "10f76c1b-deec-4c27-808c-3d8c95519f31"
      },
      "source": [
        "#checking whether the rgb channel is first or last to feed the input shape accordingly\n",
        "if K.image_data_format() == 'channels_first': \n",
        "    input_shape = (3, img_width, img_height) \n",
        "else: \n",
        "    input_shape = (img_width, img_height, 3) \n",
        "\n",
        "# 3 CNN blocks containing a max pooling layer in each of them. On top of that is a fully connected layer with relu activation function\n",
        "model = Sequential([\n",
        "    Conv2D(16, 3, padding='same', activation='relu', input_shape=input_shape),\n",
        "    MaxPooling2D(),\n",
        "    Conv2D(32, 3, padding='same', activation='relu'),\n",
        "    MaxPooling2D(),\n",
        "    Conv2D(64, 3, padding='same', activation='relu'),\n",
        "    MaxPooling2D(),\n",
        "    Flatten(),\n",
        "    Dense(512, activation='relu'),\n",
        "    Dense(5, activation='softmax') #Nodes in the final dense layer should be equal to number of classes + softmax activation\n",
        "])\n",
        "\n",
        "\n",
        "model.compile(optimizer='adam',\n",
        "              loss=tf.keras.losses.categorical_crossentropy,\n",
        "              metrics=['accuracy'])\n",
        "\n",
        "model.summary()"
      ],
      "execution_count": 88,
      "outputs": [
        {
          "output_type": "stream",
          "text": [
            "Model: \"sequential_7\"\n",
            "_________________________________________________________________\n",
            "Layer (type)                 Output Shape              Param #   \n",
            "=================================================================\n",
            "conv2d_21 (Conv2D)           (None, 150, 150, 16)      448       \n",
            "_________________________________________________________________\n",
            "max_pooling2d_21 (MaxPooling (None, 75, 75, 16)        0         \n",
            "_________________________________________________________________\n",
            "conv2d_22 (Conv2D)           (None, 75, 75, 32)        4640      \n",
            "_________________________________________________________________\n",
            "max_pooling2d_22 (MaxPooling (None, 37, 37, 32)        0         \n",
            "_________________________________________________________________\n",
            "conv2d_23 (Conv2D)           (None, 37, 37, 64)        18496     \n",
            "_________________________________________________________________\n",
            "max_pooling2d_23 (MaxPooling (None, 18, 18, 64)        0         \n",
            "_________________________________________________________________\n",
            "flatten_7 (Flatten)          (None, 20736)             0         \n",
            "_________________________________________________________________\n",
            "dense_14 (Dense)             (None, 512)               10617344  \n",
            "_________________________________________________________________\n",
            "dense_15 (Dense)             (None, 5)                 2565      \n",
            "=================================================================\n",
            "Total params: 10,643,493\n",
            "Trainable params: 10,643,493\n",
            "Non-trainable params: 0\n",
            "_________________________________________________________________\n"
          ],
          "name": "stdout"
        }
      ]
    },
    {
      "cell_type": "code",
      "metadata": {
        "id": "XdDbye25puG3",
        "colab_type": "code",
        "colab": {
          "base_uri": "https://localhost:8080/",
          "height": 745
        },
        "outputId": "f4bc75a5-1802-4a45-db48-54bb3cfb9084"
      },
      "source": [
        "#Performing augmentation on image scaling, zoom and fliiping the images horizontally so that the network has more training samples\n",
        "train_datagen = ImageDataGenerator( \n",
        "\trescale=1. / 255, \n",
        "\tshear_range=0.2, \n",
        "\tzoom_range=0.2, \n",
        "\thorizontal_flip=True) \n",
        "\n",
        "#Not having any augmentation apart from scaling as the validation data should resemble the real-world data as close as possible\n",
        "val_datagen = ImageDataGenerator(rescale=1. / 255) \n",
        "\n",
        "train_generator = train_datagen.flow_from_directory( \n",
        "\ttrain_dir, \n",
        "\ttarget_size=(img_width, img_height), \n",
        "\tbatch_size=batch_size, \n",
        "\tclass_mode='categorical') \n",
        "\n",
        "validation_generator = val_datagen.flow_from_directory( \n",
        "\tvalidation_dir, \n",
        "\ttarget_size=(img_width, img_height), \n",
        "\tbatch_size=batch_size, \n",
        "\tclass_mode='categorical') \n",
        "\n",
        "history = model.fit( \n",
        "\ttrain_generator, \n",
        "\tsteps_per_epoch=nb_train_samples // batch_size, \n",
        "\tepochs=epochs, \n",
        "\tvalidation_data=validation_generator, \n",
        "\tvalidation_steps=nb_validation_samples // batch_size) \n"
      ],
      "execution_count": 89,
      "outputs": [
        {
          "output_type": "stream",
          "text": [
            "Found 400 images belonging to 5 classes.\n",
            "Found 100 images belonging to 5 classes.\n",
            "Epoch 1/20\n",
            "8/8 [==============================] - 3s 400ms/step - loss: 3.2865 - accuracy: 0.1875 - val_loss: 1.5704 - val_accuracy: 0.2500\n",
            "Epoch 2/20\n",
            "8/8 [==============================] - 3s 393ms/step - loss: 1.5884 - accuracy: 0.2375 - val_loss: 1.6369 - val_accuracy: 0.2000\n",
            "Epoch 3/20\n",
            "8/8 [==============================] - 3s 382ms/step - loss: 1.5552 - accuracy: 0.3375 - val_loss: 1.5584 - val_accuracy: 0.4500\n",
            "Epoch 4/20\n",
            "8/8 [==============================] - 3s 397ms/step - loss: 1.4630 - accuracy: 0.5625 - val_loss: 1.3419 - val_accuracy: 0.3500\n",
            "Epoch 5/20\n",
            "8/8 [==============================] - 3s 379ms/step - loss: 1.3582 - accuracy: 0.4625 - val_loss: 1.3523 - val_accuracy: 0.4000\n",
            "Epoch 6/20\n",
            "8/8 [==============================] - 3s 430ms/step - loss: 1.2654 - accuracy: 0.4250 - val_loss: 1.0615 - val_accuracy: 0.6500\n",
            "Epoch 7/20\n",
            "8/8 [==============================] - 3s 416ms/step - loss: 1.0880 - accuracy: 0.5750 - val_loss: 1.5623 - val_accuracy: 0.5500\n",
            "Epoch 8/20\n",
            "8/8 [==============================] - 3s 399ms/step - loss: 1.0220 - accuracy: 0.4875 - val_loss: 1.0958 - val_accuracy: 0.5000\n",
            "Epoch 9/20\n",
            "8/8 [==============================] - 4s 453ms/step - loss: 0.8896 - accuracy: 0.5375 - val_loss: 1.0938 - val_accuracy: 0.4500\n",
            "Epoch 10/20\n",
            "8/8 [==============================] - 3s 403ms/step - loss: 0.8793 - accuracy: 0.5750 - val_loss: 1.9473 - val_accuracy: 0.5500\n",
            "Epoch 11/20\n",
            "8/8 [==============================] - 3s 414ms/step - loss: 1.0404 - accuracy: 0.6375 - val_loss: 1.6585 - val_accuracy: 0.5000\n",
            "Epoch 12/20\n",
            "8/8 [==============================] - 3s 388ms/step - loss: 0.7667 - accuracy: 0.5500 - val_loss: 0.9997 - val_accuracy: 0.5000\n",
            "Epoch 13/20\n",
            "8/8 [==============================] - 3s 381ms/step - loss: 0.7611 - accuracy: 0.7000 - val_loss: 1.1669 - val_accuracy: 0.6000\n",
            "Epoch 14/20\n",
            "8/8 [==============================] - 3s 375ms/step - loss: 0.9527 - accuracy: 0.6375 - val_loss: 1.0403 - val_accuracy: 0.4000\n",
            "Epoch 15/20\n",
            "8/8 [==============================] - 3s 372ms/step - loss: 0.7787 - accuracy: 0.6875 - val_loss: 0.8893 - val_accuracy: 0.7000\n",
            "Epoch 16/20\n",
            "8/8 [==============================] - 3s 409ms/step - loss: 0.6820 - accuracy: 0.6875 - val_loss: 0.6957 - val_accuracy: 0.6000\n",
            "Epoch 17/20\n",
            "8/8 [==============================] - 3s 380ms/step - loss: 0.6150 - accuracy: 0.7250 - val_loss: 0.7695 - val_accuracy: 0.6500\n",
            "Epoch 18/20\n",
            "8/8 [==============================] - 3s 392ms/step - loss: 0.6513 - accuracy: 0.8250 - val_loss: 0.8203 - val_accuracy: 0.8000\n",
            "Epoch 19/20\n",
            "8/8 [==============================] - 3s 367ms/step - loss: 0.4442 - accuracy: 0.8375 - val_loss: 0.4248 - val_accuracy: 0.8500\n",
            "Epoch 20/20\n",
            "8/8 [==============================] - 3s 374ms/step - loss: 0.4401 - accuracy: 0.7875 - val_loss: 0.7490 - val_accuracy: 0.5500\n"
          ],
          "name": "stdout"
        }
      ]
    },
    {
      "cell_type": "code",
      "metadata": {
        "id": "YYTZ3MYKpxPq",
        "colab_type": "code",
        "colab": {
          "base_uri": "https://localhost:8080/",
          "height": 295
        },
        "outputId": "380b602b-b287-46b8-a18f-11644bac64cf"
      },
      "source": [
        "\n",
        "plt.plot(history.history['accuracy'])\n",
        "plt.plot(history.history['val_accuracy'])\n",
        "plt.title('model accuracy')\n",
        "plt.xticks(np.arange(0,21, 2))\n",
        "plt.ylabel('accuracy')\n",
        "plt.xlabel('epoch')\n",
        "plt.legend(['train', 'validation'], loc='upper left')\n",
        "plt.show()"
      ],
      "execution_count": 90,
      "outputs": [
        {
          "output_type": "display_data",
          "data": {
            "image/png": "[encoded data removed]",
            "text/plain": [
              "<Figure size 432x288 with 1 Axes>"
            ]
          },
          "metadata": {
            "tags": [],
            "needs_background": "light"
          }
        }
      ]
    },
    {
      "cell_type": "code",
      "metadata": {
        "id": "nFB7QZTVQrhW",
        "colab_type": "code",
        "colab": {
          "base_uri": "https://localhost:8080/",
          "height": 295
        },
        "outputId": "399775d7-e32e-4c2e-edc4-6cad36b36f20"
      },
      "source": [
        "# summarize history for loss https://www.kaggle.com/prateek0x/multiclass-image-classification-using-keras\n",
        "plt.plot(history.history['loss'])\n",
        "plt.plot(history.history['val_loss'])\n",
        "plt.title('model loss')\n",
        "plt.ylabel('loss')\n",
        "plt.xlabel('epoch')\n",
        "plt.xticks(np.arange(0,21, 2))\n",
        "plt.legend(['train', 'validation'], loc='upper left')\n",
        "plt.show()"
      ],
      "execution_count": 91,
      "outputs": [
        {
          "output_type": "display_data",
          "data": {
            "image/png": "[encoded data removed]",
            "text/plain": [
              "<Figure size 432x288 with 1 Axes>"
            ]
          },
          "metadata": {
            "tags": [],
            "needs_background": "light"
          }
        }
      ]
    },
    {
      "cell_type": "code",
      "metadata": {
        "id": "asgt775KVLvK",
        "colab_type": "code",
        "colab": {
          "base_uri": "https://localhost:8080/",
          "height": 35
        },
        "outputId": "ad359da4-2704-45a7-e67d-9c97f64a484e"
      },
      "source": [
        "print(validation_generator.class_indices)"
      ],
      "execution_count": 92,
      "outputs": [
        {
          "output_type": "stream",
          "text": [
            "{'AreaChart': 0, 'BarChart': 1, 'LineChart': 2, 'PieChart': 3, 'ScatterPlot': 4}\n"
          ],
          "name": "stdout"
        }
      ]
    },
    {
      "cell_type": "code",
      "metadata": {
        "id": "8tOIqNC3XPns",
        "colab_type": "code",
        "colab": {
          "base_uri": "https://localhost:8080/",
          "height": 69
        },
        "outputId": "639a1406-2d08-48ae-ee59-c7ece968e511"
      },
      "source": [
        "final_loss, final_accuracy = model.evaluate(validation_generator, steps = nb_validation_samples // batch_size)\n",
        "print(\"Final loss: {:.2f}\".format(final_loss))\n",
        "print(\"Final accuracy: {:.2f}%\".format(final_accuracy * 100))"
      ],
      "execution_count": 93,
      "outputs": [
        {
          "output_type": "stream",
          "text": [
            "2/2 [==============================] - 0s 71ms/step - loss: 0.5676 - accuracy: 0.8000\n",
            "Final loss: 0.57\n",
            "Final accuracy: 80.00%\n"
          ],
          "name": "stdout"
        }
      ]
    },
    {
      "cell_type": "code",
      "metadata": {
        "id": "kpFuaLuV1UJZ",
        "colab_type": "code",
        "colab": {}
      },
      "source": [
        ""
      ],
      "execution_count": 93,
      "outputs": []
    }
  ]
}