{
  "nbformat": 4,
  "nbformat_minor": 0,
  "metadata": {
    "colab": {
      "name": "Chart Classification.ipynb",
      "provenance": [],
      "mount_file_id": "https://github.com/anirudh-g/Msc-Data-science/blob/master/Chart_Classification.ipynb",
      "authorship_tag": "ABX9TyNCMbgyAAcinWflzRq2x9dP",
      "include_colab_link": true
    },
    "kernelspec": {
      "name": "python3",
      "display_name": "Python 3"
    }
  },
  "cells": [
    {
      "cell_type": "markdown",
      "metadata": {
        "id": "view-in-github",
        "colab_type": "text"
      },
      "source": [
        "<a href=\"https://colab.research.google.com/github/anirudh-g/Msc-Data-science/blob/master/Chart_Classification.ipynb\" target=\"_parent\"><img src=\"https://colab.research.google.com/assets/colab-badge.svg\" alt=\"Open In Colab\"/></a>"
      ]
    },
    {
      "cell_type": "markdown",
      "metadata": {
        "id": "kxmfcp7LanKz",
        "colab_type": "text"
      },
      "source": [
        "<H1> SETUP </H1>"
      ]
    },
    {
      "cell_type": "code",
      "metadata": {
        "id": "0xCdT-18Xet3",
        "colab_type": "code",
        "colab": {}
      },
      "source": [
        "import tensorflow as tf\n",
        "from tensorflow.keras.models import Sequential\n",
        "from tensorflow.keras.layers import Dense, Conv2D, Flatten, Dropout, MaxPooling2D\n",
        "from tensorflow.keras.preprocessing.image import ImageDataGenerator\n",
        "from keras import backend as K\n",
        "import matplotlib.pyplot as plt\n",
        "import numpy as np"
      ],
      "execution_count": 8,
      "outputs": []
    },
    {
      "cell_type": "code",
      "metadata": {
        "id": "NFB-VqEVkXZY",
        "colab_type": "code",
        "colab": {
          "base_uri": "https://localhost:8080/",
          "height": 35
        },
        "outputId": "6a1d479a-a013-465a-89ed-589b17dd53dd"
      },
      "source": [
        "from google.colab import drive\n",
        "drive.mount('/content/drive')"
      ],
      "execution_count": 9,
      "outputs": [
        {
          "output_type": "stream",
          "text": [
            "Drive already mounted at /content/drive; to attempt to forcibly remount, call drive.mount(\"/content/drive\", force_remount=True).\n"
          ],
          "name": "stdout"
        }
      ]
    },
    {
      "cell_type": "code",
      "metadata": {
        "id": "Xt6NXQC7UR7c",
        "colab_type": "code",
        "colab": {}
      },
      "source": [
        "#For now - 4 classes: Area chart, Bar chart, pie chart, scatter plot. 100 images per class. 80/20 train/val split\n",
        "train_dir = '/content/drive/My Drive/Colab Notebooks/Train'\n",
        "validation_dir = '/content/drive/My Drive/Colab Notebooks/Validation'"
      ],
      "execution_count": 10,
      "outputs": []
    },
    {
      "cell_type": "markdown",
      "metadata": {
        "id": "69CNEb7PXuCy",
        "colab_type": "text"
      },
      "source": [
        "<H1>BASELINE MODEL</H1>"
      ]
    },
    {
      "cell_type": "code",
      "metadata": {
        "id": "PZrVF4Eji28B",
        "colab_type": "code",
        "colab": {}
      },
      "source": [
        "#List of all basic tunable parameters of the model - to be updated\n",
        "img_width, img_height = 150, 150\n",
        "nb_train_samples = 80\n",
        "nb_validation_samples = 20\n",
        "epochs = 20\n",
        "batch_size = 10"
      ],
      "execution_count": 18,
      "outputs": []
    },
    {
      "cell_type": "code",
      "metadata": {
        "id": "xTZqZDi-i0Vl",
        "colab_type": "code",
        "colab": {
          "base_uri": "https://localhost:8080/",
          "height": 468
        },
        "outputId": "af0caf49-3392-4e14-ecbf-4401749505b5"
      },
      "source": [
        "#checking whether the rgb channel is first or last to feed the input shape accordingly\n",
        "if K.image_data_format() == 'channels_first': \n",
        "    input_shape = (3, img_width, img_height) \n",
        "else: \n",
        "    input_shape = (img_width, img_height, 3) \n",
        "\n",
        "# 3 CNN blocks containing a max pooling layer in each of them. On top of that is a fully connected layer with relu activation function\n",
        "model = Sequential([\n",
        "    Conv2D(16, 3, padding='same', activation='relu', input_shape=input_shape),\n",
        "    MaxPooling2D(),\n",
        "    Conv2D(32, 3, padding='same', activation='relu'),\n",
        "    MaxPooling2D(),\n",
        "    Conv2D(64, 3, padding='same', activation='relu'),\n",
        "    MaxPooling2D(),\n",
        "    Flatten(),\n",
        "    Dense(512, activation='relu'),\n",
        "    Dense(4, activation='softmax') #Nodes in the final dense layer should be equal to number of classes + softmax activation\n",
        "])\n",
        "\n",
        "\n",
        "model.compile(optimizer='adam',\n",
        "              loss=tf.keras.losses.categorical_crossentropy,\n",
        "              metrics=['accuracy'])\n",
        "\n",
        "model.summary()"
      ],
      "execution_count": 19,
      "outputs": [
        {
          "output_type": "stream",
          "text": [
            "Model: \"sequential_3\"\n",
            "_________________________________________________________________\n",
            "Layer (type)                 Output Shape              Param #   \n",
            "=================================================================\n",
            "conv2d_9 (Conv2D)            (None, 150, 150, 16)      448       \n",
            "_________________________________________________________________\n",
            "max_pooling2d_9 (MaxPooling2 (None, 75, 75, 16)        0         \n",
            "_________________________________________________________________\n",
            "conv2d_10 (Conv2D)           (None, 75, 75, 32)        4640      \n",
            "_________________________________________________________________\n",
            "max_pooling2d_10 (MaxPooling (None, 37, 37, 32)        0         \n",
            "_________________________________________________________________\n",
            "conv2d_11 (Conv2D)           (None, 37, 37, 64)        18496     \n",
            "_________________________________________________________________\n",
            "max_pooling2d_11 (MaxPooling (None, 18, 18, 64)        0         \n",
            "_________________________________________________________________\n",
            "flatten_3 (Flatten)          (None, 20736)             0         \n",
            "_________________________________________________________________\n",
            "dense_6 (Dense)              (None, 512)               10617344  \n",
            "_________________________________________________________________\n",
            "dense_7 (Dense)              (None, 4)                 2052      \n",
            "=================================================================\n",
            "Total params: 10,642,980\n",
            "Trainable params: 10,642,980\n",
            "Non-trainable params: 0\n",
            "_________________________________________________________________\n"
          ],
          "name": "stdout"
        }
      ]
    },
    {
      "cell_type": "code",
      "metadata": {
        "id": "XdDbye25puG3",
        "colab_type": "code",
        "colab": {
          "base_uri": "https://localhost:8080/",
          "height": 745
        },
        "outputId": "9e8999ec-e4e8-42dc-c975-f1e1f60bc344"
      },
      "source": [
        "#Performing augmentation on image scaling, zoom and fliiping the images horizontally so that the network has more training samples\n",
        "train_datagen = ImageDataGenerator( \n",
        "\trescale=1. / 255, \n",
        "\tshear_range=0.2, \n",
        "\tzoom_range=0.2, \n",
        "\thorizontal_flip=True) \n",
        "\n",
        "#Not having any augmentation apart from scaling as the validation data should resemble the real-world data as close as possible\n",
        "val_datagen = ImageDataGenerator(rescale=1. / 255) \n",
        "\n",
        "train_generator = train_datagen.flow_from_directory( \n",
        "\ttrain_dir, \n",
        "\ttarget_size=(img_width, img_height), \n",
        "\tbatch_size=batch_size, \n",
        "\tclass_mode='categorical') \n",
        "\n",
        "validation_generator = val_datagen.flow_from_directory( \n",
        "\tvalidation_dir, \n",
        "\ttarget_size=(img_width, img_height), \n",
        "\tbatch_size=batch_size, \n",
        "\tclass_mode='categorical') \n",
        "\n",
        "history = model.fit( \n",
        "\ttrain_generator, \n",
        "\tsteps_per_epoch=nb_train_samples // batch_size, \n",
        "\tepochs=epochs, \n",
        "\tvalidation_data=validation_generator, \n",
        "\tvalidation_steps=nb_validation_samples // batch_size) \n"
      ],
      "execution_count": 20,
      "outputs": [
        {
          "output_type": "stream",
          "text": [
            "Found 320 images belonging to 4 classes.\n",
            "Found 80 images belonging to 4 classes.\n",
            "Epoch 1/20\n",
            "8/8 [==============================] - 3s 404ms/step - loss: 1.8803 - accuracy: 0.3250 - val_loss: 1.2089 - val_accuracy: 0.4500\n",
            "Epoch 2/20\n",
            "8/8 [==============================] - 3s 369ms/step - loss: 1.3075 - accuracy: 0.3625 - val_loss: 1.4537 - val_accuracy: 0.3000\n",
            "Epoch 3/20\n",
            "8/8 [==============================] - 3s 376ms/step - loss: 1.4036 - accuracy: 0.3500 - val_loss: 1.2116 - val_accuracy: 0.4500\n",
            "Epoch 4/20\n",
            "8/8 [==============================] - 3s 365ms/step - loss: 1.0916 - accuracy: 0.6125 - val_loss: 0.9540 - val_accuracy: 0.6500\n",
            "Epoch 5/20\n",
            "8/8 [==============================] - 3s 366ms/step - loss: 0.8654 - accuracy: 0.7375 - val_loss: 1.0404 - val_accuracy: 0.5500\n",
            "Epoch 6/20\n",
            "8/8 [==============================] - 3s 384ms/step - loss: 0.9407 - accuracy: 0.5875 - val_loss: 0.8839 - val_accuracy: 0.6000\n",
            "Epoch 7/20\n",
            "8/8 [==============================] - 3s 378ms/step - loss: 0.7349 - accuracy: 0.7125 - val_loss: 1.0090 - val_accuracy: 0.7000\n",
            "Epoch 8/20\n",
            "8/8 [==============================] - 3s 364ms/step - loss: 0.7516 - accuracy: 0.7375 - val_loss: 0.6252 - val_accuracy: 0.7000\n",
            "Epoch 9/20\n",
            "8/8 [==============================] - 3s 376ms/step - loss: 0.3963 - accuracy: 0.8625 - val_loss: 1.4913 - val_accuracy: 0.5500\n",
            "Epoch 10/20\n",
            "8/8 [==============================] - 3s 354ms/step - loss: 0.6084 - accuracy: 0.7625 - val_loss: 0.7472 - val_accuracy: 0.6500\n",
            "Epoch 11/20\n",
            "8/8 [==============================] - 3s 366ms/step - loss: 0.5211 - accuracy: 0.7875 - val_loss: 0.3977 - val_accuracy: 0.8500\n",
            "Epoch 12/20\n",
            "8/8 [==============================] - 3s 384ms/step - loss: 0.4905 - accuracy: 0.8000 - val_loss: 0.7969 - val_accuracy: 0.7500\n",
            "Epoch 13/20\n",
            "8/8 [==============================] - 3s 367ms/step - loss: 0.5055 - accuracy: 0.8375 - val_loss: 0.2848 - val_accuracy: 0.9000\n",
            "Epoch 14/20\n",
            "8/8 [==============================] - 3s 384ms/step - loss: 0.3470 - accuracy: 0.9000 - val_loss: 0.7418 - val_accuracy: 0.8000\n",
            "Epoch 15/20\n",
            "8/8 [==============================] - 3s 359ms/step - loss: 0.3457 - accuracy: 0.8500 - val_loss: 1.0083 - val_accuracy: 0.7000\n",
            "Epoch 16/20\n",
            "8/8 [==============================] - 3s 358ms/step - loss: 0.3317 - accuracy: 0.8500 - val_loss: 0.3630 - val_accuracy: 0.8500\n",
            "Epoch 17/20\n",
            "8/8 [==============================] - 3s 374ms/step - loss: 0.4829 - accuracy: 0.8500 - val_loss: 0.7660 - val_accuracy: 0.7000\n",
            "Epoch 18/20\n",
            "8/8 [==============================] - 3s 342ms/step - loss: 0.4439 - accuracy: 0.8125 - val_loss: 0.4482 - val_accuracy: 0.8500\n",
            "Epoch 19/20\n",
            "8/8 [==============================] - 3s 358ms/step - loss: 0.2836 - accuracy: 0.9125 - val_loss: 0.6470 - val_accuracy: 0.6500\n",
            "Epoch 20/20\n",
            "8/8 [==============================] - 3s 385ms/step - loss: 0.2361 - accuracy: 0.9250 - val_loss: 0.4206 - val_accuracy: 0.8000\n"
          ],
          "name": "stdout"
        }
      ]
    },
    {
      "cell_type": "code",
      "metadata": {
        "id": "YYTZ3MYKpxPq",
        "colab_type": "code",
        "colab": {
          "base_uri": "https://localhost:8080/",
          "height": 295
        },
        "outputId": "2f2a5790-0247-490a-f207-9736e1a194a3"
      },
      "source": [
        "\n",
        "plt.plot(history.history['accuracy'])\n",
        "plt.plot(history.history['val_accuracy'])\n",
        "plt.title('model accuracy')\n",
        "plt.xticks(np.arange(0,21, 2))\n",
        "plt.ylabel('accuracy')\n",
        "plt.xlabel('epoch')\n",
        "plt.legend(['train', 'validation'], loc='upper left')\n",
        "plt.show()"
      ],
      "execution_count": 21,
      "outputs": [
        {
          "output_type": "display_data",
          "data": {
            "image/png": "[encoded data removed]",
            "text/plain": [
              "<Figure size 432x288 with 1 Axes>"
            ]
          },
          "metadata": {
            "tags": [],
            "needs_background": "light"
          }
        }
      ]
    },
    {
      "cell_type": "code",
      "metadata": {
        "id": "nFB7QZTVQrhW",
        "colab_type": "code",
        "colab": {
          "base_uri": "https://localhost:8080/",
          "height": 295
        },
        "outputId": "d18531df-8b37-4b9b-b3cf-b6a28213c543"
      },
      "source": [
        "# summarize history for loss https://www.kaggle.com/prateek0x/multiclass-image-classification-using-keras\n",
        "plt.plot(history.history['loss'])\n",
        "plt.plot(history.history['val_loss'])\n",
        "plt.title('model loss')\n",
        "plt.ylabel('loss')\n",
        "plt.xlabel('epoch')\n",
        "plt.xticks(np.arange(0,21, 2))\n",
        "plt.legend(['train', 'validation'], loc='upper left')\n",
        "plt.show()"
      ],
      "execution_count": 22,
      "outputs": [
        {
          "output_type": "display_data",
          "data": {
            "image/png": "[encoded data removed]",
            "text/plain": [
              "<Figure size 432x288 with 1 Axes>"
            ]
          },
          "metadata": {
            "tags": [],
            "needs_background": "light"
          }
        }
      ]
    },
    {
      "cell_type": "code",
      "metadata": {
        "id": "asgt775KVLvK",
        "colab_type": "code",
        "colab": {
          "base_uri": "https://localhost:8080/",
          "height": 35
        },
        "outputId": "18592470-0210-4308-e6ad-f31147f61ba9"
      },
      "source": [
        "print(validation_generator.class_indices)"
      ],
      "execution_count": 23,
      "outputs": [
        {
          "output_type": "stream",
          "text": [
            "{'AreaChart': 0, 'BarChart': 1, 'PieChart': 2, 'ScatterPlot': 3}\n"
          ],
          "name": "stdout"
        }
      ]
    },
    {
      "cell_type": "code",
      "metadata": {
        "id": "8tOIqNC3XPns",
        "colab_type": "code",
        "colab": {}
      },
      "source": [
        ""
      ],
      "execution_count": 16,
      "outputs": []
    }
  ]
}