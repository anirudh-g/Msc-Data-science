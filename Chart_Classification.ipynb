{
  "nbformat": 4,
  "nbformat_minor": 0,
  "metadata": {
    "colab": {
      "name": "Chart Classification.ipynb",
      "provenance": [],
      "mount_file_id": "https://github.com/anirudh-g/Msc-Data-science/blob/master/Chart_Classification.ipynb",
      "authorship_tag": "ABX9TyOTD2TQ44PcRBUNAiIHJFl9",
      "include_colab_link": true
    },
    "kernelspec": {
      "name": "python3",
      "display_name": "Python 3"
    }
  },
  "cells": [
    {
      "cell_type": "markdown",
      "metadata": {
        "id": "view-in-github",
        "colab_type": "text"
      },
      "source": [
        "<a href=\"https://colab.research.google.com/github/anirudh-g/Msc-Data-science/blob/master/Chart_Classification.ipynb\" target=\"_parent\"><img src=\"https://colab.research.google.com/assets/colab-badge.svg\" alt=\"Open In Colab\"/></a>"
      ]
    },
    {
      "cell_type": "markdown",
      "metadata": {
        "id": "kxmfcp7LanKz",
        "colab_type": "text"
      },
      "source": [
        "<H1> SETUP </H1>"
      ]
    },
    {
      "cell_type": "code",
      "metadata": {
        "id": "0xCdT-18Xet3",
        "colab_type": "code",
        "colab": {}
      },
      "source": [
        "import tensorflow as tf\n",
        "from tensorflow import keras\n",
        "from tensorflow.keras.models import Sequential\n",
        "from tensorflow.keras.layers import Dense, Conv2D, Flatten, Dropout, MaxPooling2D\n",
        "from tensorflow.keras.preprocessing.image import ImageDataGenerator\n",
        "from keras import backend as K\n",
        "import matplotlib.pyplot as plt\n",
        "import numpy as np"
      ],
      "execution_count": 120,
      "outputs": []
    },
    {
      "cell_type": "code",
      "metadata": {
        "id": "NFB-VqEVkXZY",
        "colab_type": "code",
        "colab": {
          "base_uri": "https://localhost:8080/",
          "height": 35
        },
        "outputId": "3e2f32e0-f120-4aa0-edad-70d443c42207"
      },
      "source": [
        "from google.colab import drive\n",
        "drive.mount('/content/drive')"
      ],
      "execution_count": 113,
      "outputs": [
        {
          "output_type": "stream",
          "text": [
            "Drive already mounted at /content/drive; to attempt to forcibly remount, call drive.mount(\"/content/drive\", force_remount=True).\n"
          ],
          "name": "stdout"
        }
      ]
    },
    {
      "cell_type": "code",
      "metadata": {
        "id": "Xt6NXQC7UR7c",
        "colab_type": "code",
        "colab": {}
      },
      "source": [
        "#For now - 7 classes: Area chart, Bar chart, Line Chart, pie chart, scatter plot. 100 images per class. 80/20 train/val split\n",
        "#train_dir = '/content/drive/My Drive/Colab Notebooks/Train'\n",
        "#validation_dir = '/content/drive/My Drive/Colab Notebooks/Validation'\n",
        "\n",
        "train_dir = '/content/drive/My Drive/Colab Notebooks/Charts_5/Train'\n",
        "validation_dir = '/content/drive/My Drive/Colab Notebooks/Charts_5/Validation'\n"
      ],
      "execution_count": 177,
      "outputs": []
    },
    {
      "cell_type": "markdown",
      "metadata": {
        "id": "69CNEb7PXuCy",
        "colab_type": "text"
      },
      "source": [
        "<H1>BASELINE MODEL</H1>"
      ]
    },
    {
      "cell_type": "code",
      "metadata": {
        "id": "PZrVF4Eji28B",
        "colab_type": "code",
        "colab": {}
      },
      "source": [
        "#List of all basic tunable parameters of the model - to be updated\n",
        "img_width, img_height = 150, 150\n",
        "nb_train_samples = 80\n",
        "nb_validation_samples = 20\n",
        "epochs = 30\n",
        "batch_size = 10"
      ],
      "execution_count": 178,
      "outputs": []
    },
    {
      "cell_type": "code",
      "metadata": {
        "id": "xTZqZDi-i0Vl",
        "colab_type": "code",
        "colab": {
          "base_uri": "https://localhost:8080/",
          "height": 468
        },
        "outputId": "3268e2c9-20f8-4516-dc6b-9ff2ad5b42bc"
      },
      "source": [
        "#checking whether the rgb channel is first or last to feed the input shape accordingly\n",
        "if K.image_data_format() == 'channels_first': \n",
        "    input_shape = (3, img_width, img_height) \n",
        "else: \n",
        "    input_shape = (img_width, img_height, 3) \n",
        "\n",
        "# 3 CNN blocks containing a max pooling layer in each of them. On top of that is a fully connected layer with relu activation function\n",
        "model = Sequential([\n",
        "    Conv2D(16, 3, padding='same', activation='relu', input_shape=input_shape),\n",
        "    MaxPooling2D(),\n",
        "    Conv2D(32, 3, padding='same', activation='relu'),\n",
        "    MaxPooling2D(),\n",
        "    Conv2D(64, 3, padding='same', activation='relu'),\n",
        "    MaxPooling2D(),\n",
        "    Flatten(),\n",
        "    Dense(512, activation='relu'),\n",
        "    Dense(5, activation='softmax') #Nodes in the final dense layer should be equal to number of classes + softmax activation\n",
        "])\n",
        "\n",
        "\n",
        "model.compile(optimizer='adam',\n",
        "              loss=tf.keras.losses.categorical_crossentropy,\n",
        "              metrics=['accuracy'])\n",
        "\n",
        "model.summary()"
      ],
      "execution_count": 179,
      "outputs": [
        {
          "output_type": "stream",
          "text": [
            "Model: \"sequential_16\"\n",
            "_________________________________________________________________\n",
            "Layer (type)                 Output Shape              Param #   \n",
            "=================================================================\n",
            "conv2d_143 (Conv2D)          (None, 150, 150, 16)      448       \n",
            "_________________________________________________________________\n",
            "max_pooling2d_53 (MaxPooling (None, 75, 75, 16)        0         \n",
            "_________________________________________________________________\n",
            "conv2d_144 (Conv2D)          (None, 75, 75, 32)        4640      \n",
            "_________________________________________________________________\n",
            "max_pooling2d_54 (MaxPooling (None, 37, 37, 32)        0         \n",
            "_________________________________________________________________\n",
            "conv2d_145 (Conv2D)          (None, 37, 37, 64)        18496     \n",
            "_________________________________________________________________\n",
            "max_pooling2d_55 (MaxPooling (None, 18, 18, 64)        0         \n",
            "_________________________________________________________________\n",
            "flatten_16 (Flatten)         (None, 20736)             0         \n",
            "_________________________________________________________________\n",
            "dense_39 (Dense)             (None, 512)               10617344  \n",
            "_________________________________________________________________\n",
            "dense_40 (Dense)             (None, 5)                 2565      \n",
            "=================================================================\n",
            "Total params: 10,643,493\n",
            "Trainable params: 10,643,493\n",
            "Non-trainable params: 0\n",
            "_________________________________________________________________\n"
          ],
          "name": "stdout"
        }
      ]
    },
    {
      "cell_type": "code",
      "metadata": {
        "id": "XdDbye25puG3",
        "colab_type": "code",
        "colab": {
          "base_uri": "https://localhost:8080/",
          "height": 1000
        },
        "outputId": "d04e945d-c1f5-47dd-8ea3-0232d7a091f1"
      },
      "source": [
        "#Performing augmentation on image scaling, zoom and fliiping the images horizontally so that the network has more training samples\n",
        "train_datagen = ImageDataGenerator( \n",
        "\trescale=1. / 255, \n",
        "\tshear_range=0.2, \n",
        "\tzoom_range=0.2, \n",
        "\thorizontal_flip=True) \n",
        "\n",
        "#Not having any augmentation apart from scaling as the validation data should resemble the real-world data as close as possible\n",
        "val_datagen = ImageDataGenerator(rescale=1. / 255) \n",
        "\n",
        "train_generator = train_datagen.flow_from_directory( \n",
        "\ttrain_dir, \n",
        "\ttarget_size=(img_width, img_height), \n",
        "\tbatch_size=batch_size, \n",
        "\tclass_mode='categorical') \n",
        "\n",
        "validation_generator = val_datagen.flow_from_directory( \n",
        "\tvalidation_dir, \n",
        "\ttarget_size=(img_width, img_height), \n",
        "\tbatch_size=batch_size, \n",
        "\tclass_mode='categorical') \n",
        "\n",
        "history = model.fit( \n",
        "\ttrain_generator, \n",
        "\tsteps_per_epoch=nb_train_samples // batch_size, \n",
        "\tepochs=epochs, \n",
        "\tvalidation_data=validation_generator, \n",
        "\tvalidation_steps=nb_validation_samples // batch_size) \n"
      ],
      "execution_count": 180,
      "outputs": [
        {
          "output_type": "stream",
          "text": [
            "Found 400 images belonging to 5 classes.\n",
            "Found 100 images belonging to 5 classes.\n",
            "Epoch 1/30\n",
            "8/8 [==============================] - 51s 6s/step - loss: 1.8555 - accuracy: 0.2375 - val_loss: 1.6427 - val_accuracy: 0.2500\n",
            "Epoch 2/30\n",
            "8/8 [==============================] - 36s 4s/step - loss: 1.5334 - accuracy: 0.3125 - val_loss: 1.3269 - val_accuracy: 0.3500\n",
            "Epoch 3/30\n",
            "8/8 [==============================] - 30s 4s/step - loss: 1.4091 - accuracy: 0.3750 - val_loss: 1.6121 - val_accuracy: 0.4000\n",
            "Epoch 4/30\n",
            "8/8 [==============================] - 18s 2s/step - loss: 1.4001 - accuracy: 0.4500 - val_loss: 1.2695 - val_accuracy: 0.4500\n",
            "Epoch 5/30\n",
            "8/8 [==============================] - 15s 2s/step - loss: 1.2702 - accuracy: 0.4500 - val_loss: 1.6218 - val_accuracy: 0.6000\n",
            "Epoch 6/30\n",
            "8/8 [==============================] - 15s 2s/step - loss: 0.8893 - accuracy: 0.6250 - val_loss: 1.2268 - val_accuracy: 0.3500\n",
            "Epoch 7/30\n",
            "8/8 [==============================] - 9s 1s/step - loss: 1.1317 - accuracy: 0.5250 - val_loss: 1.0961 - val_accuracy: 0.3000\n",
            "Epoch 8/30\n",
            "8/8 [==============================] - 8s 986ms/step - loss: 0.8750 - accuracy: 0.5500 - val_loss: 1.1646 - val_accuracy: 0.5000\n",
            "Epoch 9/30\n",
            "8/8 [==============================] - 8s 993ms/step - loss: 0.7353 - accuracy: 0.7250 - val_loss: 0.7059 - val_accuracy: 0.6500\n",
            "Epoch 10/30\n",
            "8/8 [==============================] - 5s 673ms/step - loss: 0.8009 - accuracy: 0.6750 - val_loss: 1.9713 - val_accuracy: 0.8000\n",
            "Epoch 11/30\n",
            "8/8 [==============================] - 8s 1s/step - loss: 0.8302 - accuracy: 0.6625 - val_loss: 0.8002 - val_accuracy: 0.6500\n",
            "Epoch 12/30\n",
            "8/8 [==============================] - 5s 601ms/step - loss: 0.7588 - accuracy: 0.7000 - val_loss: 0.9240 - val_accuracy: 0.5500\n",
            "Epoch 13/30\n",
            "8/8 [==============================] - 4s 479ms/step - loss: 0.7308 - accuracy: 0.6750 - val_loss: 0.6151 - val_accuracy: 0.7000\n",
            "Epoch 14/30\n",
            "8/8 [==============================] - 12s 1s/step - loss: 0.6933 - accuracy: 0.6250 - val_loss: 1.5193 - val_accuracy: 0.6500\n",
            "Epoch 15/30\n",
            "8/8 [==============================] - 4s 438ms/step - loss: 0.6898 - accuracy: 0.6500 - val_loss: 1.3436 - val_accuracy: 0.7500\n",
            "Epoch 16/30\n",
            "8/8 [==============================] - 3s 396ms/step - loss: 0.5480 - accuracy: 0.7375 - val_loss: 1.6891 - val_accuracy: 0.6000\n",
            "Epoch 17/30\n",
            "8/8 [==============================] - 3s 418ms/step - loss: 0.7351 - accuracy: 0.7000 - val_loss: 1.0616 - val_accuracy: 0.6000\n",
            "Epoch 18/30\n",
            "8/8 [==============================] - 4s 451ms/step - loss: 0.5172 - accuracy: 0.8000 - val_loss: 0.8197 - val_accuracy: 0.6500\n",
            "Epoch 19/30\n",
            "8/8 [==============================] - 3s 370ms/step - loss: 0.5542 - accuracy: 0.7000 - val_loss: 0.5757 - val_accuracy: 0.7500\n",
            "Epoch 20/30\n",
            "8/8 [==============================] - 3s 389ms/step - loss: 0.6101 - accuracy: 0.7625 - val_loss: 0.9017 - val_accuracy: 0.7000\n",
            "Epoch 21/30\n",
            "8/8 [==============================] - 3s 377ms/step - loss: 0.5476 - accuracy: 0.7000 - val_loss: 0.7749 - val_accuracy: 0.6000\n",
            "Epoch 22/30\n",
            "8/8 [==============================] - 3s 372ms/step - loss: 0.4768 - accuracy: 0.8125 - val_loss: 0.9443 - val_accuracy: 0.6000\n",
            "Epoch 23/30\n",
            "8/8 [==============================] - 3s 410ms/step - loss: 0.6296 - accuracy: 0.6875 - val_loss: 1.2717 - val_accuracy: 0.7000\n",
            "Epoch 24/30\n",
            "8/8 [==============================] - 3s 381ms/step - loss: 0.7179 - accuracy: 0.6625 - val_loss: 0.6648 - val_accuracy: 0.6500\n",
            "Epoch 25/30\n",
            "8/8 [==============================] - 3s 393ms/step - loss: 0.5692 - accuracy: 0.7375 - val_loss: 1.0302 - val_accuracy: 0.5500\n",
            "Epoch 26/30\n",
            "8/8 [==============================] - 3s 388ms/step - loss: 0.6953 - accuracy: 0.7125 - val_loss: 1.5116 - val_accuracy: 0.5000\n",
            "Epoch 27/30\n",
            "8/8 [==============================] - 3s 372ms/step - loss: 0.5554 - accuracy: 0.7625 - val_loss: 0.8725 - val_accuracy: 0.6500\n",
            "Epoch 28/30\n",
            "8/8 [==============================] - 3s 358ms/step - loss: 0.6214 - accuracy: 0.7125 - val_loss: 0.6602 - val_accuracy: 0.7000\n",
            "Epoch 29/30\n",
            "8/8 [==============================] - 3s 377ms/step - loss: 0.5667 - accuracy: 0.7500 - val_loss: 0.8650 - val_accuracy: 0.6500\n",
            "Epoch 30/30\n",
            "8/8 [==============================] - 3s 358ms/step - loss: 0.4148 - accuracy: 0.8375 - val_loss: 0.5546 - val_accuracy: 0.7500\n"
          ],
          "name": "stdout"
        }
      ]
    },
    {
      "cell_type": "code",
      "metadata": {
        "id": "YYTZ3MYKpxPq",
        "colab_type": "code",
        "colab": {
          "base_uri": "https://localhost:8080/",
          "height": 295
        },
        "outputId": "0033563e-636f-4f6d-86f8-fe66ce611019"
      },
      "source": [
        "\n",
        "plt.plot(history.history['accuracy'])\n",
        "plt.plot(history.history['val_accuracy'])\n",
        "plt.title('model accuracy')\n",
        "plt.xticks(np.arange(0,21, 2))\n",
        "plt.ylabel('accuracy')\n",
        "plt.xlabel('epoch')\n",
        "plt.legend(['train', 'validation'], loc='upper left')\n",
        "plt.show()"
      ],
      "execution_count": 181,
      "outputs": [
        {
          "output_type": "display_data",
          "data": {
            "image/png": "[encoded data removed]",
            "text/plain": [
              "<Figure size 432x288 with 1 Axes>"
            ]
          },
          "metadata": {
            "tags": [],
            "needs_background": "light"
          }
        }
      ]
    },
    {
      "cell_type": "code",
      "metadata": {
        "id": "nFB7QZTVQrhW",
        "colab_type": "code",
        "colab": {
          "base_uri": "https://localhost:8080/",
          "height": 295
        },
        "outputId": "b42fd814-48c9-43d1-8b43-d8317fd886b4"
      },
      "source": [
        "# summarize history for loss https://www.kaggle.com/prateek0x/multiclass-image-classification-using-keras\n",
        "plt.plot(history.history['loss'])\n",
        "plt.plot(history.history['val_loss'])\n",
        "plt.title('model loss')\n",
        "plt.ylabel('loss')\n",
        "plt.xlabel('epoch')\n",
        "plt.xticks(np.arange(0,21, 2))\n",
        "plt.legend(['train', 'validation'], loc='upper left')\n",
        "plt.show()"
      ],
      "execution_count": 182,
      "outputs": [
        {
          "output_type": "display_data",
          "data": {
            "image/png": "[encoded data removed]",
            "text/plain": [
              "<Figure size 432x288 with 1 Axes>"
            ]
          },
          "metadata": {
            "tags": [],
            "needs_background": "light"
          }
        }
      ]
    },
    {
      "cell_type": "code",
      "metadata": {
        "id": "asgt775KVLvK",
        "colab_type": "code",
        "colab": {
          "base_uri": "https://localhost:8080/",
          "height": 35
        },
        "outputId": "416a5e51-9449-445c-9064-9b034364aa95"
      },
      "source": [
        "print(validation_generator.class_indices)"
      ],
      "execution_count": 183,
      "outputs": [
        {
          "output_type": "stream",
          "text": [
            "{'AreaChart': 0, 'BarChart': 1, 'LineChart': 2, 'PieChart': 3, 'ScatterPlot': 4}\n"
          ],
          "name": "stdout"
        }
      ]
    },
    {
      "cell_type": "code",
      "metadata": {
        "id": "8tOIqNC3XPns",
        "colab_type": "code",
        "colab": {
          "base_uri": "https://localhost:8080/",
          "height": 69
        },
        "outputId": "6c09c453-64a0-480e-a60b-e1d814e6c06e"
      },
      "source": [
        "final_loss, final_accuracy = model.evaluate(validation_generator, steps = nb_validation_samples // batch_size)\n",
        "print(\"Final loss: {:.2f}\".format(final_loss))\n",
        "print(\"Final accuracy: {:.2f}%\".format(final_accuracy * 100))"
      ],
      "execution_count": 184,
      "outputs": [
        {
          "output_type": "stream",
          "text": [
            "2/2 [==============================] - 0s 63ms/step - loss: 0.3653 - accuracy: 0.9000\n",
            "Final loss: 0.37\n",
            "Final accuracy: 90.00%\n"
          ],
          "name": "stdout"
        }
      ]
    },
    {
      "cell_type": "markdown",
      "metadata": {
        "id": "S3gDwwModG4x",
        "colab_type": "text"
      },
      "source": [
        "TRANSFER LEARNING"
      ]
    },
    {
      "cell_type": "code",
      "metadata": {
        "id": "BIoZMHFl4dkr",
        "colab_type": "code",
        "colab": {
          "base_uri": "https://localhost:8080/",
          "height": 339
        },
        "outputId": "94f768f7-b962-44e9-a0f8-70eff99a8cb1"
      },
      "source": [
        "from tensorflow.keras.applications.VGG16 import VGG16\n",
        "base_model = VGG16(weights=None, include_top=False, input_shape=input_shape, classes=5)\n",
        "base_model.summary()"
      ],
      "execution_count": 197,
      "outputs": [
        {
          "output_type": "error",
          "ename": "ModuleNotFoundError",
          "evalue": "ignored",
          "traceback": [
            "\u001b[0;31m---------------------------------------------------------------------------\u001b[0m",
            "\u001b[0;31mModuleNotFoundError\u001b[0m                       Traceback (most recent call last)",
            "\u001b[0;32m<ipython-input-197-0d9d2c653757>\u001b[0m in \u001b[0;36m<module>\u001b[0;34m()\u001b[0m\n\u001b[0;32m----> 1\u001b[0;31m \u001b[0;32mfrom\u001b[0m \u001b[0mtensorflow\u001b[0m\u001b[0;34m.\u001b[0m\u001b[0mkeras\u001b[0m\u001b[0;34m.\u001b[0m\u001b[0mapplications\u001b[0m\u001b[0;34m.\u001b[0m\u001b[0mVGG16\u001b[0m \u001b[0;32mimport\u001b[0m \u001b[0mVGG16\u001b[0m\u001b[0;34m\u001b[0m\u001b[0;34m\u001b[0m\u001b[0m\n\u001b[0m\u001b[1;32m      2\u001b[0m \u001b[0mbase_model\u001b[0m \u001b[0;34m=\u001b[0m \u001b[0mVGG16\u001b[0m\u001b[0;34m(\u001b[0m\u001b[0mweights\u001b[0m\u001b[0;34m=\u001b[0m\u001b[0;32mNone\u001b[0m\u001b[0;34m,\u001b[0m \u001b[0minclude_top\u001b[0m\u001b[0;34m=\u001b[0m\u001b[0;32mFalse\u001b[0m\u001b[0;34m,\u001b[0m \u001b[0minput_shape\u001b[0m\u001b[0;34m=\u001b[0m\u001b[0minput_shape\u001b[0m\u001b[0;34m,\u001b[0m \u001b[0mclasses\u001b[0m\u001b[0;34m=\u001b[0m\u001b[0;36m5\u001b[0m\u001b[0;34m)\u001b[0m\u001b[0;34m\u001b[0m\u001b[0;34m\u001b[0m\u001b[0m\n\u001b[1;32m      3\u001b[0m \u001b[0mbase_model\u001b[0m\u001b[0;34m.\u001b[0m\u001b[0msummary\u001b[0m\u001b[0;34m(\u001b[0m\u001b[0;34m)\u001b[0m\u001b[0;34m\u001b[0m\u001b[0;34m\u001b[0m\u001b[0m\n",
            "\u001b[0;31mModuleNotFoundError\u001b[0m: No module named 'tensorflow.keras.applications.VGG16'",
            "",
            "\u001b[0;31m---------------------------------------------------------------------------\u001b[0;32m\nNOTE: If your import is failing due to a missing package, you can\nmanually install dependencies using either !pip or !apt.\n\nTo view examples of installing some common dependencies, click the\n\"Open Examples\" button below.\n\u001b[0;31m---------------------------------------------------------------------------\u001b[0m\n"
          ]
        }
      ]
    },
    {
      "cell_type": "code",
      "metadata": {
        "id": "J9PaojGKgTOr",
        "colab_type": "code",
        "colab": {}
      },
      "source": [
        "base_model.trainable=False"
      ],
      "execution_count": 192,
      "outputs": []
    },
    {
      "cell_type": "code",
      "metadata": {
        "id": "pOp9z-WnhhvJ",
        "colab_type": "code",
        "colab": {}
      },
      "source": [
        "inputs = keras.Input(shape=input_shape)\n",
        "# We make sure that the base_model is running in inference mode here,\n",
        "# by passing `training=False`. This is important for fine-tuning, as you will\n",
        "# learn in a few paragraphs.\n",
        "x = base_model(inputs, training=False)\n",
        "# Convert features of shape `base_model.output_shape[1:]` to vectors\n",
        "x = keras.layers.GlobalAveragePooling2D()(x)\n",
        "# A Dense classifier with a single unit (binary classification)\n",
        "outputs = keras.layers.Dense(5)(x)\n",
        "tl_model = keras.Model(inputs, outputs)"
      ],
      "execution_count": 193,
      "outputs": []
    },
    {
      "cell_type": "code",
      "metadata": {
        "id": "tC0fWqzniOYh",
        "colab_type": "code",
        "colab": {
          "base_uri": "https://localhost:8080/",
          "height": 1000
        },
        "outputId": "23afa481-790b-43c0-b6e1-9a81da0bb01a"
      },
      "source": [
        "tl_model.compile(optimizer='adam',\n",
        "              loss=tf.keras.losses.categorical_crossentropy,\n",
        "              metrics=['accuracy'])\n",
        "\n",
        "tl_history = tl_model.fit( \n",
        "\ttrain_generator, \n",
        "\tsteps_per_epoch=nb_train_samples // batch_size, \n",
        "\tepochs=epochs, \n",
        "\tvalidation_data=validation_generator, \n",
        "\tvalidation_steps=nb_validation_samples // batch_size) \n"
      ],
      "execution_count": 194,
      "outputs": [
        {
          "output_type": "stream",
          "text": [
            "Epoch 1/30\n",
            "8/8 [==============================] - 6s 703ms/step - loss: 7.6117 - accuracy: 0.3125 - val_loss: 5.8505 - val_accuracy: 0.1500\n",
            "Epoch 2/30\n",
            "8/8 [==============================] - 5s 589ms/step - loss: 8.1397 - accuracy: 0.3750 - val_loss: 12.0886 - val_accuracy: 0.3000\n",
            "Epoch 3/30\n",
            "8/8 [==============================] - 5s 574ms/step - loss: 10.9918 - accuracy: 0.2625 - val_loss: 11.5100 - val_accuracy: 0.2000\n",
            "Epoch 4/30\n",
            "8/8 [==============================] - 5s 591ms/step - loss: 9.5307 - accuracy: 0.2125 - val_loss: 9.7542 - val_accuracy: 0.1500\n",
            "Epoch 5/30\n",
            "8/8 [==============================] - 5s 591ms/step - loss: 10.3024 - accuracy: 0.2500 - val_loss: 11.2827 - val_accuracy: 0.2000\n",
            "Epoch 6/30\n",
            "8/8 [==============================] - 5s 596ms/step - loss: 9.8727 - accuracy: 0.3625 - val_loss: 8.8703 - val_accuracy: 0.4000\n",
            "Epoch 7/30\n",
            "8/8 [==============================] - 5s 597ms/step - loss: 9.8729 - accuracy: 0.3500 - val_loss: 12.1024 - val_accuracy: 0.1500\n",
            "Epoch 8/30\n",
            "8/8 [==============================] - 5s 571ms/step - loss: 9.0694 - accuracy: 0.3375 - val_loss: 10.4903 - val_accuracy: 0.2500\n",
            "Epoch 9/30\n",
            "8/8 [==============================] - 5s 580ms/step - loss: 9.8726 - accuracy: 0.3250 - val_loss: 9.6709 - val_accuracy: 0.4000\n",
            "Epoch 10/30\n",
            "8/8 [==============================] - 5s 584ms/step - loss: 9.6722 - accuracy: 0.2750 - val_loss: 9.6789 - val_accuracy: 0.3500\n",
            "Epoch 11/30\n",
            "8/8 [==============================] - 5s 575ms/step - loss: 9.5141 - accuracy: 0.3625 - val_loss: 10.4768 - val_accuracy: 0.3000\n",
            "Epoch 12/30\n",
            "8/8 [==============================] - 5s 599ms/step - loss: 7.5509 - accuracy: 0.3625 - val_loss: 6.5877 - val_accuracy: 0.2500\n",
            "Epoch 13/30\n",
            "8/8 [==============================] - 5s 597ms/step - loss: 4.7199 - accuracy: 0.4250 - val_loss: 6.4472 - val_accuracy: 0.0500\n",
            "Epoch 14/30\n",
            "8/8 [==============================] - 5s 593ms/step - loss: 8.2616 - accuracy: 0.2250 - val_loss: 7.2531 - val_accuracy: 0.2000\n",
            "Epoch 15/30\n",
            "8/8 [==============================] - 5s 586ms/step - loss: 12.0886 - accuracy: 0.1250 - val_loss: 11.2827 - val_accuracy: 0.2000\n",
            "Epoch 16/30\n",
            "8/8 [==============================] - 5s 584ms/step - loss: 11.4841 - accuracy: 0.1875 - val_loss: 11.2827 - val_accuracy: 0.3500\n",
            "Epoch 17/30\n",
            "8/8 [==============================] - 5s 600ms/step - loss: 11.6856 - accuracy: 0.1875 - val_loss: 12.0886 - val_accuracy: 0.1500\n",
            "Epoch 18/30\n",
            "8/8 [==============================] - 5s 576ms/step - loss: 11.2827 - accuracy: 0.2250 - val_loss: 11.2827 - val_accuracy: 0.1000\n",
            "Epoch 19/30\n",
            "8/8 [==============================] - 5s 593ms/step - loss: 12.8945 - accuracy: 0.2875 - val_loss: 12.8945 - val_accuracy: 0.0500\n",
            "Epoch 20/30\n",
            "8/8 [==============================] - 5s 589ms/step - loss: 11.2827 - accuracy: 0.2000 - val_loss: 12.0886 - val_accuracy: 0.3500\n",
            "Epoch 21/30\n",
            "8/8 [==============================] - 5s 576ms/step - loss: 12.0886 - accuracy: 0.1875 - val_loss: 12.8945 - val_accuracy: 0.2500\n",
            "Epoch 22/30\n",
            "8/8 [==============================] - 5s 596ms/step - loss: 11.8871 - accuracy: 0.1625 - val_loss: 13.7004 - val_accuracy: 0.2500\n",
            "Epoch 23/30\n",
            "8/8 [==============================] - 5s 590ms/step - loss: 11.4841 - accuracy: 0.1625 - val_loss: 12.8945 - val_accuracy: 0.2000\n",
            "Epoch 24/30\n",
            "8/8 [==============================] - 5s 579ms/step - loss: 11.4841 - accuracy: 0.2375 - val_loss: 11.2827 - val_accuracy: 0.1500\n",
            "Epoch 25/30\n",
            "8/8 [==============================] - 5s 579ms/step - loss: 11.6856 - accuracy: 0.2000 - val_loss: 12.0886 - val_accuracy: 0.2500\n",
            "Epoch 26/30\n",
            "8/8 [==============================] - 5s 583ms/step - loss: 10.0738 - accuracy: 0.1875 - val_loss: 9.6709 - val_accuracy: 0.1500\n",
            "Epoch 27/30\n",
            "8/8 [==============================] - 5s 571ms/step - loss: 12.0886 - accuracy: 0.1875 - val_loss: 12.0886 - val_accuracy: 0.2500\n",
            "Epoch 28/30\n",
            "8/8 [==============================] - 5s 585ms/step - loss: 11.8871 - accuracy: 0.2125 - val_loss: 14.5063 - val_accuracy: 0.2500\n",
            "Epoch 29/30\n",
            "8/8 [==============================] - 5s 588ms/step - loss: 10.4768 - accuracy: 0.1375 - val_loss: 12.8945 - val_accuracy: 0.1500\n",
            "Epoch 30/30\n",
            "8/8 [==============================] - 5s 611ms/step - loss: 11.2827 - accuracy: 0.1875 - val_loss: 12.8945 - val_accuracy: 0.1000\n"
          ],
          "name": "stdout"
        }
      ]
    },
    {
      "cell_type": "code",
      "metadata": {
        "id": "UaWETaClkFzF",
        "colab_type": "code",
        "colab": {}
      },
      "source": [
        ""
      ],
      "execution_count": null,
      "outputs": []
    }
  ]
}