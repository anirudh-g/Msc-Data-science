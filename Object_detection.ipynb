{
  "nbformat": 4,
  "nbformat_minor": 0,
  "metadata": {
    "colab": {
      "name": "Object detection",
      "provenance": [],
      "collapsed_sections": [],
      "authorship_tag": "ABX9TyNx9vu4olalOzJvQWFX0d8+",
      "include_colab_link": true
    },
    "kernelspec": {
      "name": "python3",
      "display_name": "Python 3"
    },
    "accelerator": "GPU",
    "widgets": {
      "application/vnd.jupyter.widget-state+json": {
        "cc43775d12944080913c7b0145cd41fb": {
          "model_module": "@jupyter-widgets/controls",
          "model_name": "HBoxModel",
          "state": {
            "_view_name": "HBoxView",
            "_dom_classes": [],
            "_model_name": "HBoxModel",
            "_view_module": "@jupyter-widgets/controls",
            "_model_module_version": "1.5.0",
            "_view_count": null,
            "_view_module_version": "1.5.0",
            "box_style": "",
            "layout": "IPY_MODEL_ed0b3b17239641b4806be8a0b1298fe2",
            "_model_module": "@jupyter-widgets/controls",
            "children": [
              "IPY_MODEL_e40b6fa1a4a342d0a814e1787cc45eaf",
              "IPY_MODEL_97dd07231534418e86ba03547e1c88e8"
            ]
          }
        },
        "ed0b3b17239641b4806be8a0b1298fe2": {
          "model_module": "@jupyter-widgets/base",
          "model_name": "LayoutModel",
          "state": {
            "_view_name": "LayoutView",
            "grid_template_rows": null,
            "right": null,
            "justify_content": null,
            "_view_module": "@jupyter-widgets/base",
            "overflow": null,
            "_model_module_version": "1.2.0",
            "_view_count": null,
            "flex_flow": null,
            "width": null,
            "min_width": null,
            "border": null,
            "align_items": null,
            "bottom": null,
            "_model_module": "@jupyter-widgets/base",
            "top": null,
            "grid_column": null,
            "overflow_y": null,
            "overflow_x": null,
            "grid_auto_flow": null,
            "grid_area": null,
            "grid_template_columns": null,
            "flex": null,
            "_model_name": "LayoutModel",
            "justify_items": null,
            "grid_row": null,
            "max_height": null,
            "align_content": null,
            "visibility": null,
            "align_self": null,
            "height": null,
            "min_height": null,
            "padding": null,
            "grid_auto_rows": null,
            "grid_gap": null,
            "max_width": null,
            "order": null,
            "_view_module_version": "1.2.0",
            "grid_template_areas": null,
            "object_position": null,
            "object_fit": null,
            "grid_auto_columns": null,
            "margin": null,
            "display": null,
            "left": null
          }
        },
        "e40b6fa1a4a342d0a814e1787cc45eaf": {
          "model_module": "@jupyter-widgets/controls",
          "model_name": "FloatProgressModel",
          "state": {
            "_view_name": "ProgressView",
            "style": "IPY_MODEL_8aa8f35c886c41c98903c626ae310b3e",
            "_dom_classes": [],
            "description": "100%",
            "_model_name": "FloatProgressModel",
            "bar_style": "success",
            "max": 167502836,
            "_view_module": "@jupyter-widgets/controls",
            "_model_module_version": "1.5.0",
            "value": 167502836,
            "_view_count": null,
            "_view_module_version": "1.5.0",
            "orientation": "horizontal",
            "min": 0,
            "description_tooltip": null,
            "_model_module": "@jupyter-widgets/controls",
            "layout": "IPY_MODEL_99c9b6becd4d4704a97842d4f35b36c1"
          }
        },
        "97dd07231534418e86ba03547e1c88e8": {
          "model_module": "@jupyter-widgets/controls",
          "model_name": "HTMLModel",
          "state": {
            "_view_name": "HTMLView",
            "style": "IPY_MODEL_eb493be8d0e64ac0bddcb4fbe22851c6",
            "_dom_classes": [],
            "description": "",
            "_model_name": "HTMLModel",
            "placeholder": "​",
            "_view_module": "@jupyter-widgets/controls",
            "_model_module_version": "1.5.0",
            "value": " 160M/160M [1:30:20&lt;00:00, 30.9kB/s]",
            "_view_count": null,
            "_view_module_version": "1.5.0",
            "description_tooltip": null,
            "_model_module": "@jupyter-widgets/controls",
            "layout": "IPY_MODEL_0f4085cadc694ccabd23a4784c5f5317"
          }
        },
        "8aa8f35c886c41c98903c626ae310b3e": {
          "model_module": "@jupyter-widgets/controls",
          "model_name": "ProgressStyleModel",
          "state": {
            "_view_name": "StyleView",
            "_model_name": "ProgressStyleModel",
            "description_width": "initial",
            "_view_module": "@jupyter-widgets/base",
            "_model_module_version": "1.5.0",
            "_view_count": null,
            "_view_module_version": "1.2.0",
            "bar_color": null,
            "_model_module": "@jupyter-widgets/controls"
          }
        },
        "99c9b6becd4d4704a97842d4f35b36c1": {
          "model_module": "@jupyter-widgets/base",
          "model_name": "LayoutModel",
          "state": {
            "_view_name": "LayoutView",
            "grid_template_rows": null,
            "right": null,
            "justify_content": null,
            "_view_module": "@jupyter-widgets/base",
            "overflow": null,
            "_model_module_version": "1.2.0",
            "_view_count": null,
            "flex_flow": null,
            "width": null,
            "min_width": null,
            "border": null,
            "align_items": null,
            "bottom": null,
            "_model_module": "@jupyter-widgets/base",
            "top": null,
            "grid_column": null,
            "overflow_y": null,
            "overflow_x": null,
            "grid_auto_flow": null,
            "grid_area": null,
            "grid_template_columns": null,
            "flex": null,
            "_model_name": "LayoutModel",
            "justify_items": null,
            "grid_row": null,
            "max_height": null,
            "align_content": null,
            "visibility": null,
            "align_self": null,
            "height": null,
            "min_height": null,
            "padding": null,
            "grid_auto_rows": null,
            "grid_gap": null,
            "max_width": null,
            "order": null,
            "_view_module_version": "1.2.0",
            "grid_template_areas": null,
            "object_position": null,
            "object_fit": null,
            "grid_auto_columns": null,
            "margin": null,
            "display": null,
            "left": null
          }
        },
        "eb493be8d0e64ac0bddcb4fbe22851c6": {
          "model_module": "@jupyter-widgets/controls",
          "model_name": "DescriptionStyleModel",
          "state": {
            "_view_name": "StyleView",
            "_model_name": "DescriptionStyleModel",
            "description_width": "",
            "_view_module": "@jupyter-widgets/base",
            "_model_module_version": "1.5.0",
            "_view_count": null,
            "_view_module_version": "1.2.0",
            "_model_module": "@jupyter-widgets/controls"
          }
        },
        "0f4085cadc694ccabd23a4784c5f5317": {
          "model_module": "@jupyter-widgets/base",
          "model_name": "LayoutModel",
          "state": {
            "_view_name": "LayoutView",
            "grid_template_rows": null,
            "right": null,
            "justify_content": null,
            "_view_module": "@jupyter-widgets/base",
            "overflow": null,
            "_model_module_version": "1.2.0",
            "_view_count": null,
            "flex_flow": null,
            "width": null,
            "min_width": null,
            "border": null,
            "align_items": null,
            "bottom": null,
            "_model_module": "@jupyter-widgets/base",
            "top": null,
            "grid_column": null,
            "overflow_y": null,
            "overflow_x": null,
            "grid_auto_flow": null,
            "grid_area": null,
            "grid_template_columns": null,
            "flex": null,
            "_model_name": "LayoutModel",
            "justify_items": null,
            "grid_row": null,
            "max_height": null,
            "align_content": null,
            "visibility": null,
            "align_self": null,
            "height": null,
            "min_height": null,
            "padding": null,
            "grid_auto_rows": null,
            "grid_gap": null,
            "max_width": null,
            "order": null,
            "_view_module_version": "1.2.0",
            "grid_template_areas": null,
            "object_position": null,
            "object_fit": null,
            "grid_auto_columns": null,
            "margin": null,
            "display": null,
            "left": null
          }
        },
        "126e10f7982e4c9a8a09874be7228330": {
          "model_module": "@jupyter-widgets/controls",
          "model_name": "HBoxModel",
          "state": {
            "_view_name": "HBoxView",
            "_dom_classes": [],
            "_model_name": "HBoxModel",
            "_view_module": "@jupyter-widgets/controls",
            "_model_module_version": "1.5.0",
            "_view_count": null,
            "_view_module_version": "1.5.0",
            "box_style": "",
            "layout": "IPY_MODEL_6b50b6a1297a4e909bd4f216768c56bc",
            "_model_module": "@jupyter-widgets/controls",
            "children": [
              "IPY_MODEL_bb1534701ef64c9a85050895a3ffa297",
              "IPY_MODEL_4e0536693a764e5eaf8223804cd6d6db"
            ]
          }
        },
        "6b50b6a1297a4e909bd4f216768c56bc": {
          "model_module": "@jupyter-widgets/base",
          "model_name": "LayoutModel",
          "state": {
            "_view_name": "LayoutView",
            "grid_template_rows": null,
            "right": null,
            "justify_content": null,
            "_view_module": "@jupyter-widgets/base",
            "overflow": null,
            "_model_module_version": "1.2.0",
            "_view_count": null,
            "flex_flow": null,
            "width": null,
            "min_width": null,
            "border": null,
            "align_items": null,
            "bottom": null,
            "_model_module": "@jupyter-widgets/base",
            "top": null,
            "grid_column": null,
            "overflow_y": null,
            "overflow_x": null,
            "grid_auto_flow": null,
            "grid_area": null,
            "grid_template_columns": null,
            "flex": null,
            "_model_name": "LayoutModel",
            "justify_items": null,
            "grid_row": null,
            "max_height": null,
            "align_content": null,
            "visibility": null,
            "align_self": null,
            "height": null,
            "min_height": null,
            "padding": null,
            "grid_auto_rows": null,
            "grid_gap": null,
            "max_width": null,
            "order": null,
            "_view_module_version": "1.2.0",
            "grid_template_areas": null,
            "object_position": null,
            "object_fit": null,
            "grid_auto_columns": null,
            "margin": null,
            "display": null,
            "left": null
          }
        },
        "bb1534701ef64c9a85050895a3ffa297": {
          "model_module": "@jupyter-widgets/controls",
          "model_name": "FloatProgressModel",
          "state": {
            "_view_name": "ProgressView",
            "style": "IPY_MODEL_bf48c84cbdbf49099de375fa339dce90",
            "_dom_classes": [],
            "description": "100%",
            "_model_name": "FloatProgressModel",
            "bar_style": "success",
            "max": 167502836,
            "_view_module": "@jupyter-widgets/controls",
            "_model_module_version": "1.5.0",
            "value": 167502836,
            "_view_count": null,
            "_view_module_version": "1.5.0",
            "orientation": "horizontal",
            "min": 0,
            "description_tooltip": null,
            "_model_module": "@jupyter-widgets/controls",
            "layout": "IPY_MODEL_01f3c917bae24e758a3ca76dc2d45cef"
          }
        },
        "4e0536693a764e5eaf8223804cd6d6db": {
          "model_module": "@jupyter-widgets/controls",
          "model_name": "HTMLModel",
          "state": {
            "_view_name": "HTMLView",
            "style": "IPY_MODEL_766924ec63204289a99f011a7cdb1943",
            "_dom_classes": [],
            "description": "",
            "_model_name": "HTMLModel",
            "placeholder": "​",
            "_view_module": "@jupyter-widgets/controls",
            "_model_module_version": "1.5.0",
            "value": " 160M/160M [1:38:07&lt;00:00, 28.4kB/s]",
            "_view_count": null,
            "_view_module_version": "1.5.0",
            "description_tooltip": null,
            "_model_module": "@jupyter-widgets/controls",
            "layout": "IPY_MODEL_fce2f32afa48462db2dc926c2a77390e"
          }
        },
        "bf48c84cbdbf49099de375fa339dce90": {
          "model_module": "@jupyter-widgets/controls",
          "model_name": "ProgressStyleModel",
          "state": {
            "_view_name": "StyleView",
            "_model_name": "ProgressStyleModel",
            "description_width": "initial",
            "_view_module": "@jupyter-widgets/base",
            "_model_module_version": "1.5.0",
            "_view_count": null,
            "_view_module_version": "1.2.0",
            "bar_color": null,
            "_model_module": "@jupyter-widgets/controls"
          }
        },
        "01f3c917bae24e758a3ca76dc2d45cef": {
          "model_module": "@jupyter-widgets/base",
          "model_name": "LayoutModel",
          "state": {
            "_view_name": "LayoutView",
            "grid_template_rows": null,
            "right": null,
            "justify_content": null,
            "_view_module": "@jupyter-widgets/base",
            "overflow": null,
            "_model_module_version": "1.2.0",
            "_view_count": null,
            "flex_flow": null,
            "width": null,
            "min_width": null,
            "border": null,
            "align_items": null,
            "bottom": null,
            "_model_module": "@jupyter-widgets/base",
            "top": null,
            "grid_column": null,
            "overflow_y": null,
            "overflow_x": null,
            "grid_auto_flow": null,
            "grid_area": null,
            "grid_template_columns": null,
            "flex": null,
            "_model_name": "LayoutModel",
            "justify_items": null,
            "grid_row": null,
            "max_height": null,
            "align_content": null,
            "visibility": null,
            "align_self": null,
            "height": null,
            "min_height": null,
            "padding": null,
            "grid_auto_rows": null,
            "grid_gap": null,
            "max_width": null,
            "order": null,
            "_view_module_version": "1.2.0",
            "grid_template_areas": null,
            "object_position": null,
            "object_fit": null,
            "grid_auto_columns": null,
            "margin": null,
            "display": null,
            "left": null
          }
        },
        "766924ec63204289a99f011a7cdb1943": {
          "model_module": "@jupyter-widgets/controls",
          "model_name": "DescriptionStyleModel",
          "state": {
            "_view_name": "StyleView",
            "_model_name": "DescriptionStyleModel",
            "description_width": "",
            "_view_module": "@jupyter-widgets/base",
            "_model_module_version": "1.5.0",
            "_view_count": null,
            "_view_module_version": "1.2.0",
            "_model_module": "@jupyter-widgets/controls"
          }
        },
        "fce2f32afa48462db2dc926c2a77390e": {
          "model_module": "@jupyter-widgets/base",
          "model_name": "LayoutModel",
          "state": {
            "_view_name": "LayoutView",
            "grid_template_rows": null,
            "right": null,
            "justify_content": null,
            "_view_module": "@jupyter-widgets/base",
            "overflow": null,
            "_model_module_version": "1.2.0",
            "_view_count": null,
            "flex_flow": null,
            "width": null,
            "min_width": null,
            "border": null,
            "align_items": null,
            "bottom": null,
            "_model_module": "@jupyter-widgets/base",
            "top": null,
            "grid_column": null,
            "overflow_y": null,
            "overflow_x": null,
            "grid_auto_flow": null,
            "grid_area": null,
            "grid_template_columns": null,
            "flex": null,
            "_model_name": "LayoutModel",
            "justify_items": null,
            "grid_row": null,
            "max_height": null,
            "align_content": null,
            "visibility": null,
            "align_self": null,
            "height": null,
            "min_height": null,
            "padding": null,
            "grid_auto_rows": null,
            "grid_gap": null,
            "max_width": null,
            "order": null,
            "_view_module_version": "1.2.0",
            "grid_template_areas": null,
            "object_position": null,
            "object_fit": null,
            "grid_auto_columns": null,
            "margin": null,
            "display": null,
            "left": null
          }
        }
      }
    }
  },
  "cells": [
    {
      "cell_type": "markdown",
      "metadata": {
        "id": "view-in-github",
        "colab_type": "text"
      },
      "source": [
        "<a href=\"https://colab.research.google.com/github/anirudh-g/Msc-Data-science/blob/master/Object_detection.ipynb\" target=\"_parent\"><img src=\"https://colab.research.google.com/assets/colab-badge.svg\" alt=\"Open In Colab\"/></a>"
      ]
    },
    {
      "cell_type": "markdown",
      "metadata": {
        "id": "MEbOfvtRS-_x",
        "colab_type": "text"
      },
      "source": [
        "#SETUP"
      ]
    },
    {
      "cell_type": "code",
      "metadata": {
        "id": "86m_VYAEVGUK",
        "colab_type": "code",
        "colab": {
          "base_uri": "https://localhost:8080/",
          "height": 349
        },
        "outputId": "1c797e57-7ced-4844-9f2b-845670ab115b"
      },
      "source": [
        "!pip3 install detecto"
      ],
      "execution_count": 1,
      "outputs": [
        {
          "output_type": "stream",
          "text": [
            "Collecting detecto\n",
            "  Downloading https://files.pythonhosted.org/packages/18/e1/753066aaa7d0b01e539c603ff23b4f4e1388b0c3a2d4dd72ea1aaa62391c/detecto-1.1.6-py3-none-any.whl\n",
            "Requirement already satisfied: matplotlib in /usr/local/lib/python3.6/dist-packages (from detecto) (3.2.2)\n",
            "Requirement already satisfied: torchvision in /usr/local/lib/python3.6/dist-packages (from detecto) (0.7.0+cu101)\n",
            "Requirement already satisfied: torch in /usr/local/lib/python3.6/dist-packages (from detecto) (1.6.0+cu101)\n",
            "Requirement already satisfied: pandas in /usr/local/lib/python3.6/dist-packages (from detecto) (1.0.5)\n",
            "Requirement already satisfied: opencv-python in /usr/local/lib/python3.6/dist-packages (from detecto) (4.1.2.30)\n",
            "Requirement already satisfied: kiwisolver>=1.0.1 in /usr/local/lib/python3.6/dist-packages (from matplotlib->detecto) (1.2.0)\n",
            "Requirement already satisfied: python-dateutil>=2.1 in /usr/local/lib/python3.6/dist-packages (from matplotlib->detecto) (2.8.1)\n",
            "Requirement already satisfied: pyparsing!=2.0.4,!=2.1.2,!=2.1.6,>=2.0.1 in /usr/local/lib/python3.6/dist-packages (from matplotlib->detecto) (2.4.7)\n",
            "Requirement already satisfied: numpy>=1.11 in /usr/local/lib/python3.6/dist-packages (from matplotlib->detecto) (1.18.5)\n",
            "Requirement already satisfied: cycler>=0.10 in /usr/local/lib/python3.6/dist-packages (from matplotlib->detecto) (0.10.0)\n",
            "Requirement already satisfied: pillow>=4.1.1 in /usr/local/lib/python3.6/dist-packages (from torchvision->detecto) (7.0.0)\n",
            "Requirement already satisfied: future in /usr/local/lib/python3.6/dist-packages (from torch->detecto) (0.16.0)\n",
            "Requirement already satisfied: pytz>=2017.2 in /usr/local/lib/python3.6/dist-packages (from pandas->detecto) (2018.9)\n",
            "Requirement already satisfied: six>=1.5 in /usr/local/lib/python3.6/dist-packages (from python-dateutil>=2.1->matplotlib->detecto) (1.15.0)\n",
            "Installing collected packages: detecto\n",
            "Successfully installed detecto-1.1.6\n"
          ],
          "name": "stdout"
        }
      ]
    },
    {
      "cell_type": "code",
      "metadata": {
        "id": "7XC8P1xXmtMh",
        "colab_type": "code",
        "colab": {
          "base_uri": "https://localhost:8080/",
          "height": 193
        },
        "outputId": "fb1627ac-f426-4b30-8c14-4dbd9f63251d"
      },
      "source": [
        "!pip install torch==1.4"
      ],
      "execution_count": 2,
      "outputs": [
        {
          "output_type": "stream",
          "text": [
            "Collecting torch==1.4\n",
            "\u001b[?25l  Downloading https://files.pythonhosted.org/packages/24/19/4804aea17cd136f1705a5e98a00618cb8f6ccc375ad8bfa437408e09d058/torch-1.4.0-cp36-cp36m-manylinux1_x86_64.whl (753.4MB)\n",
            "\u001b[K     |████████████████████████████████| 753.4MB 20kB/s \n",
            "\u001b[31mERROR: torchvision 0.7.0+cu101 has requirement torch==1.6.0, but you'll have torch 1.4.0 which is incompatible.\u001b[0m\n",
            "\u001b[?25hInstalling collected packages: torch\n",
            "  Found existing installation: torch 1.6.0+cu101\n",
            "    Uninstalling torch-1.6.0+cu101:\n",
            "      Successfully uninstalled torch-1.6.0+cu101\n",
            "Successfully installed torch-1.4.0\n"
          ],
          "name": "stdout"
        }
      ]
    },
    {
      "cell_type": "code",
      "metadata": {
        "id": "K_kNPtzDorLb",
        "colab_type": "code",
        "colab": {
          "base_uri": "https://localhost:8080/",
          "height": 245
        },
        "outputId": "b725aacd-47c9-4453-cd85-9bd438f9726f"
      },
      "source": [
        "!pip install torchvision==0.5.0"
      ],
      "execution_count": 3,
      "outputs": [
        {
          "output_type": "stream",
          "text": [
            "Collecting torchvision==0.5.0\n",
            "\u001b[?25l  Downloading https://files.pythonhosted.org/packages/7e/90/6141bf41f5655c78e24f40f710fdd4f8a8aff6c8b7c6f0328240f649bdbe/torchvision-0.5.0-cp36-cp36m-manylinux1_x86_64.whl (4.0MB)\n",
            "\u001b[K     |████████████████████████████████| 4.0MB 2.8MB/s \n",
            "\u001b[?25hRequirement already satisfied: torch==1.4.0 in /usr/local/lib/python3.6/dist-packages (from torchvision==0.5.0) (1.4.0)\n",
            "Requirement already satisfied: numpy in /usr/local/lib/python3.6/dist-packages (from torchvision==0.5.0) (1.18.5)\n",
            "Requirement already satisfied: pillow>=4.1.1 in /usr/local/lib/python3.6/dist-packages (from torchvision==0.5.0) (7.0.0)\n",
            "Requirement already satisfied: six in /usr/local/lib/python3.6/dist-packages (from torchvision==0.5.0) (1.15.0)\n",
            "Installing collected packages: torchvision\n",
            "  Found existing installation: torchvision 0.7.0+cu101\n",
            "    Uninstalling torchvision-0.7.0+cu101:\n",
            "      Successfully uninstalled torchvision-0.7.0+cu101\n",
            "Successfully installed torchvision-0.5.0\n"
          ],
          "name": "stdout"
        }
      ]
    },
    {
      "cell_type": "code",
      "metadata": {
        "id": "nI6nbUdsVTYs",
        "colab_type": "code",
        "colab": {}
      },
      "source": [
        "from detecto import core, utils, visualize\n",
        "import torch\n",
        "import numpy as np\n",
        "import random\n",
        "import matplotlib.pyplot as plt\n",
        "from torchvision import transforms\n",
        "import pandas as pd\n",
        "import numpy as np\n",
        "import tensorflow as tf\n",
        "import glob\n",
        "\n",
        "import os\n",
        "from PIL import Image\n",
        "\n",
        "import xml.etree.ElementTree as ET\n",
        "import torchvision.transforms.functional as FT"
      ],
      "execution_count": 4,
      "outputs": []
    },
    {
      "cell_type": "code",
      "metadata": {
        "id": "Vj5KU3XKVeHd",
        "colab_type": "code",
        "colab": {
          "base_uri": "https://localhost:8080/",
          "height": 35
        },
        "outputId": "a371cf38-0a16-4d27-8524-4d7f959d865a"
      },
      "source": [
        "print(torch.cuda.is_available())"
      ],
      "execution_count": 5,
      "outputs": [
        {
          "output_type": "stream",
          "text": [
            "True\n"
          ],
          "name": "stdout"
        }
      ]
    },
    {
      "cell_type": "code",
      "metadata": {
        "id": "OTHyA6HPVo3g",
        "colab_type": "code",
        "colab": {
          "base_uri": "https://localhost:8080/",
          "height": 124
        },
        "outputId": "bb8d5342-2e51-40f1-e169-5d564807c28d"
      },
      "source": [
        "import os\n",
        "from google.colab import drive\n",
        "\n",
        "drive.mount('/content/drive')\n",
        "os.chdir('/content/drive/My Drive/Colab Notebooks/objection detection')"
      ],
      "execution_count": 6,
      "outputs": [
        {
          "output_type": "stream",
          "text": [
            "Go to this URL in a browser: https://accounts.google.com/o/oauth2/auth?client_id=947318989803-6bn6qk8qdgf4n4g3pfee6491hc0brc4i.apps.googleusercontent.com&redirect_uri=urn%3aietf%3awg%3aoauth%3a2.0%3aoob&scope=email%20https%3a%2f%2fwww.googleapis.com%2fauth%2fdocs.test%20https%3a%2f%2fwww.googleapis.com%2fauth%2fdrive%20https%3a%2f%2fwww.googleapis.com%2fauth%2fdrive.photos.readonly%20https%3a%2f%2fwww.googleapis.com%2fauth%2fpeopleapi.readonly&response_type=code\n",
            "\n",
            "Enter your authorization code:\n",
            "··········\n",
            "Mounted at /content/drive\n"
          ],
          "name": "stdout"
        }
      ]
    },
    {
      "cell_type": "code",
      "metadata": {
        "id": "xggNq9KTWVgC",
        "colab_type": "code",
        "colab": {
          "base_uri": "https://localhost:8080/",
          "height": 35
        },
        "outputId": "470343ef-b7b6-4ece-8fe9-efd8db7c3f4e"
      },
      "source": [
        "!ls"
      ],
      "execution_count": null,
      "outputs": [
        {
          "output_type": "stream",
          "text": [
            "Train  Validation\n"
          ],
          "name": "stdout"
        }
      ]
    },
    {
      "cell_type": "markdown",
      "metadata": {
        "id": "DoemCwUJTCy7",
        "colab_type": "text"
      },
      "source": [
        "#DATA PRE-PROCESSING"
      ]
    },
    {
      "cell_type": "code",
      "metadata": {
        "id": "CQXwu-j15bja",
        "colab_type": "code",
        "colab": {}
      },
      "source": [
        "#Gaussian noise function inspired from https://www.oreilly.com/library/view/programming-pytorch-for/9781492045342/ch04.html\n",
        "class Noise():\n",
        "    def __init__(self, mean, stddev):\n",
        "        self.mean = mean\n",
        "        self.stddev = stddev\n",
        "\n",
        "    def __call__(self, img):\n",
        "        self.stddev = np.random.exponential(self.stddev)\n",
        "        noise = torch.zeros_like(img).normal_(self.mean, self.stddev)\n",
        "        return img.add_(noise)\n",
        "\n",
        "    def __repr__(self):\n",
        "        repr = f\"{self.__class__.__name__  }(mean={self.mean},stddev={self.stddev})\"\n",
        "        return repr"
      ],
      "execution_count": null,
      "outputs": []
    },
    {
      "cell_type": "code",
      "metadata": {
        "id": "GCxu202gYhY1",
        "colab_type": "code",
        "colab": {}
      },
      "source": [
        "transform_img = transforms.Compose([\n",
        "    transforms.ToPILImage(),\n",
        "    transforms.Resize(800),\n",
        "    transforms.ColorJitter(brightness=0.2),\n",
        "    transforms.ToTensor(),\n",
        "    Noise(mean=0.0, stddev=0.15), \n",
        "    utils.normalize_transform()\n",
        "])"
      ],
      "execution_count": null,
      "outputs": []
    },
    {
      "cell_type": "code",
      "metadata": {
        "id": "vpv4ohLz3dzY",
        "colab_type": "code",
        "colab": {}
      },
      "source": [
        "dataset = core.Dataset('Train/', transform=transform_img)"
      ],
      "execution_count": null,
      "outputs": []
    },
    {
      "cell_type": "code",
      "metadata": {
        "id": "QBR-8iCVdpLP",
        "colab_type": "code",
        "colab": {
          "base_uri": "https://localhost:8080/",
          "height": 269
        },
        "outputId": "f1abdc3d-efa3-42e9-f6ab-fd39cd0d23fe"
      },
      "source": [
        "image, targets = dataset[120]\n",
        "visualize.show_labeled_image(image, targets['boxes'], targets['labels'])"
      ],
      "execution_count": null,
      "outputs": [
        {
          "output_type": "display_data",
          "data": {
            "image/png": "[encoded data removed]",
            "text/plain": [
              "<Figure size 432x288 with 1 Axes>"
            ]
          },
          "metadata": {
            "tags": [],
            "needs_background": "light"
          }
        }
      ]
    },
    {
      "cell_type": "code",
      "metadata": {
        "id": "CTnGp_Lr4V9k",
        "colab_type": "code",
        "colab": {}
      },
      "source": [
        "val_dataset = core.Dataset('Validation/')"
      ],
      "execution_count": null,
      "outputs": []
    },
    {
      "cell_type": "markdown",
      "metadata": {
        "id": "N-rBx9YETOXR",
        "colab_type": "text"
      },
      "source": [
        "#OBJECT RECOGNITION - with noise"
      ]
    },
    {
      "cell_type": "code",
      "metadata": {
        "id": "_YuHjGrhWl4R",
        "colab_type": "code",
        "colab": {
          "base_uri": "https://localhost:8080/",
          "height": 525,
          "referenced_widgets": [
            "cc43775d12944080913c7b0145cd41fb",
            "ed0b3b17239641b4806be8a0b1298fe2",
            "e40b6fa1a4a342d0a814e1787cc45eaf",
            "97dd07231534418e86ba03547e1c88e8",
            "8aa8f35c886c41c98903c626ae310b3e",
            "99c9b6becd4d4704a97842d4f35b36c1",
            "eb493be8d0e64ac0bddcb4fbe22851c6",
            "0f4085cadc694ccabd23a4784c5f5317"
          ]
        },
        "outputId": "e4ad091a-18ed-42ab-da43-5e9d0cb29e83"
      },
      "source": [
        "model = core.Model(['title', 'legend', 'axis label'])\n",
        "\n",
        "loader = core.DataLoader(dataset=dataset, shuffle=True)\n",
        "losses = model.fit(loader, val_dataset, epochs=5, verbose=True, learning_rate=0.001)\n",
        "plt.plot(losses)\n",
        "plt.show()"
      ],
      "execution_count": null,
      "outputs": [
        {
          "output_type": "stream",
          "text": [
            "Downloading: \"https://download.pytorch.org/models/fasterrcnn_resnet50_fpn_coco-258fb6c6.pth\" to /root/.cache/torch/checkpoints/fasterrcnn_resnet50_fpn_coco-258fb6c6.pth\n"
          ],
          "name": "stderr"
        },
        {
          "output_type": "display_data",
          "data": {
            "application/vnd.jupyter.widget-view+json": {
              "model_id": "cc43775d12944080913c7b0145cd41fb",
              "version_minor": 0,
              "version_major": 2
            },
            "text/plain": [
              "HBox(children=(FloatProgress(value=0.0, max=167502836.0), HTML(value='')))"
            ]
          },
          "metadata": {
            "tags": []
          }
        },
        {
          "output_type": "stream",
          "text": [
            "\n",
            "Epoch 1 of 5\n",
            "Loss: 0.17522386872079423\n",
            "Epoch 2 of 5\n",
            "Loss: 0.1503974361792474\n",
            "Epoch 3 of 5\n",
            "Loss: 0.1474751386671297\n",
            "Epoch 4 of 5\n",
            "Loss: 0.13272479835457057\n",
            "Epoch 5 of 5\n",
            "Loss: 0.131369684171933\n"
          ],
          "name": "stdout"
        },
        {
          "output_type": "display_data",
          "data": {
            "image/png": "[encoded data removed]",
            "text/plain": [
              "<Figure size 432x288 with 1 Axes>"
            ]
          },
          "metadata": {
            "tags": [],
            "needs_background": "light"
          }
        }
      ]
    },
    {
      "cell_type": "code",
      "metadata": {
        "id": "ElT5mC5otKON",
        "colab_type": "code",
        "colab": {}
      },
      "source": [
        "model.save('/content/drive/My Drive/Colab Notebooks/Obj det model noise/noise model.pth')"
      ],
      "execution_count": null,
      "outputs": []
    },
    {
      "cell_type": "markdown",
      "metadata": {
        "id": "-UPtEMoRTqSq",
        "colab_type": "text"
      },
      "source": [
        "#OBJECT RECOGNITION MODEL - without noise and data aug"
      ]
    },
    {
      "cell_type": "code",
      "metadata": {
        "id": "HiPDphxvTuns",
        "colab_type": "code",
        "colab": {}
      },
      "source": [
        "dataset2 = core.Dataset('Train/')"
      ],
      "execution_count": 7,
      "outputs": []
    },
    {
      "cell_type": "code",
      "metadata": {
        "id": "xZOPJZCLUw8Y",
        "colab_type": "code",
        "colab": {
          "base_uri": "https://localhost:8080/",
          "height": 269
        },
        "outputId": "fe04ea94-9ab9-4fd9-b76e-8f269974b48f"
      },
      "source": [
        "image, targets = dataset2[120]\n",
        "visualize.show_labeled_image(image, targets['boxes'], targets['labels'])"
      ],
      "execution_count": 9,
      "outputs": [
        {
          "output_type": "display_data",
          "data": {
            "image/png": "[encoded data removed]",
            "text/plain": [
              "<Figure size 432x288 with 1 Axes>"
            ]
          },
          "metadata": {
            "tags": [],
            "needs_background": "light"
          }
        }
      ]
    },
    {
      "cell_type": "code",
      "metadata": {
        "id": "51lo6cE3U6vY",
        "colab_type": "code",
        "colab": {}
      },
      "source": [
        "val_dataset2 = core.Dataset('Validation/')"
      ],
      "execution_count": 10,
      "outputs": []
    },
    {
      "cell_type": "code",
      "metadata": {
        "id": "8rKaEEc0VSsC",
        "colab_type": "code",
        "colab": {
          "base_uri": "https://localhost:8080/",
          "height": 525,
          "referenced_widgets": [
            "126e10f7982e4c9a8a09874be7228330",
            "6b50b6a1297a4e909bd4f216768c56bc",
            "bb1534701ef64c9a85050895a3ffa297",
            "4e0536693a764e5eaf8223804cd6d6db",
            "bf48c84cbdbf49099de375fa339dce90",
            "01f3c917bae24e758a3ca76dc2d45cef",
            "766924ec63204289a99f011a7cdb1943",
            "fce2f32afa48462db2dc926c2a77390e"
          ]
        },
        "outputId": "55e6cd99-8c4e-4912-e20b-f890f37fbc53"
      },
      "source": [
        "model2 = core.Model(['title', 'legend', 'axis label'])\n",
        "\n",
        "loader2 = core.DataLoader(dataset=dataset2, shuffle=True)\n",
        "losses2 = model2.fit(loader2, val_dataset2, epochs=5, verbose=True, learning_rate=0.001)\n",
        "plt.plot(losses2)\n",
        "plt.show()"
      ],
      "execution_count": 11,
      "outputs": [
        {
          "output_type": "stream",
          "text": [
            "Downloading: \"https://download.pytorch.org/models/fasterrcnn_resnet50_fpn_coco-258fb6c6.pth\" to /root/.cache/torch/checkpoints/fasterrcnn_resnet50_fpn_coco-258fb6c6.pth\n"
          ],
          "name": "stderr"
        },
        {
          "output_type": "display_data",
          "data": {
            "application/vnd.jupyter.widget-view+json": {
              "model_id": "126e10f7982e4c9a8a09874be7228330",
              "version_minor": 0,
              "version_major": 2
            },
            "text/plain": [
              "HBox(children=(FloatProgress(value=0.0, max=167502836.0), HTML(value='')))"
            ]
          },
          "metadata": {
            "tags": []
          }
        },
        {
          "output_type": "stream",
          "text": [
            "\n",
            "Epoch 1 of 5\n",
            "Loss: 0.16032652806584125\n",
            "Epoch 2 of 5\n",
            "Loss: 0.1448807552002878\n",
            "Epoch 3 of 5\n",
            "Loss: 0.1353420084642787\n",
            "Epoch 4 of 5\n",
            "Loss: 0.13102427267512862\n",
            "Epoch 5 of 5\n",
            "Loss: 0.13047273123910563\n"
          ],
          "name": "stdout"
        },
        {
          "output_type": "display_data",
          "data": {
            "image/png": "[encoded data removed]",
            "text/plain": [
              "<Figure size 432x288 with 1 Axes>"
            ]
          },
          "metadata": {
            "tags": [],
            "needs_background": "light"
          }
        }
      ]
    },
    {
      "cell_type": "code",
      "metadata": {
        "id": "IJLH6nZvtVJV",
        "colab_type": "code",
        "colab": {}
      },
      "source": [
        "model2.save('/content/drive/My Drive/Colab Notebooks/Obj det model noise/no noise model.pth')"
      ],
      "execution_count": 12,
      "outputs": []
    },
    {
      "cell_type": "markdown",
      "metadata": {
        "id": "k9EWjnnAttVJ",
        "colab_type": "text"
      },
      "source": [
        "#EVALUATION"
      ]
    },
    {
      "cell_type": "code",
      "metadata": {
        "id": "Y1MAludp9_Ly",
        "colab_type": "code",
        "colab": {}
      },
      "source": [
        "model_noise = core.Model.load('/content/drive/My Drive/Colab Notebooks/Obj det model noise/noise model.pth', ['title', 'legend', 'axis label'])"
      ],
      "execution_count": 13,
      "outputs": []
    },
    {
      "cell_type": "code",
      "metadata": {
        "id": "iqtMJYSWzDJB",
        "colab_type": "code",
        "colab": {}
      },
      "source": [
        "images =[]\n",
        "files = glob.glob('/content/drive/My Drive/Colab Notebooks/objection detection/Validation/*.jpg') + glob.glob('/content/drive/My Drive/Colab Notebooks/objection detection/Validation/*.jpeg') + glob.glob('/content/drive/My Drive/Colab Notebooks/objection detection/Validation/*.JPEG') + glob.glob('/content/drive/My Drive/Colab Notebooks/objection detection/Validation/*.JPG')\n",
        "for img in files:\n",
        "  image2 = utils.read_image(img)\n",
        "  images.append(image2)"
      ],
      "execution_count": 14,
      "outputs": []
    },
    {
      "cell_type": "code",
      "metadata": {
        "id": "bwKCRAC9Kz_5",
        "colab_type": "code",
        "colab": {
          "base_uri": "https://localhost:8080/",
          "height": 35
        },
        "outputId": "e33688e2-c639-431f-fdc8-f1a4f76f7c83"
      },
      "source": [
        "print(len(images))"
      ],
      "execution_count": 15,
      "outputs": [
        {
          "output_type": "stream",
          "text": [
            "140\n"
          ],
          "name": "stdout"
        }
      ]
    },
    {
      "cell_type": "code",
      "metadata": {
        "id": "lcUonU9GXFbO",
        "colab_type": "code",
        "colab": {}
      },
      "source": [
        "l =[]\n",
        "b=[]\n",
        "s=[]\n",
        "for image in images:\n",
        "  pred2 = model_noise.predict(image)\n",
        "  labels2, boxes2, scores2 = pred2\n",
        "  l.append(labels2) # Nested list of labels (one list per image)\n",
        "  b.append(boxes2)  # Nested list of tensors (one tensor per image)\n",
        "  s.append(scores2) # Nested list of tensors (one tensor per image)"
      ],
      "execution_count": 60,
      "outputs": []
    },
    {
      "cell_type": "code",
      "metadata": {
        "id": "FD2Gtg1voS8Z",
        "colab_type": "code",
        "colab": {
          "base_uri": "https://localhost:8080/",
          "height": 35
        },
        "outputId": "1a8e4edd-1864-49c9-a62c-33c04a6e223c"
      },
      "source": [
        "#Create custom label mapping\n",
        "voc_labels = ('title', 'legend', 'axis label')\n",
        "label_map = {k: v + 1 for v, k in enumerate(voc_labels)}\n",
        "label_map['background']=0 #Assign 0 for background\n",
        "print(label_map)\n",
        "\n",
        "#Create reverse label maps\n",
        "rev_label_map = {v: k for k, v in label_map.items()}"
      ],
      "execution_count": 61,
      "outputs": [
        {
          "output_type": "stream",
          "text": [
            "{'title': 1, 'legend': 2, 'axis label': 3, 'background': 0}\n"
          ],
          "name": "stdout"
        }
      ]
    },
    {
      "cell_type": "code",
      "metadata": {
        "id": "LiMZ6vrqtp8G",
        "colab_type": "code",
        "colab": {}
      },
      "source": [
        "def label_to_tensor(label_list):\n",
        "  #replace label name with custom integer map\n",
        "  for x in label_list:\n",
        "    for y in range(len(x)):\n",
        "      x[y] = int(label_map[x[y]])\n",
        "  \n",
        "  #Convert nested list of labels to nested list of arrays (one array per image)\n",
        "  for x in range(len(label_list)):\n",
        "    label_list[x] = np.asarray(label_list[x])\n",
        "\n",
        "  #Convert nested list of array to nested list of tensor (one tensor per image)\n",
        "  for x in range(len(label_list)):\n",
        "    label_list[x] = torch.from_numpy(label_list[x]).type(torch.LongTensor)\n",
        "  \n",
        "  return label_list"
      ],
      "execution_count": 62,
      "outputs": []
    },
    {
      "cell_type": "code",
      "metadata": {
        "id": "v6Wb6eS80FOR",
        "colab_type": "code",
        "colab": {}
      },
      "source": [
        "def list_to_tensor(input_list):\n",
        "  \n",
        "  #Convert nested list of labels to nested list of arrays (one array per image)\n",
        "  for x in range(len(input_list)):\n",
        "    input_list[x] = np.asarray(input_list[x])\n",
        "\n",
        "  #Convert nested list of array to nested list of tensor (one tensor per image)\n",
        "  for x in range(len(input_list)):\n",
        "    input_list[x] = torch.from_numpy(input_list[x])\n",
        "  \n",
        "  return input_list"
      ],
      "execution_count": 64,
      "outputs": []
    },
    {
      "cell_type": "code",
      "metadata": {
        "id": "5OBXU4B3R5SP",
        "colab_type": "code",
        "colab": {
          "base_uri": "https://localhost:8080/",
          "height": 55
        },
        "outputId": "04e84a64-4fed-4672-9306-d65f4c39e5b4"
      },
      "source": [
        "labels = label_to_tensor(l)\n",
        "print(labels)"
      ],
      "execution_count": 63,
      "outputs": [
        {
          "output_type": "stream",
          "text": [
            "[tensor([3, 1, 2, 2]), tensor([2, 3, 3, 2]), tensor([3, 2, 3, 1]), tensor([3, 2, 3, 2, 2, 2, 2, 2]), tensor([2, 1]), tensor([2, 1]), tensor([1, 3, 1, 2, 2, 3, 2]), tensor([1, 3, 1, 2, 2, 1, 2]), tensor([1, 1, 3, 2, 2, 3, 3, 2, 2, 2, 2, 1, 2, 2]), tensor([1, 3, 3, 2, 2, 2, 2, 1, 3, 3, 2]), tensor([3, 2, 3, 2, 2, 2, 2, 2, 1, 2, 1, 2, 1, 2, 2, 3, 2]), tensor([1, 3, 2, 2, 1, 2, 3, 3, 3, 3, 2]), tensor([1, 2, 3, 1, 1]), tensor([1]), tensor([1, 2, 1]), tensor([3, 3, 2]), tensor([3, 3, 3]), tensor([1, 2, 3]), tensor([1, 2, 1, 3, 3]), tensor([3, 1, 3, 3, 3, 3, 1, 1, 3]), tensor([1, 2, 2]), tensor([1, 3, 2, 1]), tensor([1, 3, 1, 2, 3]), tensor([1]), tensor([1, 2, 2, 2, 3, 2, 3, 2, 2, 3]), tensor([2, 1, 2, 2, 2]), tensor([2, 3, 3, 3, 3, 3, 3, 3]), tensor([1, 2, 3]), tensor([1, 3, 3, 3, 2, 3, 3, 3]), tensor([3, 3, 3, 3]), tensor([2, 3, 2, 3, 1, 2, 2]), tensor([1, 2, 3, 3, 1, 3, 3, 1, 2, 3]), tensor([3, 3, 3, 3, 3, 3, 2, 2, 1]), tensor([3, 1, 3, 3, 1, 1, 3]), tensor([1, 3, 2, 2, 1, 2, 2, 2, 1]), tensor([1, 2, 3]), tensor([2, 1, 1]), tensor([1, 3, 3, 3, 3, 3, 3, 3, 3, 3, 3, 3, 3, 3, 3, 2, 2]), tensor([3, 2, 1, 3, 2, 2]), tensor([1, 3, 1, 1, 1]), tensor([1, 2, 1]), tensor([1, 2, 2, 2, 2, 3, 3, 3]), tensor([2, 2, 2]), tensor([3, 3, 3]), tensor([1, 3, 3, 2]), tensor([1, 2, 2]), tensor([1, 3, 3, 1, 1]), tensor([1, 2, 2, 3]), tensor([1, 3, 3]), tensor([1, 2, 3, 3, 3, 1]), tensor([1, 1, 1, 2, 3, 2, 3, 2, 3, 3, 2, 1, 3, 2, 2, 3]), tensor([2, 1, 2]), tensor([1, 3, 3, 3, 3]), tensor([1, 3, 3, 3]), tensor([1, 3, 3, 3, 3, 2, 3, 2]), tensor([3, 3]), tensor([2, 1, 1, 2, 1, 2]), tensor([1, 1, 3, 2]), tensor([2, 2, 2, 2, 3, 3, 2, 2, 3, 2]), tensor([1, 2, 3, 3, 1, 3, 2, 2, 3, 1]), tensor([1, 2]), tensor([1]), tensor([2, 2]), tensor([1, 3, 1, 2, 2, 3, 3, 2, 2, 2, 1, 1]), tensor([2, 2, 2, 2, 3]), tensor([1, 2, 1, 3]), tensor([1, 2, 2, 1, 1, 1, 2, 2, 2, 3]), tensor([1, 3, 2, 3, 2, 1, 1]), tensor([2, 1, 1, 2, 2, 2, 2, 2, 1, 2, 2, 2, 2, 2]), tensor([2, 1, 1, 3, 2, 2, 1, 1]), tensor([2, 2, 2, 2, 2]), tensor([2, 1, 1, 2, 1, 3, 3]), tensor([1, 2, 1, 1, 3, 2]), tensor([1, 2, 1, 2, 3, 3, 1, 2]), tensor([1, 3, 3, 1, 1, 2, 2, 2]), tensor([1, 2, 3]), tensor([2, 1, 3, 1, 3, 2, 2, 3, 2, 3]), tensor([1]), tensor([1, 2, 3, 2, 2, 2]), tensor([2, 1, 2, 3, 3, 2, 2]), tensor([1, 1, 1, 3, 2]), tensor([1, 2, 3, 1, 2, 3, 1, 1, 1, 2, 2, 3]), tensor([1, 2, 3, 2, 1, 2, 2, 1]), tensor([1, 3]), tensor([2, 1, 3, 2, 1, 3, 2, 3, 3, 1, 3, 2]), tensor([1, 2]), tensor([2, 3, 1, 3, 3]), tensor([2, 1, 3, 2, 2, 1, 3, 2, 2]), tensor([1, 3, 3]), tensor([1]), tensor([3, 3, 2]), tensor([3, 3]), tensor([3, 3, 1, 3]), tensor([1, 3, 3, 2, 1, 3, 3, 2]), tensor([1, 3, 3]), tensor([3, 3]), tensor([3, 1, 3, 3, 3, 3, 2, 3]), tensor([3, 3, 1, 3]), tensor([3, 2, 3, 2, 2, 2, 2]), tensor([1, 2, 3, 3, 3, 1, 3, 3]), tensor([1, 3, 3]), tensor([2, 3, 3]), tensor([1, 3, 3, 2, 2, 3]), tensor([1]), tensor([2]), tensor([2]), tensor([1]), tensor([2, 3, 3]), tensor([1]), tensor([2]), tensor([2, 3, 3]), tensor([1, 2, 3, 3, 2]), tensor([3, 1, 2]), tensor([2, 3]), tensor([2, 2, 3, 3]), tensor([3, 3]), tensor([3]), tensor([3, 3]), tensor([3]), tensor([1, 2]), tensor([1, 2, 2]), tensor([1, 2]), tensor([1, 2]), tensor([2]), tensor([1]), tensor([2, 2]), tensor([2]), tensor([1, 3]), tensor([1, 3, 3, 2, 2]), tensor([1, 3]), tensor([3]), tensor([1, 3, 2, 3, 2, 3, 3, 2, 2, 3, 1]), tensor([1, 3, 2, 3, 2]), tensor([3, 1, 3, 2, 2]), tensor([2, 3]), tensor([3, 1, 1, 1, 1]), tensor([2, 1, 3, 3, 3, 2, 3]), tensor([2, 1, 3, 3, 3]), tensor([2, 1, 1, 1, 2, 1]), tensor([3, 3, 1, 3, 2, 1, 3, 3, 3, 1, 3, 2, 3, 3])]\n"
          ],
          "name": "stdout"
        }
      ]
    },
    {
      "cell_type": "code",
      "metadata": {
        "id": "mqsiZ-xaGXsX",
        "colab_type": "code",
        "colab": {}
      },
      "source": [
        "box_gt = []\n",
        "label_gt =[]\n",
        "difficult_gt =[]\n",
        "\n",
        "# Loop through every XML file\n",
        "for xml_file in glob.glob('/content/drive/My Drive/Colab Notebooks/objection detection/Validation' + '/*.xml'):\n",
        "          tree = ET.parse(xml_file)\n",
        "          root = tree.getroot()\n",
        "\n",
        "          filename = root.find('filename').text\n",
        "          objects = root.findall('object')\n",
        "          \n",
        "          # Each object represents each actual image label\n",
        "          box_tmp =[]\n",
        "          label_tmp =[]\n",
        "          difficult_tmp=[]\n",
        "\n",
        "          for member in objects:\n",
        "              box = member.find('bndbox')\n",
        "              row_1 = int(float(box[0].text)), int(float(box[1].text)), int(float(box[2].text)), int(float(box[3].text))\n",
        "              box_tmp.append(list(row_1))\n",
        "              \n",
        "              label = member.find('name').text\n",
        "              label_tmp.append(label)\n",
        "              difficult = int(member.find('difficult').text)\n",
        "              difficult_tmp.append(difficult)\n",
        "              \n",
        "          difficult_gt.append(difficult_tmp)\n",
        "          label_gt.append(label_tmp)\n",
        "          box_gt.append(box_tmp)"
      ],
      "execution_count": 70,
      "outputs": []
    },
    {
      "cell_type": "code",
      "metadata": {
        "id": "VIntI7280eiW",
        "colab_type": "code",
        "colab": {
          "base_uri": "https://localhost:8080/",
          "height": 55
        },
        "outputId": "f565b483-681d-4f19-b370-d5b1c6b354ff"
      },
      "source": [
        "diff_gt = list_to_tensor(difficult_gt)\n",
        "print(diff_gt)"
      ],
      "execution_count": 71,
      "outputs": [
        {
          "output_type": "stream",
          "text": [
            "[tensor([0, 0, 0]), tensor([0, 0, 0]), tensor([0, 0, 0]), tensor([0]), tensor([0]), tensor([0, 0, 0, 0]), tensor([0, 0]), tensor([0, 0, 0, 0]), tensor([0, 0]), tensor([0, 0, 0]), tensor([0, 0, 0]), tensor([0, 0]), tensor([0, 0]), tensor([0, 0, 0]), tensor([0, 0]), tensor([0, 0]), tensor([0, 0]), tensor([0, 0]), tensor([0, 0]), tensor([0]), tensor([0]), tensor([0, 0]), tensor([0, 0, 0]), tensor([0, 0]), tensor([0, 0]), tensor([0, 0]), tensor([0, 0]), tensor([0, 0]), tensor([0, 0, 0]), tensor([0]), tensor([0]), tensor([0, 0, 0]), tensor([0, 0]), tensor([0, 0, 0, 0]), tensor([0]), tensor([0, 0]), tensor([0, 0, 0]), tensor([0, 0, 0]), tensor([0, 0, 0]), tensor([0, 0]), tensor([0, 0, 0, 0]), tensor([0, 0]), tensor([0, 0]), tensor([0, 0]), tensor([0, 0]), tensor([0, 0, 0, 0]), tensor([0, 0, 0, 0]), tensor([0, 0]), tensor([0, 0, 0]), tensor([0, 0, 0]), tensor([0, 0, 0]), tensor([0]), tensor([0]), tensor([0, 0, 0]), tensor([0]), tensor([0]), tensor([0, 0, 0]), tensor([0, 0, 0]), tensor([0, 0]), tensor([0, 0]), tensor([0, 0]), tensor([0]), tensor([0, 0]), tensor([0, 0]), tensor([0]), tensor([0]), tensor([0]), tensor([0]), tensor([0]), tensor([0]), tensor([0, 0]), tensor([0, 0]), tensor([0]), tensor([0]), tensor([0, 0]), tensor([0]), tensor([0, 0]), tensor([0, 0]), tensor([0, 0]), tensor([0]), tensor([0, 0]), tensor([0]), tensor([0]), tensor([0, 0]), tensor([0, 0]), tensor([0]), tensor([0, 0]), tensor([0]), tensor([0, 0]), tensor([0]), tensor([0]), tensor([0]), tensor([0, 0]), tensor([0, 0]), tensor([0]), tensor([0]), tensor([0, 0]), tensor([0, 0, 0, 0]), tensor([0]), tensor([0]), tensor([0, 0, 0]), tensor([0, 0, 0]), tensor([0, 0]), tensor([0, 0, 0]), tensor([0, 0]), tensor([0, 0]), tensor([0, 0]), tensor([0, 0, 0, 0]), tensor([0, 0]), tensor([0, 0, 0]), tensor([0, 0, 0]), tensor([0, 0, 0]), tensor([0]), tensor([0]), tensor([0]), tensor([0]), tensor([0, 0, 0]), tensor([0]), tensor([0]), tensor([0, 0, 0]), tensor([0, 0, 0, 0]), tensor([0, 0]), tensor([0]), tensor([0, 0]), tensor([0]), tensor([0, 0]), tensor([0, 0]), tensor([0]), tensor([0, 0]), tensor([0, 0]), tensor([0, 0]), tensor([0, 0]), tensor([0]), tensor([0]), tensor([0]), tensor([0]), tensor([0]), tensor([0, 0]), tensor([0, 0]), tensor([0, 0, 0, 0])]\n"
          ],
          "name": "stdout"
        }
      ]
    },
    {
      "cell_type": "code",
      "metadata": {
        "id": "4dtIViG90ouX",
        "colab_type": "code",
        "colab": {
          "base_uri": "https://localhost:8080/",
          "height": 55
        },
        "outputId": "c41c372d-e591-4bff-f35a-526fc1d9b00a"
      },
      "source": [
        "l_gt = label_to_tensor(label_gt)\n",
        "print(l_gt)"
      ],
      "execution_count": 73,
      "outputs": [
        {
          "output_type": "stream",
          "text": [
            "[tensor([3, 3, 2]), tensor([1, 3, 2]), tensor([2, 3, 3]), tensor([1]), tensor([2]), tensor([1, 2, 3, 3]), tensor([1, 2]), tensor([1, 2, 3, 3]), tensor([1, 2]), tensor([2, 3, 3]), tensor([2, 3, 3]), tensor([1, 2]), tensor([1, 2]), tensor([1, 2, 3]), tensor([3, 3]), tensor([1, 2]), tensor([1, 3]), tensor([1, 2]), tensor([3, 3]), tensor([1]), tensor([1]), tensor([1, 2]), tensor([1, 2, 3]), tensor([1, 3]), tensor([3, 3]), tensor([2, 1]), tensor([1, 2]), tensor([3, 3]), tensor([1, 2, 3]), tensor([2]), tensor([1]), tensor([2, 3, 3]), tensor([1, 3]), tensor([1, 2, 3, 3]), tensor([3]), tensor([2, 3]), tensor([1, 3, 2]), tensor([1, 3, 2]), tensor([1, 2, 3]), tensor([1, 2]), tensor([1, 2, 3, 3]), tensor([1, 3]), tensor([1, 3]), tensor([1, 3]), tensor([1, 3]), tensor([1, 2, 3, 3]), tensor([1, 3, 3, 2]), tensor([1, 2]), tensor([1, 3, 3]), tensor([1, 3, 3]), tensor([1, 3, 3]), tensor([1]), tensor([1]), tensor([3, 3, 3]), tensor([2]), tensor([1]), tensor([1, 3, 3]), tensor([1, 3, 3]), tensor([1, 2]), tensor([1, 2]), tensor([1, 2]), tensor([1]), tensor([1, 2]), tensor([3, 3]), tensor([1]), tensor([1]), tensor([2]), tensor([2]), tensor([1]), tensor([1]), tensor([1, 2]), tensor([1, 2]), tensor([1]), tensor([2]), tensor([1, 2]), tensor([1]), tensor([1, 2]), tensor([1, 2]), tensor([1, 2]), tensor([2]), tensor([1, 2]), tensor([1]), tensor([2]), tensor([1, 2]), tensor([1, 2]), tensor([2]), tensor([2, 1]), tensor([1]), tensor([1, 2]), tensor([2]), tensor([2]), tensor([1]), tensor([1, 2]), tensor([1, 2]), tensor([2]), tensor([1]), tensor([3, 3]), tensor([1, 2, 3, 3]), tensor([1]), tensor([1]), tensor([1, 3, 3]), tensor([1, 3, 3]), tensor([3, 3]), tensor([1, 3, 3]), tensor([3, 3]), tensor([3, 3]), tensor([3, 3]), tensor([1, 3, 3, 2]), tensor([3, 3]), tensor([1, 3, 3]), tensor([1, 3, 3]), tensor([2, 3, 3]), tensor([1]), tensor([2]), tensor([2]), tensor([1]), tensor([3, 3, 2]), tensor([1]), tensor([2]), tensor([3, 3, 2]), tensor([1, 2, 3, 3]), tensor([2, 3]), tensor([2]), tensor([1, 3]), tensor([3]), tensor([3, 3]), tensor([3, 3]), tensor([3]), tensor([1, 2]), tensor([1, 2]), tensor([1, 2]), tensor([1, 2]), tensor([1]), tensor([2]), tensor([2]), tensor([2]), tensor([3]), tensor([1, 3]), tensor([1, 3]), tensor([1, 2, 3, 3])]\n"
          ],
          "name": "stdout"
        }
      ]
    },
    {
      "cell_type": "code",
      "metadata": {
        "id": "iPbMvMhX1Pdz",
        "colab_type": "code",
        "colab": {
          "base_uri": "https://localhost:8080/",
          "height": 1000
        },
        "outputId": "f0a8f94e-8ef4-42ed-c7ea-eaa18b2ae954"
      },
      "source": [
        "b_gt = list_to_tensor(box_gt)\n",
        "print(b_gt)"
      ],
      "execution_count": 74,
      "outputs": [
        {
          "output_type": "stream",
          "text": [
            "[tensor([[  9,  46,  25,  90],\n",
            "        [146, 139, 170, 155],\n",
            "        [284,  51, 308, 115]]), tensor([[ 74,   2, 183,  12],\n",
            "        [  3,  70,  12, 123],\n",
            "        [ 60, 186, 200, 194]]), tensor([[207,   7, 245,  29],\n",
            "        [110, 176, 135, 188],\n",
            "        [  6,  71,  20,  99]]), tensor([[ 11,  16, 147,  32]]), tensor([[ 22, 168, 242, 183]]), tensor([[  4,   6, 102,  18],\n",
            "        [109,  21, 195,  38],\n",
            "        [  2,  79,  13, 111],\n",
            "        [ 98, 158, 132, 165]]), tensor([[ 39,   7, 243,  23],\n",
            "        [106, 166, 171, 179]]), tensor([[   8,   11,  340,   44],\n",
            "        [  25,  100, 1061,  152],\n",
            "        [ 528,  727,  699,  770],\n",
            "        [   2,  375,   41,  497]]), tensor([[ 549,   57, 1058,  190],\n",
            "        [  83,  765, 1549,  904]]), tensor([[ 78,  17, 336,  71],\n",
            "        [  1, 115,  34, 340],\n",
            "        [452, 455, 536, 479]]), tensor([[ 84,   4, 498,  40],\n",
            "        [  6, 219,  30, 292],\n",
            "        [379, 467, 504, 495]]), tensor([[ 89,   2, 300,  23],\n",
            "        [140, 216, 253, 237]]), tensor([[ 66,  33, 466,  64],\n",
            "        [190, 379, 339, 400]]), tensor([[124,   1, 445,  19],\n",
            "        [406, 241, 487, 290],\n",
            "        [250, 314, 318, 341]]), tensor([[  1, 136,  16, 226],\n",
            "        [170, 313, 265, 330]]), tensor([[182,  21, 397,  61],\n",
            "        [ 32, 389, 572, 419]]), tensor([[164,   2, 364,  25],\n",
            "        [236, 356, 288, 372]]), tensor([[136,  11, 559,  49],\n",
            "        [266, 367, 424, 399]]), tensor([[ 14,   7, 115,  55],\n",
            "        [330, 281, 386, 310]]), tensor([[140,  21, 456,  66]]), tensor([[190,  24, 428,  74]]), tensor([[195,  20, 301,  47],\n",
            "        [424, 162, 480, 189]]), tensor([[533,  14, 935,  93],\n",
            "        [115, 383, 590, 419],\n",
            "        [  8,  24,  29,  99]]), tensor([[221,  10, 364,  29],\n",
            "        [  6, 144,  32, 215]]), tensor([[390, 500, 449, 538],\n",
            "        [  3, 240,  27, 300]]), tensor([[  8,  42,  57, 100],\n",
            "        [139,   2, 216,  14]]), tensor([[152,   4, 238,  26],\n",
            "        [321,  83, 390, 119]]), tensor([[ 12, 158,  36, 215],\n",
            "        [325, 366, 374, 393]]), tensor([[152,   7, 493,  38],\n",
            "        [438,  55, 601,  76],\n",
            "        [  6, 134,  28, 248]]), tensor([[355,  97, 409, 165]]), tensor([[230,  19, 573,  58]]), tensor([[350,  56, 432, 100],\n",
            "        [174, 176, 215, 196],\n",
            "        [ 10,  60,  30, 126]]), tensor([[339,  14, 866,  81],\n",
            "        [ 32, 443,  76, 697]]), tensor([[447,   3, 542,  23],\n",
            "        [ 82,  53, 186,  77],\n",
            "        [  4, 166,  26, 310],\n",
            "        [468, 453, 510, 470]]), tensor([[  1, 105,  18, 192]]), tensor([[938,   8, 996, 104],\n",
            "        [452, 595, 532, 615]]), tensor([[ 312,   27, 1141,   81],\n",
            "        [  83,  214,  136,  566],\n",
            "        [ 358,  713, 1102,  772]]), tensor([[ 58,   3, 179,  12],\n",
            "        [  3,  53,  14,  93],\n",
            "        [ 30, 141, 210, 151]]), tensor([[ 19,  26, 277,  54],\n",
            "        [582,  62, 679, 123],\n",
            "        [284, 384, 341, 417]]), tensor([[197,   6, 718,  40],\n",
            "        [732, 188, 889, 318]]), tensor([[ 487,  223, 1548,  310],\n",
            "        [ 620,  321, 1450,  376],\n",
            "        [ 109,  771,  190, 1036],\n",
            "        [1879,  810, 1933, 1012]]), tensor([[ 42,  22, 654,  57],\n",
            "        [  5, 167,  29, 264]]), tensor([[472, 133, 731, 174],\n",
            "        [ 10, 334,  45, 494]]), tensor([[257,  15, 688,  57],\n",
            "        [437, 562, 510, 596]]), tensor([[  75,   43, 1489,  113],\n",
            "        [ 797, 1184,  918, 1242]]), tensor([[211,   1, 278,   9],\n",
            "        [179, 164, 308, 171],\n",
            "        [237, 155, 270, 162],\n",
            "        [  2,  47,  10,  85]]), tensor([[413,  91, 792, 155],\n",
            "        [174, 351, 210, 441],\n",
            "        [560, 551, 682, 589],\n",
            "        [322, 608, 890, 648]]), tensor([[ 52,   7, 421,  32],\n",
            "        [ 29, 368, 452, 390]]), tensor([[ 89,   2, 183,  12],\n",
            "        [  4,  65,  13, 120],\n",
            "        [117, 180, 148, 186]]), tensor([[ 65,   2, 207,  13],\n",
            "        [  2,  61,  11, 121],\n",
            "        [125, 177, 142, 183]]), tensor([[107,   1, 166,  13],\n",
            "        [ 29,  31,  39, 144],\n",
            "        [220,  70, 229, 106]]), tensor([[ 48,   3, 190,  20]]), tensor([[48, 26, 82, 39]]), tensor([[  4,  53,  12,  77],\n",
            "        [328,  50, 336,  78],\n",
            "        [151, 139, 180, 147]]), tensor([[124, 145, 173, 155]]), tensor([[ 78,  26, 184,  45]]), tensor([[ 71,   6, 206,  21],\n",
            "        [  5,  48,  15,  73],\n",
            "        [258,  48, 266,  74]]), tensor([[107,   1, 183,  12],\n",
            "        [  3,  76,  12, 110],\n",
            "        [271,  76, 279, 110]]), tensor([[270,   1, 398,  22],\n",
            "        [227, 487, 433, 511]]), tensor([[ 40,   9, 249,  24],\n",
            "        [217,  87, 281, 113]]), tensor([[176,  26, 553,  58],\n",
            "        [152, 371, 586, 402]]), tensor([[286,   5, 460,  26]]), tensor([[ 76,  16, 406,  38],\n",
            "        [ 54, 226, 455, 241]]), tensor([[  12,  421,   53,  539],\n",
            "        [1628,  251, 1671,  718]]), tensor([[ 14,   7, 476,  39]]), tensor([[111,   7, 551,  33]]), tensor([[351,  54, 475, 246]]), tensor([[129, 321, 371, 377]]), tensor([[ 42,  35, 743,  89]]), tensor([[ 19,  15, 206,  38]]), tensor([[ 17,   7, 574,  92],\n",
            "        [411, 284, 554, 416]]), tensor([[  78,   29, 1157,  111],\n",
            "        [ 780,  239, 1255,  655]]), tensor([[173,   2, 283,  23]]), tensor([[601, 176, 794, 248]]), tensor([[ 188,   66, 1274,  192],\n",
            "        [ 880,  294, 1377,  892]]), tensor([[  9,   3, 237,  28]]), tensor([[ 14,   2, 335,  21],\n",
            "        [311, 103, 391, 267]]), tensor([[163,  12, 798,  74],\n",
            "        [ 58, 663, 910, 710]]), tensor([[182,   6, 344,  29],\n",
            "        [114, 294, 412, 318]]), tensor([[255,  63, 320, 174]]), tensor([[327,   7, 462,  27],\n",
            "        [296,  33, 491,  53]]), tensor([[150,  17, 333,  42]]), tensor([[364, 124, 421, 162]]), tensor([[ 667,   16, 1023,   70],\n",
            "        [1519,  665, 1679,  741]]), tensor([[ 61,  15, 577,  33],\n",
            "        [ 28,  46, 158, 132]]), tensor([[195, 489, 399, 578]]), tensor([[ 73, 182, 177, 194],\n",
            "        [ 71,   4, 180,  16]]), tensor([[ 82,   6, 201,  16]]), tensor([[145,   8, 646,  29],\n",
            "        [281,  33, 503,  55]]), tensor([[229,  79, 255, 115]]), tensor([[396, 101, 471, 191]]), tensor([[ 82,  78, 382, 131]]), tensor([[421,   8, 728,  51],\n",
            "        [343, 110, 796, 142]]), tensor([[210,   8, 328,  28],\n",
            "        [135,  40, 389,  60]]), tensor([[ 93, 395, 413, 411]]), tensor([[153,   5, 281,  23]]), tensor([[  4,   5,  16,  75],\n",
            "        [ 79,  92, 144, 104]]), tensor([[ 73,   3, 383,  30],\n",
            "        [ 58,  41, 346,  62],\n",
            "        [  8, 167,  26, 265],\n",
            "        [184, 384, 279, 411]]), tensor([[ 28,   1, 179,  12]]), tensor([[ 41,   6, 191,  21]]), tensor([[ 92,   1, 206,  16],\n",
            "        [  5,  97,  17, 196],\n",
            "        [151, 280, 172, 292]]), tensor([[480,   6, 638,  41],\n",
            "        [  6, 349,  37, 421],\n",
            "        [523, 754, 605, 798]]), tensor([[ 10, 146,  31, 205],\n",
            "        [323, 391, 366, 419]]), tensor([[144,   9, 237,  26],\n",
            "        [ 13, 115,  28, 135],\n",
            "        [182, 245, 203, 262]]), tensor([[  1,  66,  11, 101],\n",
            "        [141, 177, 188, 187]]), tensor([[ 18, 123,  37, 225],\n",
            "        [275, 348, 368, 373]]), tensor([[ 20, 107,  35, 176],\n",
            "        [180, 267, 250, 279]]), tensor([[496,  54, 808,  89],\n",
            "        [237, 288, 263, 410],\n",
            "        [631, 608, 708, 629],\n",
            "        [621, 635, 690, 655]]), tensor([[  2, 145,  18, 235],\n",
            "        [226, 398, 318, 415]]), tensor([[ 68,  29, 425,  56],\n",
            "        [ 33,  61,  49, 123],\n",
            "        [589, 388, 668, 408]]), tensor([[ 308,   46,  956,  102],\n",
            "        [   7,  454,   46,  760],\n",
            "        [ 536, 1124,  712, 1169]]), tensor([[402, 188, 463, 265],\n",
            "        [ 15,  16,  29,  61],\n",
            "        [340, 451, 391, 469]]), tensor([[233,  17, 365,  48]]), tensor([[240, 324, 363, 349]]), tensor([[237, 325, 361, 346]]), tensor([[232,  18, 369,  49]]), tensor([[ 20,  98,  40, 172],\n",
            "        [301, 282, 352, 305],\n",
            "        [202, 320, 400, 349]]), tensor([[251,  17, 353,  48]]), tensor([[200, 327, 403, 349]]), tensor([[ 21,  98,  41, 172],\n",
            "        [303, 282, 350, 307],\n",
            "        [199, 327, 405, 349]]), tensor([[233,  13, 370,  46],\n",
            "        [192,  61, 414,  82],\n",
            "        [287, 322, 368, 344],\n",
            "        [ 21, 167,  40, 220]]), tensor([[188,  17, 413,  33],\n",
            "        [ 18, 166,  41, 218]]), tensor([[190,  18, 414,  36]]), tensor([[256,  18, 335,  45],\n",
            "        [267, 321, 355, 342]]), tensor([[ 24, 143,  40, 202]]), tensor([[ 22, 122,  40, 186],\n",
            "        [286, 321, 373, 345]]), tensor([[ 20, 120,  42, 186],\n",
            "        [282, 320, 378, 342]]), tensor([[ 23, 140,  40, 199]]), tensor([[264,  14, 346,  48],\n",
            "        [215, 343, 390, 370]]), tensor([[266,  14, 342,  44],\n",
            "        [214, 342, 393, 368]]), tensor([[266,  15, 330,  43],\n",
            "        [557, 102, 591, 325]]), tensor([[268,  13, 331,  46],\n",
            "        [556, 132, 593, 296]]), tensor([[276,  14, 328,  42]]), tensor([[246,  11, 363,  38]]), tensor([[211, 325, 391, 347]]), tensor([[216, 322, 390, 348]]), tensor([[ 20, 144,  41, 199]]), tensor([[262,  17, 341,  41],\n",
            "        [ 21, 165,  43, 219]]), tensor([[259,  17, 341,  45],\n",
            "        [ 20, 165,  43, 219]]), tensor([[257,  13, 340,  45],\n",
            "        [273,  58, 335,  83],\n",
            "        [ 18, 170,  42, 221],\n",
            "        [284, 321, 366, 345]])]\n"
          ],
          "name": "stdout"
        }
      ]
    },
    {
      "cell_type": "code",
      "metadata": {
        "id": "pM_UfP57989K",
        "colab_type": "code",
        "colab": {
          "base_uri": "https://localhost:8080/",
          "height": 35
        },
        "outputId": "f94f9c24-2d2e-49f1-e331-e4fcc8d4290c"
      },
      "source": [
        "print(len(b_gt))"
      ],
      "execution_count": 75,
      "outputs": [
        {
          "output_type": "stream",
          "text": [
            "140\n"
          ],
          "name": "stdout"
        }
      ]
    },
    {
      "cell_type": "code",
      "metadata": {
        "id": "0diiy8hN-Rfc",
        "colab_type": "code",
        "colab": {
          "base_uri": "https://localhost:8080/",
          "height": 35
        },
        "outputId": "119b171a-4d5d-44a0-982a-1ead6a6f1059"
      },
      "source": [
        "print(len(b))"
      ],
      "execution_count": 76,
      "outputs": [
        {
          "output_type": "stream",
          "text": [
            "140\n"
          ],
          "name": "stdout"
        }
      ]
    },
    {
      "cell_type": "code",
      "metadata": {
        "id": "YcfXIiL6NRKz",
        "colab_type": "code",
        "colab": {}
      },
      "source": [
        "device = torch.device(\"cuda\" if torch.cuda.is_available() else \"cpu\")"
      ],
      "execution_count": 77,
      "outputs": []
    },
    {
      "cell_type": "code",
      "metadata": {
        "id": "N_S5lb9uK2hT",
        "colab_type": "code",
        "colab": {}
      },
      "source": [
        "#Intersection and IoU from the tutorial: https://github.com/sgrvinod/a-PyTorch-Tutorial-to-Object-Detection\n",
        "def find_intersection(set_1, set_2):\n",
        "    \"\"\"\n",
        "    Find the intersection of every box combination between two sets of boxes that are in boundary coordinates.\n",
        "    :param set_1: set 1, a tensor of dimensions (n1, 4)\n",
        "    :param set_2: set 2, a tensor of dimensions (n2, 4)\n",
        "    :return: intersection of each of the boxes in set 1 with respect to each of the boxes in set 2, a tensor of dimensions (n1, n2)\n",
        "    \"\"\"\n",
        "\n",
        "    # PyTorch auto-broadcasts singleton dimensions\n",
        "    lower_bounds = torch.max(set_1[:, :2].unsqueeze(1), set_2[:, :2].unsqueeze(0))  # (n1, n2, 2)\n",
        "    upper_bounds = torch.min(set_1[:, 2:].unsqueeze(1), set_2[:, 2:].unsqueeze(0))  # (n1, n2, 2)\n",
        "    intersection_dims = torch.clamp(upper_bounds - lower_bounds, min=0)  # (n1, n2, 2)\n",
        "    return intersection_dims[:, :, 0] * intersection_dims[:, :, 1]  # (n1, n2)\n",
        "\n",
        "\n",
        "def find_jaccard_overlap(set_1, set_2):\n",
        "    \"\"\"\n",
        "    Find the Jaccard Overlap (IoU) of every box combination between two sets of boxes that are in boundary coordinates.\n",
        "    :param set_1: set 1, a tensor of dimensions (n1, 4)\n",
        "    :param set_2: set 2, a tensor of dimensions (n2, 4)\n",
        "    :return: Jaccard Overlap of each of the boxes in set 1 with respect to each of the boxes in set 2, a tensor of dimensions (n1, n2)\n",
        "    \"\"\"\n",
        "\n",
        "    # Find intersections\n",
        "    intersection = find_intersection(set_1, set_2)  # (n1, n2)\n",
        "\n",
        "    # Find areas of each box in both sets\n",
        "    areas_set_1 = (set_1[:, 2] - set_1[:, 0]) * (set_1[:, 3] - set_1[:, 1])  # (n1)\n",
        "    areas_set_2 = (set_2[:, 2] - set_2[:, 0]) * (set_2[:, 3] - set_2[:, 1])  # (n2)\n",
        "\n",
        "    # Find the union\n",
        "    # PyTorch auto-broadcasts singleton dimensions\n",
        "    union = areas_set_1.unsqueeze(1) + areas_set_2.unsqueeze(0) - intersection  # (n1, n2)\n",
        "\n",
        "    return intersection / union"
      ],
      "execution_count": 79,
      "outputs": []
    },
    {
      "cell_type": "code",
      "metadata": {
        "id": "v_HcxbLKAvWI",
        "colab_type": "code",
        "colab": {}
      },
      "source": [
        "# MAP Calculation adapted from the tutorial https://github.com/sgrvinod/a-PyTorch-Tutorial-to-Object-Detection\n",
        "\n",
        "def calculate_mAP(det_boxes, det_labels, det_scores, true_boxes, true_labels, true_difficulties):\n",
        "    \n",
        "    assert len(det_boxes) == len(det_labels) == len(det_scores) == len(true_boxes) == len(true_labels) == len(true_difficulties) \n",
        "    n_classes = len(label_map)\n",
        "\n",
        "    # Store all (true) objects in a single continuous tensor while keeping track of the image it is from\n",
        "    true_images = list()\n",
        "    for i in range(len(true_labels)):\n",
        "        true_images.extend([i] * true_labels[i].size(0))\n",
        "    true_images = torch.LongTensor(true_images).to(device)  # (n_objects), n_objects is the total no. of objects across all images\n",
        "    true_boxes = torch.cat(true_boxes, dim=0)  # (n_objects, 4)\n",
        "    true_labels = torch.cat(true_labels, dim=0)  # (n_objects)\n",
        "    true_difficulties = torch.cat(true_difficulties, dim=0)  # (n_objects)\n",
        "\n",
        "    assert true_images.size(0) == true_boxes.size(0) == true_labels.size(0)\n",
        "\n",
        "    # Store all detections in a single continuous tensor while keeping track of the image it is from\n",
        "    det_images = list()\n",
        "    for i in range(len(det_labels)):\n",
        "        det_images.extend([i] * det_labels[i].size(0))\n",
        "    det_images = torch.LongTensor(det_images).to(device)  # (n_detections)\n",
        "    det_boxes = torch.cat(det_boxes, dim=0)  # (n_detections, 4)\n",
        "    det_labels = torch.cat(det_labels, dim=0)  # (n_detections)\n",
        "    det_scores = torch.cat(det_scores, dim=0)  # (n_detections)\n",
        "\n",
        "    assert det_images.size(0) == det_boxes.size(0) == det_labels.size(0) == det_scores.size(0)\n",
        "\n",
        "    # Calculate APs for each class (except background)\n",
        "    average_precisions = torch.zeros((n_classes - 1), dtype=torch.float)  # (n_classes - 1)\n",
        "    for c in range(1, n_classes):\n",
        "        # Extract only objects with this class\n",
        "        true_class_images = true_images[true_labels == c]  # (n_class_objects)\n",
        "        true_class_boxes = true_boxes[true_labels == c]  # (n_class_objects, 4)\n",
        "        true_class_difficulties = true_difficulties[true_labels == c]  # (n_class_objects)\n",
        "        n_easy_class_objects = (1 - true_class_difficulties).sum().item()  # ignore difficult objects\n",
        "\n",
        "        # Keep track of which true objects with this class have already been 'detected'\n",
        "        # So far, none\n",
        "        true_class_boxes_detected = torch.zeros((true_class_difficulties.size(0)), dtype=torch.uint8).to(device)  # (n_class_objects)\n",
        "\n",
        "        # Extract only detections with this class\n",
        "        det_class_images = det_images[det_labels == c]  # (n_class_detections)\n",
        "        det_class_boxes = det_boxes[det_labels == c]  # (n_class_detections, 4)\n",
        "        det_class_scores = det_scores[det_labels == c]  # (n_class_detections)\n",
        "        n_class_detections = det_class_boxes.size(0)\n",
        "        if n_class_detections == 0:\n",
        "            continue\n",
        "\n",
        "        # Sort detections in decreasing order of confidence/scores\n",
        "        det_class_scores, sort_ind = torch.sort(det_class_scores, dim=0, descending=True)  # (n_class_detections)\n",
        "        det_class_images = det_class_images[sort_ind]  # (n_class_detections)\n",
        "        det_class_boxes = det_class_boxes[sort_ind]  # (n_class_detections, 4)\n",
        "\n",
        "        # In the order of decreasing scores, check if true or false positive\n",
        "        true_positives = torch.zeros((n_class_detections), dtype=torch.float).to(device)  # (n_class_detections)\n",
        "        false_positives = torch.zeros((n_class_detections), dtype=torch.float).to(device)  # (n_class_detections)\n",
        "        for d in range(n_class_detections):\n",
        "            this_detection_box = det_class_boxes[d].unsqueeze(0)  # (1, 4)\n",
        "            this_image = det_class_images[d]  # (), scalar\n",
        "\n",
        "            # Find objects in the same image with this class, their difficulties, and whether they have been detected before\n",
        "            object_boxes = true_class_boxes[true_class_images == this_image]  # (n_class_objects_in_img)\n",
        "            object_difficulties = true_class_difficulties[true_class_images == this_image]  # (n_class_objects_in_img)\n",
        "            # If no such object in this image, then the detection is a false positive\n",
        "            if object_boxes.size(0) == 0:\n",
        "                false_positives[d] = 1\n",
        "                continue\n",
        "\n",
        "            # Find maximum overlap of this detection with objects in this image of this class\n",
        "            overlaps = find_jaccard_overlap(this_detection_box.type(torch.FloatTensor), object_boxes.type(torch.FloatTensor))  # (1, n_class_objects_in_img)\n",
        "            max_overlap, ind = torch.max(overlaps.squeeze(0), dim=0)  # (), () - scalars\n",
        "\n",
        "            # 'ind' is the index of the object in these image-level tensors 'object_boxes', 'object_difficulties'\n",
        "            # In the original class-level tensors 'true_class_boxes', etc., 'ind' corresponds to object with index...\n",
        "            original_ind = torch.LongTensor(range(true_class_boxes.size(0)))[true_class_images == this_image][ind]\n",
        "            # We need 'original_ind' to update 'true_class_boxes_detected'\n",
        "\n",
        "            # If the maximum overlap is greater than the threshold of 0.5, it's a match\n",
        "            if max_overlap.item() > 0.5:\n",
        "                # If the object it matched with is 'difficult', ignore it\n",
        "                if object_difficulties[ind] == 0:\n",
        "                    # If this object has already not been detected, it's a true positive\n",
        "                    if true_class_boxes_detected[original_ind] == 0:\n",
        "                        true_positives[d] = 1\n",
        "                        true_class_boxes_detected[original_ind] = 1  # this object has now been detected/accounted for\n",
        "                    # Otherwise, it's a false positive (since this object is already accounted for)\n",
        "                    else:\n",
        "                        false_positives[d] = 1\n",
        "            # Otherwise, the detection occurs in a different location than the actual object, and is a false positive\n",
        "            else:\n",
        "                false_positives[d] = 1\n",
        "\n",
        "        # Compute cumulative precision and recall at each detection in the order of decreasing scores\n",
        "        cumul_true_positives = torch.cumsum(true_positives, dim=0)  # (n_class_detections)\n",
        "        cumul_false_positives = torch.cumsum(false_positives, dim=0)  # (n_class_detections)\n",
        "        cumul_precision = cumul_true_positives / (\n",
        "                cumul_true_positives + cumul_false_positives + 1e-10)  # (n_class_detections)\n",
        "        cumul_recall = cumul_true_positives / n_easy_class_objects  # (n_class_detections)\n",
        "\n",
        "        # Find the mean of the maximum of the precisions corresponding to recalls above the threshold 't'\n",
        "        recall_thresholds = torch.arange(start=0, end=1.1, step=.1).tolist()  # (11)\n",
        "        precisions = torch.zeros((len(recall_thresholds)), dtype=torch.float).to(device)  # (11)\n",
        "        for i, t in enumerate(recall_thresholds):\n",
        "            recalls_above_t = cumul_recall >= t\n",
        "            if recalls_above_t.any():\n",
        "                precisions[i] = cumul_precision[recalls_above_t].max()\n",
        "            else:\n",
        "                precisions[i] = 0.\n",
        "        average_precisions[c - 1] = precisions.mean()  # c is in [1, n_classes - 1]\n",
        "\n",
        "    # Calculate Mean Average Precision (mAP)\n",
        "    mean_average_precision = average_precisions.mean().item()\n",
        "\n",
        "    # Keep class-wise average precisions in a dictionary\n",
        "    average_precisions = {rev_label_map[c + 1]: v for c, v in enumerate(average_precisions.tolist())}\n",
        "\n",
        "    return average_precisions, mean_average_precision"
      ],
      "execution_count": 80,
      "outputs": []
    },
    {
      "cell_type": "code",
      "metadata": {
        "id": "96aI07mbA9Fl",
        "colab_type": "code",
        "colab": {}
      },
      "source": [
        "ap, map = calculate_mAP(b, labels, s, b_gt, l_gt, diff_gt )"
      ],
      "execution_count": 81,
      "outputs": []
    },
    {
      "cell_type": "code",
      "metadata": {
        "id": "vUa_gRmkHU8e",
        "colab_type": "code",
        "colab": {
          "base_uri": "https://localhost:8080/",
          "height": 35
        },
        "outputId": "3f09a7b5-4143-4d1f-901a-dc4c46dfe050"
      },
      "source": [
        "print(map)"
      ],
      "execution_count": 82,
      "outputs": [
        {
          "output_type": "stream",
          "text": [
            "0.0162355899810791\n"
          ],
          "name": "stdout"
        }
      ]
    },
    {
      "cell_type": "code",
      "metadata": {
        "id": "9c-h6kS0R9EB",
        "colab_type": "code",
        "colab": {
          "base_uri": "https://localhost:8080/",
          "height": 35
        },
        "outputId": "d0e36b7e-3f12-41d4-f8dc-ddd2072e6e47"
      },
      "source": [
        "print(ap)"
      ],
      "execution_count": 83,
      "outputs": [
        {
          "output_type": "stream",
          "text": [
            "{'title': 0.019550342112779617, 'legend': 0.02006552182137966, 'axis label': 0.009090909734368324}\n"
          ],
          "name": "stdout"
        }
      ]
    },
    {
      "cell_type": "code",
      "metadata": {
        "id": "rfUzQG__38U1",
        "colab_type": "code",
        "colab": {}
      },
      "source": [
        "vanilla_model = core.Model.load('/content/drive/My Drive/Colab Notebooks/Obj det model noise/no noise model.pth', ['title', 'legend', 'axis label'])"
      ],
      "execution_count": 84,
      "outputs": []
    },
    {
      "cell_type": "code",
      "metadata": {
        "id": "PhNrLh204dQV",
        "colab_type": "code",
        "colab": {}
      },
      "source": [
        "l2 =[]\n",
        "b2=[]\n",
        "s2=[]\n",
        "for image in images:\n",
        "  pred3 = vanilla_model.predict(image)\n",
        "  labels3, boxes3, scores3 = pred3\n",
        "  l2.append(labels3) # Nested list of labels (one list per image)\n",
        "  b2.append(boxes3)  # Nested list of tensors (one tensor per image)\n",
        "  s2.append(scores3) # Nested list of tensors (one tensor per image)"
      ],
      "execution_count": 85,
      "outputs": []
    },
    {
      "cell_type": "code",
      "metadata": {
        "id": "dVFFPSvH4y4b",
        "colab_type": "code",
        "colab": {
          "base_uri": "https://localhost:8080/",
          "height": 55
        },
        "outputId": "26cd17aa-1229-4dc7-b4a7-944be65e2186"
      },
      "source": [
        "l_pr = label_to_tensor(l2)\n",
        "print(l_pr)"
      ],
      "execution_count": 86,
      "outputs": [
        {
          "output_type": "stream",
          "text": [
            "[tensor([1, 3, 2, 3, 3, 3, 3]), tensor([2, 3, 3]), tensor([2, 3, 3, 1, 3]), tensor([3, 2, 3, 2, 2, 2, 2, 3]), tensor([2, 2, 2, 2, 1, 2]), tensor([2, 1, 1, 1]), tensor([1, 3, 2, 2, 3, 2, 2, 2, 2, 1, 2, 2]), tensor([1, 3, 2, 2, 2]), tensor([2, 1, 2, 3, 2, 2, 3, 2, 2, 2]), tensor([1, 3, 2, 3, 2, 2, 2, 2, 2, 2, 3]), tensor([2, 2, 3, 3, 2, 2, 2, 2, 2, 1, 3]), tensor([2, 3, 2, 1, 1, 2, 1, 2, 2, 2, 3, 3, 3, 2, 2, 2]), tensor([1, 2, 3, 1, 1]), tensor([1]), tensor([1, 2, 1]), tensor([3, 3, 3]), tensor([3, 3, 3]), tensor([2, 1, 3, 3, 3, 3]), tensor([1, 2, 1, 2, 3, 1, 2, 1]), tensor([3, 1, 3, 3, 3, 3, 3, 1, 3, 3, 3, 3, 1]), tensor([1, 2, 3, 1]), tensor([1, 3, 2, 2]), tensor([1, 3, 3, 2]), tensor([1, 1]), tensor([2, 2, 2, 1, 2, 2, 2, 2, 3]), tensor([1, 2, 2, 2, 2]), tensor([2, 3, 2, 3, 3, 3, 3]), tensor([2, 1, 2, 2]), tensor([1, 3, 2, 3, 3, 3, 3, 3, 2]), tensor([3, 3, 3, 1, 3]), tensor([2, 2, 3, 1, 2, 3, 1]), tensor([1, 2, 2, 3, 2, 3, 2, 1, 2, 2, 3]), tensor([3, 3, 2, 3, 2, 3, 3, 1, 1, 3, 1, 3]), tensor([3, 1, 3, 2, 3, 2]), tensor([1, 3, 2, 2, 2, 1, 2, 2, 3, 3]), tensor([2, 1, 3, 2, 2]), tensor([2, 1, 1, 2, 1, 2, 3, 1]), tensor([1, 3, 3, 3, 2, 3, 3, 3, 2, 3, 1, 3, 3, 3, 3, 3, 3, 3]), tensor([3, 2, 2, 1, 2, 3, 2, 2]), tensor([1, 3, 1, 1, 1]), tensor([1, 2, 2, 1, 2, 3, 3, 2]), tensor([1, 2, 2, 2, 3, 1, 1, 2, 3, 2, 2, 3]), tensor([2, 2, 2]), tensor([3, 3, 3, 2]), tensor([3, 1, 3, 2, 2, 2, 2]), tensor([1, 2, 1, 2, 2, 2]), tensor([1, 3, 3, 1, 1, 2, 2, 3, 2]), tensor([1, 2, 1]), tensor([1, 3, 3]), tensor([1, 2, 1, 3, 3]), tensor([1, 1, 2, 2, 2, 3, 1, 1, 2, 2, 2, 3, 1, 2, 2, 1, 3, 3, 2]), tensor([2]), tensor([1, 3, 3, 3, 2, 1]), tensor([1, 3, 3, 2, 2, 3]), tensor([1, 3, 2, 3, 3, 2]), tensor([3, 3]), tensor([2, 1, 1, 2, 1, 2, 2]), tensor([1]), tensor([2, 2, 2, 2, 2, 2, 3, 2, 3]), tensor([1, 3, 3, 1, 3, 2, 2, 2, 2, 2]), tensor([1, 2, 2]), tensor([1, 3, 2]), tensor([2, 2]), tensor([1, 1, 2, 2, 2, 2, 1]), tensor([2, 2, 2, 2, 2, 2]), tensor([1, 2, 3]), tensor([1, 2, 2, 3, 2, 1, 1, 2]), tensor([1, 3, 1, 2, 1, 2, 3, 2]), tensor([2, 1, 2, 2, 1, 1, 2, 2, 2, 2, 2, 2, 2, 2, 1, 2, 2, 2, 2, 1]), tensor([2, 2, 1, 2, 1, 1, 1, 2, 2, 2, 3, 2, 3]), tensor([2, 2, 2, 2, 2]), tensor([2, 1, 1, 2, 1, 2, 2, 2, 1, 1, 3, 3]), tensor([1, 2, 1, 1, 1, 2]), tensor([1, 2, 2, 1, 2, 2, 3, 3, 3]), tensor([1, 3, 2, 3, 1, 2, 1, 2, 1]), tensor([1, 2]), tensor([2, 1, 3, 1, 3, 2, 3, 2, 2]), tensor([1]), tensor([1, 2, 2, 3, 2, 2, 2]), tensor([2, 1, 1, 3, 2, 3]), tensor([1, 1, 1, 3, 3, 1]), tensor([1, 2, 1, 3, 3, 2, 3, 2, 3, 2]), tensor([2, 1, 1, 3, 2, 2, 2, 2, 2, 1]), tensor([1, 3]), tensor([2, 1, 3, 3, 2, 2, 3, 3, 3, 3, 3]), tensor([1, 2, 3]), tensor([2, 3, 1, 2, 3, 3]), tensor([2, 1, 2, 3, 2, 2, 2, 3, 3, 2, 1, 1]), tensor([1, 3, 3]), tensor([1]), tensor([3, 3]), tensor([3, 3]), tensor([3, 3, 1, 2, 3]), tensor([1, 3, 3, 2, 1, 1, 3]), tensor([1, 3, 3]), tensor([3, 3, 3]), tensor([3, 3, 1, 3, 3]), tensor([3, 3, 1, 3, 3]), tensor([3, 3, 2]), tensor([1, 3, 3, 3, 2, 3, 3, 3, 3, 3, 3]), tensor([1, 3, 3]), tensor([2, 3, 3]), tensor([1, 3, 3, 2, 2, 2, 2, 2, 2, 2, 2, 2, 2]), tensor([1]), tensor([2]), tensor([2]), tensor([1]), tensor([2, 3, 3, 2, 2, 2]), tensor([1]), tensor([2, 2, 2, 2]), tensor([2, 3, 3, 2]), tensor([1, 2, 3, 3, 2, 2, 2]), tensor([3, 1, 2]), tensor([2, 3, 2]), tensor([2, 2, 2]), tensor([3, 3]), tensor([3]), tensor([3, 3]), tensor([3]), tensor([1, 2]), tensor([2, 1]), tensor([2, 1]), tensor([2, 1]), tensor([2]), tensor([1]), tensor([2]), tensor([2]), tensor([1, 3]), tensor([1, 3, 3, 2, 2, 2]), tensor([1, 3]), tensor([3]), tensor([2, 1, 3, 2, 2, 3, 2, 1, 3]), tensor([1, 2, 3, 2, 1]), tensor([3, 1, 2, 3, 1, 2]), tensor([2, 3, 3]), tensor([3, 1, 1, 1, 3]), tensor([3, 2, 1, 2, 3]), tensor([2, 1, 3, 3]), tensor([2, 1, 1, 1, 2, 2]), tensor([3, 1, 3, 3, 2, 1, 1, 3, 3, 2])]\n"
          ],
          "name": "stdout"
        }
      ]
    },
    {
      "cell_type": "code",
      "metadata": {
        "id": "juI5XXz95OJq",
        "colab_type": "code",
        "colab": {}
      },
      "source": [
        "ap2, map2 = calculate_mAP(b2, l_pr, s2, b_gt, l_gt, diff_gt)"
      ],
      "execution_count": 87,
      "outputs": []
    },
    {
      "cell_type": "code",
      "metadata": {
        "id": "bn5Cxz0n5cq4",
        "colab_type": "code",
        "colab": {
          "base_uri": "https://localhost:8080/",
          "height": 35
        },
        "outputId": "2db47027-534b-4075-bcd1-0a263893d610"
      },
      "source": [
        "print(map2)"
      ],
      "execution_count": 88,
      "outputs": [
        {
          "output_type": "stream",
          "text": [
            "0.009917556308209896\n"
          ],
          "name": "stdout"
        }
      ]
    },
    {
      "cell_type": "code",
      "metadata": {
        "id": "ljsJz2lU5gR7",
        "colab_type": "code",
        "colab": {
          "base_uri": "https://localhost:8080/",
          "height": 35
        },
        "outputId": "3749c57d-e22e-41e5-db44-b2202ee292db"
      },
      "source": [
        "print(ap2)"
      ],
      "execution_count": 89,
      "outputs": [
        {
          "output_type": "stream",
          "text": [
            "{'title': 0.009090909734368324, 'legend': 0.01482356060296297, 'axis label': 0.005838198587298393}\n"
          ],
          "name": "stdout"
        }
      ]
    },
    {
      "cell_type": "markdown",
      "metadata": {
        "id": "9hd-51CP1xAJ",
        "colab_type": "text"
      },
      "source": [
        "EXPERIMENTAL"
      ]
    },
    {
      "cell_type": "code",
      "metadata": {
        "id": "2RX7JKA9SjhM",
        "colab_type": "code",
        "colab": {}
      },
      "source": [
        "l3=[]\n",
        "s3=[]\n",
        "b3=[]\n",
        "for image in images:\n",
        "  pred3 = model2.predict(image)\n",
        "  l2 =[]\n",
        "  b2=[]\n",
        "  s2=[]\n",
        "  for l_loop, b_loop, s_loop in zip(*pred3):\n",
        "    if s_loop > 0.5:\n",
        "      l2.append(l_loop)\n",
        "      b2.append(b_loop)\n",
        "      s2.append(s_loop)\n",
        "  l3.append(l2)\n",
        "  s3.append(s2)\n",
        "  b3.append(b2)"
      ],
      "execution_count": null,
      "outputs": []
    },
    {
      "cell_type": "code",
      "metadata": {
        "id": "2-_rDGoct-WY",
        "colab_type": "code",
        "colab": {}
      },
      "source": [
        "s3 = [torch.cat(s) for s in s3]"
      ],
      "execution_count": null,
      "outputs": []
    },
    {
      "cell_type": "code",
      "metadata": {
        "id": "P27G3AaHuB61",
        "colab_type": "code",
        "colab": {}
      },
      "source": [
        "s3 = [torch.stack(s) if len(s) > 0 else None for s in s3]"
      ],
      "execution_count": null,
      "outputs": []
    }
  ]
}