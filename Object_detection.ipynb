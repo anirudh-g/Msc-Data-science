{
  "nbformat": 4,
  "nbformat_minor": 0,
  "metadata": {
    "colab": {
      "name": "Object detection",
      "provenance": [],
      "collapsed_sections": [],
      "authorship_tag": "ABX9TyOd47xUdv/32q9LQ7f4iRgE",
      "include_colab_link": true
    },
    "kernelspec": {
      "name": "python3",
      "display_name": "Python 3"
    },
    "accelerator": "GPU",
    "widgets": {
      "application/vnd.jupyter.widget-state+json": {
        "cc43775d12944080913c7b0145cd41fb": {
          "model_module": "@jupyter-widgets/controls",
          "model_name": "HBoxModel",
          "state": {
            "_view_name": "HBoxView",
            "_dom_classes": [],
            "_model_name": "HBoxModel",
            "_view_module": "@jupyter-widgets/controls",
            "_model_module_version": "1.5.0",
            "_view_count": null,
            "_view_module_version": "1.5.0",
            "box_style": "",
            "layout": "IPY_MODEL_ed0b3b17239641b4806be8a0b1298fe2",
            "_model_module": "@jupyter-widgets/controls",
            "children": [
              "IPY_MODEL_e40b6fa1a4a342d0a814e1787cc45eaf",
              "IPY_MODEL_97dd07231534418e86ba03547e1c88e8"
            ]
          }
        },
        "ed0b3b17239641b4806be8a0b1298fe2": {
          "model_module": "@jupyter-widgets/base",
          "model_name": "LayoutModel",
          "state": {
            "_view_name": "LayoutView",
            "grid_template_rows": null,
            "right": null,
            "justify_content": null,
            "_view_module": "@jupyter-widgets/base",
            "overflow": null,
            "_model_module_version": "1.2.0",
            "_view_count": null,
            "flex_flow": null,
            "width": null,
            "min_width": null,
            "border": null,
            "align_items": null,
            "bottom": null,
            "_model_module": "@jupyter-widgets/base",
            "top": null,
            "grid_column": null,
            "overflow_y": null,
            "overflow_x": null,
            "grid_auto_flow": null,
            "grid_area": null,
            "grid_template_columns": null,
            "flex": null,
            "_model_name": "LayoutModel",
            "justify_items": null,
            "grid_row": null,
            "max_height": null,
            "align_content": null,
            "visibility": null,
            "align_self": null,
            "height": null,
            "min_height": null,
            "padding": null,
            "grid_auto_rows": null,
            "grid_gap": null,
            "max_width": null,
            "order": null,
            "_view_module_version": "1.2.0",
            "grid_template_areas": null,
            "object_position": null,
            "object_fit": null,
            "grid_auto_columns": null,
            "margin": null,
            "display": null,
            "left": null
          }
        },
        "e40b6fa1a4a342d0a814e1787cc45eaf": {
          "model_module": "@jupyter-widgets/controls",
          "model_name": "FloatProgressModel",
          "state": {
            "_view_name": "ProgressView",
            "style": "IPY_MODEL_8aa8f35c886c41c98903c626ae310b3e",
            "_dom_classes": [],
            "description": "100%",
            "_model_name": "FloatProgressModel",
            "bar_style": "success",
            "max": 167502836,
            "_view_module": "@jupyter-widgets/controls",
            "_model_module_version": "1.5.0",
            "value": 167502836,
            "_view_count": null,
            "_view_module_version": "1.5.0",
            "orientation": "horizontal",
            "min": 0,
            "description_tooltip": null,
            "_model_module": "@jupyter-widgets/controls",
            "layout": "IPY_MODEL_99c9b6becd4d4704a97842d4f35b36c1"
          }
        },
        "97dd07231534418e86ba03547e1c88e8": {
          "model_module": "@jupyter-widgets/controls",
          "model_name": "HTMLModel",
          "state": {
            "_view_name": "HTMLView",
            "style": "IPY_MODEL_eb493be8d0e64ac0bddcb4fbe22851c6",
            "_dom_classes": [],
            "description": "",
            "_model_name": "HTMLModel",
            "placeholder": "​",
            "_view_module": "@jupyter-widgets/controls",
            "_model_module_version": "1.5.0",
            "value": " 160M/160M [1:30:20&lt;00:00, 30.9kB/s]",
            "_view_count": null,
            "_view_module_version": "1.5.0",
            "description_tooltip": null,
            "_model_module": "@jupyter-widgets/controls",
            "layout": "IPY_MODEL_0f4085cadc694ccabd23a4784c5f5317"
          }
        },
        "8aa8f35c886c41c98903c626ae310b3e": {
          "model_module": "@jupyter-widgets/controls",
          "model_name": "ProgressStyleModel",
          "state": {
            "_view_name": "StyleView",
            "_model_name": "ProgressStyleModel",
            "description_width": "initial",
            "_view_module": "@jupyter-widgets/base",
            "_model_module_version": "1.5.0",
            "_view_count": null,
            "_view_module_version": "1.2.0",
            "bar_color": null,
            "_model_module": "@jupyter-widgets/controls"
          }
        },
        "99c9b6becd4d4704a97842d4f35b36c1": {
          "model_module": "@jupyter-widgets/base",
          "model_name": "LayoutModel",
          "state": {
            "_view_name": "LayoutView",
            "grid_template_rows": null,
            "right": null,
            "justify_content": null,
            "_view_module": "@jupyter-widgets/base",
            "overflow": null,
            "_model_module_version": "1.2.0",
            "_view_count": null,
            "flex_flow": null,
            "width": null,
            "min_width": null,
            "border": null,
            "align_items": null,
            "bottom": null,
            "_model_module": "@jupyter-widgets/base",
            "top": null,
            "grid_column": null,
            "overflow_y": null,
            "overflow_x": null,
            "grid_auto_flow": null,
            "grid_area": null,
            "grid_template_columns": null,
            "flex": null,
            "_model_name": "LayoutModel",
            "justify_items": null,
            "grid_row": null,
            "max_height": null,
            "align_content": null,
            "visibility": null,
            "align_self": null,
            "height": null,
            "min_height": null,
            "padding": null,
            "grid_auto_rows": null,
            "grid_gap": null,
            "max_width": null,
            "order": null,
            "_view_module_version": "1.2.0",
            "grid_template_areas": null,
            "object_position": null,
            "object_fit": null,
            "grid_auto_columns": null,
            "margin": null,
            "display": null,
            "left": null
          }
        },
        "eb493be8d0e64ac0bddcb4fbe22851c6": {
          "model_module": "@jupyter-widgets/controls",
          "model_name": "DescriptionStyleModel",
          "state": {
            "_view_name": "StyleView",
            "_model_name": "DescriptionStyleModel",
            "description_width": "",
            "_view_module": "@jupyter-widgets/base",
            "_model_module_version": "1.5.0",
            "_view_count": null,
            "_view_module_version": "1.2.0",
            "_model_module": "@jupyter-widgets/controls"
          }
        },
        "0f4085cadc694ccabd23a4784c5f5317": {
          "model_module": "@jupyter-widgets/base",
          "model_name": "LayoutModel",
          "state": {
            "_view_name": "LayoutView",
            "grid_template_rows": null,
            "right": null,
            "justify_content": null,
            "_view_module": "@jupyter-widgets/base",
            "overflow": null,
            "_model_module_version": "1.2.0",
            "_view_count": null,
            "flex_flow": null,
            "width": null,
            "min_width": null,
            "border": null,
            "align_items": null,
            "bottom": null,
            "_model_module": "@jupyter-widgets/base",
            "top": null,
            "grid_column": null,
            "overflow_y": null,
            "overflow_x": null,
            "grid_auto_flow": null,
            "grid_area": null,
            "grid_template_columns": null,
            "flex": null,
            "_model_name": "LayoutModel",
            "justify_items": null,
            "grid_row": null,
            "max_height": null,
            "align_content": null,
            "visibility": null,
            "align_self": null,
            "height": null,
            "min_height": null,
            "padding": null,
            "grid_auto_rows": null,
            "grid_gap": null,
            "max_width": null,
            "order": null,
            "_view_module_version": "1.2.0",
            "grid_template_areas": null,
            "object_position": null,
            "object_fit": null,
            "grid_auto_columns": null,
            "margin": null,
            "display": null,
            "left": null
          }
        }
      }
    }
  },
  "cells": [
    {
      "cell_type": "markdown",
      "metadata": {
        "id": "view-in-github",
        "colab_type": "text"
      },
      "source": [
        "<a href=\"https://colab.research.google.com/github/anirudh-g/Msc-Data-science/blob/master/Object_detection.ipynb\" target=\"_parent\"><img src=\"https://colab.research.google.com/assets/colab-badge.svg\" alt=\"Open In Colab\"/></a>"
      ]
    },
    {
      "cell_type": "code",
      "metadata": {
        "id": "86m_VYAEVGUK",
        "colab_type": "code",
        "colab": {
          "base_uri": "https://localhost:8080/",
          "height": 349
        },
        "outputId": "417e49bb-e363-4f5e-801d-16c1370f2670"
      },
      "source": [
        "!pip3 install detecto"
      ],
      "execution_count": 1,
      "outputs": [
        {
          "output_type": "stream",
          "text": [
            "Collecting detecto\n",
            "  Downloading https://files.pythonhosted.org/packages/18/e1/753066aaa7d0b01e539c603ff23b4f4e1388b0c3a2d4dd72ea1aaa62391c/detecto-1.1.6-py3-none-any.whl\n",
            "Requirement already satisfied: torch in /usr/local/lib/python3.6/dist-packages (from detecto) (1.6.0+cu101)\n",
            "Requirement already satisfied: matplotlib in /usr/local/lib/python3.6/dist-packages (from detecto) (3.2.2)\n",
            "Requirement already satisfied: opencv-python in /usr/local/lib/python3.6/dist-packages (from detecto) (4.1.2.30)\n",
            "Requirement already satisfied: pandas in /usr/local/lib/python3.6/dist-packages (from detecto) (1.0.5)\n",
            "Requirement already satisfied: torchvision in /usr/local/lib/python3.6/dist-packages (from detecto) (0.7.0+cu101)\n",
            "Requirement already satisfied: numpy in /usr/local/lib/python3.6/dist-packages (from torch->detecto) (1.18.5)\n",
            "Requirement already satisfied: future in /usr/local/lib/python3.6/dist-packages (from torch->detecto) (0.16.0)\n",
            "Requirement already satisfied: cycler>=0.10 in /usr/local/lib/python3.6/dist-packages (from matplotlib->detecto) (0.10.0)\n",
            "Requirement already satisfied: python-dateutil>=2.1 in /usr/local/lib/python3.6/dist-packages (from matplotlib->detecto) (2.8.1)\n",
            "Requirement already satisfied: pyparsing!=2.0.4,!=2.1.2,!=2.1.6,>=2.0.1 in /usr/local/lib/python3.6/dist-packages (from matplotlib->detecto) (2.4.7)\n",
            "Requirement already satisfied: kiwisolver>=1.0.1 in /usr/local/lib/python3.6/dist-packages (from matplotlib->detecto) (1.2.0)\n",
            "Requirement already satisfied: pytz>=2017.2 in /usr/local/lib/python3.6/dist-packages (from pandas->detecto) (2018.9)\n",
            "Requirement already satisfied: pillow>=4.1.1 in /usr/local/lib/python3.6/dist-packages (from torchvision->detecto) (7.0.0)\n",
            "Requirement already satisfied: six in /usr/local/lib/python3.6/dist-packages (from cycler>=0.10->matplotlib->detecto) (1.15.0)\n",
            "Installing collected packages: detecto\n",
            "Successfully installed detecto-1.1.6\n"
          ],
          "name": "stdout"
        }
      ]
    },
    {
      "cell_type": "code",
      "metadata": {
        "id": "7XC8P1xXmtMh",
        "colab_type": "code",
        "colab": {
          "base_uri": "https://localhost:8080/",
          "height": 193
        },
        "outputId": "d5bbf138-05bc-4ffc-be5d-b1535603046c"
      },
      "source": [
        "!pip install torch==1.4"
      ],
      "execution_count": 2,
      "outputs": [
        {
          "output_type": "stream",
          "text": [
            "Collecting torch==1.4\n",
            "\u001b[?25l  Downloading https://files.pythonhosted.org/packages/24/19/4804aea17cd136f1705a5e98a00618cb8f6ccc375ad8bfa437408e09d058/torch-1.4.0-cp36-cp36m-manylinux1_x86_64.whl (753.4MB)\n",
            "\u001b[K     |████████████████████████████████| 753.4MB 22kB/s \n",
            "\u001b[31mERROR: torchvision 0.7.0+cu101 has requirement torch==1.6.0, but you'll have torch 1.4.0 which is incompatible.\u001b[0m\n",
            "\u001b[?25hInstalling collected packages: torch\n",
            "  Found existing installation: torch 1.6.0+cu101\n",
            "    Uninstalling torch-1.6.0+cu101:\n",
            "      Successfully uninstalled torch-1.6.0+cu101\n",
            "Successfully installed torch-1.4.0\n"
          ],
          "name": "stdout"
        }
      ]
    },
    {
      "cell_type": "code",
      "metadata": {
        "id": "K_kNPtzDorLb",
        "colab_type": "code",
        "colab": {
          "base_uri": "https://localhost:8080/",
          "height": 245
        },
        "outputId": "89f7d839-d90e-486a-9700-4d52378c0ecc"
      },
      "source": [
        "!pip install torchvision==0.5.0"
      ],
      "execution_count": 3,
      "outputs": [
        {
          "output_type": "stream",
          "text": [
            "Collecting torchvision==0.5.0\n",
            "\u001b[?25l  Downloading https://files.pythonhosted.org/packages/7e/90/6141bf41f5655c78e24f40f710fdd4f8a8aff6c8b7c6f0328240f649bdbe/torchvision-0.5.0-cp36-cp36m-manylinux1_x86_64.whl (4.0MB)\n",
            "\u001b[K     |████████████████████████████████| 4.0MB 3.5MB/s \n",
            "\u001b[?25hRequirement already satisfied: numpy in /usr/local/lib/python3.6/dist-packages (from torchvision==0.5.0) (1.18.5)\n",
            "Requirement already satisfied: six in /usr/local/lib/python3.6/dist-packages (from torchvision==0.5.0) (1.15.0)\n",
            "Requirement already satisfied: pillow>=4.1.1 in /usr/local/lib/python3.6/dist-packages (from torchvision==0.5.0) (7.0.0)\n",
            "Requirement already satisfied: torch==1.4.0 in /usr/local/lib/python3.6/dist-packages (from torchvision==0.5.0) (1.4.0)\n",
            "Installing collected packages: torchvision\n",
            "  Found existing installation: torchvision 0.7.0+cu101\n",
            "    Uninstalling torchvision-0.7.0+cu101:\n",
            "      Successfully uninstalled torchvision-0.7.0+cu101\n",
            "Successfully installed torchvision-0.5.0\n"
          ],
          "name": "stdout"
        }
      ]
    },
    {
      "cell_type": "code",
      "metadata": {
        "id": "nI6nbUdsVTYs",
        "colab_type": "code",
        "colab": {}
      },
      "source": [
        "from detecto import core, utils, visualize\n",
        "import torch\n",
        "import numpy as np\n",
        "import random\n",
        "import matplotlib.pyplot as plt\n",
        "from torchvision import transforms\n",
        "import pandas as pd\n",
        "import numpy as np\n",
        "import tensorflow as tf\n",
        "import glob\n",
        "\n",
        "import os\n",
        "from PIL import Image\n",
        "\n",
        "import xml.etree.ElementTree as ET\n",
        "import torchvision.transforms.functional as FT"
      ],
      "execution_count": 4,
      "outputs": []
    },
    {
      "cell_type": "code",
      "metadata": {
        "id": "Vj5KU3XKVeHd",
        "colab_type": "code",
        "colab": {
          "base_uri": "https://localhost:8080/",
          "height": 35
        },
        "outputId": "a11522c3-93a9-49f4-a43f-7bfc0b5fb51a"
      },
      "source": [
        "print(torch.cuda.is_available())"
      ],
      "execution_count": 5,
      "outputs": [
        {
          "output_type": "stream",
          "text": [
            "True\n"
          ],
          "name": "stdout"
        }
      ]
    },
    {
      "cell_type": "code",
      "metadata": {
        "id": "OTHyA6HPVo3g",
        "colab_type": "code",
        "colab": {
          "base_uri": "https://localhost:8080/",
          "height": 35
        },
        "outputId": "f5f69752-2f0a-4a3c-c6bd-68810bba745b"
      },
      "source": [
        "import os\n",
        "from google.colab import drive\n",
        "\n",
        "drive.mount('/content/drive')\n",
        "os.chdir('/content/drive/My Drive/Colab Notebooks/objection detection')"
      ],
      "execution_count": 11,
      "outputs": [
        {
          "output_type": "stream",
          "text": [
            "Drive already mounted at /content/drive; to attempt to forcibly remount, call drive.mount(\"/content/drive\", force_remount=True).\n"
          ],
          "name": "stdout"
        }
      ]
    },
    {
      "cell_type": "code",
      "metadata": {
        "id": "xggNq9KTWVgC",
        "colab_type": "code",
        "colab": {
          "base_uri": "https://localhost:8080/",
          "height": 35
        },
        "outputId": "470343ef-b7b6-4ece-8fe9-efd8db7c3f4e"
      },
      "source": [
        "!ls"
      ],
      "execution_count": 12,
      "outputs": [
        {
          "output_type": "stream",
          "text": [
            "Train  Validation\n"
          ],
          "name": "stdout"
        }
      ]
    },
    {
      "cell_type": "code",
      "metadata": {
        "id": "CQXwu-j15bja",
        "colab_type": "code",
        "colab": {}
      },
      "source": [
        "#Gaussian noise function inspired from https://www.oreilly.com/library/view/programming-pytorch-for/9781492045342/ch04.html\n",
        "class Noise():\n",
        "    def __init__(self, mean, stddev):\n",
        "        self.mean = mean\n",
        "        self.stddev = stddev\n",
        "\n",
        "    def __call__(self, img):\n",
        "        self.stddev = np.random.exponential(self.stddev)\n",
        "        noise = torch.zeros_like(img).normal_(self.mean, self.stddev)\n",
        "        return img.add_(noise)\n",
        "\n",
        "    def __repr__(self):\n",
        "        repr = f\"{self.__class__.__name__  }(mean={self.mean},stddev={self.stddev})\"\n",
        "        return repr"
      ],
      "execution_count": 40,
      "outputs": []
    },
    {
      "cell_type": "code",
      "metadata": {
        "id": "GCxu202gYhY1",
        "colab_type": "code",
        "colab": {}
      },
      "source": [
        "transform_img = transforms.Compose([\n",
        "    transforms.ToPILImage(),\n",
        "    transforms.Resize(800),\n",
        "    transforms.ColorJitter(brightness=0.2),\n",
        "    transforms.ToTensor(),\n",
        "    Noise(mean=0.0, stddev=0.15), \n",
        "    utils.normalize_transform()\n",
        "])"
      ],
      "execution_count": 41,
      "outputs": []
    },
    {
      "cell_type": "code",
      "metadata": {
        "id": "vpv4ohLz3dzY",
        "colab_type": "code",
        "colab": {}
      },
      "source": [
        "dataset = core.Dataset('Train/', transform=transform_img)"
      ],
      "execution_count": 42,
      "outputs": []
    },
    {
      "cell_type": "code",
      "metadata": {
        "id": "QBR-8iCVdpLP",
        "colab_type": "code",
        "colab": {
          "base_uri": "https://localhost:8080/",
          "height": 269
        },
        "outputId": "f1abdc3d-efa3-42e9-f6ab-fd39cd0d23fe"
      },
      "source": [
        "from detecto.visualize import show_labeled_image\n",
        "\n",
        "image, targets = dataset[120]\n",
        "visualize.show_labeled_image(image, targets['boxes'], targets['labels'])"
      ],
      "execution_count": 44,
      "outputs": [
        {
          "output_type": "display_data",
          "data": {
            "image/png": "[encoded data removed]",
            "text/plain": [
              "<Figure size 432x288 with 1 Axes>"
            ]
          },
          "metadata": {
            "tags": [],
            "needs_background": "light"
          }
        }
      ]
    },
    {
      "cell_type": "code",
      "metadata": {
        "id": "CTnGp_Lr4V9k",
        "colab_type": "code",
        "colab": {}
      },
      "source": [
        "val_dataset = core.Dataset('Validation/')"
      ],
      "execution_count": 45,
      "outputs": []
    },
    {
      "cell_type": "code",
      "metadata": {
        "id": "_YuHjGrhWl4R",
        "colab_type": "code",
        "colab": {
          "base_uri": "https://localhost:8080/",
          "height": 525,
          "referenced_widgets": [
            "cc43775d12944080913c7b0145cd41fb",
            "ed0b3b17239641b4806be8a0b1298fe2",
            "e40b6fa1a4a342d0a814e1787cc45eaf",
            "97dd07231534418e86ba03547e1c88e8",
            "8aa8f35c886c41c98903c626ae310b3e",
            "99c9b6becd4d4704a97842d4f35b36c1",
            "eb493be8d0e64ac0bddcb4fbe22851c6",
            "0f4085cadc694ccabd23a4784c5f5317"
          ]
        },
        "outputId": "e4ad091a-18ed-42ab-da43-5e9d0cb29e83"
      },
      "source": [
        "model = core.Model(['title', 'legend', 'axis label'])\n",
        "\n",
        "loader = core.DataLoader(dataset=dataset, shuffle=True)\n",
        "losses = model.fit(loader, val_dataset, epochs=5, verbose=True, learning_rate=0.001)\n",
        "plt.plot(losses)\n",
        "plt.show()"
      ],
      "execution_count": 46,
      "outputs": [
        {
          "output_type": "stream",
          "text": [
            "Downloading: \"https://download.pytorch.org/models/fasterrcnn_resnet50_fpn_coco-258fb6c6.pth\" to /root/.cache/torch/checkpoints/fasterrcnn_resnet50_fpn_coco-258fb6c6.pth\n"
          ],
          "name": "stderr"
        },
        {
          "output_type": "display_data",
          "data": {
            "application/vnd.jupyter.widget-view+json": {
              "model_id": "cc43775d12944080913c7b0145cd41fb",
              "version_minor": 0,
              "version_major": 2
            },
            "text/plain": [
              "HBox(children=(FloatProgress(value=0.0, max=167502836.0), HTML(value='')))"
            ]
          },
          "metadata": {
            "tags": []
          }
        },
        {
          "output_type": "stream",
          "text": [
            "\n",
            "Epoch 1 of 5\n",
            "Loss: 0.17522386872079423\n",
            "Epoch 2 of 5\n",
            "Loss: 0.1503974361792474\n",
            "Epoch 3 of 5\n",
            "Loss: 0.1474751386671297\n",
            "Epoch 4 of 5\n",
            "Loss: 0.13272479835457057\n",
            "Epoch 5 of 5\n",
            "Loss: 0.131369684171933\n"
          ],
          "name": "stdout"
        },
        {
          "output_type": "display_data",
          "data": {
            "image/png": "[encoded data removed]",
            "text/plain": [
              "<Figure size 432x288 with 1 Axes>"
            ]
          },
          "metadata": {
            "tags": [],
            "needs_background": "light"
          }
        }
      ]
    },
    {
      "cell_type": "code",
      "metadata": {
        "id": "ElT5mC5otKON",
        "colab_type": "code",
        "colab": {}
      },
      "source": [
        "model.save('/content/drive/My Drive/Colab Notebooks/Obj det model noise/noise model.pth')"
      ],
      "execution_count": 47,
      "outputs": []
    },
    {
      "cell_type": "code",
      "metadata": {
        "id": "lyH0lh3ba1Pa",
        "colab_type": "code",
        "colab": {
          "resources": {
            "http://localhost:8080/nbextensions/google.colab/files.js": {
              "data": "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",
              "ok": true,
              "headers": [
                [
                  "content-type",
                  "application/javascript"
                ]
              ],
              "status": 200,
              "status_text": ""
            }
          },
          "base_uri": "https://localhost:8080/",
          "height": 73
        },
        "outputId": "96a04ef7-d0d1-426b-f7ec-8a4d4f615459"
      },
      "source": [
        "from google.colab import files\n",
        "uploaded = files.upload()"
      ],
      "execution_count": null,
      "outputs": [
        {
          "output_type": "display_data",
          "data": {
            "text/html": [
              "\n",
              "     <input type=\"file\" id=\"files-50c49246-faa1-4a2a-a0c1-06bb241dc43b\" name=\"files[]\" multiple disabled\n",
              "        style=\"border:none\" />\n",
              "     <output id=\"result-50c49246-faa1-4a2a-a0c1-06bb241dc43b\">\n",
              "      Upload widget is only available when the cell has been executed in the\n",
              "      current browser session. Please rerun this cell to enable.\n",
              "      </output>\n",
              "      <script src=\"/nbextensions/google.colab/files.js\"></script> "
            ],
            "text/plain": [
              "<IPython.core.display.HTML object>"
            ]
          },
          "metadata": {
            "tags": []
          }
        },
        {
          "output_type": "stream",
          "text": [
            "Saving bar-horizontal.png to bar-horizontal.png\n"
          ],
          "name": "stdout"
        }
      ]
    },
    {
      "cell_type": "code",
      "metadata": {
        "id": "Y1MAludp9_Ly",
        "colab_type": "code",
        "colab": {}
      },
      "source": [
        "model2 = core.Model.load('/content/drive/My Drive/Colab Notebooks/Obj det model noise/noise model.pth', ['title', 'legend', 'axis label'])"
      ],
      "execution_count": 48,
      "outputs": []
    },
    {
      "cell_type": "code",
      "metadata": {
        "id": "iqtMJYSWzDJB",
        "colab_type": "code",
        "colab": {}
      },
      "source": [
        "images =[]\n",
        "files = glob.glob('/content/drive/My Drive/Colab Notebooks/objection detection/Validation/*.jpg') + glob.glob('/content/drive/My Drive/Colab Notebooks/objection detection/Validation/*.jpeg') + glob.glob('/content/drive/My Drive/Colab Notebooks/objection detection/Validation/*.JPEG') + glob.glob('/content/drive/My Drive/Colab Notebooks/objection detection/Validation/*.JPG')\n",
        "for img in files:\n",
        "  image2 = utils.read_image(img)\n",
        "  images.append(image2)"
      ],
      "execution_count": 49,
      "outputs": []
    },
    {
      "cell_type": "code",
      "metadata": {
        "id": "bwKCRAC9Kz_5",
        "colab_type": "code",
        "colab": {
          "base_uri": "https://localhost:8080/",
          "height": 35
        },
        "outputId": "2044c44c-dba8-42f3-8bf8-50d333302b8a"
      },
      "source": [
        "print(len(images))"
      ],
      "execution_count": 50,
      "outputs": [
        {
          "output_type": "stream",
          "text": [
            "140\n"
          ],
          "name": "stdout"
        }
      ]
    },
    {
      "cell_type": "code",
      "metadata": {
        "id": "ZyxDmIfRVIhW",
        "colab_type": "code",
        "colab": {}
      },
      "source": [
        "\n",
        "\n",
        "l3=[]\n",
        "s3=[]\n",
        "b3=[]\n",
        "for image in images:\n",
        "  pred3 = model2.predict(image)\n",
        "  l2 =[]\n",
        "  b2=[]\n",
        "  s2=[]\n",
        "  for l_loop, b_loop, s_loop in zip(*pred3):\n",
        "    if s_loop > 0.5:\n",
        "      l2.append(l_loop)\n",
        "      b2.append(b_loop)\n",
        "      s2.append(s_loop)\n",
        "  l3.append(l2)\n",
        "  s3.append(s2)\n",
        "  b3.append(b2)"
      ],
      "execution_count": null,
      "outputs": []
    },
    {
      "cell_type": "code",
      "metadata": {
        "id": "GtRDh9GAKJ8w",
        "colab_type": "code",
        "colab": {
          "base_uri": "https://localhost:8080/",
          "height": 55
        },
        "outputId": "785550ba-4fa5-4065-93c4-05f7cb46ed39"
      },
      "source": [
        "print(l3)"
      ],
      "execution_count": null,
      "outputs": [
        {
          "output_type": "stream",
          "text": [
            "[['title', 'legend', 'axis label', 'legend'], ['title', 'legend'], ['axis label', 'axis label', 'title', 'legend'], ['title'], ['title', 'legend'], ['axis label', 'axis label'], ['title', 'axis label'], ['title', 'axis label'], ['axis label', 'legend', 'axis label'], ['axis label', 'title', 'title'], ['legend', 'axis label', 'axis label'], ['axis label', 'legend'], ['axis label', 'legend', 'axis label'], [], ['axis label', 'legend', 'axis label'], ['title'], ['title', 'axis label'], ['title'], ['title'], ['title', 'legend', 'axis label'], ['axis label', 'title', 'title'], [], [], ['title', 'axis label', 'axis label'], ['title'], ['legend', 'title', 'axis label', 'axis label', 'axis label'], ['legend', 'axis label', 'title', 'axis label'], ['title', 'legend'], ['axis label', 'axis label'], ['legend', 'title', 'axis label'], ['axis label', 'axis label'], ['title', 'legend'], ['title', 'axis label', 'legend'], ['title', 'legend'], ['legend'], ['title', 'legend'], ['title', 'axis label', 'axis label', 'axis label', 'axis label', 'axis label'], ['axis label', 'axis label'], ['title', 'legend'], ['legend', 'axis label'], ['axis label'], ['legend', 'title'], ['title', 'legend'], ['title', 'legend', 'axis label'], ['axis label', 'axis label', 'axis label', 'axis label', 'axis label'], [], ['title', 'legend'], ['title', 'axis label'], ['axis label', 'title', 'axis label'], ['axis label'], ['axis label', 'axis label'], ['legend', 'title', 'legend'], ['legend'], ['title'], ['axis label', 'axis label', 'axis label'], [], ['title', 'axis label'], ['title', 'axis label'], ['title'], ['axis label'], ['title', 'axis label'], ['title', 'legend'], ['legend', 'axis label', 'title'], ['title'], ['title', 'axis label', 'axis label', 'axis label'], ['title', 'axis label', 'axis label'], [], ['legend', 'title'], ['title', 'axis label'], ['axis label', 'axis label'], ['legend'], ['legend', 'title'], ['legend', 'title'], ['title', 'legend'], ['title', 'axis label'], ['title', 'legend'], ['legend', 'title', 'legend'], ['title', 'title'], ['legend', 'title'], ['title'], ['legend'], ['title', 'legend'], ['legend'], ['title'], ['legend', 'legend', 'legend'], ['legend'], ['title', 'legend'], ['title', 'axis label'], ['title'], ['title'], ['legend', 'title', 'legend'], ['axis label', 'title', 'legend'], ['title', 'title', 'axis label'], ['axis label', 'title'], ['legend', 'title', 'axis label'], ['legend', 'axis label', 'title'], ['title', 'legend', 'axis label'], ['title'], ['title'], ['title'], ['legend', 'title', 'axis label'], ['title', 'legend'], ['title', 'axis label'], ['title'], ['title'], ['title', 'axis label'], ['title', 'legend'], ['legend'], ['title', 'axis label', 'axis label'], ['axis label', 'axis label'], ['axis label', 'axis label'], ['axis label', 'axis label'], ['axis label', 'axis label'], ['title'], ['axis label', 'axis label'], ['axis label', 'axis label'], ['title', 'axis label'], ['axis label', 'title', 'axis label'], ['axis label', 'axis label'], ['title', 'axis label', 'axis label'], ['axis label', 'axis label'], ['title'], ['axis label', 'axis label'], ['title'], ['title', 'axis label', 'axis label'], ['title', 'axis label', 'axis label'], ['legend', 'axis label', 'axis label'], ['axis label', 'title'], ['title', 'legend', 'axis label', 'title'], ['title', 'legend', 'axis label', 'axis label'], ['legend', 'axis label'], ['legend', 'title'], ['axis label', 'title', 'legend'], ['title', 'legend'], ['title', 'axis label'], ['title', 'axis label'], ['legend', 'title', 'axis label'], ['legend', 'title'], ['legend', 'title', 'title'], ['title', 'axis label']]\n"
          ],
          "name": "stdout"
        }
      ]
    },
    {
      "cell_type": "code",
      "metadata": {
        "id": "pUSY9HeJKMCv",
        "colab_type": "code",
        "colab": {
          "base_uri": "https://localhost:8080/",
          "height": 55
        },
        "outputId": "ae6a04f7-f3e1-40ce-e62e-6acd4bd4babe"
      },
      "source": [
        "print(s3)"
      ],
      "execution_count": null,
      "outputs": [
        {
          "output_type": "stream",
          "text": [
            "[[tensor(0.9489), tensor(0.9454), tensor(0.7044), tensor(0.5212)], [tensor(0.8601), tensor(0.7051)], [tensor(0.8204), tensor(0.7895), tensor(0.7502), tensor(0.5197)], [tensor(0.6902)], [tensor(0.7974), tensor(0.7061)], [tensor(0.7278), tensor(0.6913)], [tensor(0.8794), tensor(0.6244)], [tensor(0.8767), tensor(0.8278)], [tensor(0.7329), tensor(0.7265), tensor(0.6106)], [tensor(0.8094), tensor(0.8049), tensor(0.6698)], [tensor(0.7619), tensor(0.6262), tensor(0.5334)], [tensor(0.8240), tensor(0.6609)], [tensor(0.7870), tensor(0.7848), tensor(0.7640)], [], [tensor(0.8691), tensor(0.8615), tensor(0.7205)], [tensor(0.9663)], [tensor(0.9013), tensor(0.8816)], [tensor(0.6914)], [tensor(0.9269)], [tensor(0.9282), tensor(0.8459), tensor(0.6129)], [tensor(0.7214), tensor(0.5987), tensor(0.5189)], [], [], [tensor(0.7876), tensor(0.5818), tensor(0.5261)], [tensor(0.8871)], [tensor(0.9636), tensor(0.9515), tensor(0.6019), tensor(0.5552), tensor(0.5401)], [tensor(0.8354), tensor(0.8182), tensor(0.6053), tensor(0.5539)], [tensor(0.9176), tensor(0.7465)], [tensor(0.8467), tensor(0.5832)], [tensor(0.9013), tensor(0.5599), tensor(0.5223)], [tensor(0.7873), tensor(0.7587)], [tensor(0.9354), tensor(0.8023)], [tensor(0.8385), tensor(0.7963), tensor(0.6991)], [tensor(0.8824), tensor(0.7998)], [tensor(0.8974)], [tensor(0.8930), tensor(0.7848)], [tensor(0.8600), tensor(0.7579), tensor(0.7576), tensor(0.7010), tensor(0.6423), tensor(0.6259)], [tensor(0.8361), tensor(0.7472)], [tensor(0.8927), tensor(0.6057)], [tensor(0.9034), tensor(0.7040)], [tensor(0.8514)], [tensor(0.9649), tensor(0.8793)], [tensor(0.8701), tensor(0.8626)], [tensor(0.7885), tensor(0.6751), tensor(0.6176)], [tensor(0.8942), tensor(0.8234), tensor(0.8187), tensor(0.7805), tensor(0.7724)], [], [tensor(0.8945), tensor(0.7375)], [tensor(0.6409), tensor(0.5746)], [tensor(0.8946), tensor(0.8863), tensor(0.8704)], [tensor(0.7642)], [tensor(0.8443), tensor(0.5093)], [tensor(0.9181), tensor(0.8544), tensor(0.5432)], [tensor(0.5502)], [tensor(0.7149)], [tensor(0.7889), tensor(0.7024), tensor(0.5957)], [], [tensor(0.9373), tensor(0.8641)], [tensor(0.8899), tensor(0.6379)], [tensor(0.5364)], [tensor(0.5555)], [tensor(0.8919), tensor(0.6293)], [tensor(0.9230), tensor(0.5304)], [tensor(0.7966), tensor(0.7816), tensor(0.7332)], [tensor(0.8958)], [tensor(0.8735), tensor(0.7315), tensor(0.7192), tensor(0.5243)], [tensor(0.8885), tensor(0.7527), tensor(0.6916)], [], [tensor(0.7887), tensor(0.6880)], [tensor(0.8683), tensor(0.8194)], [tensor(0.8057), tensor(0.6108)], [tensor(0.8911)], [tensor(0.5717), tensor(0.5703)], [tensor(0.8807), tensor(0.8131)], [tensor(0.8780), tensor(0.6710)], [tensor(0.9134), tensor(0.6210)], [tensor(0.9203), tensor(0.8500)], [tensor(0.9449), tensor(0.8875), tensor(0.7162)], [tensor(0.7904), tensor(0.7441)], [tensor(0.8952), tensor(0.8129)], [tensor(0.8663)], [tensor(0.9046)], [tensor(0.9379), tensor(0.7580)], [tensor(0.9260)], [tensor(0.9036)], [tensor(0.7878), tensor(0.7848), tensor(0.5485)], [tensor(0.7112)], [tensor(0.8572), tensor(0.5067)], [tensor(0.9290), tensor(0.5419)], [tensor(0.9057)], [tensor(0.8345)], [tensor(0.8428), tensor(0.7383), tensor(0.5987)], [tensor(0.8284), tensor(0.7529), tensor(0.5578)], [tensor(0.8241), tensor(0.6019), tensor(0.5481)], [tensor(0.8281), tensor(0.6022)], [tensor(0.9579), tensor(0.8936), tensor(0.6802)], [tensor(0.9091), tensor(0.7870), tensor(0.5463)], [tensor(0.9267), tensor(0.8128), tensor(0.6079)], [tensor(0.7586)], [tensor(0.7048)], [tensor(0.7519)], [tensor(0.9379), tensor(0.7038), tensor(0.6759)], [tensor(0.6673), tensor(0.5921)], [tensor(0.7863), tensor(0.6082)], [tensor(0.8774)], [tensor(0.8946)], [tensor(0.8116), tensor(0.7864)], [tensor(0.9228), tensor(0.8761)], [tensor(0.9212)], [tensor(0.8924), tensor(0.7799), tensor(0.6496)], [tensor(0.8008), tensor(0.7836)], [tensor(0.8476), tensor(0.7707)], [tensor(0.7645), tensor(0.6785)], [tensor(0.8574), tensor(0.8457)], [tensor(0.9321)], [tensor(0.8286), tensor(0.5480)], [tensor(0.8016), tensor(0.6294)], [tensor(0.8701), tensor(0.7815)], [tensor(0.7749), tensor(0.6737), tensor(0.6515)], [tensor(0.6666), tensor(0.5341)], [tensor(0.9074), tensor(0.8092), tensor(0.5342)], [tensor(0.8939), tensor(0.8619)], [tensor(0.8893)], [tensor(0.9096), tensor(0.7627)], [tensor(0.9084)], [tensor(0.9118), tensor(0.8147), tensor(0.6020)], [tensor(0.8709), tensor(0.8190), tensor(0.6242)], [tensor(0.8784), tensor(0.7532), tensor(0.6615)], [tensor(0.8961), tensor(0.8634)], [tensor(0.9276), tensor(0.8962), tensor(0.7445), tensor(0.5169)], [tensor(0.9034), tensor(0.8632), tensor(0.6438), tensor(0.6236)], [tensor(0.8693), tensor(0.7814)], [tensor(0.6854), tensor(0.6822)], [tensor(0.7814), tensor(0.7546), tensor(0.5329)], [tensor(0.8785), tensor(0.5454)], [tensor(0.6442), tensor(0.5335)], [tensor(0.9067), tensor(0.8727)], [tensor(0.7736), tensor(0.6315), tensor(0.5934)], [tensor(0.8441), tensor(0.7240)], [tensor(0.9222), tensor(0.7846), tensor(0.5093)], [tensor(0.8881), tensor(0.5495)]]\n"
          ],
          "name": "stdout"
        }
      ]
    },
    {
      "cell_type": "code",
      "metadata": {
        "id": "-FFcksfxOGq3",
        "colab_type": "code",
        "colab": {
          "base_uri": "https://localhost:8080/",
          "height": 55
        },
        "outputId": "a7e90af1-6bca-48fa-975a-2c87aefc6746"
      },
      "source": [
        "print(b3)"
      ],
      "execution_count": null,
      "outputs": [
        {
          "output_type": "stream",
          "text": [
            "[[tensor([ 11.9657,   2.6695, 123.0901,  15.1436]), tensor([201.8099,  68.6619, 234.3179, 101.1365]), tensor([231.0754, 182.1517, 255.7809, 193.0854]), tensor([ 13.5438, 158.7620, 211.6116, 176.9664])], [tensor([ 43.9703,   7.1465, 241.7280,  21.1045]), tensor([112.3136, 166.4566, 169.5984, 178.8831])], [tensor([536.6852, 731.8302, 682.0660, 765.4489]), tensor([  6.1892, 382.3308,  34.8848, 474.5214]), tensor([ 13.4813,  11.9538, 328.0172,  53.8548]), tensor([ 324.3607,  107.5657, 1054.6277,  144.4674])], [tensor([ 520.6955,   64.2909, 1033.8629,  144.3233])], [tensor([110.6345,   7.2259, 159.7248,  17.5395]), tensor([ 98.4184, 171.0920, 169.6729, 182.6293])], [tensor([383.9412, 471.7232, 498.4102, 491.3257]), tensor([  7.9441, 224.6968,  26.9644, 261.6542])], [tensor([ 10.9788,   3.5967, 182.4353,  21.1231]), tensor([ 11.6812, 218.3848,  72.7864, 228.9425])], [tensor([ 76.0477,   1.3982, 180.4203,  10.7196]), tensor([  2.1766,  69.5999,  10.7176, 120.2734])], [tensor([ 9.0720, 72.8696, 18.3988, 99.1041]), tensor([207.2427,  10.5540, 241.5918,  26.0786]), tensor([112.5370, 176.1500, 130.4373, 184.9498])], [tensor([  1.3753,  79.9942,   8.4511, 109.7356]), tensor([ 5.3101,  6.3687, 96.8888, 15.7133]), tensor([171.4595,   3.8332, 214.2073,  17.3102])], [tensor([ 55.5039,  29.4502, 217.9265,  42.6346]), tensor([ 81.0386, 205.9937, 114.4854, 224.0652]), tensor([159.0514, 206.5019, 192.6654, 223.8026])], [tensor([  2.2957,  57.8322,  13.7230, 110.6622]), tensor([ 13.4272, 205.4643, 226.6074, 218.6844])], [tensor([11.0546, 47.2447, 23.0545, 84.9425]), tensor([284.6219,  49.9911, 308.4200, 114.9379]), tensor([145.2041, 139.5708, 168.6535, 150.5212])], [], [tensor([  4.0251, 128.9012,  24.7914, 333.5992]), tensor([ 77.6671,  17.8345, 329.4190,  59.6802]), tensor([468.9776, 455.8232, 513.8925, 476.1159])], [tensor([ 89.1665,   4.0370, 304.8424,  17.9201])], [tensor([160.8455,   1.4164, 361.3837,  18.9467]), tensor([239.2357, 356.9668, 283.1240, 372.0177])], [tensor([198.3031,  19.4882, 302.8100,  43.4459])], [tensor([139.6939,  19.9828, 445.4116,  56.9407])], [tensor([136.4027,   9.3002, 379.8984,  37.1158]), tensor([203.7405, 275.9609, 315.5464, 298.1797]), tensor([ 13.4840,  95.2814,  34.4695, 172.0232])], [tensor([  9.5887, 146.4619,  27.5908, 210.6101]), tensor([ 84.9388,  28.2794, 132.9478,  47.6094]), tensor([449.9384,  27.3012, 489.6500,  47.0289])], [], [], [tensor([225.2270,  19.1265, 328.9028,  43.8640]), tensor([443.9410, 269.2301, 476.4704, 285.3282]), tensor([392.0194, 269.8588, 424.5764, 285.3935])], [tensor([187.1312,  28.6719, 424.3240,  61.6689])], [tensor([343.6065,  86.3213, 397.6664, 146.5659]), tensor([125.4028,   2.6594, 245.4603,  18.3478]), tensor([275.8793, 222.8690, 313.0445, 238.8199]), tensor([199.7976, 222.8064, 235.3742, 238.2395]), tensor([123.0403, 222.5272, 161.5490, 238.8317])], [tensor([226.4398, 387.1207, 583.6003, 416.5930]), tensor([ 6.1271, 23.5601, 28.5261, 93.2520]), tensor([539.6851,  15.5349, 933.9109,  97.0294]), tensor([121.5048, 388.9453, 178.7413, 413.6261])], [tensor([179.1287,  32.1210, 393.2229,  57.6731]), tensor([ 43.0039, 383.7728, 571.4222, 420.4058])], [tensor([  2.2407, 245.1519,  23.2482, 289.8932]), tensor([395.4788, 505.4044, 433.7431, 530.7736])], [tensor([287.7790,  49.9809, 536.3154,  78.8464]), tensor([  0.0000,   0.5954, 505.8670,  19.8488]), tensor([268.1842, 260.9694, 562.7663, 281.1893])], [tensor([  0.0000, 134.6760,  11.1004, 218.3282]), tensor([172.2878, 313.5742, 262.3092, 329.3059])], [tensor([139.0470,  12.4613, 550.2056,  46.9595]), tensor([271.7427, 368.3854, 420.0223, 395.2668])], [tensor([124.2918,   0.5353, 445.0495,  19.8459]), tensor([256.4483, 317.9359, 309.6132, 338.5604]), tensor([411.7869, 240.9267, 486.8602, 279.8210])], [tensor([139.9971,   1.5839, 215.3901,  11.1809]), tensor([ 7.3257, 37.6733, 80.8359, 93.3355])], [tensor([358.2668,  96.9566, 411.4589, 161.2089])], [tensor([151.7255,   4.0363, 239.7676,  23.2438]), tensor([326.5972,  82.9364, 389.9952, 113.6134])], [tensor([163.8635,   5.3987, 503.1970,  39.3345]), tensor([310.5398, 336.5266, 364.7030, 355.5145]), tensor([  5.4415, 135.0819,  26.6359, 248.4931]), tensor([178.2700, 335.8377, 228.7268, 356.0583]), tensor([ 45.3570, 335.7119,  90.6425, 356.3685]), tensor([577.7990, 336.3179, 638.2076, 357.5481])], [tensor([325.6710, 367.3455, 375.5616, 385.8174]), tensor([ 14.6362, 157.7550,  32.1877, 199.3953])], [tensor([238.1667,  21.1048, 572.0667,  50.9680]), tensor([626.2522, 385.1412, 784.6863, 429.4193])], [tensor([347.1657,  15.6294, 432.5147,  95.3789]), tensor([ 10.4866,  60.3409,  29.2138, 125.6768])], [tensor([  3.9958, 166.7439,  21.3371, 304.1430])], [tensor([581.3254,  59.2102, 681.5939, 115.7172]), tensor([ 20.3320,  21.0379, 266.1024,  51.6725])], [tensor([175.0987,   9.7018, 763.3329,  37.3951]), tensor([729.1975, 193.8144, 892.0046, 321.9490])], [tensor([ 58.4435,   2.2282, 176.0792,  11.8129]), tensor([ 32.5261, 140.5154, 222.8650, 151.8266]), tensor([ 3.8387, 53.4419, 12.7520, 91.4401])], [tensor([  0.6348, 102.3714,  14.0323, 191.6997]), tensor([294.5113, 327.6357, 367.5571, 341.8986]), tensor([182.5844, 327.6647, 257.2387, 341.8562]), tensor([ 79.3177, 326.5670, 136.3660, 342.1518]), tensor([412.9221, 326.8235, 472.7621, 341.8611])], [], [tensor([ 57.0950,   5.7162, 428.1685,  29.3009]), tensor([ 30.0128, 363.0375, 442.1093, 388.1377])], [tensor([ 86.6939,  39.2071, 981.4985, 110.5090]), tensor([ 807.3710, 1175.4346,  918.5724, 1235.7408])], [tensor([  3.6100, 575.6146, 127.9313, 604.3931]), tensor([259.8880,  13.4905, 689.5836,  56.8387]), tensor([438.1010, 560.2758, 509.5750, 593.1348])], [tensor([ 11.1806, 329.4219,  43.4050, 495.8093])], [tensor([  5.4799, 255.0692,  27.0591, 329.3020]), tensor([261.1179,  82.9889, 345.9826, 108.2685])], [tensor([217.9420,  85.8260, 284.6482, 112.8916]), tensor([ 36.7409,   7.4300, 255.9462,  24.9244]), tensor([217.2462,  98.9395, 284.1409, 112.2202])], [tensor([187.3494, 126.4507, 213.4755, 144.7841])], [tensor([ 16.8130,  19.5987, 305.2318,  48.3901])], [tensor([150.9972, 136.9839, 181.5259, 147.9479]), tensor([ 3.0223, 50.9289, 12.3473, 75.5045]), tensor([327.9255,  48.9853, 336.5483,  78.8555])], [], [tensor([ 66.8994,   2.5117, 208.7531,  12.8500]), tensor([  2.2393,  61.9242,  10.5441, 122.0984])], [tensor([107.0325,   1.8938, 168.0462,  13.8173]), tensor([ 27.0752,  27.4688,  40.1900, 145.1610])], [tensor([ 66.8244,  28.8286, 182.7983,  45.8343])], [tensor([227.1870, 491.0527, 435.3558, 512.2130])], [tensor([289.6147,   4.1956, 462.6957,  27.9132]), tensor([578.7070, 405.8654, 701.0605, 426.1805])], [tensor([ 82.5005,  13.5763, 403.8700,  38.6113]), tensor([ 68.7423, 220.5942, 468.8499, 243.5117])], [tensor([ 81.2608,  21.1817, 214.0482,  29.9638]), tensor([  5.0441,  42.4944,  14.7830, 139.3753]), tensor([ 61.2774,   3.0611, 230.5943,  17.5068])], [tensor([ 99.9743,   9.4186, 203.3414,  19.5264])], [tensor([ 92.8966,   1.8715, 184.0548,  12.8881]), tensor([  4.7277,  66.0251,  13.2689, 122.2435]), tensor([117.3845, 177.8997, 150.2135, 186.0291]), tensor([210.3959, 171.5107, 238.3329, 180.3765])], [tensor([ 63.0347,   6.5366, 203.6284,  19.7074]), tensor([ 5.4714, 49.4038, 15.1640, 71.2059]), tensor([258.2025,  46.9062, 266.3556,  72.6962])], [], [tensor([130.9864, 370.6966, 575.5576, 399.3503]), tensor([166.0710,  20.0430, 561.2202,  61.5579])], [tensor([105.7950,   0.7708, 183.0082,  10.1027]), tensor([  2.7723,  74.8417,  11.2883, 109.3870])], [tensor([  9.5602, 415.2745,  52.7076, 535.3168]), tensor([1628.9342,  242.2005, 1671.4158,  717.9311])], [tensor([353.5565,  46.0823, 473.2623, 253.1309])], [tensor([ 865.9927,  792.2454, 1321.6707,  888.4048]), tensor([ 415.1467,   59.1744, 1016.2659,  116.5380])], [tensor([230.4576, 269.8519, 386.6498, 297.8292]), tensor([235.2667,   3.8022, 382.5826,  21.5530])], [tensor([ 17.2738,   0.6148, 332.9679,  20.8939]), tensor([309.1510, 115.7392, 389.9588, 262.0851])], [tensor([  7.2822,   7.1121, 483.7387,  36.7052]), tensor([ 60.8323, 471.9879, 509.5193, 488.3798])], [tensor([189.4167,   5.8477, 419.8403,  32.4193]), tensor([360.9775,  82.3829, 544.3976, 193.2187])], [tensor([479.5753, 180.3324, 570.6905, 285.3465]), tensor([219.2554,   7.6745, 398.3133,  27.3272]), tensor([468.0789, 427.8288, 592.3066, 452.4972])], [tensor([ 92.7647,   1.1944, 171.6797,  11.1106]), tensor([ 94.4229,   0.7291, 170.7364,  22.1110])], [tensor([ 775.6298,  260.0777, 1237.9381,  673.6019]), tensor([  79.8775,   31.7567, 1153.1169,  146.5799])], [tensor([171.0109,   3.2999, 282.2081,  19.6453])], [tensor([254.1684,  66.3802, 316.4494, 176.1146])], [tensor([181.3486,   6.4700, 340.7542,  30.1566]), tensor([108.9185, 295.4539, 446.2885, 315.7945])], [tensor([407.2945, 274.0688, 558.6641, 415.9726])], [tensor([ 16.7351,  12.2703, 214.2457,  39.3048])], [tensor([125.4437, 317.5968, 216.1096, 379.2639]), tensor([214.3618, 318.8379, 375.6574, 345.3094]), tensor([131.4990, 316.0129, 383.1161, 364.1256])], [tensor([611.7329, 183.3179, 793.0194, 247.0954])], [tensor([163.4302,  17.2951, 825.1411,  66.6444]), tensor([ 59.2077, 658.4021, 894.8890, 706.1898])], [tensor([ 10.0923,   2.4583, 240.0896,  24.6476]), tensor([266.4089, 366.9647, 434.2172, 387.7754])], [tensor([ 96.1681,   7.3062, 529.5881,  38.4535])], [tensor([ 29.6083,  25.7248, 742.5881,  90.4463])], [tensor([291.7551,  28.1992, 486.9020,  59.6356]), tensor([325.9010,   4.8694, 469.9861,  28.3103]), tensor([286.7874,  11.2221, 511.3655,  67.3077])], [tensor([  0.0000, 240.4368,  14.8831, 265.8881]), tensor([ 72.2648,   0.0000, 241.5212,  23.0757]), tensor([334.3120, 303.3919, 391.6468, 386.6779])], [tensor([137.8714,  16.3733, 337.5284,  40.7906]), tensor([146.8662,  12.8129, 341.1370,  65.6773]), tensor([312.2426, 308.8540, 369.5117, 331.6346])], [tensor([105.9989, 231.0350, 196.0642, 246.6365]), tensor([172.8129,  10.3510, 290.6731,  39.1299])], [tensor([128.5692,  37.9496, 385.8001,  61.1226]), tensor([207.3496,   7.4921, 330.7296,  25.0815]), tensor([211.6573, 417.6201, 324.9511, 438.9785])], [tensor([225.5029,  76.6750, 254.3403, 115.8363]), tensor([ 99.0221, 182.2211, 128.6605, 191.5744]), tensor([100.9750,   1.6168, 127.6338,  10.9626])], [tensor([417.9860,   3.7533, 731.4086,  53.0217]), tensor([338.3625, 106.4197, 805.0872, 147.4143]), tensor([685.8625, 677.5911, 773.1380, 709.0691])], [tensor([ 87.9802,   1.9058, 155.7946,  25.2973])], [tensor([ 665.8003,   14.3085, 1060.1959,   78.6993])], [tensor([ 72.2799,  73.2619, 388.6136, 134.3303])], [tensor([360.6951, 122.7520, 423.0956, 164.0201]), tensor([132.5582,  12.7612, 180.6000,  29.7822]), tensor([121.1786, 257.2640, 192.9661, 277.6041])], [tensor([134.6162,   4.3260, 684.1008,  30.9240]), tensor([268.3179,  32.1306, 507.0526,  58.7860])], [tensor([1.9648e+02, 2.0823e-01, 3.1503e+02, 2.9480e+01]), tensor([ 99.5553, 394.5441, 330.9676, 410.9430])], [tensor([ 60.4050,  40.8435, 532.3370,  91.9034])], [tensor([ 77.8738,   5.9435, 202.5090,  15.4465])], [tensor([153.3541,   5.2184, 277.9192,  22.6360]), tensor([173.4513, 265.9012, 261.8691, 281.3800])], [tensor([ 72.0973,   3.4878, 177.8599,  17.1127]), tensor([ 73.0301, 182.0318, 176.1030, 193.3436])], [tensor([392.4624,  98.3199, 469.6039, 190.1618])], [tensor([ 71.5607,   3.2268, 378.2867,  29.9586]), tensor([  4.6340, 165.5373,  26.5737, 267.6323]), tensor([179.0965, 383.9713, 283.1008, 410.2759])], [tensor([ 15.4629, 126.6708,  39.4091, 226.5668]), tensor([272.5100, 350.7538, 371.5876, 370.8672])], [tensor([  1.8793,  84.8069,  13.1345, 130.9521]), tensor([ 89.4088, 205.2666, 155.3190, 217.8313])], [tensor([ 4.1857,  5.1282, 13.6632, 74.5048]), tensor([ 80.1634,  92.9799, 138.9106, 102.8054])], [tensor([141.6129, 176.4375, 190.8009, 187.2427]), tensor([ 0.9748, 66.0476, 10.6723, 99.9240])], [tensor([ 33.1093,   4.7266, 190.5136,  23.0725])], [tensor([  8.0838, 143.4975,  33.0088, 206.5952]), tensor([320.0158, 389.1831, 369.8320, 416.5125])], [tensor([ 3.2008, 63.9314, 14.6162, 92.5826]), tensor([142.7213, 173.6262, 164.3970, 186.0667])], [tensor([ 59.9274,  32.5429, 439.4497,  53.2317]), tensor([ 28.4342,  57.7611,  52.2723, 124.6516])], [tensor([  5.9879, 345.3155,  38.9656, 430.9444]), tensor([491.5555,   7.7656, 649.8735,  46.3718]), tensor([523.0954, 759.7570, 607.0154, 793.8244])], [tensor([  8.6515,  56.2512,  24.6946, 161.6105]), tensor([139.9747, 204.6476, 217.4832, 223.3678])], [tensor([ 90.8371,   1.4292, 207.4543,  15.0408]), tensor([  4.0195,  95.3982,  17.2917, 195.2512]), tensor([150.8286, 280.2589, 174.8077, 292.7589])], [tensor([226.7841, 398.2666, 323.4797, 412.8851]), tensor([  1.0644, 138.8379,  15.7564, 236.1005])], [tensor([143.8116,   9.0071, 238.6820,  26.4071])], [tensor([181.4188, 265.4818, 251.3095, 277.8949]), tensor([ 18.7944, 105.8065,  35.7496, 176.3482])], [tensor([ 28.3811,   0.0000, 177.8376,  10.6694])], [tensor([ 16.0255,   0.0000, 171.5226,  11.2981]), tensor([  0.7919,  76.6699,  11.1028, 132.5970]), tensor([ 65.2997, 234.8398, 136.4997, 247.8016])], [tensor([ 277.4439,   48.3729, 1000.2408,  101.0786]), tensor([  6.8355, 449.0835,  44.2287, 759.6313]), tensor([ 543.2933, 1123.7441,  712.6683, 1170.4749])], [tensor([398.2081, 187.7745, 463.7646, 264.1563]), tensor([12.1612, 12.6338, 31.7736, 63.2764]), tensor([336.9467, 447.4781, 393.4679, 468.1570])], [tensor([  1.2784, 300.1955,  24.3808, 472.0401]), tensor([148.7792,  13.4925, 861.5789,  53.1407])], [tensor([ 95.0945,  14.7701, 493.9038,  46.5995]), tensor([191.2897, 310.5750, 395.5748, 330.0400]), tensor([ 21.8836, 105.5842,  44.1354, 233.1178]), tensor([ 87.1686,  16.6970, 333.6658,  43.1587])], [tensor([334.9423,  12.7239, 858.4812,  57.5834]), tensor([ 993.2524,  232.9440, 1175.3254,  458.2415]), tensor([498.0350, 728.3687, 596.3459, 765.9998]), tensor([ 24.1203, 272.8126,  64.1817, 525.3545])], [tensor([931.3600,   4.8516, 997.2229, 100.3618]), tensor([453.1503, 595.1603, 529.9239, 616.1077])], [tensor([ 978.3644,   92.5946, 1234.6779,  171.5095]), tensor([ 137.5559,   11.1397, 1167.7596,   46.1966])], [tensor([ 20.8848, 442.8895,  68.6888, 678.5121]), tensor([353.4380,  17.0996, 883.8901,  80.4136]), tensor([  82.8951, 1097.8280, 1144.2686, 1161.4132])], [tensor([ 278.8914,   24.3170, 1132.2642,   80.6525]), tensor([ 445.1855,  716.1755, 1128.8846,  765.8646])], [tensor([ 493.7907,  237.3183, 1597.8444,  304.0670]), tensor([ 112.1553,  782.5818,  173.3116, 1032.5780])], [tensor([ 62.1445,  22.6003, 635.8018,  54.8616]), tensor([  3.9035, 166.8143,  23.0514, 263.4436])], [tensor([185.8521, 159.7388, 321.4677, 174.0256]), tensor([213.9215,   0.8123, 276.3553,  12.6278]), tensor([ 1.7040, 43.3583, 10.7389, 88.7072])], [tensor([196.0726, 447.9237, 391.1740, 574.6108]), tensor([227.8428,  26.9322, 352.4328,  54.6646])], [tensor([ 25.9677,  41.8642, 163.9853, 129.2905]), tensor([ 42.9289,  11.8118, 598.3184,  38.6968]), tensor([ 53.2947,  12.3736, 299.6661,  33.8083])], [tensor([494.8770,  56.6445, 804.4938,  92.2664]), tensor([234.4878, 284.2351, 262.7664, 409.0780])]]\n"
          ],
          "name": "stdout"
        }
      ]
    },
    {
      "cell_type": "code",
      "metadata": {
        "id": "DizJc032LPPm",
        "colab_type": "code",
        "colab": {
          "base_uri": "https://localhost:8080/",
          "height": 218
        },
        "outputId": "5988662a-c915-414f-f676-c98824416d50"
      },
      "source": [
        "s3 = [torch.cat(s) for s in s3]"
      ],
      "execution_count": null,
      "outputs": [
        {
          "output_type": "error",
          "ename": "RuntimeError",
          "evalue": "ignored",
          "traceback": [
            "\u001b[0;31m---------------------------------------------------------------------------\u001b[0m",
            "\u001b[0;31mRuntimeError\u001b[0m                              Traceback (most recent call last)",
            "\u001b[0;32m<ipython-input-21-07c7801118d1>\u001b[0m in \u001b[0;36m<module>\u001b[0;34m()\u001b[0m\n\u001b[0;32m----> 1\u001b[0;31m \u001b[0ms3\u001b[0m \u001b[0;34m=\u001b[0m \u001b[0;34m[\u001b[0m\u001b[0mtorch\u001b[0m\u001b[0;34m.\u001b[0m\u001b[0mcat\u001b[0m\u001b[0;34m(\u001b[0m\u001b[0ms\u001b[0m\u001b[0;34m)\u001b[0m \u001b[0;32mfor\u001b[0m \u001b[0ms\u001b[0m \u001b[0;32min\u001b[0m \u001b[0ms3\u001b[0m\u001b[0;34m]\u001b[0m\u001b[0;34m\u001b[0m\u001b[0;34m\u001b[0m\u001b[0m\n\u001b[0m",
            "\u001b[0;32m<ipython-input-21-07c7801118d1>\u001b[0m in \u001b[0;36m<listcomp>\u001b[0;34m(.0)\u001b[0m\n\u001b[0;32m----> 1\u001b[0;31m \u001b[0ms3\u001b[0m \u001b[0;34m=\u001b[0m \u001b[0;34m[\u001b[0m\u001b[0mtorch\u001b[0m\u001b[0;34m.\u001b[0m\u001b[0mcat\u001b[0m\u001b[0;34m(\u001b[0m\u001b[0ms\u001b[0m\u001b[0;34m)\u001b[0m \u001b[0;32mfor\u001b[0m \u001b[0ms\u001b[0m \u001b[0;32min\u001b[0m \u001b[0ms3\u001b[0m\u001b[0;34m]\u001b[0m\u001b[0;34m\u001b[0m\u001b[0;34m\u001b[0m\u001b[0m\n\u001b[0m",
            "\u001b[0;31mRuntimeError\u001b[0m: zero-dimensional tensor (at position 0) cannot be concatenated"
          ]
        }
      ]
    },
    {
      "cell_type": "code",
      "metadata": {
        "id": "ZJIBvyw1MgHE",
        "colab_type": "code",
        "colab": {}
      },
      "source": [
        "s3 = [torch.stack(s) if len(s) > 0 else None for s in s3]"
      ],
      "execution_count": null,
      "outputs": []
    },
    {
      "cell_type": "code",
      "metadata": {
        "id": "NAlyjmgdM6VU",
        "colab_type": "code",
        "colab": {
          "base_uri": "https://localhost:8080/",
          "height": 55
        },
        "outputId": "2e781dd2-6d80-4082-dbd7-2122eefbd826"
      },
      "source": [
        "print(s3)"
      ],
      "execution_count": null,
      "outputs": [
        {
          "output_type": "stream",
          "text": [
            "[tensor([0.9489, 0.9454, 0.7044, 0.5212]), tensor([0.8601, 0.7051]), tensor([0.8204, 0.7895, 0.7502, 0.5197]), tensor([0.6902]), tensor([0.7974, 0.7061]), tensor([0.7278, 0.6913]), tensor([0.8794, 0.6244]), tensor([0.8767, 0.8278]), tensor([0.7329, 0.7265, 0.6106]), tensor([0.8094, 0.8049, 0.6698]), tensor([0.7619, 0.6262, 0.5334]), tensor([0.8240, 0.6609]), tensor([0.7870, 0.7848, 0.7640]), None, tensor([0.8691, 0.8615, 0.7205]), tensor([0.9663]), tensor([0.9013, 0.8816]), tensor([0.6914]), tensor([0.9269]), tensor([0.9282, 0.8459, 0.6129]), tensor([0.7214, 0.5987, 0.5189]), None, None, tensor([0.7876, 0.5818, 0.5261]), tensor([0.8871]), tensor([0.9636, 0.9515, 0.6019, 0.5552, 0.5401]), tensor([0.8354, 0.8182, 0.6053, 0.5539]), tensor([0.9176, 0.7465]), tensor([0.8467, 0.5832]), tensor([0.9013, 0.5599, 0.5223]), tensor([0.7873, 0.7587]), tensor([0.9354, 0.8023]), tensor([0.8385, 0.7963, 0.6991]), tensor([0.8824, 0.7998]), tensor([0.8974]), tensor([0.8930, 0.7848]), tensor([0.8600, 0.7579, 0.7576, 0.7010, 0.6423, 0.6259]), tensor([0.8361, 0.7472]), tensor([0.8927, 0.6057]), tensor([0.9034, 0.7040]), tensor([0.8514]), tensor([0.9649, 0.8793]), tensor([0.8701, 0.8626]), tensor([0.7885, 0.6751, 0.6176]), tensor([0.8942, 0.8234, 0.8187, 0.7805, 0.7724]), None, tensor([0.8945, 0.7375]), tensor([0.6409, 0.5746]), tensor([0.8946, 0.8863, 0.8704]), tensor([0.7642]), tensor([0.8443, 0.5093]), tensor([0.9181, 0.8544, 0.5432]), tensor([0.5502]), tensor([0.7149]), tensor([0.7889, 0.7024, 0.5957]), None, tensor([0.9373, 0.8641]), tensor([0.8899, 0.6379]), tensor([0.5364]), tensor([0.5555]), tensor([0.8919, 0.6293]), tensor([0.9230, 0.5304]), tensor([0.7966, 0.7816, 0.7332]), tensor([0.8958]), tensor([0.8735, 0.7315, 0.7192, 0.5243]), tensor([0.8885, 0.7527, 0.6916]), None, tensor([0.7887, 0.6880]), tensor([0.8683, 0.8194]), tensor([0.8057, 0.6108]), tensor([0.8911]), tensor([0.5717, 0.5703]), tensor([0.8807, 0.8131]), tensor([0.8780, 0.6710]), tensor([0.9134, 0.6210]), tensor([0.9203, 0.8500]), tensor([0.9449, 0.8875, 0.7162]), tensor([0.7904, 0.7441]), tensor([0.8952, 0.8129]), tensor([0.8663]), tensor([0.9046]), tensor([0.9379, 0.7580]), tensor([0.9260]), tensor([0.9036]), tensor([0.7878, 0.7848, 0.5485]), tensor([0.7112]), tensor([0.8572, 0.5067]), tensor([0.9290, 0.5419]), tensor([0.9057]), tensor([0.8345]), tensor([0.8428, 0.7383, 0.5987]), tensor([0.8284, 0.7529, 0.5578]), tensor([0.8241, 0.6019, 0.5481]), tensor([0.8281, 0.6022]), tensor([0.9579, 0.8936, 0.6802]), tensor([0.9091, 0.7870, 0.5463]), tensor([0.9267, 0.8128, 0.6079]), tensor([0.7586]), tensor([0.7048]), tensor([0.7519]), tensor([0.9379, 0.7038, 0.6759]), tensor([0.6673, 0.5921]), tensor([0.7863, 0.6082]), tensor([0.8774]), tensor([0.8946]), tensor([0.8116, 0.7864]), tensor([0.9228, 0.8761]), tensor([0.9212]), tensor([0.8924, 0.7799, 0.6496]), tensor([0.8008, 0.7836]), tensor([0.8476, 0.7707]), tensor([0.7645, 0.6785]), tensor([0.8574, 0.8457]), tensor([0.9321]), tensor([0.8286, 0.5480]), tensor([0.8016, 0.6294]), tensor([0.8701, 0.7815]), tensor([0.7749, 0.6737, 0.6515]), tensor([0.6666, 0.5341]), tensor([0.9074, 0.8092, 0.5342]), tensor([0.8939, 0.8619]), tensor([0.8893]), tensor([0.9096, 0.7627]), tensor([0.9084]), tensor([0.9118, 0.8147, 0.6020]), tensor([0.8709, 0.8190, 0.6242]), tensor([0.8784, 0.7532, 0.6615]), tensor([0.8961, 0.8634]), tensor([0.9276, 0.8962, 0.7445, 0.5169]), tensor([0.9034, 0.8632, 0.6438, 0.6236]), tensor([0.8693, 0.7814]), tensor([0.6854, 0.6822]), tensor([0.7814, 0.7546, 0.5329]), tensor([0.8785, 0.5454]), tensor([0.6442, 0.5335]), tensor([0.9067, 0.8727]), tensor([0.7736, 0.6315, 0.5934]), tensor([0.8441, 0.7240]), tensor([0.9222, 0.7846, 0.5093]), tensor([0.8881, 0.5495])]\n"
          ],
          "name": "stdout"
        }
      ]
    },
    {
      "cell_type": "code",
      "metadata": {
        "id": "oPvljQSYOl_2",
        "colab_type": "code",
        "colab": {}
      },
      "source": [
        "b3 = [torch.stack(b) if len(b) > 0 else None for b in b3]"
      ],
      "execution_count": null,
      "outputs": []
    },
    {
      "cell_type": "code",
      "metadata": {
        "id": "fllt0stdOqeI",
        "colab_type": "code",
        "colab": {
          "base_uri": "https://localhost:8080/",
          "height": 1000
        },
        "outputId": "e57c3e19-7079-43b8-df24-6282644b4cf5"
      },
      "source": [
        "print(b3)"
      ],
      "execution_count": null,
      "outputs": [
        {
          "output_type": "stream",
          "text": [
            "[tensor([[ 11.9657,   2.6695, 123.0901,  15.1436],\n",
            "        [201.8099,  68.6619, 234.3179, 101.1365],\n",
            "        [231.0754, 182.1517, 255.7809, 193.0854],\n",
            "        [ 13.5438, 158.7620, 211.6116, 176.9664]]), tensor([[ 43.9703,   7.1465, 241.7280,  21.1045],\n",
            "        [112.3136, 166.4566, 169.5984, 178.8831]]), tensor([[ 536.6852,  731.8302,  682.0660,  765.4489],\n",
            "        [   6.1892,  382.3308,   34.8848,  474.5214],\n",
            "        [  13.4813,   11.9538,  328.0172,   53.8548],\n",
            "        [ 324.3607,  107.5657, 1054.6277,  144.4674]]), tensor([[ 520.6955,   64.2909, 1033.8629,  144.3233]]), tensor([[110.6345,   7.2259, 159.7248,  17.5395],\n",
            "        [ 98.4184, 171.0920, 169.6729, 182.6293]]), tensor([[383.9412, 471.7232, 498.4102, 491.3257],\n",
            "        [  7.9441, 224.6968,  26.9644, 261.6542]]), tensor([[ 10.9788,   3.5967, 182.4353,  21.1231],\n",
            "        [ 11.6812, 218.3848,  72.7864, 228.9425]]), tensor([[ 76.0477,   1.3982, 180.4203,  10.7196],\n",
            "        [  2.1766,  69.5999,  10.7176, 120.2734]]), tensor([[  9.0720,  72.8696,  18.3988,  99.1041],\n",
            "        [207.2427,  10.5540, 241.5918,  26.0786],\n",
            "        [112.5370, 176.1500, 130.4373, 184.9498]]), tensor([[  1.3753,  79.9942,   8.4511, 109.7356],\n",
            "        [  5.3101,   6.3687,  96.8888,  15.7133],\n",
            "        [171.4595,   3.8332, 214.2073,  17.3102]]), tensor([[ 55.5039,  29.4502, 217.9265,  42.6346],\n",
            "        [ 81.0386, 205.9937, 114.4854, 224.0652],\n",
            "        [159.0514, 206.5019, 192.6654, 223.8026]]), tensor([[  2.2957,  57.8322,  13.7230, 110.6622],\n",
            "        [ 13.4272, 205.4643, 226.6074, 218.6844]]), tensor([[ 11.0546,  47.2447,  23.0545,  84.9425],\n",
            "        [284.6219,  49.9911, 308.4200, 114.9379],\n",
            "        [145.2041, 139.5708, 168.6535, 150.5212]]), None, tensor([[  4.0251, 128.9012,  24.7914, 333.5992],\n",
            "        [ 77.6671,  17.8345, 329.4190,  59.6802],\n",
            "        [468.9776, 455.8232, 513.8925, 476.1159]]), tensor([[ 89.1665,   4.0370, 304.8424,  17.9201]]), tensor([[160.8455,   1.4164, 361.3837,  18.9467],\n",
            "        [239.2357, 356.9668, 283.1240, 372.0177]]), tensor([[198.3031,  19.4882, 302.8100,  43.4459]]), tensor([[139.6939,  19.9828, 445.4116,  56.9407]]), tensor([[136.4027,   9.3002, 379.8984,  37.1158],\n",
            "        [203.7405, 275.9609, 315.5464, 298.1797],\n",
            "        [ 13.4840,  95.2814,  34.4695, 172.0232]]), tensor([[  9.5887, 146.4619,  27.5908, 210.6101],\n",
            "        [ 84.9388,  28.2794, 132.9478,  47.6094],\n",
            "        [449.9384,  27.3012, 489.6500,  47.0289]]), None, None, tensor([[225.2270,  19.1265, 328.9028,  43.8640],\n",
            "        [443.9410, 269.2301, 476.4704, 285.3282],\n",
            "        [392.0194, 269.8588, 424.5764, 285.3935]]), tensor([[187.1312,  28.6719, 424.3240,  61.6689]]), tensor([[343.6065,  86.3213, 397.6664, 146.5659],\n",
            "        [125.4028,   2.6594, 245.4603,  18.3478],\n",
            "        [275.8793, 222.8690, 313.0445, 238.8199],\n",
            "        [199.7976, 222.8064, 235.3742, 238.2395],\n",
            "        [123.0403, 222.5272, 161.5490, 238.8317]]), tensor([[226.4398, 387.1207, 583.6003, 416.5930],\n",
            "        [  6.1271,  23.5601,  28.5261,  93.2520],\n",
            "        [539.6851,  15.5349, 933.9109,  97.0294],\n",
            "        [121.5048, 388.9453, 178.7413, 413.6261]]), tensor([[179.1287,  32.1210, 393.2229,  57.6731],\n",
            "        [ 43.0039, 383.7728, 571.4222, 420.4058]]), tensor([[  2.2407, 245.1519,  23.2482, 289.8932],\n",
            "        [395.4788, 505.4044, 433.7431, 530.7736]]), tensor([[287.7790,  49.9809, 536.3154,  78.8464],\n",
            "        [  0.0000,   0.5954, 505.8670,  19.8488],\n",
            "        [268.1842, 260.9694, 562.7663, 281.1893]]), tensor([[  0.0000, 134.6760,  11.1004, 218.3282],\n",
            "        [172.2878, 313.5742, 262.3092, 329.3059]]), tensor([[139.0470,  12.4613, 550.2056,  46.9595],\n",
            "        [271.7427, 368.3854, 420.0223, 395.2668]]), tensor([[124.2918,   0.5353, 445.0495,  19.8459],\n",
            "        [256.4483, 317.9359, 309.6132, 338.5604],\n",
            "        [411.7869, 240.9267, 486.8602, 279.8210]]), tensor([[139.9971,   1.5839, 215.3901,  11.1809],\n",
            "        [  7.3257,  37.6733,  80.8359,  93.3355]]), tensor([[358.2668,  96.9566, 411.4589, 161.2089]]), tensor([[151.7255,   4.0363, 239.7676,  23.2438],\n",
            "        [326.5972,  82.9364, 389.9952, 113.6134]]), tensor([[163.8635,   5.3987, 503.1970,  39.3345],\n",
            "        [310.5398, 336.5266, 364.7030, 355.5145],\n",
            "        [  5.4415, 135.0819,  26.6359, 248.4931],\n",
            "        [178.2700, 335.8377, 228.7268, 356.0583],\n",
            "        [ 45.3570, 335.7119,  90.6425, 356.3685],\n",
            "        [577.7990, 336.3179, 638.2076, 357.5481]]), tensor([[325.6710, 367.3455, 375.5616, 385.8174],\n",
            "        [ 14.6362, 157.7550,  32.1877, 199.3953]]), tensor([[238.1667,  21.1048, 572.0667,  50.9680],\n",
            "        [626.2522, 385.1412, 784.6863, 429.4193]]), tensor([[347.1657,  15.6294, 432.5147,  95.3789],\n",
            "        [ 10.4866,  60.3409,  29.2138, 125.6768]]), tensor([[  3.9958, 166.7439,  21.3371, 304.1430]]), tensor([[581.3254,  59.2102, 681.5939, 115.7172],\n",
            "        [ 20.3320,  21.0379, 266.1024,  51.6725]]), tensor([[175.0987,   9.7018, 763.3329,  37.3951],\n",
            "        [729.1975, 193.8144, 892.0046, 321.9490]]), tensor([[ 58.4435,   2.2282, 176.0792,  11.8129],\n",
            "        [ 32.5261, 140.5154, 222.8650, 151.8266],\n",
            "        [  3.8387,  53.4419,  12.7520,  91.4401]]), tensor([[  0.6348, 102.3714,  14.0323, 191.6997],\n",
            "        [294.5113, 327.6357, 367.5571, 341.8986],\n",
            "        [182.5844, 327.6647, 257.2387, 341.8562],\n",
            "        [ 79.3177, 326.5670, 136.3660, 342.1518],\n",
            "        [412.9221, 326.8235, 472.7621, 341.8611]]), None, tensor([[ 57.0950,   5.7162, 428.1685,  29.3009],\n",
            "        [ 30.0128, 363.0375, 442.1093, 388.1377]]), tensor([[  86.6939,   39.2071,  981.4985,  110.5090],\n",
            "        [ 807.3710, 1175.4346,  918.5724, 1235.7408]]), tensor([[  3.6100, 575.6146, 127.9313, 604.3931],\n",
            "        [259.8880,  13.4905, 689.5836,  56.8387],\n",
            "        [438.1010, 560.2758, 509.5750, 593.1348]]), tensor([[ 11.1806, 329.4219,  43.4050, 495.8093]]), tensor([[  5.4799, 255.0692,  27.0591, 329.3020],\n",
            "        [261.1179,  82.9889, 345.9826, 108.2685]]), tensor([[217.9420,  85.8260, 284.6482, 112.8916],\n",
            "        [ 36.7409,   7.4300, 255.9462,  24.9244],\n",
            "        [217.2462,  98.9395, 284.1409, 112.2202]]), tensor([[187.3494, 126.4507, 213.4755, 144.7841]]), tensor([[ 16.8130,  19.5987, 305.2318,  48.3901]]), tensor([[150.9972, 136.9839, 181.5259, 147.9479],\n",
            "        [  3.0223,  50.9289,  12.3473,  75.5045],\n",
            "        [327.9255,  48.9853, 336.5483,  78.8555]]), None, tensor([[ 66.8994,   2.5117, 208.7531,  12.8500],\n",
            "        [  2.2393,  61.9242,  10.5441, 122.0984]]), tensor([[107.0325,   1.8938, 168.0462,  13.8173],\n",
            "        [ 27.0752,  27.4688,  40.1900, 145.1610]]), tensor([[ 66.8244,  28.8286, 182.7983,  45.8343]]), tensor([[227.1870, 491.0527, 435.3558, 512.2130]]), tensor([[289.6147,   4.1956, 462.6957,  27.9132],\n",
            "        [578.7070, 405.8654, 701.0605, 426.1805]]), tensor([[ 82.5005,  13.5763, 403.8700,  38.6113],\n",
            "        [ 68.7423, 220.5942, 468.8499, 243.5117]]), tensor([[ 81.2608,  21.1817, 214.0482,  29.9638],\n",
            "        [  5.0441,  42.4944,  14.7830, 139.3753],\n",
            "        [ 61.2774,   3.0611, 230.5943,  17.5068]]), tensor([[ 99.9743,   9.4186, 203.3414,  19.5264]]), tensor([[ 92.8966,   1.8715, 184.0548,  12.8881],\n",
            "        [  4.7277,  66.0251,  13.2689, 122.2435],\n",
            "        [117.3845, 177.8997, 150.2135, 186.0291],\n",
            "        [210.3959, 171.5107, 238.3329, 180.3765]]), tensor([[ 63.0347,   6.5366, 203.6284,  19.7074],\n",
            "        [  5.4714,  49.4038,  15.1640,  71.2059],\n",
            "        [258.2025,  46.9062, 266.3556,  72.6962]]), None, tensor([[130.9864, 370.6966, 575.5576, 399.3503],\n",
            "        [166.0710,  20.0430, 561.2202,  61.5579]]), tensor([[105.7950,   0.7708, 183.0082,  10.1027],\n",
            "        [  2.7723,  74.8417,  11.2883, 109.3870]]), tensor([[   9.5602,  415.2745,   52.7076,  535.3168],\n",
            "        [1628.9342,  242.2005, 1671.4158,  717.9311]]), tensor([[353.5565,  46.0823, 473.2623, 253.1309]]), tensor([[ 865.9927,  792.2454, 1321.6707,  888.4048],\n",
            "        [ 415.1467,   59.1744, 1016.2659,  116.5380]]), tensor([[230.4576, 269.8519, 386.6498, 297.8292],\n",
            "        [235.2667,   3.8022, 382.5826,  21.5530]]), tensor([[ 17.2738,   0.6148, 332.9679,  20.8939],\n",
            "        [309.1510, 115.7392, 389.9588, 262.0851]]), tensor([[  7.2822,   7.1121, 483.7387,  36.7052],\n",
            "        [ 60.8323, 471.9879, 509.5193, 488.3798]]), tensor([[189.4167,   5.8477, 419.8403,  32.4193],\n",
            "        [360.9775,  82.3829, 544.3976, 193.2187]]), tensor([[479.5753, 180.3324, 570.6905, 285.3465],\n",
            "        [219.2554,   7.6745, 398.3133,  27.3272],\n",
            "        [468.0789, 427.8288, 592.3066, 452.4972]]), tensor([[ 92.7647,   1.1944, 171.6797,  11.1106],\n",
            "        [ 94.4229,   0.7291, 170.7364,  22.1110]]), tensor([[ 775.6298,  260.0777, 1237.9381,  673.6019],\n",
            "        [  79.8775,   31.7567, 1153.1169,  146.5799]]), tensor([[171.0109,   3.2999, 282.2081,  19.6453]]), tensor([[254.1684,  66.3802, 316.4494, 176.1146]]), tensor([[181.3486,   6.4700, 340.7542,  30.1566],\n",
            "        [108.9185, 295.4539, 446.2885, 315.7945]]), tensor([[407.2945, 274.0688, 558.6641, 415.9726]]), tensor([[ 16.7351,  12.2703, 214.2457,  39.3048]]), tensor([[125.4437, 317.5968, 216.1096, 379.2639],\n",
            "        [214.3618, 318.8379, 375.6574, 345.3094],\n",
            "        [131.4990, 316.0129, 383.1161, 364.1256]]), tensor([[611.7329, 183.3179, 793.0194, 247.0954]]), tensor([[163.4302,  17.2951, 825.1411,  66.6444],\n",
            "        [ 59.2077, 658.4021, 894.8890, 706.1898]]), tensor([[ 10.0923,   2.4583, 240.0896,  24.6476],\n",
            "        [266.4089, 366.9647, 434.2172, 387.7754]]), tensor([[ 96.1681,   7.3062, 529.5881,  38.4535]]), tensor([[ 29.6083,  25.7248, 742.5881,  90.4463]]), tensor([[291.7551,  28.1992, 486.9020,  59.6356],\n",
            "        [325.9010,   4.8694, 469.9861,  28.3103],\n",
            "        [286.7874,  11.2221, 511.3655,  67.3077]]), tensor([[  0.0000, 240.4368,  14.8831, 265.8881],\n",
            "        [ 72.2648,   0.0000, 241.5212,  23.0757],\n",
            "        [334.3120, 303.3919, 391.6468, 386.6779]]), tensor([[137.8714,  16.3733, 337.5284,  40.7906],\n",
            "        [146.8662,  12.8129, 341.1370,  65.6773],\n",
            "        [312.2426, 308.8540, 369.5117, 331.6346]]), tensor([[105.9989, 231.0350, 196.0642, 246.6365],\n",
            "        [172.8129,  10.3510, 290.6731,  39.1299]]), tensor([[128.5692,  37.9496, 385.8001,  61.1226],\n",
            "        [207.3496,   7.4921, 330.7296,  25.0815],\n",
            "        [211.6573, 417.6201, 324.9511, 438.9785]]), tensor([[225.5029,  76.6750, 254.3403, 115.8363],\n",
            "        [ 99.0221, 182.2211, 128.6605, 191.5744],\n",
            "        [100.9750,   1.6168, 127.6338,  10.9626]]), tensor([[417.9860,   3.7533, 731.4086,  53.0217],\n",
            "        [338.3625, 106.4197, 805.0872, 147.4143],\n",
            "        [685.8625, 677.5911, 773.1380, 709.0691]]), tensor([[ 87.9802,   1.9058, 155.7946,  25.2973]]), tensor([[ 665.8003,   14.3085, 1060.1959,   78.6993]]), tensor([[ 72.2799,  73.2619, 388.6136, 134.3303]]), tensor([[360.6951, 122.7520, 423.0956, 164.0201],\n",
            "        [132.5582,  12.7612, 180.6000,  29.7822],\n",
            "        [121.1786, 257.2640, 192.9661, 277.6041]]), tensor([[134.6162,   4.3260, 684.1008,  30.9240],\n",
            "        [268.3179,  32.1306, 507.0526,  58.7860]]), tensor([[1.9648e+02, 2.0823e-01, 3.1503e+02, 2.9480e+01],\n",
            "        [9.9555e+01, 3.9454e+02, 3.3097e+02, 4.1094e+02]]), tensor([[ 60.4050,  40.8435, 532.3370,  91.9034]]), tensor([[ 77.8738,   5.9435, 202.5090,  15.4465]]), tensor([[153.3541,   5.2184, 277.9192,  22.6360],\n",
            "        [173.4513, 265.9012, 261.8691, 281.3800]]), tensor([[ 72.0973,   3.4878, 177.8599,  17.1127],\n",
            "        [ 73.0301, 182.0318, 176.1030, 193.3436]]), tensor([[392.4624,  98.3199, 469.6039, 190.1618]]), tensor([[ 71.5607,   3.2268, 378.2867,  29.9586],\n",
            "        [  4.6340, 165.5373,  26.5737, 267.6323],\n",
            "        [179.0965, 383.9713, 283.1008, 410.2759]]), tensor([[ 15.4629, 126.6708,  39.4091, 226.5668],\n",
            "        [272.5100, 350.7538, 371.5876, 370.8672]]), tensor([[  1.8793,  84.8069,  13.1345, 130.9521],\n",
            "        [ 89.4088, 205.2666, 155.3190, 217.8313]]), tensor([[  4.1857,   5.1282,  13.6632,  74.5048],\n",
            "        [ 80.1634,  92.9799, 138.9106, 102.8054]]), tensor([[141.6129, 176.4375, 190.8009, 187.2427],\n",
            "        [  0.9748,  66.0476,  10.6723,  99.9240]]), tensor([[ 33.1093,   4.7266, 190.5136,  23.0725]]), tensor([[  8.0838, 143.4975,  33.0088, 206.5952],\n",
            "        [320.0158, 389.1831, 369.8320, 416.5125]]), tensor([[  3.2008,  63.9314,  14.6162,  92.5826],\n",
            "        [142.7213, 173.6262, 164.3970, 186.0667]]), tensor([[ 59.9274,  32.5429, 439.4497,  53.2317],\n",
            "        [ 28.4342,  57.7611,  52.2723, 124.6516]]), tensor([[  5.9879, 345.3155,  38.9656, 430.9444],\n",
            "        [491.5555,   7.7656, 649.8735,  46.3718],\n",
            "        [523.0954, 759.7570, 607.0154, 793.8244]]), tensor([[  8.6515,  56.2512,  24.6946, 161.6105],\n",
            "        [139.9747, 204.6476, 217.4832, 223.3678]]), tensor([[ 90.8371,   1.4292, 207.4543,  15.0408],\n",
            "        [  4.0195,  95.3982,  17.2917, 195.2512],\n",
            "        [150.8286, 280.2589, 174.8077, 292.7589]]), tensor([[226.7841, 398.2666, 323.4797, 412.8851],\n",
            "        [  1.0644, 138.8379,  15.7564, 236.1005]]), tensor([[143.8116,   9.0071, 238.6820,  26.4071]]), tensor([[181.4188, 265.4818, 251.3095, 277.8949],\n",
            "        [ 18.7944, 105.8065,  35.7496, 176.3482]]), tensor([[ 28.3811,   0.0000, 177.8376,  10.6694]]), tensor([[ 16.0255,   0.0000, 171.5226,  11.2981],\n",
            "        [  0.7919,  76.6699,  11.1028, 132.5970],\n",
            "        [ 65.2997, 234.8398, 136.4997, 247.8016]]), tensor([[ 277.4439,   48.3729, 1000.2408,  101.0786],\n",
            "        [   6.8355,  449.0835,   44.2287,  759.6313],\n",
            "        [ 543.2933, 1123.7441,  712.6683, 1170.4749]]), tensor([[398.2081, 187.7745, 463.7646, 264.1563],\n",
            "        [ 12.1612,  12.6338,  31.7736,  63.2764],\n",
            "        [336.9467, 447.4781, 393.4679, 468.1570]]), tensor([[  1.2784, 300.1955,  24.3808, 472.0401],\n",
            "        [148.7792,  13.4925, 861.5789,  53.1407]]), tensor([[ 95.0945,  14.7701, 493.9038,  46.5995],\n",
            "        [191.2897, 310.5750, 395.5748, 330.0400],\n",
            "        [ 21.8836, 105.5842,  44.1354, 233.1178],\n",
            "        [ 87.1686,  16.6970, 333.6658,  43.1587]]), tensor([[ 334.9423,   12.7239,  858.4812,   57.5834],\n",
            "        [ 993.2524,  232.9440, 1175.3254,  458.2415],\n",
            "        [ 498.0350,  728.3687,  596.3459,  765.9998],\n",
            "        [  24.1203,  272.8126,   64.1817,  525.3545]]), tensor([[931.3600,   4.8516, 997.2229, 100.3618],\n",
            "        [453.1503, 595.1603, 529.9239, 616.1077]]), tensor([[ 978.3644,   92.5946, 1234.6779,  171.5095],\n",
            "        [ 137.5559,   11.1397, 1167.7596,   46.1966]]), tensor([[  20.8848,  442.8895,   68.6888,  678.5121],\n",
            "        [ 353.4380,   17.0996,  883.8901,   80.4136],\n",
            "        [  82.8951, 1097.8280, 1144.2686, 1161.4132]]), tensor([[ 278.8914,   24.3170, 1132.2642,   80.6525],\n",
            "        [ 445.1855,  716.1755, 1128.8846,  765.8646]]), tensor([[ 493.7907,  237.3183, 1597.8444,  304.0670],\n",
            "        [ 112.1553,  782.5818,  173.3116, 1032.5780]]), tensor([[ 62.1445,  22.6003, 635.8018,  54.8616],\n",
            "        [  3.9035, 166.8143,  23.0514, 263.4436]]), tensor([[185.8521, 159.7388, 321.4677, 174.0256],\n",
            "        [213.9215,   0.8123, 276.3553,  12.6278],\n",
            "        [  1.7040,  43.3583,  10.7389,  88.7072]]), tensor([[196.0726, 447.9237, 391.1740, 574.6108],\n",
            "        [227.8428,  26.9322, 352.4328,  54.6646]]), tensor([[ 25.9677,  41.8642, 163.9853, 129.2905],\n",
            "        [ 42.9289,  11.8118, 598.3184,  38.6968],\n",
            "        [ 53.2947,  12.3736, 299.6661,  33.8083]]), tensor([[494.8770,  56.6445, 804.4938,  92.2664],\n",
            "        [234.4878, 284.2351, 262.7664, 409.0780]])]\n"
          ],
          "name": "stdout"
        }
      ]
    },
    {
      "cell_type": "code",
      "metadata": {
        "id": "dTa_DE1PNA85",
        "colab_type": "code",
        "colab": {
          "base_uri": "https://localhost:8080/",
          "height": 35
        },
        "outputId": "3164797f-042c-41ca-b575-bf24869b8d02"
      },
      "source": [
        "print(len(s3))"
      ],
      "execution_count": null,
      "outputs": [
        {
          "output_type": "stream",
          "text": [
            "140\n"
          ],
          "name": "stdout"
        }
      ]
    },
    {
      "cell_type": "code",
      "metadata": {
        "id": "hfo_vepdVyoW",
        "colab_type": "code",
        "colab": {
          "base_uri": "https://localhost:8080/",
          "height": 55
        },
        "outputId": "16f93e7d-dba8-4b98-effb-c5e303ddc922"
      },
      "source": [
        "print(l2)"
      ],
      "execution_count": null,
      "outputs": [
        {
          "output_type": "stream",
          "text": [
            "['title', 'legend', 'axis label', 'legend', 'title', 'legend', 'axis label', 'axis label', 'title', 'legend', 'title', 'title', 'legend', 'axis label', 'axis label', 'title', 'axis label', 'title', 'axis label', 'axis label', 'legend', 'axis label', 'axis label', 'title', 'title', 'legend', 'axis label', 'axis label', 'axis label', 'legend', 'axis label', 'legend', 'axis label', 'axis label', 'legend', 'axis label', 'title', 'title', 'axis label', 'title', 'title', 'title', 'legend', 'axis label', 'axis label', 'title', 'title', 'title', 'axis label', 'axis label', 'title', 'legend', 'title', 'axis label', 'axis label', 'axis label', 'legend', 'axis label', 'title', 'axis label', 'title', 'legend', 'axis label', 'axis label', 'legend', 'title', 'axis label', 'axis label', 'axis label', 'title', 'legend', 'title', 'axis label', 'legend', 'title', 'legend', 'legend', 'title', 'legend', 'title', 'axis label', 'axis label', 'axis label', 'axis label', 'axis label', 'axis label', 'axis label', 'title', 'legend', 'legend', 'axis label', 'axis label', 'legend', 'title', 'title', 'legend', 'title', 'legend', 'axis label', 'axis label', 'axis label', 'axis label', 'axis label', 'axis label', 'title', 'legend', 'title', 'axis label', 'axis label', 'title', 'axis label', 'axis label', 'axis label', 'axis label', 'legend', 'title', 'legend', 'legend', 'title', 'axis label', 'axis label', 'axis label', 'title', 'axis label', 'title', 'axis label', 'title', 'axis label', 'title', 'axis label', 'title', 'legend', 'legend', 'axis label', 'title', 'title', 'title', 'axis label', 'axis label', 'axis label', 'title', 'axis label', 'axis label', 'legend', 'title', 'title', 'axis label', 'axis label', 'axis label', 'legend', 'legend', 'title', 'legend', 'title', 'title', 'legend', 'title', 'axis label', 'title', 'legend', 'legend', 'title', 'legend', 'title', 'title', 'legend', 'title', 'title', 'legend', 'title', 'legend', 'legend', 'title', 'legend', 'legend', 'legend', 'legend', 'title', 'legend', 'title', 'axis label', 'title', 'title', 'legend', 'title', 'legend', 'axis label', 'title', 'legend', 'title', 'title', 'axis label', 'axis label', 'title', 'legend', 'title', 'axis label', 'legend', 'axis label', 'title', 'title', 'legend', 'axis label', 'title', 'title', 'title', 'legend', 'title', 'axis label', 'title', 'legend', 'title', 'axis label', 'title', 'title', 'title', 'axis label', 'title', 'legend', 'legend', 'title', 'axis label', 'axis label', 'axis label', 'axis label', 'axis label', 'axis label', 'axis label', 'axis label', 'axis label', 'axis label', 'title', 'axis label', 'axis label', 'axis label', 'axis label', 'title', 'axis label', 'axis label', 'title', 'axis label', 'axis label', 'axis label', 'title', 'axis label', 'axis label', 'axis label', 'axis label', 'title', 'axis label', 'axis label', 'title', 'title', 'axis label', 'axis label', 'title', 'axis label', 'axis label', 'legend', 'axis label', 'axis label', 'axis label', 'title', 'title', 'legend', 'axis label', 'title', 'title', 'legend', 'axis label', 'axis label', 'legend', 'axis label', 'legend', 'title', 'axis label', 'title', 'legend', 'title', 'legend', 'title', 'axis label', 'title', 'axis label', 'legend', 'title', 'axis label', 'legend', 'title', 'legend', 'title', 'title', 'title', 'axis label']\n"
          ],
          "name": "stdout"
        }
      ]
    },
    {
      "cell_type": "code",
      "metadata": {
        "id": "lcUonU9GXFbO",
        "colab_type": "code",
        "colab": {}
      },
      "source": [
        "l =[]\n",
        "b=[]\n",
        "s=[]\n",
        "for image in images:\n",
        "  pred2 = model2.predict(image)\n",
        "  labels2, boxes2, scores2 = pred2\n",
        "  l.append(labels2)\n",
        "  b.append(boxes2)\n",
        "  s.append(scores2)"
      ],
      "execution_count": 51,
      "outputs": []
    },
    {
      "cell_type": "code",
      "metadata": {
        "id": "FD2Gtg1voS8Z",
        "colab_type": "code",
        "colab": {}
      },
      "source": [
        "voc_labels = ('title', 'legend', 'axis label')\n",
        "label_map = {k: v + 1 for v, k in enumerate(voc_labels)}"
      ],
      "execution_count": 52,
      "outputs": []
    },
    {
      "cell_type": "code",
      "metadata": {
        "id": "s5Pv5pGAt5c7",
        "colab_type": "code",
        "colab": {
          "base_uri": "https://localhost:8080/",
          "height": 35
        },
        "outputId": "237fb1dc-45dc-4fa2-fd8c-097e092dd526"
      },
      "source": [
        "print(label_map)"
      ],
      "execution_count": 53,
      "outputs": [
        {
          "output_type": "stream",
          "text": [
            "{'title': 1, 'legend': 2, 'axis label': 3}\n"
          ],
          "name": "stdout"
        }
      ]
    },
    {
      "cell_type": "code",
      "metadata": {
        "id": "Qp4w_haUS0DY",
        "colab_type": "code",
        "colab": {}
      },
      "source": [
        "label_map['background']=0"
      ],
      "execution_count": 54,
      "outputs": []
    },
    {
      "cell_type": "code",
      "metadata": {
        "id": "XczPnfhVS4Vu",
        "colab_type": "code",
        "colab": {
          "base_uri": "https://localhost:8080/",
          "height": 35
        },
        "outputId": "8f6e8c6a-54e8-4f92-9b40-01a2766657be"
      },
      "source": [
        "print(label_map)"
      ],
      "execution_count": 55,
      "outputs": [
        {
          "output_type": "stream",
          "text": [
            "{'title': 1, 'legend': 2, 'axis label': 3, 'background': 0}\n"
          ],
          "name": "stdout"
        }
      ]
    },
    {
      "cell_type": "code",
      "metadata": {
        "id": "T_yjwgHmadbo",
        "colab_type": "code",
        "colab": {
          "base_uri": "https://localhost:8080/",
          "height": 55
        },
        "outputId": "2735795a-fdf8-43cb-c612-f31f2c90ca84"
      },
      "source": [
        "print(l)"
      ],
      "execution_count": 56,
      "outputs": [
        {
          "output_type": "stream",
          "text": [
            "[['axis label', 'title', 'legend', 'legend'], ['legend', 'axis label', 'axis label', 'legend'], ['axis label', 'legend', 'axis label', 'title'], ['axis label', 'legend', 'axis label', 'legend', 'legend', 'legend', 'legend', 'legend'], ['legend', 'title'], ['legend', 'title'], ['title', 'axis label', 'title', 'legend', 'legend', 'axis label', 'legend'], ['title', 'axis label', 'title', 'legend', 'legend', 'title', 'legend'], ['title', 'title', 'axis label', 'legend', 'legend', 'axis label', 'axis label', 'legend', 'legend', 'legend', 'legend', 'title', 'legend', 'legend'], ['title', 'axis label', 'axis label', 'legend', 'legend', 'legend', 'legend', 'title', 'axis label', 'axis label', 'legend'], ['axis label', 'legend', 'axis label', 'legend', 'legend', 'legend', 'legend', 'legend', 'title', 'legend', 'title', 'legend', 'title', 'legend', 'legend', 'axis label', 'legend'], ['title', 'axis label', 'legend', 'legend', 'title', 'legend', 'axis label', 'axis label', 'axis label', 'axis label', 'legend'], ['title', 'legend', 'axis label', 'title', 'title'], ['title'], ['title', 'legend', 'title'], ['axis label', 'axis label', 'legend'], ['axis label', 'axis label', 'axis label'], ['title', 'legend', 'axis label'], ['title', 'legend', 'title', 'axis label', 'axis label'], ['axis label', 'title', 'axis label', 'axis label', 'axis label', 'axis label', 'title', 'title', 'axis label'], ['title', 'legend', 'legend'], ['title', 'axis label', 'legend', 'title'], ['title', 'axis label', 'title', 'legend', 'axis label'], ['title'], ['title', 'legend', 'legend', 'legend', 'axis label', 'legend', 'axis label', 'legend', 'legend', 'axis label'], ['legend', 'title', 'legend', 'legend', 'legend'], ['legend', 'axis label', 'axis label', 'axis label', 'axis label', 'axis label', 'axis label', 'axis label'], ['title', 'legend', 'axis label'], ['title', 'axis label', 'axis label', 'axis label', 'legend', 'axis label', 'axis label', 'axis label'], ['axis label', 'axis label', 'axis label', 'axis label'], ['legend', 'axis label', 'legend', 'axis label', 'title', 'legend', 'legend'], ['title', 'legend', 'axis label', 'axis label', 'title', 'axis label', 'axis label', 'title', 'legend', 'axis label'], ['axis label', 'axis label', 'axis label', 'axis label', 'axis label', 'axis label', 'legend', 'legend', 'title'], ['axis label', 'title', 'axis label', 'axis label', 'title', 'title', 'axis label'], ['title', 'axis label', 'legend', 'legend', 'title', 'legend', 'legend', 'legend', 'title'], ['title', 'legend', 'axis label'], ['legend', 'title', 'title'], ['title', 'axis label', 'axis label', 'axis label', 'axis label', 'axis label', 'axis label', 'axis label', 'axis label', 'axis label', 'axis label', 'axis label', 'axis label', 'axis label', 'axis label', 'legend', 'legend'], ['axis label', 'legend', 'title', 'axis label', 'legend', 'legend'], ['title', 'axis label', 'title', 'title', 'title'], ['title', 'legend', 'title'], ['title', 'legend', 'legend', 'legend', 'legend', 'axis label', 'axis label', 'axis label'], ['legend', 'legend', 'legend'], ['axis label', 'axis label', 'axis label'], ['title', 'axis label', 'axis label', 'legend'], ['title', 'legend', 'legend'], ['title', 'axis label', 'axis label', 'title', 'title'], ['title', 'legend', 'legend', 'axis label'], ['title', 'axis label', 'axis label'], ['title', 'legend', 'axis label', 'axis label', 'axis label', 'title'], ['title', 'title', 'title', 'legend', 'axis label', 'legend', 'axis label', 'legend', 'axis label', 'axis label', 'legend', 'title', 'axis label', 'legend', 'legend', 'axis label'], ['legend', 'title', 'legend'], ['title', 'axis label', 'axis label', 'axis label', 'axis label'], ['title', 'axis label', 'axis label', 'axis label'], ['title', 'axis label', 'axis label', 'axis label', 'axis label', 'legend', 'axis label', 'legend'], ['axis label', 'axis label'], ['legend', 'title', 'title', 'legend', 'title', 'legend'], ['title', 'title', 'axis label', 'legend'], ['legend', 'legend', 'legend', 'legend', 'axis label', 'axis label', 'legend', 'legend', 'axis label', 'legend'], ['title', 'legend', 'axis label', 'axis label', 'title', 'axis label', 'legend', 'legend', 'axis label', 'title'], ['title', 'legend'], ['title'], ['legend', 'legend'], ['title', 'axis label', 'title', 'legend', 'legend', 'axis label', 'axis label', 'legend', 'legend', 'legend', 'title', 'title'], ['legend', 'legend', 'legend', 'legend', 'axis label'], ['title', 'legend', 'title', 'axis label'], ['title', 'legend', 'legend', 'title', 'title', 'title', 'legend', 'legend', 'legend', 'axis label'], ['title', 'axis label', 'legend', 'axis label', 'legend', 'title', 'title'], ['legend', 'title', 'title', 'legend', 'legend', 'legend', 'legend', 'legend', 'title', 'legend', 'legend', 'legend', 'legend', 'legend'], ['legend', 'title', 'title', 'axis label', 'legend', 'legend', 'title', 'title'], ['legend', 'legend', 'legend', 'legend', 'legend'], ['legend', 'title', 'title', 'legend', 'title', 'axis label', 'axis label'], ['title', 'legend', 'title', 'title', 'axis label', 'legend'], ['title', 'legend', 'title', 'legend', 'axis label', 'axis label', 'title', 'legend'], ['title', 'axis label', 'axis label', 'title', 'title', 'legend', 'legend', 'legend'], ['title', 'legend', 'axis label'], ['legend', 'title', 'axis label', 'title', 'axis label', 'legend', 'legend', 'axis label', 'legend', 'axis label'], ['title'], ['title', 'legend', 'axis label', 'legend', 'legend', 'legend'], ['legend', 'title', 'legend', 'axis label', 'axis label', 'legend', 'legend'], ['title', 'title', 'title', 'axis label', 'legend'], ['title', 'legend', 'axis label', 'title', 'legend', 'axis label', 'title', 'title', 'title', 'legend', 'legend', 'axis label'], ['title', 'legend', 'axis label', 'legend', 'title', 'legend', 'legend', 'title'], ['title', 'axis label'], ['legend', 'title', 'axis label', 'legend', 'title', 'axis label', 'legend', 'axis label', 'axis label', 'title', 'axis label', 'legend'], ['title', 'legend'], ['legend', 'axis label', 'title', 'axis label', 'axis label'], ['legend', 'title', 'axis label', 'legend', 'legend', 'title', 'axis label', 'legend', 'legend'], ['title', 'axis label', 'axis label'], ['title'], ['axis label', 'axis label', 'legend'], ['axis label', 'axis label'], ['axis label', 'axis label', 'title', 'axis label'], ['title', 'axis label', 'axis label', 'legend', 'title', 'axis label', 'axis label', 'legend'], ['title', 'axis label', 'axis label'], ['axis label', 'axis label'], ['axis label', 'title', 'axis label', 'axis label', 'axis label', 'axis label', 'legend', 'axis label'], ['axis label', 'axis label', 'title', 'axis label'], ['axis label', 'legend', 'axis label', 'legend', 'legend', 'legend', 'legend'], ['title', 'legend', 'axis label', 'axis label', 'axis label', 'title', 'axis label', 'axis label'], ['title', 'axis label', 'axis label'], ['legend', 'axis label', 'axis label'], ['title', 'axis label', 'axis label', 'legend', 'legend', 'axis label'], ['title'], ['legend'], ['legend'], ['title'], ['legend', 'axis label', 'axis label'], ['title'], ['legend'], ['legend', 'axis label', 'axis label'], ['title', 'legend', 'axis label', 'axis label', 'legend'], ['axis label', 'title', 'legend'], ['legend', 'axis label'], ['legend', 'legend', 'axis label', 'axis label'], ['axis label', 'axis label'], ['axis label'], ['axis label', 'axis label'], ['axis label'], ['title', 'legend'], ['title', 'legend', 'legend'], ['title', 'legend'], ['title', 'legend'], ['legend'], ['title'], ['legend', 'legend'], ['legend'], ['title', 'axis label'], ['title', 'axis label', 'axis label', 'legend', 'legend'], ['title', 'axis label'], ['axis label'], ['title', 'axis label', 'legend', 'axis label', 'legend', 'axis label', 'axis label', 'legend', 'legend', 'axis label', 'title'], ['title', 'axis label', 'legend', 'axis label', 'legend'], ['axis label', 'title', 'axis label', 'legend', 'legend'], ['legend', 'axis label'], ['axis label', 'title', 'title', 'title', 'title'], ['legend', 'title', 'axis label', 'axis label', 'axis label', 'legend', 'axis label'], ['legend', 'title', 'axis label', 'axis label', 'axis label'], ['legend', 'title', 'title', 'title', 'legend', 'title'], ['axis label', 'axis label', 'title', 'axis label', 'legend', 'title', 'axis label', 'axis label', 'axis label', 'title', 'axis label', 'legend', 'axis label', 'axis label']]\n"
          ],
          "name": "stdout"
        }
      ]
    },
    {
      "cell_type": "code",
      "metadata": {
        "id": "tdje0k557q3h",
        "colab_type": "code",
        "colab": {
          "base_uri": "https://localhost:8080/",
          "height": 1000
        },
        "outputId": "e820b706-d735-4078-f884-862b956ac9b5"
      },
      "source": [
        "print(b)"
      ],
      "execution_count": 57,
      "outputs": [
        {
          "output_type": "stream",
          "text": [
            "[tensor([[  1.9429,  69.0572,  10.9824, 121.5126],\n",
            "        [ 77.6239,   1.8518, 178.3052,  11.3331],\n",
            "        [ 46.3004, 186.0689, 200.4930, 193.9429],\n",
            "        [ 20.3411, 178.5938, 240.2992, 192.4227]]), tensor([[285.7229,  47.9726, 306.0532, 117.5793],\n",
            "        [ 10.8692,  46.0233,  23.7261,  87.7025],\n",
            "        [144.6022, 140.0529, 169.7871, 151.4467],\n",
            "        [122.4631, 126.5984, 272.3184, 142.2207]]), tensor([[  9.6318,  74.5792,  18.8500, 101.2757],\n",
            "        [207.6347,   9.5715, 243.6919,  26.7085],\n",
            "        [112.5780, 176.2903, 130.1387, 185.4605],\n",
            "        [ 15.5643,   8.6006,  41.8390,  17.2085]]), tensor([[  5.9728, 129.2627,  26.8694, 322.7870],\n",
            "        [ 79.8122,  26.6036, 332.4840,  62.2616],\n",
            "        [468.4583, 456.7701, 511.8047, 476.0859],\n",
            "        [166.8498,  20.0880, 221.0038,  46.8189],\n",
            "        [154.3754,  32.6758, 322.5710,  58.4081],\n",
            "        [178.0225,  21.6237, 318.0770,  46.0568],\n",
            "        [ 51.9899,  20.7071, 363.8686,  44.3745],\n",
            "        [ 64.7097,  42.4063, 359.3276,  61.4601]]), tensor([[  4.8229, 168.3959, 244.8753, 183.9275],\n",
            "        [ 26.1853, 168.1310, 243.1131, 183.2063]]), tensor([[110.3937, 167.4943, 171.3368, 179.6211],\n",
            "        [ 39.6674,   7.5641, 235.0142,  21.5895]]), tensor([[  4.8170,   6.5484,  97.5690,  16.1542],\n",
            "        [  1.3557,  78.9426,   9.3272, 110.7478],\n",
            "        [172.6496,   4.2235, 213.7361,  15.9353],\n",
            "        [ 42.1958,  20.8488, 193.9418,  33.0674],\n",
            "        [ 40.3717,  20.9505, 124.4873,  30.7174],\n",
            "        [ 95.9145, 157.7887, 130.8701, 165.7186],\n",
            "        [174.5473,   4.4632, 216.4123,  16.1897]]), tensor([[  5.7170,   3.4869, 184.4263,  24.3226],\n",
            "        [ 11.0004, 218.2153,  73.2926, 230.4194],\n",
            "        [ 11.0087,   5.7694, 180.3831,  16.2958],\n",
            "        [ 12.0325, 218.9394,  77.2389, 229.7344],\n",
            "        [  7.0861,  15.9922, 147.9800,  28.3994],\n",
            "        [  7.7370,  15.3603, 146.4121,  28.5348],\n",
            "        [  7.7227,   8.9533, 194.1815,  29.4916]]), tensor([[ 543.9197,   67.6336, 1071.1786,  148.4225],\n",
            "        [  20.8003,  996.1124,  388.6764, 1069.2115],\n",
            "        [  35.7026,  999.7652,  366.6737, 1071.5352],\n",
            "        [ 861.7183,  781.5109, 1516.5792,  870.3234],\n",
            "        [1076.7084, 1000.1715, 1566.8588, 1062.8191],\n",
            "        [   2.9623,  422.8285,   64.8429,  501.4373],\n",
            "        [1101.5095, 1015.5381, 1556.2913, 1055.8899],\n",
            "        [  13.7365,  997.4884, 1568.8267, 1065.0446],\n",
            "        [ 138.5577,  785.9474, 1571.2979,  884.0215],\n",
            "        [ 110.4850,  796.6522,  850.3582,  860.4009],\n",
            "        [ 422.0977,  792.7209, 1162.7307,  884.2922],\n",
            "        [1088.6515, 1014.5750, 1590.5377, 1054.6874],\n",
            "        [1203.7664,  786.3093, 1475.5891,  842.6425],\n",
            "        [ 605.7463,  788.3470, 1492.9651,  844.0110]]), tensor([[  16.9064,   11.3204,  322.8407,   47.5002],\n",
            "        [ 537.5062,  728.6373,  680.3953,  763.8749],\n",
            "        [   7.0552,  381.5605,   37.2968,  478.1438],\n",
            "        [ 339.7748,  106.4737, 1033.4431,  143.1024],\n",
            "        [  21.6643,  105.1926,  480.9502,  146.1543],\n",
            "        [ 167.4900,  105.0673,  750.3760,  144.3341],\n",
            "        [  84.6504,   81.7850, 1118.3629,  163.3543],\n",
            "        [  16.4134,   37.1959,  302.1281,   61.9432],\n",
            "        [ 373.9127,  108.9143,  879.8404,  140.6467],\n",
            "        [ 924.2844,  109.6270, 1057.1759,  138.6553],\n",
            "        [  12.3671,   14.9594,  363.9353,  210.9436]]), tensor([[  6.8381, 224.3863,  29.1783, 265.7878],\n",
            "        [  5.8394,   7.0999, 252.5799,  32.1113],\n",
            "        [379.1363, 471.5269, 501.7396, 492.5533],\n",
            "        [  0.0000,   8.6989, 525.3486,  29.5273],\n",
            "        [198.5776,   5.3671, 249.9681,  29.5162],\n",
            "        [442.2212,   5.7312, 498.0999,  30.2826],\n",
            "        [ 21.5746,   4.8243, 152.7560,  31.6560],\n",
            "        [ 24.5054,  10.8783, 354.4121,  38.7191],\n",
            "        [ 13.6758,   7.9450, 173.6544,  28.8647],\n",
            "        [ 78.2934,   6.8607, 144.2090,  28.5531],\n",
            "        [  5.8277,  12.0519,  64.3201,  26.3161],\n",
            "        [247.2413,   7.8201, 512.3764,  34.0388],\n",
            "        [321.1967,   6.4969, 381.6248,  28.0361],\n",
            "        [174.6784,   3.3749, 255.1645,  34.2425],\n",
            "        [324.3090,   5.5998, 380.3723,  28.9758],\n",
            "        [321.0023,   5.1956, 379.1725,  28.1500],\n",
            "        [379.9710, 469.4948, 514.7847, 492.8958]]), tensor([[528.9326,  24.1587, 930.2761,  93.3155],\n",
            "        [  6.3010,  24.4971,  30.8528,  97.4020],\n",
            "        [170.6723, 388.8869, 570.0258, 418.5789],\n",
            "        [121.0715, 387.2634, 198.1616, 418.9647],\n",
            "        [547.0129,  23.3510, 864.9067,  61.0191],\n",
            "        [126.0242, 389.0222, 259.5682, 421.2290],\n",
            "        [470.2978, 387.6773, 583.8480, 417.5472],\n",
            "        [120.0843, 386.4760, 182.4650, 420.2982],\n",
            "        [232.5308, 388.2538, 454.6447, 417.5887],\n",
            "        [543.8021,  46.0750, 906.8259,  93.8110],\n",
            "        [486.3535, 389.4156, 577.0517, 416.5157]]), tensor([[107.0659,   2.3537, 448.4010,  21.5228],\n",
            "        [406.1557, 242.0938, 481.9872, 287.9302],\n",
            "        [254.0733, 317.9068, 309.4890, 339.2587],\n",
            "        [127.5154,   2.7676, 318.3043,  18.6936],\n",
            "        [303.7297,   2.4423, 443.6945,  19.5783]]), tensor([[186.6258,  30.6324, 418.5713,  61.1762]]), tensor([[ 11.1770,   9.6015, 113.3983,  29.2504],\n",
            "        [  8.8105,  13.8517, 116.9340,  98.0514],\n",
            "        [ 10.7167,   9.8111, 115.8860,  67.4743]]), tensor([[164.9416, 314.1695, 264.2928, 329.8088],\n",
            "        [  0.6852, 132.7796,  12.3163, 216.8388],\n",
            "        [163.8433, 313.4015, 266.5089, 328.3366]]), tensor([[  2.3541, 245.1974,  23.7460, 290.8781],\n",
            "        [397.6902, 507.5281, 433.0664, 532.6626],\n",
            "        [ 36.1844, 120.1608,  60.4486, 160.5639]]), tensor([[197.7903,  19.8499, 298.5387,  44.2537],\n",
            "        [430.8359, 161.4615, 476.7173, 181.5296],\n",
            "        [359.9596, 270.2331, 403.2723, 286.5484]]), tensor([[128.2578,  15.5729, 550.4391,  46.5752],\n",
            "        [267.8809, 370.1968, 423.4894, 394.7158],\n",
            "        [132.2061,  16.5910, 388.9467,  41.9810],\n",
            "        [543.4614, 332.8468, 637.5958, 359.5117],\n",
            "        [263.0963, 371.0873, 420.9453, 396.5267]]), tensor([[  8.8947, 149.2869,  29.7364, 211.4814],\n",
            "        [212.7149,   8.5739, 360.1594,  29.0152],\n",
            "        [449.4521,  26.4648, 489.1917,  48.0483],\n",
            "        [ 85.2882,  26.8442, 130.9651,  48.2529],\n",
            "        [327.4222,  27.9293, 369.6735,  47.1185],\n",
            "        [212.5408,  28.0203, 245.8738,  46.9342],\n",
            "        [ 83.2734,  26.7644, 134.4897,  47.9741],\n",
            "        [447.9752,  26.0372, 491.8144,  47.7015],\n",
            "        [ 83.3776, 314.1110, 101.5428, 388.5429]]), tensor([[ 87.6937,   3.3872, 302.7274,  20.7542],\n",
            "        [145.1166, 220.2433, 254.4864, 234.5784],\n",
            "        [253.8688, 185.1147, 385.7091, 204.3541]]), tensor([[ 55.5358,  29.2985, 457.9106,  54.9251],\n",
            "        [186.2170, 379.8840, 340.0575, 402.3051],\n",
            "        [178.2772, 379.0079, 342.9930, 400.4027],\n",
            "        [ 27.9222,  20.0057, 481.9046,  66.1296]]), tensor([[162.4952,   2.0436, 359.1731,  19.9669],\n",
            "        [237.8237, 357.1882, 285.4014, 373.2570],\n",
            "        [  0.8394,  14.0572,  25.6374,  40.9025],\n",
            "        [  1.3586,  12.5599,  29.4425,  43.8952],\n",
            "        [  0.3877,  11.8014,  25.4584,  45.6550]]), tensor([[149.2316,  22.4793, 443.8337,  59.9195]]), tensor([[176.5023,  32.1527, 397.4120,  57.1684],\n",
            "        [263.8177, 390.3519, 571.5978, 419.5187],\n",
            "        [ 48.1770, 387.3690, 470.4200, 424.0621],\n",
            "        [ 37.1858, 391.1127, 260.5761, 420.0230],\n",
            "        [282.4731, 393.2487, 447.8782, 413.4356],\n",
            "        [170.5477, 394.0083, 570.1145, 411.2782],\n",
            "        [479.5428, 391.3004, 562.4506, 416.1694],\n",
            "        [278.4250, 391.9414, 462.0425, 415.6612],\n",
            "        [481.6956, 390.9286, 562.5887, 415.0084],\n",
            "        [187.0277,  32.6650, 368.4388,  56.1442]]), tensor([[  7.2506,  44.7790,  63.1566,  94.8895],\n",
            "        [138.1979,   1.8171, 217.5318,  12.3942],\n",
            "        [  8.2667,  41.4573,  34.4988,  95.7408],\n",
            "        [137.8284,   2.4370, 218.0900,  12.5540],\n",
            "        [ 16.0706,  20.9635,  80.5302,  96.1193]]), tensor([[357.0309,  97.4563, 413.0876, 159.7424],\n",
            "        [124.8289, 233.8370, 154.8586, 248.1370],\n",
            "        [221.5543, 233.8499, 254.1338, 249.0598],\n",
            "        [ 26.6892, 234.2501,  53.3690, 248.8699],\n",
            "        [271.9553, 233.7033, 298.8283, 249.2725],\n",
            "        [174.7256, 234.2713, 202.8369, 249.1403],\n",
            "        [322.4008, 232.9029, 346.6315, 249.0478],\n",
            "        [ 75.7426, 233.4656, 102.9092, 248.2767]]), tensor([[152.2751,   3.9922, 238.7859,  23.3063],\n",
            "        [323.8916,  83.8571, 385.3751, 116.7206],\n",
            "        [ 56.5931,  46.6468,  70.7138, 165.2475]]), tensor([[140.3120,   8.2581, 506.4583,  38.6247],\n",
            "        [  4.8478, 130.6019,  28.6633, 249.0845],\n",
            "        [ 45.0115, 335.8430,  90.2971, 355.6041],\n",
            "        [312.1066, 337.0770, 364.4890, 355.5099],\n",
            "        [425.7090,  54.6628, 594.4139,  79.8727],\n",
            "        [175.7315, 336.7471, 227.7214, 356.3825],\n",
            "        [574.0298, 336.3379, 635.3771, 355.8701],\n",
            "        [453.1316, 335.8521, 489.6759, 355.7758]]), tensor([[325.9293, 368.9388, 372.5486, 387.0994],\n",
            "        [ 13.3260, 158.6263,  33.6604, 201.9880],\n",
            "        [320.7862, 357.6691, 376.8359, 391.8948],\n",
            "        [212.7629, 346.8534, 273.3673, 367.8085]]), tensor([[345.8190,  52.8632, 433.7054,  97.0815],\n",
            "        [ 10.7850,  59.7404,  29.3164, 128.0791],\n",
            "        [347.6836,  11.8385, 422.8381,  92.5689],\n",
            "        [176.7650, 176.3364, 212.8533, 194.0800],\n",
            "        [347.6557,   7.6825, 403.6300,  25.8845],\n",
            "        [348.0969,   8.4685, 402.6257,  45.6714],\n",
            "        [347.4691,  72.2055, 431.1783,  94.9675]]), tensor([[233.1907,  21.2267, 565.6898,  50.8110],\n",
            "        [623.0369, 389.9818, 780.2053, 430.3188],\n",
            "        [ 50.5688, 384.1075, 132.3909, 410.4263],\n",
            "        [ 29.4800, 310.9582, 132.5772, 336.6089],\n",
            "        [617.6337, 388.6077, 782.6614, 431.3510],\n",
            "        [ 20.6741, 162.7202, 126.9977, 191.5292],\n",
            "        [ 27.1373, 237.4129, 131.6929, 264.3889],\n",
            "        [  1.4968,  89.4170, 133.9585, 113.4917],\n",
            "        [ 29.7900, 310.7338, 131.9757, 335.3489],\n",
            "        [  7.3455,  89.9029, 122.5618, 115.3463]]), tensor([[9.8769e-01, 1.0445e+02, 1.5350e+01, 1.8740e+02],\n",
            "        [4.1669e+02, 3.2804e+02, 4.7098e+02, 3.4294e+02],\n",
            "        [1.8638e+02, 3.2831e+02, 2.5800e+02, 3.4279e+02],\n",
            "        [2.9774e+02, 3.2888e+02, 3.6763e+02, 3.4271e+02],\n",
            "        [8.2528e+01, 3.2735e+02, 1.3679e+02, 3.4300e+02],\n",
            "        [2.0607e+01, 0.0000e+00, 4.3400e+01, 1.2908e+01],\n",
            "        [1.9642e+02, 3.3053e+02, 4.8044e+02, 3.4090e+02],\n",
            "        [3.4390e+01, 3.2575e+02, 4.9792e+02, 3.4078e+02],\n",
            "        [2.1886e+01, 4.3873e-01, 4.6407e+01, 1.4479e+01]]), tensor([[  4.5518, 166.2207,  24.3540, 305.6582],\n",
            "        [445.8359,   4.4296, 532.3269,  24.8146],\n",
            "        [208.6908,  18.7187, 245.9982,  41.7275],\n",
            "        [806.8489,  18.3517, 845.5351,  41.9554],\n",
            "        [452.2335,   3.1607, 526.3033,  41.1032],\n",
            "        [806.2616,  18.7863, 848.5406,  42.0580],\n",
            "        [556.1116,  19.2799, 588.2482,  41.2659]]), tensor([[ 58.0787,   2.1277, 190.8322,  12.7680],\n",
            "        [  3.3578,  53.2399,  13.7827,  95.4669],\n",
            "        [ 34.1254, 141.1495, 209.0187, 153.1347],\n",
            "        [ 27.6443, 141.7828, 147.6741, 151.1420],\n",
            "        [ 47.9323,   0.8736, 181.4052,  20.2416],\n",
            "        [109.6697, 141.8274, 210.3545, 151.7428],\n",
            "        [ 75.8690,  12.9604, 162.5241,  21.9347],\n",
            "        [  3.1656,  52.1527,  15.1012,  90.7393],\n",
            "        [ 70.7070,  12.6032, 166.4297,  21.3409]]), tensor([[ 23.1481,  22.1204, 261.9353,  52.7132],\n",
            "        [584.2137,  60.4483, 679.7578, 119.0130],\n",
            "        [287.0682, 386.6470, 333.4753, 412.8968]]), tensor([[732.5566, 191.7520, 880.7819, 315.0314],\n",
            "        [199.9972,   9.0413, 775.4232,  39.6762],\n",
            "        [189.6471,  11.8279, 420.9403,  36.4096]]), tensor([[259.6667,  14.3152, 677.6516,  56.8414],\n",
            "        [437.4190, 561.5368, 505.3905, 592.1010],\n",
            "        [129.0263, 442.9231, 163.2038, 545.1160],\n",
            "        [  2.4001, 576.1228, 125.0998, 603.9716],\n",
            "        [827.5561, 446.6672, 858.4750, 549.1494],\n",
            "        [194.2417, 442.6459, 225.8493, 552.5131],\n",
            "        [701.7853, 444.3240, 732.1501, 546.0986],\n",
            "        [256.2514, 446.2605, 287.9339, 544.3557],\n",
            "        [636.2397, 444.3971, 666.9279, 549.0366],\n",
            "        [512.2952, 445.4870, 541.1721, 544.6825],\n",
            "        [446.6431, 440.1688, 476.7003, 548.2482],\n",
            "        [762.9315, 436.5172, 793.6162, 548.9230],\n",
            "        [383.5699, 444.7362, 415.5950, 548.3746],\n",
            "        [573.5606, 444.2455, 603.5053, 549.2653],\n",
            "        [321.5060, 446.6419, 353.1856, 537.4452],\n",
            "        [ 15.3755,  38.8165,  96.9193, 472.4812],\n",
            "        [  2.2245, 575.9961, 130.1662, 603.4259]]), tensor([[   8.9769,  333.9408,   47.1323,  499.2677],\n",
            "        [  61.2749,  647.8026, 1134.8368,  696.4913],\n",
            "        [ 459.8808,  132.0201,  742.1799,  175.7764],\n",
            "        [ 472.7126,  132.6917,  731.3868,  174.6534],\n",
            "        [ 567.3339,  655.5195, 1132.2058,  693.9441],\n",
            "        [  50.6799,  649.1085,  669.4385,  689.7615]]), tensor([[  86.8865,   37.3608, 1496.4868,  117.8752],\n",
            "        [ 804.5648, 1179.0641,  916.2474, 1235.2213],\n",
            "        [ 790.3809,   38.2999, 1492.7164,  110.9942],\n",
            "        [  74.2656,   41.2605,  805.7073,  113.9397],\n",
            "        [   6.8438,   23.3319, 1509.6676,  179.5593]]), tensor([[459.3657, 215.6082, 845.5671, 266.1703],\n",
            "        [320.0583, 599.6698, 558.2436, 649.1419],\n",
            "        [410.6411,  88.4659, 838.5230, 157.4386]]), tensor([[ 45.9886,   6.5248, 432.6442,  29.4048],\n",
            "        [ 12.8324, 366.8438, 452.5061, 388.9492],\n",
            "        [242.4163, 368.4171, 447.6126, 386.8649],\n",
            "        [ 25.5208, 368.4732, 269.7221, 386.8630],\n",
            "        [ 15.5971, 345.1577, 471.0000, 392.0795],\n",
            "        [309.2690, 368.2904, 451.9450, 386.7104],\n",
            "        [375.4128, 341.8633, 440.7795, 359.4889],\n",
            "        [277.5179, 341.5739, 323.6808, 359.1504]]), tensor([[188.8101, 128.1673, 214.6304, 147.0792],\n",
            "        [122.8419, 138.8619, 174.2662, 153.9203],\n",
            "        [122.6818, 115.4273, 176.6659, 156.0650]]), tensor([[  2.4795,  50.8419,  13.4083,  77.3954],\n",
            "        [150.1439, 137.0011, 182.5477, 148.1147],\n",
            "        [326.8521,  50.6414, 336.9904,  79.7513]]), tensor([[105.9478,   1.6154, 166.5358,  14.7807],\n",
            "        [ 27.5543,  29.2278,  40.0621, 146.8652],\n",
            "        [220.1610,  70.0634, 229.5036, 105.7479],\n",
            "        [ 28.3285,  26.3504,  39.8989, 140.2512]]), tensor([[133.7376,  23.6968, 553.0102,  59.4963],\n",
            "        [148.1331, 371.5507, 591.7606, 401.1785],\n",
            "        [368.6967, 371.6965, 582.7811, 399.5431]]), tensor([[101.6142,   0.8299, 183.0714,  10.7425],\n",
            "        [  2.1010,  73.9565,  12.4838, 111.3534],\n",
            "        [271.5448,  74.7376, 280.5793, 110.6396],\n",
            "        [ 39.4727, 162.6331, 274.1233, 176.2967],\n",
            "        [  8.3128,   7.4263,  29.2865,  17.2697]]), tensor([[ 73.1390,  28.5977, 187.0269,  46.0870],\n",
            "        [ 78.0394,  52.9640, 182.7603,  63.3646],\n",
            "        [182.6123,  56.3551, 199.6942, 154.5527],\n",
            "        [ 79.2220,  53.0620, 179.0248,  63.3657]]), tensor([[ 58.7068,   6.4644, 204.9315,  19.4849],\n",
            "        [  4.8112,  49.8074,  16.2121,  73.9681],\n",
            "        [257.3599,  47.3491, 266.8830,  73.5354]]), tensor([[2.6596e+02, 3.8027e-01, 3.9758e+02, 2.1885e+01],\n",
            "        [2.2903e+02, 4.9381e+02, 4.5336e+02, 5.1166e+02],\n",
            "        [2.3629e+02, 4.9350e+02, 4.5184e+02, 5.1165e+02],\n",
            "        [2.6492e+02, 1.6052e-01, 4.1572e+02, 1.9835e+01],\n",
            "        [1.0968e+00, 2.5704e+01, 1.9530e+01, 7.3897e+01],\n",
            "        [5.5733e+02, 1.0873e+01, 6.0520e+02, 3.2405e+01]]), tensor([[ 75.7482,  14.3716, 405.9073,  38.7911],\n",
            "        [ 74.5368,  14.6654, 241.9165,  38.5614],\n",
            "        [214.3324, 223.7769, 459.8221, 242.4363],\n",
            "        [ 65.3039, 223.3889, 457.5334, 245.2595],\n",
            "        [146.6780, 191.6465, 196.0030, 207.3983],\n",
            "        [317.0888, 175.9109, 381.2430, 207.9907],\n",
            "        [232.0618, 190.6618, 287.8792, 206.9736],\n",
            "        [ 50.0516, 224.3654, 221.8741, 242.6670],\n",
            "        [ 53.8853, 224.3000, 219.1453, 243.6766],\n",
            "        [ 54.7137, 176.4286, 117.0582, 193.7091],\n",
            "        [212.4583, 224.2362, 458.4246, 241.7191],\n",
            "        [ 50.0523, 224.0373, 230.5398, 242.6984],\n",
            "        [203.3994, 223.3781, 461.7165, 243.2169],\n",
            "        [224.4158, 176.1482, 293.4082, 207.7944],\n",
            "        [396.9636,  54.1479, 430.9904, 182.0106],\n",
            "        [325.0142, 191.1992, 367.9553, 207.4086]]), tensor([[ 28.8638, 130.9818, 234.1081, 145.6416],\n",
            "        [ 30.8462, 130.3977, 235.3970, 145.5423],\n",
            "        [ 23.7405, 135.1104, 143.2313, 146.1019]]), tensor([[ 65.2105,   2.4130, 205.7559,  13.7922],\n",
            "        [  1.9225,  62.2625,  11.1590, 124.3741],\n",
            "        [123.5803, 168.0134, 142.2705, 184.9398],\n",
            "        [196.6310, 167.6199, 220.0842, 178.6110],\n",
            "        [125.7135, 173.6802, 140.3616, 183.9519]]), tensor([[ 89.1368,   2.0732, 183.0506,  13.8393],\n",
            "        [  4.4049,  66.3113,  14.7521, 123.9000],\n",
            "        [114.3520, 177.5576, 150.5861, 187.3002],\n",
            "        [207.2348, 171.4491, 242.9657, 181.6550]]), tensor([[283.8927,   4.5981, 456.5577,  28.1905],\n",
            "        [575.3983, 405.8479, 701.3041, 427.0840],\n",
            "        [ 43.0143, 385.0730, 308.8407, 413.3794],\n",
            "        [580.1633, 388.7133, 698.1882, 424.5137],\n",
            "        [436.7617, 387.7385, 572.8289, 411.4932],\n",
            "        [ 40.6291, 384.6533, 309.3318, 411.3892],\n",
            "        [336.5204, 404.5576, 417.5222, 425.6901],\n",
            "        [580.4918, 390.8778, 697.1384, 424.8860]]), tensor([[  11.7584,  415.1790,   54.2994,  542.3719],\n",
            "        [1630.8655,  225.0788, 1674.9877,  703.4990]]), tensor([[219.2089,  86.2590, 281.1067, 113.4833],\n",
            "        [ 39.1806,   7.8791, 239.2703,  23.9241],\n",
            "        [139.7329,   8.2769, 251.8400,  23.3383],\n",
            "        [219.6702,  98.9633, 282.6443, 112.4230],\n",
            "        [ 39.7645,   9.4050, 135.7165,  22.8775],\n",
            "        [218.4528,  86.6570, 273.8285, 100.1078]]), tensor([[ 43.5663,   3.8972, 194.2445,  17.6654],\n",
            "        [ 25.2287,   6.6534, 206.9302,  22.7692],\n",
            "        [210.9578,  29.3875, 234.5514, 152.6538],\n",
            "        [210.6673,  22.4259, 234.9173, 150.5746]]), tensor([[253.4716,  62.7892, 320.0776, 175.6636],\n",
            "        [ 81.6948, 183.0749, 135.4652, 217.6574],\n",
            "        [ 36.5736,  28.8897,  94.9432,  61.1600],\n",
            "        [146.3092,  65.2099, 213.6751,  89.1055],\n",
            "        [ 80.2789, 199.5193, 136.9991, 217.2279],\n",
            "        [ 79.0293, 184.6471, 137.4511, 222.3641],\n",
            "        [250.2360, 120.4278, 321.6125, 174.8161],\n",
            "        [253.1981, 156.3629, 302.2056, 176.2616],\n",
            "        [156.5012, 156.2523, 211.5493, 170.8400],\n",
            "        [  3.8757, 115.5403,  71.5386, 158.5290]]), tensor([[ 10.8242,   7.2160, 485.1939,  39.0317],\n",
            "        [399.9958, 324.8468, 581.4826, 444.7966],\n",
            "        [399.3785, 413.4141, 575.5369, 442.0010],\n",
            "        [ 49.1418, 469.8864, 499.1534, 490.6981],\n",
            "        [ 51.7616, 472.9206, 512.0362, 489.6908],\n",
            "        [ 60.9731, 472.1029, 285.9572, 490.4586],\n",
            "        [ 33.4975, 472.3550, 491.6781, 488.3011],\n",
            "        [398.5626, 412.7615, 572.2563, 441.6404],\n",
            "        [434.3950, 385.6765, 543.7593, 410.8714],\n",
            "        [428.3010, 323.4937, 545.4797, 353.2148]]), tensor([[181.1041,   6.3040, 341.8371,  30.8726],\n",
            "        [ 84.4639, 295.9633, 413.4588, 316.8334]]), tensor([[169.4022,   4.3767, 281.5058,  20.2566]]), tensor([[602.4206, 176.6494, 792.4430, 246.9657],\n",
            "        [602.6096, 172.3681, 693.6904, 240.6660]]), tensor([[  53.6617,   24.8504,  784.5562,  101.9656],\n",
            "        [ 867.5828,  799.2415, 1172.9064,  860.5765],\n",
            "        [  23.5262,   16.6707,  937.0134,  147.7965],\n",
            "        [ 756.1981,  903.4977,  952.5981, 1060.3429],\n",
            "        [ 884.0491,  713.6238, 1244.1855,  867.2920],\n",
            "        [   1.2845,  351.8006,  135.2339,  488.3990],\n",
            "        [   3.7445,  385.6039,   78.0171,  477.4876],\n",
            "        [ 866.2463,  792.1817, 1191.5830,  858.0381],\n",
            "        [  76.8602,   78.3190,  702.4229,  145.6161],\n",
            "        [ 900.0872,  735.8138, 1244.2004,  803.9899],\n",
            "        [ 112.6567,   28.3897,  494.5859,   81.3478],\n",
            "        [  45.1644,   80.8587,  714.3609,  147.4532]]), tensor([[123.4029, 320.4247, 205.8097, 379.2055],\n",
            "        [218.4100, 318.5909, 372.7561, 347.5199],\n",
            "        [298.0321, 318.8704, 376.8267, 349.7144],\n",
            "        [127.8294, 317.6358, 398.3825, 361.9084],\n",
            "        [300.5431, 318.8283, 376.2315, 350.0321]]), tensor([[ 16.3288,  14.2775, 208.9692,  39.2255],\n",
            "        [352.3341, 124.8311, 419.2073, 160.9729],\n",
            "        [346.5120, 125.5067, 417.1080, 141.5641],\n",
            "        [300.7357, 264.2824, 343.3843, 294.2502]]), tensor([[128.2442,   6.6061, 566.7685,  41.2441],\n",
            "        [ 20.4441, 471.5851, 657.1699, 523.3290],\n",
            "        [  7.5459, 467.2596, 374.9924, 512.5333],\n",
            "        [110.8805,  13.6994, 544.8216,  58.4670],\n",
            "        [ 25.2586, 468.1719, 363.5847, 502.0623],\n",
            "        [161.2726,  28.4164, 481.3555,  57.5939],\n",
            "        [ 29.4257, 468.2097, 350.1404, 492.7142],\n",
            "        [ 82.6642, 496.9385, 628.3047, 520.7684],\n",
            "        [  9.5311, 477.0062, 587.1801, 501.9425],\n",
            "        [  6.9098, 464.7244,  24.5250, 516.0752]]), tensor([[  7.9467,   2.5428, 239.3349,  25.8252],\n",
            "        [277.3454, 367.4608, 427.7277, 389.7929],\n",
            "        [107.1119,  63.5973, 245.7272, 119.6564],\n",
            "        [388.7156, 162.8581, 490.5447, 182.0133],\n",
            "        [273.8889, 366.7791, 437.3739, 388.4158],\n",
            "        [273.9792, 367.7466, 432.0328, 388.2193],\n",
            "        [383.9290, 162.4933, 494.6555, 181.7745]]), tensor([[ 875.2881,  297.8749, 1394.3384,  682.6982],\n",
            "        [ 258.0035,   60.1283, 1221.7330,  188.5727],\n",
            "        [ 441.3756,   59.6125, 1002.7725,  124.9786],\n",
            "        [ 886.0182,  796.4875, 1319.1942,  882.8708],\n",
            "        [ 874.7073,  286.0360, 1100.5841,  345.3752],\n",
            "        [ 905.7045,  457.7731, 1397.5277,  646.1540],\n",
            "        [ 859.2410,  198.5970, 1346.3235,  931.8036],\n",
            "        [ 882.0237,  594.0522, 1327.8563,  897.9238],\n",
            "        [ 195.9612,  115.9525, 1133.4657,  181.4814],\n",
            "        [ 892.1346,  550.6251, 1402.2822,  628.3699],\n",
            "        [ 884.1744,  671.3737, 1034.2961,  742.1661],\n",
            "        [ 240.4475,  116.0813, 1306.9247,  195.5059],\n",
            "        [ 888.6961,  403.9171, 1374.2494,  492.2476],\n",
            "        [ 844.6201,  285.0669, 1386.0063,  491.0193]]), tensor([[404.3054, 284.5636, 564.6891, 416.1677],\n",
            "        [ 67.1457,   9.8432, 553.1442,  36.8391],\n",
            "        [ 10.5834,   6.7938, 567.0667,  69.1711],\n",
            "        [405.5620, 391.0684, 527.6636, 422.1281],\n",
            "        [ 21.2877,  19.6912, 573.8515,  75.6452],\n",
            "        [401.4670, 390.0551, 530.3103, 418.3471],\n",
            "        [145.7680,  25.8827, 572.1079,  73.0476],\n",
            "        [276.8577,   4.0179, 521.9225,  81.0429]]), tensor([[352.6519,  49.5502, 475.3520, 257.6432],\n",
            "        [350.7152,  59.7732, 460.2772, 167.2282],\n",
            "        [352.9893, 143.6021, 482.7941, 242.3896],\n",
            "        [350.4927, 211.1196, 477.4009, 233.9057],\n",
            "        [348.4267, 196.7441, 484.1348, 241.1138]]), tensor([[ 779.5529,  247.2781, 1264.0000,  672.5681],\n",
            "        [  53.0379,   31.5631, 1195.0558,  119.6930],\n",
            "        [ 109.5348,   58.0686, 1110.8033,  186.1846],\n",
            "        [ 689.4744,   85.9469, 1241.1306,  780.1595],\n",
            "        [ 284.7756,   96.7464,  930.3976,  184.5705],\n",
            "        [ 809.9578,  591.2664, 1146.2704,  658.9236],\n",
            "        [ 320.3668,   96.4522,  895.8589,  185.0080]]), tensor([[  6.3932,   1.7061, 333.7996,  22.6335],\n",
            "        [303.6401, 108.9265, 399.2805, 266.8618],\n",
            "        [  0.7653,   0.0000, 351.0584,  44.7842],\n",
            "        [115.6612,  17.2067, 233.9884,  40.7620],\n",
            "        [120.4303,  19.8755, 230.0956,  40.1203],\n",
            "        [308.6657,  97.4692, 358.5004, 254.1395]]), tensor([[180.7938,  18.0504, 802.8309,  67.4357],\n",
            "        [ 85.7252, 664.7749, 931.6649, 708.2723],\n",
            "        [ 82.3026, 661.2341, 908.2114, 708.3806],\n",
            "        [ 43.4647, 667.7896, 612.2384, 703.3201],\n",
            "        [241.7670, 662.7597, 940.8916, 709.6879],\n",
            "        [ 43.8584, 668.9146, 708.7703, 703.1924],\n",
            "        [384.6536, 666.8535, 943.5687, 703.4541],\n",
            "        [ 10.6446, 629.4146, 959.9999, 709.2907]]), tensor([[155.4745,   5.0554, 281.4720,  23.1677],\n",
            "        [172.5812, 265.8217, 262.0760, 282.3866],\n",
            "        [180.7750,  44.6269, 256.0249,  60.4130],\n",
            "        [293.9209, 102.6703, 405.4031, 118.9891],\n",
            "        [156.7456,   5.3580, 277.4689,  64.4437],\n",
            "        [293.2548, 102.7068, 403.9296, 118.6026],\n",
            "        [175.0325, 265.4156, 264.9172, 281.0839],\n",
            "        [162.1899,   6.9205, 288.9924,  65.3511]]), tensor([[422.4688,   4.0834, 730.0916,  55.0907],\n",
            "        [336.3638, 108.8471, 792.7172, 146.6754],\n",
            "        [682.9788, 677.3998, 773.4376, 708.9108]]), tensor([[134.6595,  37.4251, 389.2377,  63.9171],\n",
            "        [202.5606,   8.3597, 331.3490,  27.2567],\n",
            "        [212.5460, 417.0951, 326.3939, 441.7642],\n",
            "        [406.7851, 144.2693, 528.6221, 170.5939],\n",
            "        [ 10.7158, 331.2159, 131.0806, 361.2939],\n",
            "        [260.8937,  38.5475, 380.0030,  62.4231],\n",
            "        [164.6704,  14.9596, 374.2935,  92.5318],\n",
            "        [204.1748,  62.8402, 330.8041,  85.4645],\n",
            "        [202.8291,  60.2001, 346.3190,  84.9411],\n",
            "        [411.6511, 144.3930, 525.8632, 172.0294]]), tensor([[ 81.5307,   5.8955, 200.4085,  15.8697]]), tensor([[ 666.8285,   14.9018, 1031.8070,   72.9555],\n",
            "        [ 491.3018, 1020.9261, 1272.5233, 1097.7097],\n",
            "        [ 687.6010,   13.0754, 1002.5771,   73.9576],\n",
            "        [ 178.6337,  303.4799, 1132.6063,  374.5189],\n",
            "        [ 216.9788,  435.3696,  464.8192,  491.9267],\n",
            "        [ 347.7916,  970.9343, 1386.6190, 1095.4355]]), tensor([[396.6746,  99.3967, 468.5945, 184.6779],\n",
            "        [171.7397,   7.7458, 227.3946,  23.0663],\n",
            "        [397.0411, 172.7666, 470.2734, 187.6175],\n",
            "        [397.0080, 172.7045, 471.3239, 189.0300],\n",
            "        [286.6759, 215.5715, 342.1030, 232.1034],\n",
            "        [351.9098,  95.3945, 471.9841, 202.2521],\n",
            "        [396.2431, 137.2125, 464.6963, 179.0546]]), tensor([[154.4647,  16.5461, 337.8019,  43.3816],\n",
            "        [172.4304,  44.9216, 316.4119,  70.7653],\n",
            "        [152.9196,  14.4972, 333.9557,  70.7965],\n",
            "        [181.3237,  45.3305, 304.8568,  71.4680],\n",
            "        [160.5731,  14.5359, 342.3239,  71.6764]]), tensor([[196.1772,   0.8199, 314.9928,  31.4953],\n",
            "        [ 92.0221, 396.1742, 435.5880, 409.9935],\n",
            "        [177.5130, 360.6273, 326.2935, 382.6238],\n",
            "        [394.2800, 264.1601, 504.2244, 299.4220],\n",
            "        [178.7658, 360.5947, 335.4138, 382.5189],\n",
            "        [ 71.6650, 397.5306, 431.8144, 408.9627],\n",
            "        [174.1347, 360.1043, 332.7844, 382.0869],\n",
            "        [395.4342,  94.6191, 503.4515, 132.5909],\n",
            "        [197.0818,   0.9233, 308.6471,  14.7821],\n",
            "        [393.8661, 264.2933, 506.0000, 298.6543],\n",
            "        [395.8113,  94.0279, 502.0901, 131.7804],\n",
            "        [ 87.5779, 396.1072, 223.2139, 411.4416]]), tensor([[149.1359,   5.7370, 650.1533,  31.2227],\n",
            "        [286.1762,  28.9582, 549.2734,  62.7990],\n",
            "        [724.2555, 573.1041, 796.8262, 598.7775],\n",
            "        [152.7819,   6.6590, 682.4914,  43.7279],\n",
            "        [128.6801,   6.6006, 415.3770,  31.7809],\n",
            "        [250.9049,  18.2962, 625.7863,  56.5141],\n",
            "        [119.7577,   7.9890, 596.4694,  30.5372],\n",
            "        [383.7849,   7.4691, 657.1494,  33.2893]]), tensor([[ 71.4924,  73.9422, 387.6663, 137.6553],\n",
            "        [ 88.6023,  73.7039, 363.8823, 139.8439]]), tensor([[360.5093, 125.0664, 420.0426, 165.6516],\n",
            "        [131.1748,  13.3544, 183.3798,  30.1584],\n",
            "        [118.8715, 259.3646, 194.0138, 277.9453],\n",
            "        [236.4994,  52.9006, 307.8884,  71.6324],\n",
            "        [234.9980, 217.0353, 324.2586, 234.6267],\n",
            "        [238.0277, 216.2144, 321.9746, 235.6484],\n",
            "        [237.3318, 217.2746, 322.3999, 234.6011],\n",
            "        [ 11.9939, 218.3054,  75.5916, 235.1444],\n",
            "        [270.9174, 134.5678, 325.5069, 155.1282],\n",
            "        [230.3868,  52.2260, 311.4105,  71.8461],\n",
            "        [234.7219,  52.6578, 306.0923,  72.7555],\n",
            "        [  8.9407, 218.4705,  85.5278, 234.5177]]), tensor([[ 70.2964,   3.8167, 180.4440,  18.0452],\n",
            "        [ 75.7619, 182.1499, 178.2609, 194.8948]]), tensor([[225.4527,  77.4149, 252.9073, 116.3725],\n",
            "        [ 98.5565, 182.3382, 131.6448, 192.9757],\n",
            "        [ 99.9857,   2.2048, 128.0424,  12.5866],\n",
            "        [ 99.8399,   2.1251, 128.8194,  13.3021],\n",
            "        [149.8964,  16.2316, 181.8049,  25.9899]]), tensor([[296.5419,  26.0741, 507.0508,  63.3379],\n",
            "        [319.6296,   6.9138, 469.5893,  28.2072],\n",
            "        [724.2915, 573.1002, 796.8525, 598.7734],\n",
            "        [184.7183, 547.1309, 605.3701, 585.1381],\n",
            "        [289.4923,   7.4194, 502.9936,  82.0711],\n",
            "        [189.7229, 546.2115, 606.1142, 585.8608],\n",
            "        [539.1461, 125.5302, 674.6995, 154.0655],\n",
            "        [316.1156,   5.6839, 469.4579,  29.7368],\n",
            "        [323.5737,   5.7826, 483.0859,  51.2923]]), tensor([[ 90.9655,   1.5478, 206.1689,  15.1187],\n",
            "        [  3.8136,  97.6881,  18.4680, 197.2712],\n",
            "        [149.6405, 279.5547, 175.6906, 294.0752]]), tensor([[ 38.8322,   4.9085, 198.1522,  23.5894]]), tensor([[ 14.8783, 125.9477,  39.0628, 219.5741],\n",
            "        [272.8604, 350.0283, 370.0361, 372.8226],\n",
            "        [101.9841, 185.1598, 193.4994, 307.5244]]), tensor([[177.9562, 265.0938, 252.0384, 278.6312],\n",
            "        [ 18.6957, 105.4164,  35.8841, 177.8586]]), tensor([[  0.9636,  66.6586,  11.2246, 101.8690],\n",
            "        [140.3428, 176.5567, 190.0333, 187.8542],\n",
            "        [  8.9918,   1.7940,  38.9112,  11.3966],\n",
            "        [141.6470, 111.2868, 153.1371, 129.1888]]), tensor([[ 67.5626,   3.4692, 381.0394,  30.3731],\n",
            "        [  5.7480, 165.4775,  28.2696, 266.4270],\n",
            "        [184.8191, 385.4095, 280.0553, 410.3252],\n",
            "        [ 54.4744,  40.0708, 342.8620,  62.8505],\n",
            "        [ 46.1814,   4.7519, 366.7094,  60.4298],\n",
            "        [261.6493,  40.3467, 344.3705,  62.8319],\n",
            "        [ 55.6202,  39.9896, 242.9032,  64.1545],\n",
            "        [ 74.0284,  10.4836, 404.3959,  62.2151]]), tensor([[144.5337,   8.9248, 239.1928,  27.3146],\n",
            "        [181.8163, 230.5117, 200.0672, 263.7395],\n",
            "        [ 13.4224, 117.1525,  29.1885, 133.5137]]), tensor([[  1.3593, 142.2206,  17.7406, 234.8914],\n",
            "        [227.7573, 399.3491, 319.6901, 413.6086]]), tensor([[  3.6109,   4.5893,  14.5099,  76.3200],\n",
            "        [ 77.5830,  92.9514, 142.8822, 103.3521],\n",
            "        [ 77.3077,  92.6622, 141.3015, 103.9263],\n",
            "        [129.5631,  78.7429, 140.9521,  87.8920],\n",
            "        [  3.1583,  37.9013,  13.3708,  75.2195],\n",
            "        [  4.1179,   5.8670,  12.8889,  48.9957],\n",
            "        [  3.8561,   4.5723,  14.7544,  74.9433],\n",
            "        [104.8065,  78.0251, 116.0009,  88.9070]]), tensor([[  8.2682, 347.9691,  37.9383, 428.5483],\n",
            "        [519.2087, 761.2709, 605.1007, 794.6894],\n",
            "        [478.2114,   9.0604, 642.3915,  42.3340],\n",
            "        [488.0449,  10.0337, 634.7906,  42.5947]]), tensor([[  5.7790, 140.9463,  33.5264, 208.7953],\n",
            "        [293.6772, 259.0979, 457.6033, 292.4875],\n",
            "        [320.5600, 390.2589, 371.1241, 418.2856],\n",
            "        [456.3257, 306.7628, 507.4674, 330.1820],\n",
            "        [163.3375, 191.6213, 275.9044, 240.5536],\n",
            "        [263.7986, 249.9969, 455.2577, 278.0875],\n",
            "        [182.6916, 205.7908, 253.7839, 237.4621]]), tensor([[3.1113e+01, 1.4605e-01, 1.7739e+02, 1.1186e+01],\n",
            "        [5.3893e+00, 2.3794e+02, 2.0600e+02, 2.4500e+02],\n",
            "        [2.8822e-01, 8.7530e+01, 1.0048e+01, 1.0157e+02],\n",
            "        [0.0000e+00, 2.3564e+02, 2.0600e+02, 2.4500e+02],\n",
            "        [4.0976e-01, 1.4423e+01, 9.0618e+00, 2.6450e+01],\n",
            "        [2.1514e+01, 1.6890e-01, 1.1261e+02, 1.0453e+01],\n",
            "        [6.4739e+00, 2.3672e+02, 6.3105e+01, 2.4500e+02],\n",
            "        [2.9622e+00, 2.3705e+02, 2.4387e+01, 2.4500e+02]]), tensor([[ 76.7035,  32.1376, 428.9192,  54.2131],\n",
            "        [ 26.3426,  57.2419,  53.0060, 127.7899],\n",
            "        [582.6113, 384.6264, 671.1629, 409.0814]]), tensor([[399.1233, 193.0603, 466.4525, 267.9245],\n",
            "        [335.3700, 444.8329, 394.4120, 470.3872],\n",
            "        [ 12.3010,  13.3811,  33.2491,  66.4215]]), tensor([[ 277.7844,   48.4228,  947.7563,   98.1247],\n",
            "        [   6.2084,  442.7887,   47.0000,  753.9702],\n",
            "        [ 534.1091, 1118.5018,  710.2466, 1168.7721],\n",
            "        [ 552.8835,  490.2015,  824.7961,  789.8947],\n",
            "        [ 769.0779,  641.6182, 1151.3958, 1049.0724],\n",
            "        [ 339.6642,   44.8415,  958.8911,  103.0141]]), tensor([[234.9396,  15.4687, 368.0434,  50.9026]]), tensor([[243.5883, 323.8663, 365.9825, 346.8462]]), tensor([[245.5646, 324.8320, 364.8478, 348.5203]]), tensor([[234.9202,  15.4630, 368.0107,  50.9109]]), tensor([[203.1202, 324.3503, 402.9351, 347.1361],\n",
            "        [ 19.1878,  95.2890,  43.0098, 172.2213],\n",
            "        [303.8040, 282.2732, 351.1076, 305.2557]]), tensor([[251.2754,  15.8568, 346.1768,  46.1626]]), tensor([[199.5740, 324.5829, 400.1622, 347.5925]]), tensor([[203.8006, 324.2633, 399.8266, 347.6168],\n",
            "        [ 19.1902,  95.2285,  43.0246, 172.2140],\n",
            "        [302.4836, 282.0604, 349.7335, 305.7479]]), tensor([[231.3625,  15.3111, 368.4899,  42.5584],\n",
            "        [195.1801,  58.7980, 412.8165,  79.6893],\n",
            "        [ 19.6281, 169.5073,  39.6131, 222.3548],\n",
            "        [284.7486, 321.3941, 375.4219, 343.9183],\n",
            "        [222.6445,  14.9967, 391.3586,  85.2934]]), tensor([[265.4743, 320.2500, 361.6020, 343.1398],\n",
            "        [258.7206,  14.4057, 337.1953,  45.5248],\n",
            "        [261.7755,  13.8475, 339.7591,  45.4699]]), tensor([[187.9656,  14.9553, 411.5245,  34.9468],\n",
            "        [ 18.3136, 162.9035,  40.8278, 219.1451]]), tensor([[189.1010,  14.7483, 415.4672,  35.8433],\n",
            "        [184.4742,  16.5031, 310.9969,  34.5366],\n",
            "        [ 58.8484, 332.2713,  79.5809, 353.8693],\n",
            "        [220.4730, 333.0493, 241.2646, 353.1488]]), tensor([[285.3620, 320.8222, 377.7561, 343.5308],\n",
            "        [ 20.1411, 121.5499,  41.8579, 187.0504]]), tensor([[ 18.5754, 141.4012,  41.2909, 202.7939]]), tensor([[ 19.4443, 119.0949,  40.7222, 189.2846],\n",
            "        [283.2755, 318.9713, 379.3022, 343.5849]]), tensor([[ 18.5690, 141.2933,  41.2475, 202.8536]]), tensor([[263.0007,  15.0726, 332.0133,  43.1584],\n",
            "        [554.5768, 137.7653, 591.2767, 299.9700]]), tensor([[265.5499,  13.7108, 340.1683,  44.8017],\n",
            "        [211.1085, 343.6112, 391.0671, 370.3613],\n",
            "        [221.0739, 321.4057, 388.3198, 375.9217]]), tensor([[262.5290,  15.2151, 332.0669,  43.1028],\n",
            "        [553.0732, 104.1880, 591.4468, 340.2515]]), tensor([[265.5786,  13.7114, 340.1000,  44.7881],\n",
            "        [212.1417, 343.7141, 390.1496, 370.3802]]), tensor([[222.5041, 324.6272, 387.9380, 347.0536]]), tensor([[273.8510,  13.6237, 324.9131,  41.1033]]), tensor([[246.7111,  15.3181, 355.8976,  33.5583],\n",
            "        [243.1033,   9.5595, 364.2575,  42.7091]]), tensor([[219.0867, 323.8722, 385.3024, 347.5090]]), tensor([[259.6963,  15.5242, 338.7964,  43.7461],\n",
            "        [ 19.4468, 163.4411,  42.2516, 221.8277]]), tensor([[257.8954,  15.5018, 341.3680,  43.7598],\n",
            "        [ 19.7975, 169.5614,  39.7182, 221.8929],\n",
            "        [282.1929, 321.6773, 368.8490, 345.0089],\n",
            "        [276.0733,  59.1724, 334.0991,  79.5993],\n",
            "        [264.0632,  18.3423, 344.2682,  82.3367]]), tensor([[259.8719,  15.5514, 338.8589,  43.7183],\n",
            "        [ 19.4630, 164.4825,  41.8929, 220.9809]]), tensor([[ 20.2874, 143.9718,  41.7375, 199.3226]]), tensor([[ 342.9532,   14.1447,  865.5889,   85.2430],\n",
            "        [  20.9044,  438.7763,   73.0923,  696.7001],\n",
            "        [  71.7078, 1105.9700, 1139.7534, 1162.8953],\n",
            "        [  68.5454, 1107.2815,  467.9793, 1161.1753],\n",
            "        [  47.8838, 1019.3601, 1184.7626, 1174.0350],\n",
            "        [  65.9791, 1105.8179,  916.3859, 1161.1753],\n",
            "        [ 563.0471, 1106.8280, 1131.1677, 1157.4830],\n",
            "        [ 332.7687,   17.0996,  875.6966,  108.1759],\n",
            "        [  21.9329,  432.9649,  117.0438,  678.5050],\n",
            "        [ 257.1940, 1105.6221,  670.8661, 1154.5720],\n",
            "        [  52.9063, 1106.6709, 1193.7024, 1164.2723]]), tensor([[ 252.0205,   29.0701, 1134.8044,   81.1939],\n",
            "        [  82.2987,  203.9509,  133.6504,  579.7367],\n",
            "        [ 326.5900,  720.0255, 1104.7257,  767.7476],\n",
            "        [ 337.3186,  716.2609, 1130.8391,  773.4178],\n",
            "        [  84.2392,  198.4534,  131.7842,  555.8984]]), tensor([[ 119.8314,  787.4845,  174.2767, 1016.3344],\n",
            "        [ 469.7486,  223.5132, 1566.3835,  303.1479],\n",
            "        [ 505.6764,  223.6767, 1529.9353,  298.8008],\n",
            "        [ 543.0199,  299.3911, 1455.8790,  368.0493],\n",
            "        [ 485.4503,  218.3365, 1636.1649,  329.6202]]), tensor([[925.0076,   8.4300, 996.1166, 101.6991],\n",
            "        [453.0387, 598.9852, 523.4611, 616.1512]]), tensor([[  4.2251, 167.6774,  24.7453, 264.2693],\n",
            "        [ 42.8092,  21.6324, 651.5667,  57.7812],\n",
            "        [ 47.0198,  25.2558, 375.0628,  52.2347],\n",
            "        [289.5459,  25.2206, 656.1320,  52.4418],\n",
            "        [ 44.0080,  27.0185, 245.6895,  49.1543]]), tensor([[181.3623, 159.4100, 310.8638, 173.6941],\n",
            "        [209.8113,   1.4748, 276.5429,  14.2506],\n",
            "        [  1.5068,  43.3802,  12.0193,  89.6666],\n",
            "        [  2.6091,  39.9475,  18.7676, 123.9328],\n",
            "        [  2.2287,  11.4201,  20.9035, 101.4619],\n",
            "        [  3.8881,  14.5518,  21.8147, 125.7775],\n",
            "        [237.7879, 152.9979, 267.8940, 162.9071]]), tensor([[189.6448, 447.1312, 401.5718, 579.5291],\n",
            "        [225.3920,  28.1434, 351.1122,  52.3448],\n",
            "        [214.6101, 550.2951, 393.2676, 577.9523],\n",
            "        [228.9706,  28.2024, 346.4745,  52.7375],\n",
            "        [462.0116, 345.5515, 525.8235, 374.7087]]), tensor([[ 30.6503,  45.7750, 157.1774, 129.4809],\n",
            "        [ 81.1611,  13.3394, 572.4887,  37.1735],\n",
            "        [ 64.5055,  12.5476, 289.8268,  35.1967],\n",
            "        [  4.0133,   8.3295, 590.5370,  49.1602],\n",
            "        [ 41.4865,  16.3365, 227.4255, 127.8060],\n",
            "        [348.3567,  14.0212, 583.7690,  35.0846]]), tensor([[ 235.9633,  288.9320,  264.0751,  413.2982],\n",
            "        [ 620.0087,  599.0274,  708.5937,  655.7380],\n",
            "        [ 500.3460,   55.2299,  811.7298,   90.2891],\n",
            "        [ 616.9185,  632.1296,  694.0451,  659.6777],\n",
            "        [ 282.4546,  529.9388, 1025.5311,  573.3073],\n",
            "        [ 289.0676,  532.7926, 1020.6450,  566.0811],\n",
            "        [ 663.0552,  114.7952, 1020.1454,  151.9604],\n",
            "        [ 510.2350,   55.2601,  787.2992,   91.4377],\n",
            "        [ 467.2379,  583.8585,  503.2117,  612.4059],\n",
            "        [ 638.6995,  117.3904, 1031.1183,  150.6567],\n",
            "        [ 559.2237,  584.8004,  593.9346,  612.0203],\n",
            "        [ 297.7267,   86.6658, 1083.8553,  678.5901],\n",
            "        [ 831.3787,  583.6268,  866.5528,  611.8686],\n",
            "        [ 742.0131,  585.2716,  774.7871,  612.1118]])]\n"
          ],
          "name": "stdout"
        }
      ]
    },
    {
      "cell_type": "code",
      "metadata": {
        "id": "k8uzOk0PVp0P",
        "colab_type": "code",
        "colab": {
          "base_uri": "https://localhost:8080/",
          "height": 367
        },
        "outputId": "4c762b99-1bc3-4580-ba89-396b8977fe6b"
      },
      "source": [
        "print(s)"
      ],
      "execution_count": 58,
      "outputs": [
        {
          "output_type": "stream",
          "text": [
            "[tensor([0.7969, 0.7928, 0.4308, 0.0865]), tensor([0.8252, 0.8102, 0.4833, 0.0618]), tensor([0.6644, 0.6261, 0.3715, 0.3392]), tensor([0.8488, 0.7601, 0.5837, 0.1259, 0.1156, 0.1154, 0.0676, 0.0587]), tensor([0.5872, 0.1901]), tensor([0.8276, 0.7835]), tensor([0.8118, 0.7505, 0.4038, 0.3883, 0.3102, 0.2988, 0.1106]), tensor([0.8636, 0.5192, 0.3713, 0.1781, 0.0608, 0.0584, 0.0546]), tensor([0.8042, 0.3318, 0.2903, 0.2728, 0.2559, 0.1982, 0.1922, 0.1861, 0.1460,\n",
            "        0.1044, 0.0930, 0.0774, 0.0590, 0.0510]), tensor([0.9069, 0.8401, 0.8183, 0.6240, 0.2229, 0.1974, 0.1442, 0.1200, 0.0777,\n",
            "        0.0696, 0.0547]), tensor([0.7909, 0.7903, 0.6518, 0.6232, 0.4343, 0.3850, 0.3506, 0.1512, 0.1152,\n",
            "        0.1125, 0.1089, 0.1070, 0.0962, 0.0950, 0.0892, 0.0863, 0.0596]), tensor([0.8203, 0.7620, 0.7100, 0.3167, 0.2625, 0.1310, 0.1235, 0.1112, 0.1095,\n",
            "        0.0905, 0.0564]), tensor([0.8558, 0.8120, 0.7743, 0.6705, 0.0664]), tensor([0.8814]), tensor([0.5361, 0.2075, 0.1121]), tensor([0.7861, 0.7713, 0.0554]), tensor([0.7955, 0.6840, 0.0726]), tensor([0.7877, 0.6791, 0.0613]), tensor([0.8855, 0.7348, 0.0646, 0.0503, 0.0501]), tensor([0.8328, 0.5522, 0.3369, 0.2581, 0.2031, 0.1769, 0.1453, 0.0764, 0.0505]), tensor([0.9535, 0.6656, 0.0977]), tensor([0.6934, 0.2568, 0.1521, 0.0833]), tensor([0.8663, 0.6978, 0.4331, 0.0833, 0.0715]), tensor([0.9284]), tensor([0.7072, 0.4112, 0.3336, 0.1935, 0.1876, 0.1844, 0.1699, 0.1175, 0.1103,\n",
            "        0.0717]), tensor([0.7514, 0.6599, 0.3330, 0.2255, 0.0719]), tensor([0.9587, 0.2845, 0.2195, 0.1937, 0.1886, 0.1144, 0.0870, 0.0757]), tensor([0.9260, 0.8869, 0.0528]), tensor([0.8261, 0.7787, 0.5601, 0.5511, 0.3923, 0.3893, 0.3419, 0.0890]), tensor([0.8658, 0.7628, 0.2342, 0.0592]), tensor([0.8030, 0.7537, 0.7256, 0.3441, 0.2026, 0.0787, 0.0517]), tensor([0.8833, 0.2681, 0.2559, 0.2136, 0.1964, 0.0881, 0.0789, 0.0591, 0.0541,\n",
            "        0.0523]), tensor([0.8593, 0.5006, 0.4102, 0.3850, 0.2476, 0.1399, 0.1308, 0.0893, 0.0764]), tensor([0.8408, 0.6129, 0.1294, 0.1091, 0.0585, 0.0572, 0.0567]), tensor([0.8311, 0.6251, 0.5635, 0.2741, 0.2158, 0.1233, 0.1050, 0.0782, 0.0758]), tensor([0.9029, 0.8907, 0.2983]), tensor([0.9612, 0.9327, 0.1305]), tensor([0.9567, 0.8447, 0.4919, 0.3794, 0.3466, 0.2990, 0.2797, 0.2713, 0.2589,\n",
            "        0.2434, 0.2358, 0.2260, 0.2139, 0.2004, 0.1454, 0.0838, 0.0676]), tensor([0.8190, 0.5731, 0.3443, 0.1897, 0.0812, 0.0713]), tensor([0.8226, 0.5879, 0.5460, 0.2895, 0.0522]), tensor([0.1326, 0.1042, 0.0620]), tensor([0.9412, 0.8040, 0.3178, 0.3123, 0.1671, 0.1092, 0.0803, 0.0568]), tensor([0.7957, 0.2539, 0.2227]), tensor([0.7656, 0.7539, 0.4114]), tensor([0.8348, 0.5050, 0.3332, 0.0665]), tensor([0.7558, 0.7354, 0.2800]), tensor([0.8714, 0.7819, 0.6462, 0.3456, 0.3275]), tensor([0.6874, 0.2951, 0.1150, 0.0744]), tensor([0.8794, 0.7544, 0.5212]), tensor([0.8003, 0.2199, 0.1768, 0.0901, 0.0743, 0.0691]), tensor([0.8249, 0.7926, 0.3876, 0.3757, 0.2621, 0.2280, 0.2091, 0.1982, 0.1916,\n",
            "        0.0922, 0.0918, 0.0809, 0.0761, 0.0734, 0.0699, 0.0640]), tensor([0.2802, 0.0694, 0.0512]), tensor([0.9275, 0.7907, 0.4779, 0.2205, 0.1583]), tensor([0.8892, 0.7688, 0.6374, 0.0675]), tensor([0.8866, 0.4344, 0.2355, 0.1444, 0.1115, 0.0936, 0.0916, 0.0533]), tensor([0.8084, 0.6447]), tensor([0.8949, 0.8422, 0.3680, 0.3476, 0.1513, 0.1150]), tensor([0.9379, 0.1566, 0.0920, 0.0698]), tensor([0.9197, 0.6023, 0.1857, 0.1174, 0.1065, 0.1012, 0.0829, 0.0775, 0.0737,\n",
            "        0.0727]), tensor([0.9659, 0.6509, 0.4469, 0.2972, 0.1885, 0.1138, 0.0983, 0.0644, 0.0560,\n",
            "        0.0530]), tensor([0.9395, 0.8790]), tensor([0.8319]), tensor([0.7928, 0.0981]), tensor([0.8236, 0.2861, 0.2815, 0.1499, 0.1210, 0.1038, 0.0997, 0.0883, 0.0734,\n",
            "        0.0721, 0.0661, 0.0656]), tensor([0.9203, 0.7920, 0.5653, 0.2197, 0.1019]), tensor([0.8882, 0.0807, 0.0732, 0.0727]), tensor([0.9402, 0.5604, 0.5126, 0.1959, 0.1807, 0.1042, 0.0779, 0.0722, 0.0543,\n",
            "        0.0533]), tensor([0.9318, 0.3538, 0.2764, 0.1525, 0.1164, 0.1079, 0.0724]), tensor([0.7489, 0.6504, 0.6380, 0.6295, 0.4449, 0.4244, 0.4107, 0.3084, 0.2939,\n",
            "        0.2192, 0.1772, 0.1011, 0.0729, 0.0619]), tensor([0.9573, 0.6688, 0.6600, 0.2691, 0.2383, 0.0967, 0.0939, 0.0652]), tensor([0.8884, 0.3421, 0.3099, 0.1683, 0.0734]), tensor([0.9414, 0.9006, 0.2494, 0.1634, 0.1628, 0.0802, 0.0520]), tensor([0.8740, 0.8201, 0.2013, 0.1576, 0.1375, 0.0970]), tensor([0.9166, 0.4323, 0.1862, 0.1728, 0.0893, 0.0696, 0.0579, 0.0517]), tensor([0.8788, 0.5459, 0.4842, 0.1303, 0.0740, 0.0733, 0.0708, 0.0539]), tensor([0.9142, 0.7792, 0.0662]), tensor([0.9307, 0.8798, 0.5793, 0.1820, 0.0853, 0.0790, 0.0745, 0.0663, 0.0593,\n",
            "        0.0546]), tensor([0.9179]), tensor([0.4942, 0.3467, 0.2425, 0.2200, 0.0775, 0.0554]), tensor([0.9390, 0.4591, 0.1669, 0.0823, 0.0773, 0.0551, 0.0514]), tensor([0.8892, 0.4289, 0.3164, 0.1939, 0.0729]), tensor([0.8293, 0.6003, 0.2992, 0.1463, 0.1226, 0.1157, 0.1129, 0.1052, 0.1008,\n",
            "        0.0938, 0.0840, 0.0718]), tensor([0.6572, 0.4468, 0.4401, 0.2201, 0.2123, 0.1547, 0.0582, 0.0572]), tensor([0.7457, 0.1284]), tensor([0.9548, 0.7342, 0.3896, 0.1697, 0.1574, 0.1436, 0.1393, 0.1032, 0.0971,\n",
            "        0.0718, 0.0623, 0.0604]), tensor([0.9500, 0.8695]), tensor([0.9042, 0.6157, 0.3583, 0.0900, 0.0573]), tensor([0.8786, 0.5625, 0.4389, 0.3135, 0.1711, 0.1683, 0.1333, 0.0699, 0.0601]), tensor([0.8824, 0.7665, 0.2713]), tensor([0.9289]), tensor([0.8602, 0.8197, 0.1839]), tensor([0.8635, 0.8167]), tensor([0.8221, 0.7485, 0.6320, 0.0506]), tensor([0.8834, 0.8496, 0.8221, 0.3675, 0.1165, 0.1115, 0.0719, 0.0522]), tensor([0.9293, 0.2491, 0.0564]), tensor([0.8415, 0.7810]), tensor([0.6540, 0.5581, 0.1253, 0.0929, 0.0723, 0.0706, 0.0668, 0.0535]), tensor([0.8146, 0.7123, 0.6453, 0.0895]), tensor([0.7910, 0.6029, 0.5417, 0.1728, 0.1607, 0.0989, 0.0518]), tensor([0.9295, 0.3914, 0.2012, 0.1132, 0.0905, 0.0850, 0.0792, 0.0735]), tensor([0.8132, 0.6771, 0.4528]), tensor([0.8894, 0.6986, 0.5931]), tensor([0.8671, 0.8365, 0.8271, 0.3098, 0.1042, 0.0590]), tensor([0.8531]), tensor([0.8794]), tensor([0.8773]), tensor([0.8537]), tensor([0.8844, 0.7654, 0.7011]), tensor([0.9049]), tensor([0.7526]), tensor([0.8623, 0.7654, 0.6990]), tensor([0.8559, 0.7505, 0.6953, 0.6741, 0.0605]), tensor([0.7973, 0.7228, 0.0629]), tensor([0.9067, 0.7357]), tensor([0.8669, 0.2222, 0.1574, 0.1118]), tensor([0.7620, 0.7498]), tensor([0.7434]), tensor([0.7680, 0.6900]), tensor([0.7471]), tensor([0.8190, 0.7451]), tensor([0.8721, 0.8355, 0.1011]), tensor([0.8179, 0.7200]), tensor([0.8714, 0.8252]), tensor([0.7059]), tensor([0.8356]), tensor([0.8542, 0.0720]), tensor([0.7500]), tensor([0.8674, 0.7238]), tensor([0.8089, 0.6788, 0.6332, 0.4372, 0.0843]), tensor([0.8717, 0.7813]), tensor([0.6472]), tensor([0.8026, 0.7321, 0.6142, 0.2115, 0.2099, 0.1453, 0.1402, 0.0755, 0.0710,\n",
            "        0.0592, 0.0527]), tensor([0.8141, 0.5955, 0.4157, 0.1291, 0.0995]), tensor([0.7584, 0.3460, 0.3121, 0.0727, 0.0726]), tensor([0.8492, 0.2438]), tensor([0.8220, 0.7952, 0.6969, 0.5744, 0.0638]), tensor([0.6619, 0.4921, 0.3937, 0.3890, 0.1727, 0.1010, 0.0970]), tensor([0.9117, 0.5536, 0.1505, 0.1110, 0.0887]), tensor([0.9645, 0.7719, 0.7394, 0.1639, 0.1240, 0.0563]), tensor([0.8456, 0.5428, 0.5410, 0.4142, 0.3564, 0.2041, 0.1752, 0.1416, 0.1145,\n",
            "        0.0851, 0.0814, 0.0567, 0.0564, 0.0502])]\n"
          ],
          "name": "stdout"
        }
      ]
    },
    {
      "cell_type": "code",
      "metadata": {
        "id": "LiMZ6vrqtp8G",
        "colab_type": "code",
        "colab": {}
      },
      "source": [
        "for x in l:\n",
        "  for y in range(len(x)):\n",
        "    x[y] = int(label_map[x[y]])"
      ],
      "execution_count": 59,
      "outputs": []
    },
    {
      "cell_type": "code",
      "metadata": {
        "id": "ZXXBucbNRrIU",
        "colab_type": "code",
        "colab": {
          "base_uri": "https://localhost:8080/",
          "height": 201
        },
        "outputId": "49ab9331-7758-425f-b6df-c014ff2c57e3"
      },
      "source": [
        "for x in l3:\n",
        "  for y in range(len(x)):\n",
        "    x[y] = int(label_map[x[y]])"
      ],
      "execution_count": 60,
      "outputs": [
        {
          "output_type": "error",
          "ename": "NameError",
          "evalue": "ignored",
          "traceback": [
            "\u001b[0;31m---------------------------------------------------------------------------\u001b[0m",
            "\u001b[0;31mNameError\u001b[0m                                 Traceback (most recent call last)",
            "\u001b[0;32m<ipython-input-60-c42cb0976ba7>\u001b[0m in \u001b[0;36m<module>\u001b[0;34m()\u001b[0m\n\u001b[0;32m----> 1\u001b[0;31m \u001b[0;32mfor\u001b[0m \u001b[0mx\u001b[0m \u001b[0;32min\u001b[0m \u001b[0ml3\u001b[0m\u001b[0;34m:\u001b[0m\u001b[0;34m\u001b[0m\u001b[0;34m\u001b[0m\u001b[0m\n\u001b[0m\u001b[1;32m      2\u001b[0m   \u001b[0;32mfor\u001b[0m \u001b[0my\u001b[0m \u001b[0;32min\u001b[0m \u001b[0mrange\u001b[0m\u001b[0;34m(\u001b[0m\u001b[0mlen\u001b[0m\u001b[0;34m(\u001b[0m\u001b[0mx\u001b[0m\u001b[0;34m)\u001b[0m\u001b[0;34m)\u001b[0m\u001b[0;34m:\u001b[0m\u001b[0;34m\u001b[0m\u001b[0;34m\u001b[0m\u001b[0m\n\u001b[1;32m      3\u001b[0m     \u001b[0mx\u001b[0m\u001b[0;34m[\u001b[0m\u001b[0my\u001b[0m\u001b[0;34m]\u001b[0m \u001b[0;34m=\u001b[0m \u001b[0mint\u001b[0m\u001b[0;34m(\u001b[0m\u001b[0mlabel_map\u001b[0m\u001b[0;34m[\u001b[0m\u001b[0mx\u001b[0m\u001b[0;34m[\u001b[0m\u001b[0my\u001b[0m\u001b[0;34m]\u001b[0m\u001b[0;34m]\u001b[0m\u001b[0;34m)\u001b[0m\u001b[0;34m\u001b[0m\u001b[0;34m\u001b[0m\u001b[0m\n",
            "\u001b[0;31mNameError\u001b[0m: name 'l3' is not defined"
          ]
        }
      ]
    },
    {
      "cell_type": "code",
      "metadata": {
        "id": "HcWGIN9ovE22",
        "colab_type": "code",
        "colab": {
          "base_uri": "https://localhost:8080/",
          "height": 55
        },
        "outputId": "85412490-99b8-4d84-b5fb-b125ebd7ec42"
      },
      "source": [
        "print(l3)"
      ],
      "execution_count": null,
      "outputs": [
        {
          "output_type": "stream",
          "text": [
            "[[1, 2, 3, 2], [1, 2], [3, 3, 1, 2], [1], [1, 2], [3, 3], [1, 3], [1, 3], [3, 2, 3], [3, 1, 1], [2, 3, 3], [3, 2], [3, 2, 3], [], [3, 2, 3], [1], [1, 3], [1], [1], [1, 2, 3], [3, 1, 1], [], [], [1, 3, 3], [1], [2, 1, 3, 3, 3], [2, 3, 1, 3], [1, 2], [3, 3], [2, 1, 3], [3, 3], [1, 2], [1, 3, 2], [1, 2], [2], [1, 2], [1, 3, 3, 3, 3, 3], [3, 3], [1, 2], [2, 3], [3], [2, 1], [1, 2], [1, 2, 3], [3, 3, 3, 3, 3], [], [1, 2], [1, 3], [3, 1, 3], [3], [3, 3], [2, 1, 2], [2], [1], [3, 3, 3], [], [1, 3], [1, 3], [1], [3], [1, 3], [1, 2], [2, 3, 1], [1], [1, 3, 3, 3], [1, 3, 3], [], [2, 1], [1, 3], [3, 3], [2], [2, 1], [2, 1], [1, 2], [1, 3], [1, 2], [2, 1, 2], [1, 1], [2, 1], [1], [2], [1, 2], [2], [1], [2, 2, 2], [2], [1, 2], [1, 3], [1], [1], [2, 1, 2], [3, 1, 2], [1, 1, 3], [3, 1], [2, 1, 3], [2, 3, 1], [1, 2, 3], [1], [1], [1], [2, 1, 3], [1, 2], [1, 3], [1], [1], [1, 3], [1, 2], [2], [1, 3, 3], [3, 3], [3, 3], [3, 3], [3, 3], [1], [3, 3], [3, 3], [1, 3], [3, 1, 3], [3, 3], [1, 3, 3], [3, 3], [1], [3, 3], [1], [1, 3, 3], [1, 3, 3], [2, 3, 3], [3, 1], [1, 2, 3, 1], [1, 2, 3, 3], [2, 3], [2, 1], [3, 1, 2], [1, 2], [1, 3], [1, 3], [2, 1, 3], [2, 1], [2, 1, 1], [1, 3]]\n"
          ],
          "name": "stdout"
        }
      ]
    },
    {
      "cell_type": "code",
      "metadata": {
        "id": "5OBXU4B3R5SP",
        "colab_type": "code",
        "colab": {}
      },
      "source": [
        "for x in range(len(l3)):\n",
        "  l3[x] = np.asarray(l3[x])\n",
        "\n",
        "for x in range(len(l3)):\n",
        "  l3[x] = torch.from_numpy(l3[x]).type(torch.LongTensor)"
      ],
      "execution_count": null,
      "outputs": []
    },
    {
      "cell_type": "code",
      "metadata": {
        "id": "YEZ_I5SKvePo",
        "colab_type": "code",
        "colab": {}
      },
      "source": [
        "for x in range(len(l)):\n",
        "  l[x] = np.asarray(l[x])"
      ],
      "execution_count": 61,
      "outputs": []
    },
    {
      "cell_type": "code",
      "metadata": {
        "id": "QCpjggnRznoz",
        "colab_type": "code",
        "colab": {
          "base_uri": "https://localhost:8080/",
          "height": 55
        },
        "outputId": "3574763e-6d7c-4ef3-fd33-6ad1af6f9f04"
      },
      "source": [
        "print(l)"
      ],
      "execution_count": 62,
      "outputs": [
        {
          "output_type": "stream",
          "text": [
            "[array([3, 1, 2, 2]), array([2, 3, 3, 2]), array([3, 2, 3, 1]), array([3, 2, 3, 2, 2, 2, 2, 2]), array([2, 1]), array([2, 1]), array([1, 3, 1, 2, 2, 3, 2]), array([1, 3, 1, 2, 2, 1, 2]), array([1, 1, 3, 2, 2, 3, 3, 2, 2, 2, 2, 1, 2, 2]), array([1, 3, 3, 2, 2, 2, 2, 1, 3, 3, 2]), array([3, 2, 3, 2, 2, 2, 2, 2, 1, 2, 1, 2, 1, 2, 2, 3, 2]), array([1, 3, 2, 2, 1, 2, 3, 3, 3, 3, 2]), array([1, 2, 3, 1, 1]), array([1]), array([1, 2, 1]), array([3, 3, 2]), array([3, 3, 3]), array([1, 2, 3]), array([1, 2, 1, 3, 3]), array([3, 1, 3, 3, 3, 3, 1, 1, 3]), array([1, 2, 2]), array([1, 3, 2, 1]), array([1, 3, 1, 2, 3]), array([1]), array([1, 2, 2, 2, 3, 2, 3, 2, 2, 3]), array([2, 1, 2, 2, 2]), array([2, 3, 3, 3, 3, 3, 3, 3]), array([1, 2, 3]), array([1, 3, 3, 3, 2, 3, 3, 3]), array([3, 3, 3, 3]), array([2, 3, 2, 3, 1, 2, 2]), array([1, 2, 3, 3, 1, 3, 3, 1, 2, 3]), array([3, 3, 3, 3, 3, 3, 2, 2, 1]), array([3, 1, 3, 3, 1, 1, 3]), array([1, 3, 2, 2, 1, 2, 2, 2, 1]), array([1, 2, 3]), array([2, 1, 1]), array([1, 3, 3, 3, 3, 3, 3, 3, 3, 3, 3, 3, 3, 3, 3, 2, 2]), array([3, 2, 1, 3, 2, 2]), array([1, 3, 1, 1, 1]), array([1, 2, 1]), array([1, 2, 2, 2, 2, 3, 3, 3]), array([2, 2, 2]), array([3, 3, 3]), array([1, 3, 3, 2]), array([1, 2, 2]), array([1, 3, 3, 1, 1]), array([1, 2, 2, 3]), array([1, 3, 3]), array([1, 2, 3, 3, 3, 1]), array([1, 1, 1, 2, 3, 2, 3, 2, 3, 3, 2, 1, 3, 2, 2, 3]), array([2, 1, 2]), array([1, 3, 3, 3, 3]), array([1, 3, 3, 3]), array([1, 3, 3, 3, 3, 2, 3, 2]), array([3, 3]), array([2, 1, 1, 2, 1, 2]), array([1, 1, 3, 2]), array([2, 2, 2, 2, 3, 3, 2, 2, 3, 2]), array([1, 2, 3, 3, 1, 3, 2, 2, 3, 1]), array([1, 2]), array([1]), array([2, 2]), array([1, 3, 1, 2, 2, 3, 3, 2, 2, 2, 1, 1]), array([2, 2, 2, 2, 3]), array([1, 2, 1, 3]), array([1, 2, 2, 1, 1, 1, 2, 2, 2, 3]), array([1, 3, 2, 3, 2, 1, 1]), array([2, 1, 1, 2, 2, 2, 2, 2, 1, 2, 2, 2, 2, 2]), array([2, 1, 1, 3, 2, 2, 1, 1]), array([2, 2, 2, 2, 2]), array([2, 1, 1, 2, 1, 3, 3]), array([1, 2, 1, 1, 3, 2]), array([1, 2, 1, 2, 3, 3, 1, 2]), array([1, 3, 3, 1, 1, 2, 2, 2]), array([1, 2, 3]), array([2, 1, 3, 1, 3, 2, 2, 3, 2, 3]), array([1]), array([1, 2, 3, 2, 2, 2]), array([2, 1, 2, 3, 3, 2, 2]), array([1, 1, 1, 3, 2]), array([1, 2, 3, 1, 2, 3, 1, 1, 1, 2, 2, 3]), array([1, 2, 3, 2, 1, 2, 2, 1]), array([1, 3]), array([2, 1, 3, 2, 1, 3, 2, 3, 3, 1, 3, 2]), array([1, 2]), array([2, 3, 1, 3, 3]), array([2, 1, 3, 2, 2, 1, 3, 2, 2]), array([1, 3, 3]), array([1]), array([3, 3, 2]), array([3, 3]), array([3, 3, 1, 3]), array([1, 3, 3, 2, 1, 3, 3, 2]), array([1, 3, 3]), array([3, 3]), array([3, 1, 3, 3, 3, 3, 2, 3]), array([3, 3, 1, 3]), array([3, 2, 3, 2, 2, 2, 2]), array([1, 2, 3, 3, 3, 1, 3, 3]), array([1, 3, 3]), array([2, 3, 3]), array([1, 3, 3, 2, 2, 3]), array([1]), array([2]), array([2]), array([1]), array([2, 3, 3]), array([1]), array([2]), array([2, 3, 3]), array([1, 2, 3, 3, 2]), array([3, 1, 2]), array([2, 3]), array([2, 2, 3, 3]), array([3, 3]), array([3]), array([3, 3]), array([3]), array([1, 2]), array([1, 2, 2]), array([1, 2]), array([1, 2]), array([2]), array([1]), array([2, 2]), array([2]), array([1, 3]), array([1, 3, 3, 2, 2]), array([1, 3]), array([3]), array([1, 3, 2, 3, 2, 3, 3, 2, 2, 3, 1]), array([1, 3, 2, 3, 2]), array([3, 1, 3, 2, 2]), array([2, 3]), array([3, 1, 1, 1, 1]), array([2, 1, 3, 3, 3, 2, 3]), array([2, 1, 3, 3, 3]), array([2, 1, 1, 1, 2, 1]), array([3, 3, 1, 3, 2, 1, 3, 3, 3, 1, 3, 2, 3, 3])]\n"
          ],
          "name": "stdout"
        }
      ]
    },
    {
      "cell_type": "code",
      "metadata": {
        "id": "ggHyoxOt2KMf",
        "colab_type": "code",
        "colab": {}
      },
      "source": [
        "for x in range(len(l)):\n",
        "  l[x] = torch.from_numpy(l[x]).type(torch.LongTensor)"
      ],
      "execution_count": 63,
      "outputs": []
    },
    {
      "cell_type": "code",
      "metadata": {
        "id": "HOCSQPFl2tbx",
        "colab_type": "code",
        "colab": {
          "base_uri": "https://localhost:8080/",
          "height": 55
        },
        "outputId": "53f62963-73b1-4a8f-9afa-e0cb8dcc3fcf"
      },
      "source": [
        "print(l)"
      ],
      "execution_count": 64,
      "outputs": [
        {
          "output_type": "stream",
          "text": [
            "[tensor([3, 1, 2, 2]), tensor([2, 3, 3, 2]), tensor([3, 2, 3, 1]), tensor([3, 2, 3, 2, 2, 2, 2, 2]), tensor([2, 1]), tensor([2, 1]), tensor([1, 3, 1, 2, 2, 3, 2]), tensor([1, 3, 1, 2, 2, 1, 2]), tensor([1, 1, 3, 2, 2, 3, 3, 2, 2, 2, 2, 1, 2, 2]), tensor([1, 3, 3, 2, 2, 2, 2, 1, 3, 3, 2]), tensor([3, 2, 3, 2, 2, 2, 2, 2, 1, 2, 1, 2, 1, 2, 2, 3, 2]), tensor([1, 3, 2, 2, 1, 2, 3, 3, 3, 3, 2]), tensor([1, 2, 3, 1, 1]), tensor([1]), tensor([1, 2, 1]), tensor([3, 3, 2]), tensor([3, 3, 3]), tensor([1, 2, 3]), tensor([1, 2, 1, 3, 3]), tensor([3, 1, 3, 3, 3, 3, 1, 1, 3]), tensor([1, 2, 2]), tensor([1, 3, 2, 1]), tensor([1, 3, 1, 2, 3]), tensor([1]), tensor([1, 2, 2, 2, 3, 2, 3, 2, 2, 3]), tensor([2, 1, 2, 2, 2]), tensor([2, 3, 3, 3, 3, 3, 3, 3]), tensor([1, 2, 3]), tensor([1, 3, 3, 3, 2, 3, 3, 3]), tensor([3, 3, 3, 3]), tensor([2, 3, 2, 3, 1, 2, 2]), tensor([1, 2, 3, 3, 1, 3, 3, 1, 2, 3]), tensor([3, 3, 3, 3, 3, 3, 2, 2, 1]), tensor([3, 1, 3, 3, 1, 1, 3]), tensor([1, 3, 2, 2, 1, 2, 2, 2, 1]), tensor([1, 2, 3]), tensor([2, 1, 1]), tensor([1, 3, 3, 3, 3, 3, 3, 3, 3, 3, 3, 3, 3, 3, 3, 2, 2]), tensor([3, 2, 1, 3, 2, 2]), tensor([1, 3, 1, 1, 1]), tensor([1, 2, 1]), tensor([1, 2, 2, 2, 2, 3, 3, 3]), tensor([2, 2, 2]), tensor([3, 3, 3]), tensor([1, 3, 3, 2]), tensor([1, 2, 2]), tensor([1, 3, 3, 1, 1]), tensor([1, 2, 2, 3]), tensor([1, 3, 3]), tensor([1, 2, 3, 3, 3, 1]), tensor([1, 1, 1, 2, 3, 2, 3, 2, 3, 3, 2, 1, 3, 2, 2, 3]), tensor([2, 1, 2]), tensor([1, 3, 3, 3, 3]), tensor([1, 3, 3, 3]), tensor([1, 3, 3, 3, 3, 2, 3, 2]), tensor([3, 3]), tensor([2, 1, 1, 2, 1, 2]), tensor([1, 1, 3, 2]), tensor([2, 2, 2, 2, 3, 3, 2, 2, 3, 2]), tensor([1, 2, 3, 3, 1, 3, 2, 2, 3, 1]), tensor([1, 2]), tensor([1]), tensor([2, 2]), tensor([1, 3, 1, 2, 2, 3, 3, 2, 2, 2, 1, 1]), tensor([2, 2, 2, 2, 3]), tensor([1, 2, 1, 3]), tensor([1, 2, 2, 1, 1, 1, 2, 2, 2, 3]), tensor([1, 3, 2, 3, 2, 1, 1]), tensor([2, 1, 1, 2, 2, 2, 2, 2, 1, 2, 2, 2, 2, 2]), tensor([2, 1, 1, 3, 2, 2, 1, 1]), tensor([2, 2, 2, 2, 2]), tensor([2, 1, 1, 2, 1, 3, 3]), tensor([1, 2, 1, 1, 3, 2]), tensor([1, 2, 1, 2, 3, 3, 1, 2]), tensor([1, 3, 3, 1, 1, 2, 2, 2]), tensor([1, 2, 3]), tensor([2, 1, 3, 1, 3, 2, 2, 3, 2, 3]), tensor([1]), tensor([1, 2, 3, 2, 2, 2]), tensor([2, 1, 2, 3, 3, 2, 2]), tensor([1, 1, 1, 3, 2]), tensor([1, 2, 3, 1, 2, 3, 1, 1, 1, 2, 2, 3]), tensor([1, 2, 3, 2, 1, 2, 2, 1]), tensor([1, 3]), tensor([2, 1, 3, 2, 1, 3, 2, 3, 3, 1, 3, 2]), tensor([1, 2]), tensor([2, 3, 1, 3, 3]), tensor([2, 1, 3, 2, 2, 1, 3, 2, 2]), tensor([1, 3, 3]), tensor([1]), tensor([3, 3, 2]), tensor([3, 3]), tensor([3, 3, 1, 3]), tensor([1, 3, 3, 2, 1, 3, 3, 2]), tensor([1, 3, 3]), tensor([3, 3]), tensor([3, 1, 3, 3, 3, 3, 2, 3]), tensor([3, 3, 1, 3]), tensor([3, 2, 3, 2, 2, 2, 2]), tensor([1, 2, 3, 3, 3, 1, 3, 3]), tensor([1, 3, 3]), tensor([2, 3, 3]), tensor([1, 3, 3, 2, 2, 3]), tensor([1]), tensor([2]), tensor([2]), tensor([1]), tensor([2, 3, 3]), tensor([1]), tensor([2]), tensor([2, 3, 3]), tensor([1, 2, 3, 3, 2]), tensor([3, 1, 2]), tensor([2, 3]), tensor([2, 2, 3, 3]), tensor([3, 3]), tensor([3]), tensor([3, 3]), tensor([3]), tensor([1, 2]), tensor([1, 2, 2]), tensor([1, 2]), tensor([1, 2]), tensor([2]), tensor([1]), tensor([2, 2]), tensor([2]), tensor([1, 3]), tensor([1, 3, 3, 2, 2]), tensor([1, 3]), tensor([3]), tensor([1, 3, 2, 3, 2, 3, 3, 2, 2, 3, 1]), tensor([1, 3, 2, 3, 2]), tensor([3, 1, 3, 2, 2]), tensor([2, 3]), tensor([3, 1, 1, 1, 1]), tensor([2, 1, 3, 3, 3, 2, 3]), tensor([2, 1, 3, 3, 3]), tensor([2, 1, 1, 1, 2, 1]), tensor([3, 3, 1, 3, 2, 1, 3, 3, 3, 1, 3, 2, 3, 3])]\n"
          ],
          "name": "stdout"
        }
      ]
    },
    {
      "cell_type": "code",
      "metadata": {
        "id": "mqsiZ-xaGXsX",
        "colab_type": "code",
        "colab": {
          "base_uri": "https://localhost:8080/",
          "height": 55
        },
        "outputId": "df2edea6-df29-44f6-faae-22fdf58f0719"
      },
      "source": [
        "#def xml_to_list(xml_folder, output_file=None):\n",
        "xml_list = []\n",
        "box_gt2 = []\n",
        "label_gt =[]\n",
        "difficult_gt =[]\n",
        "      # Loop through every XML file\n",
        "for xml_file in glob.glob('/content/drive/My Drive/Colab Notebooks/object detection/Validation' + '/*.xml'):\n",
        "          tree = ET.parse(xml_file)\n",
        "          root = tree.getroot()\n",
        "\n",
        "          filename = root.find('filename').text\n",
        "          objects = root.findall('object')\n",
        "          # Each object represents each actual image label\n",
        "          box_gt =[]\n",
        "          label_tmp =[]\n",
        "          difficult_tmp=[]\n",
        "          for member in objects:\n",
        "              box = member.find('bndbox')\n",
        "              row_1 = int(float(box[0].text)), int(float(box[1].text)), int(float(box[2].text)), int(float(box[3].text))\n",
        "              \n",
        "              #print(type(row_1))\n",
        "              box_gt.append(list(row_1))\n",
        "              #print(type(box_gt))\n",
        "              \n",
        "              label = member.find('name').text\n",
        "              label_tmp.append(label)\n",
        "              difficult = int(member.find('difficult').text)\n",
        "              difficult_tmp.append(difficult)\n",
        "              row = (filename, label, int(float(box[0].text)),\n",
        "                    int(float(box[1].text)), int(float(box[2].text)), int(float(box[3].text)))\n",
        "              xml_list.append(row)\n",
        "          difficult_gt.append(difficult_tmp)\n",
        "          label_gt.append(label_tmp)\n",
        "          box_gt2.append(np.asarray(box_gt))\n",
        "print(difficult_gt)\n",
        "#print(box_gt2)\n",
        "     # return xml_list"
      ],
      "execution_count": 65,
      "outputs": [
        {
          "output_type": "stream",
          "text": [
            "[[0, 0], [0, 0], [0, 0], [0, 0], [0, 0, 0], [0, 0, 0], [0, 0, 0], [0], [0], [0, 0, 0, 0], [0, 0], [0, 0, 0, 0], [0, 0], [0, 0, 0], [0, 0, 0], [0], [0, 0, 0], [0, 0], [0, 0], [0, 0], [0, 0], [0, 0, 0], [0, 0], [0, 0], [0, 0], [0, 0], [0, 0], [0], [0], [0, 0], [0, 0, 0], [0, 0], [0, 0], [0, 0], [0, 0], [0, 0], [0, 0, 0], [0], [0], [0, 0, 0], [0, 0, 0], [0, 0], [0, 0, 0, 0], [0, 0, 0], [0, 0], [0, 0, 0, 0], [0], [0, 0], [0, 0, 0], [0, 0, 0], [0, 0, 0], [0, 0], [0, 0, 0, 0], [0, 0], [0, 0], [0, 0], [0, 0], [0, 0, 0, 0], [0, 0, 0, 0], [0, 0], [0, 0], [0], [0, 0, 0, 0], [0], [0, 0, 0], [0, 0, 0], [0, 0, 0], [0], [0], [0, 0, 0], [0], [0], [0, 0, 0], [0, 0, 0], [0, 0], [0, 0], [0, 0], [0], [0, 0], [0, 0], [0, 0], [0, 0], [0], [0, 0], [0], [0], [0], [0], [0], [0], [0, 0], [0, 0], [0], [0], [0, 0], [0], [0, 0], [0, 0], [0, 0], [0], [0], [0, 0], [0], [0], [0, 0], [0], [0], [0, 0], [0, 0], [0], [0, 0], [0], [0, 0], [0], [0], [0], [0, 0], [0, 0], [0], [0], [0, 0, 0], [0, 0], [0, 0], [0, 0], [0, 0], [0, 0, 0, 0], [0], [0], [0, 0, 0], [0, 0, 0], [0, 0], [0, 0, 0], [0, 0], [0, 0], [0, 0], [0, 0, 0, 0], [0, 0], [0, 0, 0], [0, 0, 0], [0, 0, 0]]\n"
          ],
          "name": "stdout"
        }
      ]
    },
    {
      "cell_type": "code",
      "metadata": {
        "id": "hAHpCg_TKYUI",
        "colab_type": "code",
        "colab": {}
      },
      "source": [
        "for x in range(len(difficult_gt)):\n",
        "  difficult_gt[x] = np.asarray(difficult_gt[x])"
      ],
      "execution_count": 66,
      "outputs": []
    },
    {
      "cell_type": "code",
      "metadata": {
        "id": "3b6kHcCzKMBB",
        "colab_type": "code",
        "colab": {}
      },
      "source": [
        "for x in range(len(difficult_gt)):\n",
        "  difficult_gt[x] = torch.from_numpy(difficult_gt[x])"
      ],
      "execution_count": 67,
      "outputs": []
    },
    {
      "cell_type": "code",
      "metadata": {
        "id": "xF-0ETTjKSv3",
        "colab_type": "code",
        "colab": {
          "base_uri": "https://localhost:8080/",
          "height": 55
        },
        "outputId": "2ddebb02-4fff-45c8-bb1c-823eb552ca04"
      },
      "source": [
        "print(difficult_gt)"
      ],
      "execution_count": 68,
      "outputs": [
        {
          "output_type": "stream",
          "text": [
            "[tensor([0, 0]), tensor([0, 0]), tensor([0, 0]), tensor([0, 0]), tensor([0, 0, 0]), tensor([0, 0, 0]), tensor([0, 0, 0]), tensor([0]), tensor([0]), tensor([0, 0, 0, 0]), tensor([0, 0]), tensor([0, 0, 0, 0]), tensor([0, 0]), tensor([0, 0, 0]), tensor([0, 0, 0]), tensor([0]), tensor([0, 0, 0]), tensor([0, 0]), tensor([0, 0]), tensor([0, 0]), tensor([0, 0]), tensor([0, 0, 0]), tensor([0, 0]), tensor([0, 0]), tensor([0, 0]), tensor([0, 0]), tensor([0, 0]), tensor([0]), tensor([0]), tensor([0, 0]), tensor([0, 0, 0]), tensor([0, 0]), tensor([0, 0]), tensor([0, 0]), tensor([0, 0]), tensor([0, 0]), tensor([0, 0, 0]), tensor([0]), tensor([0]), tensor([0, 0, 0]), tensor([0, 0, 0]), tensor([0, 0]), tensor([0, 0, 0, 0]), tensor([0, 0, 0]), tensor([0, 0]), tensor([0, 0, 0, 0]), tensor([0]), tensor([0, 0]), tensor([0, 0, 0]), tensor([0, 0, 0]), tensor([0, 0, 0]), tensor([0, 0]), tensor([0, 0, 0, 0]), tensor([0, 0]), tensor([0, 0]), tensor([0, 0]), tensor([0, 0]), tensor([0, 0, 0, 0]), tensor([0, 0, 0, 0]), tensor([0, 0]), tensor([0, 0]), tensor([0]), tensor([0, 0, 0, 0]), tensor([0]), tensor([0, 0, 0]), tensor([0, 0, 0]), tensor([0, 0, 0]), tensor([0]), tensor([0]), tensor([0, 0, 0]), tensor([0]), tensor([0]), tensor([0, 0, 0]), tensor([0, 0, 0]), tensor([0, 0]), tensor([0, 0]), tensor([0, 0]), tensor([0]), tensor([0, 0]), tensor([0, 0]), tensor([0, 0]), tensor([0, 0]), tensor([0]), tensor([0, 0]), tensor([0]), tensor([0]), tensor([0]), tensor([0]), tensor([0]), tensor([0]), tensor([0, 0]), tensor([0, 0]), tensor([0]), tensor([0]), tensor([0, 0]), tensor([0]), tensor([0, 0]), tensor([0, 0]), tensor([0, 0]), tensor([0]), tensor([0]), tensor([0, 0]), tensor([0]), tensor([0]), tensor([0, 0]), tensor([0]), tensor([0]), tensor([0, 0]), tensor([0, 0]), tensor([0]), tensor([0, 0]), tensor([0]), tensor([0, 0]), tensor([0]), tensor([0]), tensor([0]), tensor([0, 0]), tensor([0, 0]), tensor([0]), tensor([0]), tensor([0, 0, 0]), tensor([0, 0]), tensor([0, 0]), tensor([0, 0]), tensor([0, 0]), tensor([0, 0, 0, 0]), tensor([0]), tensor([0]), tensor([0, 0, 0]), tensor([0, 0, 0]), tensor([0, 0]), tensor([0, 0, 0]), tensor([0, 0]), tensor([0, 0]), tensor([0, 0]), tensor([0, 0, 0, 0]), tensor([0, 0]), tensor([0, 0, 0]), tensor([0, 0, 0]), tensor([0, 0, 0])]\n"
          ],
          "name": "stdout"
        }
      ]
    },
    {
      "cell_type": "code",
      "metadata": {
        "id": "TT3BwbzL850J",
        "colab_type": "code",
        "colab": {}
      },
      "source": [
        "for x in label_gt:\n",
        "  for y in range(len(x)):\n",
        "    x[y] = int(label_map[x[y]])"
      ],
      "execution_count": 69,
      "outputs": []
    },
    {
      "cell_type": "code",
      "metadata": {
        "id": "FJlcL_iP8-R7",
        "colab_type": "code",
        "colab": {
          "base_uri": "https://localhost:8080/",
          "height": 55
        },
        "outputId": "da5f9b38-7cad-45d3-8065-d70d8550bbb0"
      },
      "source": [
        "print(label_gt)"
      ],
      "execution_count": 70,
      "outputs": [
        {
          "output_type": "stream",
          "text": [
            "[[2, 3], [2, 3], [1, 2], [1, 2], [3, 3, 2], [1, 3, 2], [2, 3, 3], [1], [2], [1, 2, 3, 3], [1, 2], [1, 2, 3, 3], [1, 2], [2, 3, 3], [2, 3, 3], [1], [1, 2, 3], [1, 2], [1, 2], [1, 2], [1, 2], [1, 2, 3], [3, 3], [1, 2], [1, 3], [1, 2], [3, 3], [1], [1], [1, 2], [1, 2, 3], [1, 3], [3, 3], [2, 1], [1, 2], [3, 3], [1, 2, 3], [2], [1], [2, 3, 3], [1, 3, 2], [1, 2], [1, 2, 3, 3], [1, 2, 3], [1, 3], [1, 2, 3, 3], [3], [2, 3], [1, 3, 2], [1, 3, 2], [1, 2, 3], [1, 2], [1, 2, 3, 3], [1, 3], [1, 3], [1, 3], [1, 3], [1, 2, 3, 3], [1, 3, 3, 2], [1, 2], [1, 3], [1], [1, 2, 3, 3], [1], [1, 3, 3], [1, 3, 3], [1, 3, 3], [1], [1], [3, 3, 3], [2], [1], [1, 3, 3], [1, 3, 3], [1, 2], [1, 2], [1, 2], [1], [1, 2], [3, 3], [1, 2], [1, 2], [1], [1, 2], [1], [1], [2], [2], [1], [1], [1, 2], [1, 2], [1], [2], [1, 2], [1], [1, 2], [1, 2], [1, 2], [2], [1], [1, 2], [1], [2], [1, 2], [1], [2], [1, 2], [1, 2], [2], [2, 1], [1], [1, 2], [2], [2], [1], [1, 2], [1, 2], [2], [1], [1, 3, 3], [3, 3], [3, 3], [3, 3], [3, 3], [1, 2, 3, 3], [1], [1], [1, 3, 3], [1, 3, 3], [3, 3], [1, 3, 3], [3, 3], [3, 3], [3, 3], [1, 3, 3, 2], [3, 3], [1, 3, 3], [1, 3, 3], [2, 3, 3]]\n"
          ],
          "name": "stdout"
        }
      ]
    },
    {
      "cell_type": "code",
      "metadata": {
        "id": "1zVcMYrl9JnY",
        "colab_type": "code",
        "colab": {}
      },
      "source": [
        "for x in range(len(label_gt)):\n",
        "  label_gt[x] = np.asarray(label_gt[x])"
      ],
      "execution_count": 71,
      "outputs": []
    },
    {
      "cell_type": "code",
      "metadata": {
        "id": "n8-5s2Oh9qwu",
        "colab_type": "code",
        "colab": {}
      },
      "source": [
        "for x in range(len(label_gt)):\n",
        "  label_gt[x] = torch.from_numpy(label_gt[x])"
      ],
      "execution_count": 72,
      "outputs": []
    },
    {
      "cell_type": "code",
      "metadata": {
        "id": "41-bo89U90aC",
        "colab_type": "code",
        "colab": {
          "base_uri": "https://localhost:8080/",
          "height": 55
        },
        "outputId": "943bdca1-b6f1-4d11-ed57-d37418b1ae19"
      },
      "source": [
        "print(label_gt)"
      ],
      "execution_count": 73,
      "outputs": [
        {
          "output_type": "stream",
          "text": [
            "[tensor([2, 3]), tensor([2, 3]), tensor([1, 2]), tensor([1, 2]), tensor([3, 3, 2]), tensor([1, 3, 2]), tensor([2, 3, 3]), tensor([1]), tensor([2]), tensor([1, 2, 3, 3]), tensor([1, 2]), tensor([1, 2, 3, 3]), tensor([1, 2]), tensor([2, 3, 3]), tensor([2, 3, 3]), tensor([1]), tensor([1, 2, 3]), tensor([1, 2]), tensor([1, 2]), tensor([1, 2]), tensor([1, 2]), tensor([1, 2, 3]), tensor([3, 3]), tensor([1, 2]), tensor([1, 3]), tensor([1, 2]), tensor([3, 3]), tensor([1]), tensor([1]), tensor([1, 2]), tensor([1, 2, 3]), tensor([1, 3]), tensor([3, 3]), tensor([2, 1]), tensor([1, 2]), tensor([3, 3]), tensor([1, 2, 3]), tensor([2]), tensor([1]), tensor([2, 3, 3]), tensor([1, 3, 2]), tensor([1, 2]), tensor([1, 2, 3, 3]), tensor([1, 2, 3]), tensor([1, 3]), tensor([1, 2, 3, 3]), tensor([3]), tensor([2, 3]), tensor([1, 3, 2]), tensor([1, 3, 2]), tensor([1, 2, 3]), tensor([1, 2]), tensor([1, 2, 3, 3]), tensor([1, 3]), tensor([1, 3]), tensor([1, 3]), tensor([1, 3]), tensor([1, 2, 3, 3]), tensor([1, 3, 3, 2]), tensor([1, 2]), tensor([1, 3]), tensor([1]), tensor([1, 2, 3, 3]), tensor([1]), tensor([1, 3, 3]), tensor([1, 3, 3]), tensor([1, 3, 3]), tensor([1]), tensor([1]), tensor([3, 3, 3]), tensor([2]), tensor([1]), tensor([1, 3, 3]), tensor([1, 3, 3]), tensor([1, 2]), tensor([1, 2]), tensor([1, 2]), tensor([1]), tensor([1, 2]), tensor([3, 3]), tensor([1, 2]), tensor([1, 2]), tensor([1]), tensor([1, 2]), tensor([1]), tensor([1]), tensor([2]), tensor([2]), tensor([1]), tensor([1]), tensor([1, 2]), tensor([1, 2]), tensor([1]), tensor([2]), tensor([1, 2]), tensor([1]), tensor([1, 2]), tensor([1, 2]), tensor([1, 2]), tensor([2]), tensor([1]), tensor([1, 2]), tensor([1]), tensor([2]), tensor([1, 2]), tensor([1]), tensor([2]), tensor([1, 2]), tensor([1, 2]), tensor([2]), tensor([2, 1]), tensor([1]), tensor([1, 2]), tensor([2]), tensor([2]), tensor([1]), tensor([1, 2]), tensor([1, 2]), tensor([2]), tensor([1]), tensor([1, 3, 3]), tensor([3, 3]), tensor([3, 3]), tensor([3, 3]), tensor([3, 3]), tensor([1, 2, 3, 3]), tensor([1]), tensor([1]), tensor([1, 3, 3]), tensor([1, 3, 3]), tensor([3, 3]), tensor([1, 3, 3]), tensor([3, 3]), tensor([3, 3]), tensor([3, 3]), tensor([1, 3, 3, 2]), tensor([3, 3]), tensor([1, 3, 3]), tensor([1, 3, 3]), tensor([2, 3, 3])]\n"
          ],
          "name": "stdout"
        }
      ]
    },
    {
      "cell_type": "code",
      "metadata": {
        "id": "cNOm2MiJADuQ",
        "colab_type": "code",
        "colab": {}
      },
      "source": [
        "for x in range(len(box_gt2)):\n",
        "  box_gt2[x] = torch.from_numpy(box_gt2[x])"
      ],
      "execution_count": 74,
      "outputs": []
    },
    {
      "cell_type": "code",
      "metadata": {
        "id": "8gzucBUgAOs0",
        "colab_type": "code",
        "colab": {
          "base_uri": "https://localhost:8080/",
          "height": 1000
        },
        "outputId": "8cc51b2e-c985-4170-b987-ba1103fc9f16"
      },
      "source": [
        "print(box_gt2)"
      ],
      "execution_count": 75,
      "outputs": [
        {
          "output_type": "stream",
          "text": [
            "[tensor([[ 52,  32, 221,  46],\n",
            "        [ 11,  96,  30, 148]]), tensor([[ 14, 205, 219, 217],\n",
            "        [  3,  57,  15, 117]]), tensor([[  6,   2, 128,  18],\n",
            "        [200,  72, 235, 103]]), tensor([[107,   6, 161,  20],\n",
            "        [ 98, 171, 172, 185]]), tensor([[  9,  46,  25,  90],\n",
            "        [146, 139, 170, 155],\n",
            "        [284,  51, 308, 115]]), tensor([[ 74,   2, 183,  12],\n",
            "        [  3,  70,  12, 123],\n",
            "        [ 60, 186, 200, 194]]), tensor([[207,   7, 245,  29],\n",
            "        [110, 176, 135, 188],\n",
            "        [  6,  71,  20,  99]]), tensor([[ 11,  16, 147,  32]]), tensor([[ 22, 168, 242, 183]]), tensor([[  4,   6, 102,  18],\n",
            "        [109,  21, 195,  38],\n",
            "        [  2,  79,  13, 111],\n",
            "        [ 98, 158, 132, 165]]), tensor([[ 39,   7, 243,  23],\n",
            "        [106, 166, 171, 179]]), tensor([[   8,   11,  340,   44],\n",
            "        [  25,  100, 1061,  152],\n",
            "        [ 528,  727,  699,  770],\n",
            "        [   2,  375,   41,  497]]), tensor([[ 549,   57, 1058,  190],\n",
            "        [  83,  765, 1549,  904]]), tensor([[ 78,  17, 336,  71],\n",
            "        [  1, 115,  34, 340],\n",
            "        [452, 455, 536, 479]]), tensor([[ 84,   4, 498,  40],\n",
            "        [  6, 219,  30, 292],\n",
            "        [379, 467, 504, 495]]), tensor([[221,  18, 328,  46]]), tensor([[132,   9, 386,  38],\n",
            "        [196, 274, 325, 302],\n",
            "        [ 10,  91,  34, 183]]), tensor([[120,   2, 249,  21],\n",
            "        [344,  86, 398, 153]]), tensor([[  3,   3, 488,  22],\n",
            "        [288,  50, 547,  80]]), tensor([[ 89,   2, 300,  23],\n",
            "        [140, 216, 253, 237]]), tensor([[ 66,  33, 466,  64],\n",
            "        [190, 379, 339, 400]]), tensor([[124,   1, 445,  19],\n",
            "        [406, 241, 487, 290],\n",
            "        [250, 314, 318, 341]]), tensor([[  1, 136,  16, 226],\n",
            "        [170, 313, 265, 330]]), tensor([[182,  21, 397,  61],\n",
            "        [ 32, 389, 572, 419]]), tensor([[164,   2, 364,  25],\n",
            "        [236, 356, 288, 372]]), tensor([[136,  11, 559,  49],\n",
            "        [266, 367, 424, 399]]), tensor([[ 14,   7, 115,  55],\n",
            "        [330, 281, 386, 310]]), tensor([[140,  21, 456,  66]]), tensor([[190,  24, 428,  74]]), tensor([[195,  20, 301,  47],\n",
            "        [424, 162, 480, 189]]), tensor([[533,  14, 935,  93],\n",
            "        [115, 383, 590, 419],\n",
            "        [  8,  24,  29,  99]]), tensor([[221,  10, 364,  29],\n",
            "        [  6, 144,  32, 215]]), tensor([[390, 500, 449, 538],\n",
            "        [  3, 240,  27, 300]]), tensor([[  8,  42,  57, 100],\n",
            "        [139,   2, 216,  14]]), tensor([[152,   4, 238,  26],\n",
            "        [321,  83, 390, 119]]), tensor([[ 12, 158,  36, 215],\n",
            "        [325, 366, 374, 393]]), tensor([[152,   7, 493,  38],\n",
            "        [438,  55, 601,  76],\n",
            "        [  6, 134,  28, 248]]), tensor([[355,  97, 409, 165]]), tensor([[230,  19, 573,  58]]), tensor([[350,  56, 432, 100],\n",
            "        [174, 176, 215, 196],\n",
            "        [ 10,  60,  30, 126]]), tensor([[ 87,  15, 500,  44],\n",
            "        [ 25, 107,  44, 234],\n",
            "        [192, 311, 392, 332]]), tensor([[ 190,   10, 1114,   47],\n",
            "        [ 976,   88, 1221,  160]]), tensor([[ 332,   14,  858,   56],\n",
            "        [ 986,  235, 1172,  444],\n",
            "        [  26,  269,   61,  527],\n",
            "        [ 498,  730,  592,  768]]), tensor([[153,  15, 866,  58],\n",
            "        [291,  86, 739, 130],\n",
            "        [  2, 295,  25, 492]]), tensor([[339,  14, 866,  81],\n",
            "        [ 32, 443,  76, 697]]), tensor([[447,   3, 542,  23],\n",
            "        [ 82,  53, 186,  77],\n",
            "        [  4, 166,  26, 310],\n",
            "        [468, 453, 510, 470]]), tensor([[  1, 105,  18, 192]]), tensor([[938,   8, 996, 104],\n",
            "        [452, 595, 532, 615]]), tensor([[ 312,   27, 1141,   81],\n",
            "        [  83,  214,  136,  566],\n",
            "        [ 358,  713, 1102,  772]]), tensor([[ 58,   3, 179,  12],\n",
            "        [  3,  53,  14,  93],\n",
            "        [ 30, 141, 210, 151]]), tensor([[ 19,  26, 277,  54],\n",
            "        [582,  62, 679, 123],\n",
            "        [284, 384, 341, 417]]), tensor([[197,   6, 718,  40],\n",
            "        [732, 188, 889, 318]]), tensor([[ 487,  223, 1548,  310],\n",
            "        [ 620,  321, 1450,  376],\n",
            "        [ 109,  771,  190, 1036],\n",
            "        [1879,  810, 1933, 1012]]), tensor([[ 42,  22, 654,  57],\n",
            "        [  5, 167,  29, 264]]), tensor([[472, 133, 731, 174],\n",
            "        [ 10, 334,  45, 494]]), tensor([[257,  15, 688,  57],\n",
            "        [437, 562, 510, 596]]), tensor([[  75,   43, 1489,  113],\n",
            "        [ 797, 1184,  918, 1242]]), tensor([[211,   1, 278,   9],\n",
            "        [179, 164, 308, 171],\n",
            "        [237, 155, 270, 162],\n",
            "        [  2,  47,  10,  85]]), tensor([[413,  91, 792, 155],\n",
            "        [174, 351, 210, 441],\n",
            "        [560, 551, 682, 589],\n",
            "        [322, 608, 890, 648]]), tensor([[ 52,   7, 421,  32],\n",
            "        [ 29, 368, 452, 390]]), tensor([[251,  88, 347, 108],\n",
            "        [  8, 256,  25, 327]]), tensor([[ 15,  12, 100,  32]]), tensor([[ 61,   4, 232,  13],\n",
            "        [ 78,  21, 217,  31],\n",
            "        [  4,  42,  16, 141],\n",
            "        [116, 160, 183, 170]]), tensor([[100,  10, 200,  20]]), tensor([[ 89,   2, 183,  12],\n",
            "        [  4,  65,  13, 120],\n",
            "        [117, 180, 148, 186]]), tensor([[ 65,   2, 207,  13],\n",
            "        [  2,  61,  11, 121],\n",
            "        [125, 177, 142, 183]]), tensor([[107,   1, 166,  13],\n",
            "        [ 29,  31,  39, 144],\n",
            "        [220,  70, 229, 106]]), tensor([[ 48,   3, 190,  20]]), tensor([[48, 26, 82, 39]]), tensor([[  4,  53,  12,  77],\n",
            "        [328,  50, 336,  78],\n",
            "        [151, 139, 180, 147]]), tensor([[124, 145, 173, 155]]), tensor([[ 78,  26, 184,  45]]), tensor([[ 71,   6, 206,  21],\n",
            "        [  5,  48,  15,  73],\n",
            "        [258,  48, 266,  74]]), tensor([[107,   1, 183,  12],\n",
            "        [  3,  76,  12, 110],\n",
            "        [271,  76, 279, 110]]), tensor([[270,   1, 398,  22],\n",
            "        [227, 487, 433, 511]]), tensor([[ 40,   9, 249,  24],\n",
            "        [217,  87, 281, 113]]), tensor([[176,  26, 553,  58],\n",
            "        [152, 371, 586, 402]]), tensor([[286,   5, 460,  26]]), tensor([[ 76,  16, 406,  38],\n",
            "        [ 54, 226, 455, 241]]), tensor([[  12,  421,   53,  539],\n",
            "        [1628,  251, 1671,  718]]), tensor([[196,   7, 423,  34],\n",
            "        [364,  81, 535, 194]]), tensor([[224,  10, 377,  33],\n",
            "        [474, 185, 571, 285]]), tensor([[ 92,   3, 171,  21]]), tensor([[234,   7, 381,  25],\n",
            "        [228, 275, 382, 293]]), tensor([[ 14,   7, 476,  39]]), tensor([[111,   7, 551,  33]]), tensor([[351,  54, 475, 246]]), tensor([[129, 321, 371, 377]]), tensor([[ 42,  35, 743,  89]]), tensor([[ 19,  15, 206,  38]]), tensor([[ 17,   7, 574,  92],\n",
            "        [411, 284, 554, 416]]), tensor([[  78,   29, 1157,  111],\n",
            "        [ 780,  239, 1255,  655]]), tensor([[173,   2, 283,  23]]), tensor([[601, 176, 794, 248]]), tensor([[ 188,   66, 1274,  192],\n",
            "        [ 880,  294, 1377,  892]]), tensor([[  9,   3, 237,  28]]), tensor([[ 14,   2, 335,  21],\n",
            "        [311, 103, 391, 267]]), tensor([[163,  12, 798,  74],\n",
            "        [ 58, 663, 910, 710]]), tensor([[182,   6, 344,  29],\n",
            "        [114, 294, 412, 318]]), tensor([[255,  63, 320, 174]]), tensor([[ 90,   6, 154,  23]]), tensor([[ 72,   1, 244,  21],\n",
            "        [334, 301, 396, 387]]), tensor([[ 63,  40, 527,  93]]), tensor([[173,  13, 287,  37]]), tensor([[327,   7, 462,  27],\n",
            "        [296,  33, 491,  53]]), tensor([[150,  17, 333,  42]]), tensor([[364, 124, 421, 162]]), tensor([[ 667,   16, 1023,   70],\n",
            "        [1519,  665, 1679,  741]]), tensor([[ 61,  15, 577,  33],\n",
            "        [ 28,  46, 158, 132]]), tensor([[195, 489, 399, 578]]), tensor([[ 73, 182, 177, 194],\n",
            "        [ 71,   4, 180,  16]]), tensor([[ 82,   6, 201,  16]]), tensor([[145,   8, 646,  29],\n",
            "        [281,  33, 503,  55]]), tensor([[229,  79, 255, 115]]), tensor([[396, 101, 471, 191]]), tensor([[ 82,  78, 382, 131]]), tensor([[421,   8, 728,  51],\n",
            "        [343, 110, 796, 142]]), tensor([[210,   8, 328,  28],\n",
            "        [135,  40, 389,  60]]), tensor([[ 93, 395, 413, 411]]), tensor([[153,   5, 281,  23]]), tensor([[ 17,   1, 170,  15],\n",
            "        [  1,  76,  12, 132],\n",
            "        [ 62, 235, 136, 248]]), tensor([[  4,  64,  14,  92],\n",
            "        [143, 174, 164, 186]]), tensor([[  9,  98,  23, 165],\n",
            "        [145, 206, 203, 225]]), tensor([[  2,  85,  12, 129],\n",
            "        [ 90, 205, 154, 218]]), tensor([[  4,   5,  16,  75],\n",
            "        [ 79,  92, 144, 104]]), tensor([[ 73,   3, 383,  30],\n",
            "        [ 58,  41, 346,  62],\n",
            "        [  8, 167,  26, 265],\n",
            "        [184, 384, 279, 411]]), tensor([[ 28,   1, 179,  12]]), tensor([[ 41,   6, 191,  21]]), tensor([[ 92,   1, 206,  16],\n",
            "        [  5,  97,  17, 196],\n",
            "        [151, 280, 172, 292]]), tensor([[480,   6, 638,  41],\n",
            "        [  6, 349,  37, 421],\n",
            "        [523, 754, 605, 798]]), tensor([[ 10, 146,  31, 205],\n",
            "        [323, 391, 366, 419]]), tensor([[144,   9, 237,  26],\n",
            "        [ 13, 115,  28, 135],\n",
            "        [182, 245, 203, 262]]), tensor([[  1,  66,  11, 101],\n",
            "        [141, 177, 188, 187]]), tensor([[ 18, 123,  37, 225],\n",
            "        [275, 348, 368, 373]]), tensor([[ 20, 107,  35, 176],\n",
            "        [180, 267, 250, 279]]), tensor([[496,  54, 808,  89],\n",
            "        [237, 288, 263, 410],\n",
            "        [631, 608, 708, 629],\n",
            "        [621, 635, 690, 655]]), tensor([[  2, 145,  18, 235],\n",
            "        [226, 398, 318, 415]]), tensor([[ 68,  29, 425,  56],\n",
            "        [ 33,  61,  49, 123],\n",
            "        [589, 388, 668, 408]]), tensor([[ 308,   46,  956,  102],\n",
            "        [   7,  454,   46,  760],\n",
            "        [ 536, 1124,  712, 1169]]), tensor([[402, 188, 463, 265],\n",
            "        [ 15,  16,  29,  61],\n",
            "        [340, 451, 391, 469]])]\n"
          ],
          "name": "stdout"
        }
      ]
    },
    {
      "cell_type": "code",
      "metadata": {
        "id": "pM_UfP57989K",
        "colab_type": "code",
        "colab": {
          "base_uri": "https://localhost:8080/",
          "height": 35
        },
        "outputId": "18bfff93-3dae-412a-ed95-72bac34f1869"
      },
      "source": [
        "print(len(box_gt2))"
      ],
      "execution_count": 76,
      "outputs": [
        {
          "output_type": "stream",
          "text": [
            "140\n"
          ],
          "name": "stdout"
        }
      ]
    },
    {
      "cell_type": "code",
      "metadata": {
        "id": "0diiy8hN-Rfc",
        "colab_type": "code",
        "colab": {
          "base_uri": "https://localhost:8080/",
          "height": 35
        },
        "outputId": "b6e6f7d2-d891-422b-f363-dd7deb9c4748"
      },
      "source": [
        "print(len(b))"
      ],
      "execution_count": 77,
      "outputs": [
        {
          "output_type": "stream",
          "text": [
            "140\n"
          ],
          "name": "stdout"
        }
      ]
    },
    {
      "cell_type": "code",
      "metadata": {
        "id": "YcfXIiL6NRKz",
        "colab_type": "code",
        "colab": {}
      },
      "source": [
        "device = torch.device(\"cuda\" if torch.cuda.is_available() else \"cpu\")"
      ],
      "execution_count": 78,
      "outputs": []
    },
    {
      "cell_type": "code",
      "metadata": {
        "id": "dJ4WGHY5R2Un",
        "colab_type": "code",
        "colab": {}
      },
      "source": [
        "rev_label_map = {v: k for k, v in label_map.items()}"
      ],
      "execution_count": 79,
      "outputs": []
    },
    {
      "cell_type": "code",
      "metadata": {
        "id": "N_S5lb9uK2hT",
        "colab_type": "code",
        "colab": {}
      },
      "source": [
        "def find_intersection(set_1, set_2):\n",
        "    \"\"\"\n",
        "    Find the intersection of every box combination between two sets of boxes that are in boundary coordinates.\n",
        "    :param set_1: set 1, a tensor of dimensions (n1, 4)\n",
        "    :param set_2: set 2, a tensor of dimensions (n2, 4)\n",
        "    :return: intersection of each of the boxes in set 1 with respect to each of the boxes in set 2, a tensor of dimensions (n1, n2)\n",
        "    \"\"\"\n",
        "\n",
        "    # PyTorch auto-broadcasts singleton dimensions\n",
        "    lower_bounds = torch.max(set_1[:, :2].unsqueeze(1), set_2[:, :2].unsqueeze(0))  # (n1, n2, 2)\n",
        "    upper_bounds = torch.min(set_1[:, 2:].unsqueeze(1), set_2[:, 2:].unsqueeze(0))  # (n1, n2, 2)\n",
        "    intersection_dims = torch.clamp(upper_bounds - lower_bounds, min=0)  # (n1, n2, 2)\n",
        "    return intersection_dims[:, :, 0] * intersection_dims[:, :, 1]  # (n1, n2)\n",
        "\n",
        "\n",
        "def find_jaccard_overlap(set_1, set_2):\n",
        "    \"\"\"\n",
        "    Find the Jaccard Overlap (IoU) of every box combination between two sets of boxes that are in boundary coordinates.\n",
        "    :param set_1: set 1, a tensor of dimensions (n1, 4)\n",
        "    :param set_2: set 2, a tensor of dimensions (n2, 4)\n",
        "    :return: Jaccard Overlap of each of the boxes in set 1 with respect to each of the boxes in set 2, a tensor of dimensions (n1, n2)\n",
        "    \"\"\"\n",
        "\n",
        "    # Find intersections\n",
        "    intersection = find_intersection(set_1, set_2)  # (n1, n2)\n",
        "\n",
        "    # Find areas of each box in both sets\n",
        "    areas_set_1 = (set_1[:, 2] - set_1[:, 0]) * (set_1[:, 3] - set_1[:, 1])  # (n1)\n",
        "    areas_set_2 = (set_2[:, 2] - set_2[:, 0]) * (set_2[:, 3] - set_2[:, 1])  # (n2)\n",
        "\n",
        "    # Find the union\n",
        "    # PyTorch auto-broadcasts singleton dimensions\n",
        "    union = areas_set_1.unsqueeze(1) + areas_set_2.unsqueeze(0) - intersection  # (n1, n2)\n",
        "\n",
        "    return intersection / union"
      ],
      "execution_count": 80,
      "outputs": []
    },
    {
      "cell_type": "code",
      "metadata": {
        "id": "v_HcxbLKAvWI",
        "colab_type": "code",
        "colab": {}
      },
      "source": [
        "def calculate_mAP(det_boxes, det_labels, det_scores, true_boxes, true_labels, true_difficulties):\n",
        "    \n",
        "    assert len(det_boxes) == len(det_labels) == len(det_scores) == len(true_boxes) == len(\n",
        "        true_labels) == len(\n",
        "        true_difficulties)  # these are all lists of tensors of the same length, i.e. number of images\n",
        "    n_classes = len(label_map)\n",
        "\n",
        "    # Store all (true) objects in a single continuous tensor while keeping track of the image it is from\n",
        "    true_images = list()\n",
        "    for i in range(len(true_labels)):\n",
        "        true_images.extend([i] * true_labels[i].size(0))\n",
        "    true_images = torch.LongTensor(true_images).to(device)  # (n_objects), n_objects is the total no. of objects across all images\n",
        "    true_boxes = torch.cat(true_boxes, dim=0)  # (n_objects, 4)\n",
        "    true_labels = torch.cat(true_labels, dim=0)  # (n_objects)\n",
        "    true_difficulties = torch.cat(true_difficulties, dim=0)  # (n_objects)\n",
        "\n",
        "    assert true_images.size(0) == true_boxes.size(0) == true_labels.size(0)\n",
        "\n",
        "    # Store all detections in a single continuous tensor while keeping track of the image it is from\n",
        "    det_images = list()\n",
        "    for i in range(len(det_labels)):\n",
        "        det_images.extend([i] * det_labels[i].size(0))\n",
        "    det_images = torch.LongTensor(det_images).to(device)  # (n_detections)\n",
        "    det_boxes = torch.cat(det_boxes, dim=0)  # (n_detections, 4)\n",
        "    det_labels = torch.cat(det_labels, dim=0)  # (n_detections)\n",
        "    det_scores = torch.cat(det_scores, dim=0)  # (n_detections)\n",
        "\n",
        "    assert det_images.size(0) == det_boxes.size(0) == det_labels.size(0) == det_scores.size(0)\n",
        "\n",
        "    # Calculate APs for each class (except background)\n",
        "    average_precisions = torch.zeros((n_classes - 1), dtype=torch.float)  # (n_classes - 1)\n",
        "    for c in range(1, n_classes):\n",
        "        # Extract only objects with this class\n",
        "        true_class_images = true_images[true_labels == c]  # (n_class_objects)\n",
        "        true_class_boxes = true_boxes[true_labels == c]  # (n_class_objects, 4)\n",
        "        true_class_difficulties = true_difficulties[true_labels == c]  # (n_class_objects)\n",
        "        n_easy_class_objects = (1 - true_class_difficulties).sum().item()  # ignore difficult objects\n",
        "\n",
        "        # Keep track of which true objects with this class have already been 'detected'\n",
        "        # So far, none\n",
        "        true_class_boxes_detected = torch.zeros((true_class_difficulties.size(0)), dtype=torch.uint8).to(\n",
        "            device)  # (n_class_objects)\n",
        "\n",
        "        # Extract only detections with this class\n",
        "        det_class_images = det_images[det_labels == c]  # (n_class_detections)\n",
        "        det_class_boxes = det_boxes[det_labels == c]  # (n_class_detections, 4)\n",
        "        det_class_scores = det_scores[det_labels == c]  # (n_class_detections)\n",
        "        n_class_detections = det_class_boxes.size(0)\n",
        "        if n_class_detections == 0:\n",
        "            continue\n",
        "\n",
        "        # Sort detections in decreasing order of confidence/scores\n",
        "        det_class_scores, sort_ind = torch.sort(det_class_scores, dim=0, descending=True)  # (n_class_detections)\n",
        "        det_class_images = det_class_images[sort_ind]  # (n_class_detections)\n",
        "        det_class_boxes = det_class_boxes[sort_ind]  # (n_class_detections, 4)\n",
        "\n",
        "        # In the order of decreasing scores, check if true or false positive\n",
        "        true_positives = torch.zeros((n_class_detections), dtype=torch.float).to(device)  # (n_class_detections)\n",
        "        false_positives = torch.zeros((n_class_detections), dtype=torch.float).to(device)  # (n_class_detections)\n",
        "        for d in range(n_class_detections):\n",
        "            this_detection_box = det_class_boxes[d].unsqueeze(0)  # (1, 4)\n",
        "            this_image = det_class_images[d]  # (), scalar\n",
        "\n",
        "            # Find objects in the same image with this class, their difficulties, and whether they have been detected before\n",
        "            object_boxes = true_class_boxes[true_class_images == this_image]  # (n_class_objects_in_img)\n",
        "            object_difficulties = true_class_difficulties[true_class_images == this_image]  # (n_class_objects_in_img)\n",
        "            # If no such object in this image, then the detection is a false positive\n",
        "            if object_boxes.size(0) == 0:\n",
        "                false_positives[d] = 1\n",
        "                continue\n",
        "\n",
        "            # Find maximum overlap of this detection with objects in this image of this class\n",
        "            overlaps = find_jaccard_overlap(this_detection_box.type(torch.FloatTensor), object_boxes.type(torch.FloatTensor))  # (1, n_class_objects_in_img)\n",
        "            max_overlap, ind = torch.max(overlaps.squeeze(0), dim=0)  # (), () - scalars\n",
        "\n",
        "            # 'ind' is the index of the object in these image-level tensors 'object_boxes', 'object_difficulties'\n",
        "            # In the original class-level tensors 'true_class_boxes', etc., 'ind' corresponds to object with index...\n",
        "            original_ind = torch.LongTensor(range(true_class_boxes.size(0)))[true_class_images == this_image][ind]\n",
        "            # We need 'original_ind' to update 'true_class_boxes_detected'\n",
        "\n",
        "            # If the maximum overlap is greater than the threshold of 0.5, it's a match\n",
        "            if max_overlap.item() > 0.2:\n",
        "                # If the object it matched with is 'difficult', ignore it\n",
        "                if object_difficulties[ind] == 0:\n",
        "                    # If this object has already not been detected, it's a true positive\n",
        "                    if true_class_boxes_detected[original_ind] == 0:\n",
        "                        true_positives[d] = 1\n",
        "                        true_class_boxes_detected[original_ind] = 1  # this object has now been detected/accounted for\n",
        "                    # Otherwise, it's a false positive (since this object is already accounted for)\n",
        "                    else:\n",
        "                        false_positives[d] = 1\n",
        "            # Otherwise, the detection occurs in a different location than the actual object, and is a false positive\n",
        "            else:\n",
        "                false_positives[d] = 1\n",
        "\n",
        "        # Compute cumulative precision and recall at each detection in the order of decreasing scores\n",
        "        cumul_true_positives = torch.cumsum(true_positives, dim=0)  # (n_class_detections)\n",
        "        cumul_false_positives = torch.cumsum(false_positives, dim=0)  # (n_class_detections)\n",
        "        cumul_precision = cumul_true_positives / (\n",
        "                cumul_true_positives + cumul_false_positives + 1e-10)  # (n_class_detections)\n",
        "        cumul_recall = cumul_true_positives / n_easy_class_objects  # (n_class_detections)\n",
        "\n",
        "        # Find the mean of the maximum of the precisions corresponding to recalls above the threshold 't'\n",
        "        recall_thresholds = torch.arange(start=0, end=1.1, step=.1).tolist()  # (11)\n",
        "        precisions = torch.zeros((len(recall_thresholds)), dtype=torch.float).to(device)  # (11)\n",
        "        for i, t in enumerate(recall_thresholds):\n",
        "            recalls_above_t = cumul_recall >= t\n",
        "            if recalls_above_t.any():\n",
        "                precisions[i] = cumul_precision[recalls_above_t].max()\n",
        "            else:\n",
        "                precisions[i] = 0.\n",
        "        average_precisions[c - 1] = precisions.mean()  # c is in [1, n_classes - 1]\n",
        "\n",
        "    # Calculate Mean Average Precision (mAP)\n",
        "    mean_average_precision = average_precisions.mean().item()\n",
        "\n",
        "    # Keep class-wise average precisions in a dictionary\n",
        "    average_precisions = {rev_label_map[c + 1]: v for c, v in enumerate(average_precisions.tolist())}\n",
        "\n",
        "    return average_precisions, mean_average_precision"
      ],
      "execution_count": 99,
      "outputs": []
    },
    {
      "cell_type": "code",
      "metadata": {
        "id": "96aI07mbA9Fl",
        "colab_type": "code",
        "colab": {}
      },
      "source": [
        "ap, map = calculate_mAP(b, l, s, box_gt2, label_gt, difficult_gt )"
      ],
      "execution_count": 100,
      "outputs": []
    },
    {
      "cell_type": "code",
      "metadata": {
        "id": "vUa_gRmkHU8e",
        "colab_type": "code",
        "colab": {
          "base_uri": "https://localhost:8080/",
          "height": 35
        },
        "outputId": "f87bf135-a2a7-4bf3-b2cf-1cbb51109989"
      },
      "source": [
        "print(map)"
      ],
      "execution_count": 101,
      "outputs": [
        {
          "output_type": "stream",
          "text": [
            "0.0370856337249279\n"
          ],
          "name": "stdout"
        }
      ]
    },
    {
      "cell_type": "code",
      "metadata": {
        "id": "9c-h6kS0R9EB",
        "colab_type": "code",
        "colab": {
          "base_uri": "https://localhost:8080/",
          "height": 35
        },
        "outputId": "700f927c-7ec6-479f-99c5-e5055d02f4ad"
      },
      "source": [
        "print(ap)"
      ],
      "execution_count": 102,
      "outputs": [
        {
          "output_type": "stream",
          "text": [
            "{'title': 0.10876623541116714, 'legend': 0.0, 'axis label': 0.002490660175681114}\n"
          ],
          "name": "stdout"
        }
      ]
    },
    {
      "cell_type": "code",
      "metadata": {
        "id": "2RX7JKA9SjhM",
        "colab_type": "code",
        "colab": {}
      },
      "source": [
        ""
      ],
      "execution_count": null,
      "outputs": []
    }
  ]
}