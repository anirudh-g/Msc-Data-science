{
  "nbformat": 4,
  "nbformat_minor": 0,
  "metadata": {
    "colab": {
      "name": "Object detection",
      "provenance": [],
      "collapsed_sections": [],
      "authorship_tag": "ABX9TyMn9KwDGtfik2xqJFbNhzdR",
      "include_colab_link": true
    },
    "kernelspec": {
      "name": "python3",
      "display_name": "Python 3"
    },
    "accelerator": "GPU",
    "widgets": {
      "application/vnd.jupyter.widget-state+json": {
        "3be21e7d90f446818aafb9e77d991897": {
          "model_module": "@jupyter-widgets/controls",
          "model_name": "HBoxModel",
          "state": {
            "_view_name": "HBoxView",
            "_dom_classes": [],
            "_model_name": "HBoxModel",
            "_view_module": "@jupyter-widgets/controls",
            "_model_module_version": "1.5.0",
            "_view_count": null,
            "_view_module_version": "1.5.0",
            "box_style": "",
            "layout": "IPY_MODEL_175e08149a3842598a7a472637cd02bf",
            "_model_module": "@jupyter-widgets/controls",
            "children": [
              "IPY_MODEL_fcec933fdf574e30ae76962b432de233",
              "IPY_MODEL_009c89358c3d431287d47548441a1d18"
            ]
          }
        },
        "175e08149a3842598a7a472637cd02bf": {
          "model_module": "@jupyter-widgets/base",
          "model_name": "LayoutModel",
          "state": {
            "_view_name": "LayoutView",
            "grid_template_rows": null,
            "right": null,
            "justify_content": null,
            "_view_module": "@jupyter-widgets/base",
            "overflow": null,
            "_model_module_version": "1.2.0",
            "_view_count": null,
            "flex_flow": null,
            "width": null,
            "min_width": null,
            "border": null,
            "align_items": null,
            "bottom": null,
            "_model_module": "@jupyter-widgets/base",
            "top": null,
            "grid_column": null,
            "overflow_y": null,
            "overflow_x": null,
            "grid_auto_flow": null,
            "grid_area": null,
            "grid_template_columns": null,
            "flex": null,
            "_model_name": "LayoutModel",
            "justify_items": null,
            "grid_row": null,
            "max_height": null,
            "align_content": null,
            "visibility": null,
            "align_self": null,
            "height": null,
            "min_height": null,
            "padding": null,
            "grid_auto_rows": null,
            "grid_gap": null,
            "max_width": null,
            "order": null,
            "_view_module_version": "1.2.0",
            "grid_template_areas": null,
            "object_position": null,
            "object_fit": null,
            "grid_auto_columns": null,
            "margin": null,
            "display": null,
            "left": null
          }
        },
        "fcec933fdf574e30ae76962b432de233": {
          "model_module": "@jupyter-widgets/controls",
          "model_name": "FloatProgressModel",
          "state": {
            "_view_name": "ProgressView",
            "style": "IPY_MODEL_7761ffe388a741e9b1366c11d7e83dd7",
            "_dom_classes": [],
            "description": "100%",
            "_model_name": "FloatProgressModel",
            "bar_style": "success",
            "max": 167502836,
            "_view_module": "@jupyter-widgets/controls",
            "_model_module_version": "1.5.0",
            "value": 167502836,
            "_view_count": null,
            "_view_module_version": "1.5.0",
            "orientation": "horizontal",
            "min": 0,
            "description_tooltip": null,
            "_model_module": "@jupyter-widgets/controls",
            "layout": "IPY_MODEL_2e8b47a7aa834071b2c5e4cb92681e08"
          }
        },
        "009c89358c3d431287d47548441a1d18": {
          "model_module": "@jupyter-widgets/controls",
          "model_name": "HTMLModel",
          "state": {
            "_view_name": "HTMLView",
            "style": "IPY_MODEL_c71c442b7c514139803e60f142346666",
            "_dom_classes": [],
            "description": "",
            "_model_name": "HTMLModel",
            "placeholder": "​",
            "_view_module": "@jupyter-widgets/controls",
            "_model_module_version": "1.5.0",
            "value": " 160M/160M [02:59&lt;00:00, 933kB/s]",
            "_view_count": null,
            "_view_module_version": "1.5.0",
            "description_tooltip": null,
            "_model_module": "@jupyter-widgets/controls",
            "layout": "IPY_MODEL_224915a004104b079c9785530deeb19a"
          }
        },
        "7761ffe388a741e9b1366c11d7e83dd7": {
          "model_module": "@jupyter-widgets/controls",
          "model_name": "ProgressStyleModel",
          "state": {
            "_view_name": "StyleView",
            "_model_name": "ProgressStyleModel",
            "description_width": "initial",
            "_view_module": "@jupyter-widgets/base",
            "_model_module_version": "1.5.0",
            "_view_count": null,
            "_view_module_version": "1.2.0",
            "bar_color": null,
            "_model_module": "@jupyter-widgets/controls"
          }
        },
        "2e8b47a7aa834071b2c5e4cb92681e08": {
          "model_module": "@jupyter-widgets/base",
          "model_name": "LayoutModel",
          "state": {
            "_view_name": "LayoutView",
            "grid_template_rows": null,
            "right": null,
            "justify_content": null,
            "_view_module": "@jupyter-widgets/base",
            "overflow": null,
            "_model_module_version": "1.2.0",
            "_view_count": null,
            "flex_flow": null,
            "width": null,
            "min_width": null,
            "border": null,
            "align_items": null,
            "bottom": null,
            "_model_module": "@jupyter-widgets/base",
            "top": null,
            "grid_column": null,
            "overflow_y": null,
            "overflow_x": null,
            "grid_auto_flow": null,
            "grid_area": null,
            "grid_template_columns": null,
            "flex": null,
            "_model_name": "LayoutModel",
            "justify_items": null,
            "grid_row": null,
            "max_height": null,
            "align_content": null,
            "visibility": null,
            "align_self": null,
            "height": null,
            "min_height": null,
            "padding": null,
            "grid_auto_rows": null,
            "grid_gap": null,
            "max_width": null,
            "order": null,
            "_view_module_version": "1.2.0",
            "grid_template_areas": null,
            "object_position": null,
            "object_fit": null,
            "grid_auto_columns": null,
            "margin": null,
            "display": null,
            "left": null
          }
        },
        "c71c442b7c514139803e60f142346666": {
          "model_module": "@jupyter-widgets/controls",
          "model_name": "DescriptionStyleModel",
          "state": {
            "_view_name": "StyleView",
            "_model_name": "DescriptionStyleModel",
            "description_width": "",
            "_view_module": "@jupyter-widgets/base",
            "_model_module_version": "1.5.0",
            "_view_count": null,
            "_view_module_version": "1.2.0",
            "_model_module": "@jupyter-widgets/controls"
          }
        },
        "224915a004104b079c9785530deeb19a": {
          "model_module": "@jupyter-widgets/base",
          "model_name": "LayoutModel",
          "state": {
            "_view_name": "LayoutView",
            "grid_template_rows": null,
            "right": null,
            "justify_content": null,
            "_view_module": "@jupyter-widgets/base",
            "overflow": null,
            "_model_module_version": "1.2.0",
            "_view_count": null,
            "flex_flow": null,
            "width": null,
            "min_width": null,
            "border": null,
            "align_items": null,
            "bottom": null,
            "_model_module": "@jupyter-widgets/base",
            "top": null,
            "grid_column": null,
            "overflow_y": null,
            "overflow_x": null,
            "grid_auto_flow": null,
            "grid_area": null,
            "grid_template_columns": null,
            "flex": null,
            "_model_name": "LayoutModel",
            "justify_items": null,
            "grid_row": null,
            "max_height": null,
            "align_content": null,
            "visibility": null,
            "align_self": null,
            "height": null,
            "min_height": null,
            "padding": null,
            "grid_auto_rows": null,
            "grid_gap": null,
            "max_width": null,
            "order": null,
            "_view_module_version": "1.2.0",
            "grid_template_areas": null,
            "object_position": null,
            "object_fit": null,
            "grid_auto_columns": null,
            "margin": null,
            "display": null,
            "left": null
          }
        }
      }
    }
  },
  "cells": [
    {
      "cell_type": "markdown",
      "metadata": {
        "id": "view-in-github",
        "colab_type": "text"
      },
      "source": [
        "<a href=\"https://colab.research.google.com/github/anirudh-g/Msc-Data-science/blob/master/Object_detection.ipynb\" target=\"_parent\"><img src=\"https://colab.research.google.com/assets/colab-badge.svg\" alt=\"Open In Colab\"/></a>"
      ]
    },
    {
      "cell_type": "code",
      "metadata": {
        "id": "86m_VYAEVGUK",
        "colab_type": "code",
        "colab": {
          "base_uri": "https://localhost:8080/",
          "height": 349
        },
        "outputId": "50b893fb-f3d9-45e4-e83f-da90bd052965"
      },
      "source": [
        "!pip3 install detecto"
      ],
      "execution_count": 1,
      "outputs": [
        {
          "output_type": "stream",
          "text": [
            "Collecting detecto\n",
            "  Downloading https://files.pythonhosted.org/packages/18/e1/753066aaa7d0b01e539c603ff23b4f4e1388b0c3a2d4dd72ea1aaa62391c/detecto-1.1.6-py3-none-any.whl\n",
            "Requirement already satisfied: opencv-python in /usr/local/lib/python3.6/dist-packages (from detecto) (4.1.2.30)\n",
            "Requirement already satisfied: torch in /usr/local/lib/python3.6/dist-packages (from detecto) (1.6.0+cu101)\n",
            "Requirement already satisfied: matplotlib in /usr/local/lib/python3.6/dist-packages (from detecto) (3.2.2)\n",
            "Requirement already satisfied: torchvision in /usr/local/lib/python3.6/dist-packages (from detecto) (0.7.0+cu101)\n",
            "Requirement already satisfied: pandas in /usr/local/lib/python3.6/dist-packages (from detecto) (1.0.5)\n",
            "Requirement already satisfied: numpy>=1.11.3 in /usr/local/lib/python3.6/dist-packages (from opencv-python->detecto) (1.18.5)\n",
            "Requirement already satisfied: future in /usr/local/lib/python3.6/dist-packages (from torch->detecto) (0.16.0)\n",
            "Requirement already satisfied: python-dateutil>=2.1 in /usr/local/lib/python3.6/dist-packages (from matplotlib->detecto) (2.8.1)\n",
            "Requirement already satisfied: pyparsing!=2.0.4,!=2.1.2,!=2.1.6,>=2.0.1 in /usr/local/lib/python3.6/dist-packages (from matplotlib->detecto) (2.4.7)\n",
            "Requirement already satisfied: kiwisolver>=1.0.1 in /usr/local/lib/python3.6/dist-packages (from matplotlib->detecto) (1.2.0)\n",
            "Requirement already satisfied: cycler>=0.10 in /usr/local/lib/python3.6/dist-packages (from matplotlib->detecto) (0.10.0)\n",
            "Requirement already satisfied: pillow>=4.1.1 in /usr/local/lib/python3.6/dist-packages (from torchvision->detecto) (7.0.0)\n",
            "Requirement already satisfied: pytz>=2017.2 in /usr/local/lib/python3.6/dist-packages (from pandas->detecto) (2018.9)\n",
            "Requirement already satisfied: six>=1.5 in /usr/local/lib/python3.6/dist-packages (from python-dateutil>=2.1->matplotlib->detecto) (1.15.0)\n",
            "Installing collected packages: detecto\n",
            "Successfully installed detecto-1.1.6\n"
          ],
          "name": "stdout"
        }
      ]
    },
    {
      "cell_type": "code",
      "metadata": {
        "id": "7XC8P1xXmtMh",
        "colab_type": "code",
        "colab": {
          "base_uri": "https://localhost:8080/",
          "height": 193
        },
        "outputId": "9f7cfc1a-977a-4d7c-b617-2b205dd56a77"
      },
      "source": [
        "!pip install torch==1.4"
      ],
      "execution_count": 2,
      "outputs": [
        {
          "output_type": "stream",
          "text": [
            "Collecting torch==1.4\n",
            "\u001b[?25l  Downloading https://files.pythonhosted.org/packages/24/19/4804aea17cd136f1705a5e98a00618cb8f6ccc375ad8bfa437408e09d058/torch-1.4.0-cp36-cp36m-manylinux1_x86_64.whl (753.4MB)\n",
            "\u001b[K     |████████████████████████████████| 753.4MB 21kB/s \n",
            "\u001b[31mERROR: torchvision 0.7.0+cu101 has requirement torch==1.6.0, but you'll have torch 1.4.0 which is incompatible.\u001b[0m\n",
            "\u001b[?25hInstalling collected packages: torch\n",
            "  Found existing installation: torch 1.6.0+cu101\n",
            "    Uninstalling torch-1.6.0+cu101:\n",
            "      Successfully uninstalled torch-1.6.0+cu101\n",
            "Successfully installed torch-1.4.0\n"
          ],
          "name": "stdout"
        }
      ]
    },
    {
      "cell_type": "code",
      "metadata": {
        "id": "K_kNPtzDorLb",
        "colab_type": "code",
        "colab": {
          "base_uri": "https://localhost:8080/",
          "height": 245
        },
        "outputId": "a9260632-639e-4741-801d-82f51a1e89e1"
      },
      "source": [
        "!pip install torchvision==0.5.0"
      ],
      "execution_count": 3,
      "outputs": [
        {
          "output_type": "stream",
          "text": [
            "Collecting torchvision==0.5.0\n",
            "\u001b[?25l  Downloading https://files.pythonhosted.org/packages/7e/90/6141bf41f5655c78e24f40f710fdd4f8a8aff6c8b7c6f0328240f649bdbe/torchvision-0.5.0-cp36-cp36m-manylinux1_x86_64.whl (4.0MB)\n",
            "\u001b[K     |████████████████████████████████| 4.0MB 2.8MB/s \n",
            "\u001b[?25hRequirement already satisfied: numpy in /usr/local/lib/python3.6/dist-packages (from torchvision==0.5.0) (1.18.5)\n",
            "Requirement already satisfied: six in /usr/local/lib/python3.6/dist-packages (from torchvision==0.5.0) (1.15.0)\n",
            "Requirement already satisfied: pillow>=4.1.1 in /usr/local/lib/python3.6/dist-packages (from torchvision==0.5.0) (7.0.0)\n",
            "Requirement already satisfied: torch==1.4.0 in /usr/local/lib/python3.6/dist-packages (from torchvision==0.5.0) (1.4.0)\n",
            "Installing collected packages: torchvision\n",
            "  Found existing installation: torchvision 0.7.0+cu101\n",
            "    Uninstalling torchvision-0.7.0+cu101:\n",
            "      Successfully uninstalled torchvision-0.7.0+cu101\n",
            "Successfully installed torchvision-0.5.0\n"
          ],
          "name": "stdout"
        }
      ]
    },
    {
      "cell_type": "code",
      "metadata": {
        "id": "nI6nbUdsVTYs",
        "colab_type": "code",
        "colab": {}
      },
      "source": [
        "from detecto import core, utils, visualize\n",
        "import torch\n",
        "import numpy as np\n",
        "import random\n",
        "import matplotlib.pyplot as plt\n",
        "from torchvision import transforms\n",
        "import pandas as pd\n",
        "import numpy as np\n",
        "import tensorflow as tf\n",
        "import glob\n",
        "\n",
        "import torch\n",
        "from torch.utils.data import Dataset\n",
        "import json\n",
        "import os\n",
        "from PIL import Image\n",
        "\n",
        "import xml.etree.ElementTree as ET\n",
        "import torchvision.transforms.functional as FT"
      ],
      "execution_count": 4,
      "outputs": []
    },
    {
      "cell_type": "code",
      "metadata": {
        "id": "Vj5KU3XKVeHd",
        "colab_type": "code",
        "colab": {
          "base_uri": "https://localhost:8080/",
          "height": 35
        },
        "outputId": "798ebf6b-5bc1-4920-e9c1-7f7331638d1a"
      },
      "source": [
        "print(torch.cuda.is_available())"
      ],
      "execution_count": 5,
      "outputs": [
        {
          "output_type": "stream",
          "text": [
            "True\n"
          ],
          "name": "stdout"
        }
      ]
    },
    {
      "cell_type": "code",
      "metadata": {
        "id": "OTHyA6HPVo3g",
        "colab_type": "code",
        "colab": {
          "base_uri": "https://localhost:8080/",
          "height": 124
        },
        "outputId": "1a2084e9-fff3-49a1-82fe-60d8847f5e33"
      },
      "source": [
        "import os\n",
        "from google.colab import drive\n",
        "\n",
        "drive.mount('/content/drive')\n",
        "os.chdir('/content/drive/My Drive/Colab Notebooks/Object detection - directory')"
      ],
      "execution_count": 6,
      "outputs": [
        {
          "output_type": "stream",
          "text": [
            "Go to this URL in a browser: https://accounts.google.com/o/oauth2/auth?client_id=947318989803-6bn6qk8qdgf4n4g3pfee6491hc0brc4i.apps.googleusercontent.com&redirect_uri=urn%3aietf%3awg%3aoauth%3a2.0%3aoob&scope=email%20https%3a%2f%2fwww.googleapis.com%2fauth%2fdocs.test%20https%3a%2f%2fwww.googleapis.com%2fauth%2fdrive%20https%3a%2f%2fwww.googleapis.com%2fauth%2fdrive.photos.readonly%20https%3a%2f%2fwww.googleapis.com%2fauth%2fpeopleapi.readonly&response_type=code\n",
            "\n",
            "Enter your authorization code:\n",
            "··········\n",
            "Mounted at /content/drive\n"
          ],
          "name": "stdout"
        }
      ]
    },
    {
      "cell_type": "code",
      "metadata": {
        "id": "xggNq9KTWVgC",
        "colab_type": "code",
        "colab": {
          "base_uri": "https://localhost:8080/",
          "height": 87
        },
        "outputId": "50d78ab7-a17f-42df-81ba-fec85f48972c"
      },
      "source": [
        "!ls"
      ],
      "execution_count": null,
      "outputs": [
        {
          "output_type": "stream",
          "text": [
            " barchart.jpg\t\t images\t\t\t test.csv       val.csv\n",
            " bar-horizontal_1.png\t pred.txt\t\t test_labels    val_labels\n",
            "'Copy of 2138674.jpeg'\t sample-bar-chart.jpg\t train.csv\n",
            " food-pie-chart.jpg\t smooth_line_chart.png\t train_labels\n"
          ],
          "name": "stdout"
        }
      ]
    },
    {
      "cell_type": "code",
      "metadata": {
        "id": "7StXn5MfoTc0",
        "colab_type": "code",
        "colab": {
          "base_uri": "https://localhost:8080/",
          "height": 415
        },
        "outputId": "1ddc3b0f-dbf2-41aa-8a46-b1bdeac951c9"
      },
      "source": [
        "#utils.xml_to_csv('train_labels', 'train.csv')\n",
        "#utils.xml_to_csv('val_labels', 'val.csv')"
      ],
      "execution_count": null,
      "outputs": [
        {
          "output_type": "execute_result",
          "data": {
            "text/html": [
              "<div>\n",
              "<style scoped>\n",
              "    .dataframe tbody tr th:only-of-type {\n",
              "        vertical-align: middle;\n",
              "    }\n",
              "\n",
              "    .dataframe tbody tr th {\n",
              "        vertical-align: top;\n",
              "    }\n",
              "\n",
              "    .dataframe thead th {\n",
              "        text-align: right;\n",
              "    }\n",
              "</style>\n",
              "<table border=\"1\" class=\"dataframe\">\n",
              "  <thead>\n",
              "    <tr style=\"text-align: right;\">\n",
              "      <th></th>\n",
              "      <th>filename</th>\n",
              "      <th>width</th>\n",
              "      <th>height</th>\n",
              "      <th>class</th>\n",
              "      <th>xmin</th>\n",
              "      <th>ymin</th>\n",
              "      <th>xmax</th>\n",
              "      <th>ymax</th>\n",
              "    </tr>\n",
              "  </thead>\n",
              "  <tbody>\n",
              "    <tr>\n",
              "      <th>0</th>\n",
              "      <td>bar98.jpg</td>\n",
              "      <td>1042</td>\n",
              "      <td>422</td>\n",
              "      <td>title</td>\n",
              "      <td>533</td>\n",
              "      <td>14</td>\n",
              "      <td>935</td>\n",
              "      <td>93</td>\n",
              "    </tr>\n",
              "    <tr>\n",
              "      <th>1</th>\n",
              "      <td>bar98.jpg</td>\n",
              "      <td>1042</td>\n",
              "      <td>422</td>\n",
              "      <td>legend</td>\n",
              "      <td>115</td>\n",
              "      <td>383</td>\n",
              "      <td>590</td>\n",
              "      <td>419</td>\n",
              "    </tr>\n",
              "    <tr>\n",
              "      <th>2</th>\n",
              "      <td>bar98.jpg</td>\n",
              "      <td>1042</td>\n",
              "      <td>422</td>\n",
              "      <td>axis label</td>\n",
              "      <td>8</td>\n",
              "      <td>24</td>\n",
              "      <td>29</td>\n",
              "      <td>99</td>\n",
              "    </tr>\n",
              "    <tr>\n",
              "      <th>3</th>\n",
              "      <td>bar81.jpg</td>\n",
              "      <td>481</td>\n",
              "      <td>289</td>\n",
              "      <td>title</td>\n",
              "      <td>221</td>\n",
              "      <td>18</td>\n",
              "      <td>328</td>\n",
              "      <td>46</td>\n",
              "    </tr>\n",
              "    <tr>\n",
              "      <th>4</th>\n",
              "      <td>bar91.jpg</td>\n",
              "      <td>448</td>\n",
              "      <td>224</td>\n",
              "      <td>legend</td>\n",
              "      <td>350</td>\n",
              "      <td>56</td>\n",
              "      <td>432</td>\n",
              "      <td>100</td>\n",
              "    </tr>\n",
              "    <tr>\n",
              "      <th>...</th>\n",
              "      <td>...</td>\n",
              "      <td>...</td>\n",
              "      <td>...</td>\n",
              "      <td>...</td>\n",
              "      <td>...</td>\n",
              "      <td>...</td>\n",
              "      <td>...</td>\n",
              "      <td>...</td>\n",
              "    </tr>\n",
              "    <tr>\n",
              "      <th>283</th>\n",
              "      <td>radar89.JPEG</td>\n",
              "      <td>602</td>\n",
              "      <td>391</td>\n",
              "      <td>title</td>\n",
              "      <td>61</td>\n",
              "      <td>15</td>\n",
              "      <td>577</td>\n",
              "      <td>33</td>\n",
              "    </tr>\n",
              "    <tr>\n",
              "      <th>284</th>\n",
              "      <td>radar89.JPEG</td>\n",
              "      <td>602</td>\n",
              "      <td>391</td>\n",
              "      <td>legend</td>\n",
              "      <td>28</td>\n",
              "      <td>46</td>\n",
              "      <td>158</td>\n",
              "      <td>132</td>\n",
              "    </tr>\n",
              "    <tr>\n",
              "      <th>285</th>\n",
              "      <td>scatter83.jpg</td>\n",
              "      <td>336</td>\n",
              "      <td>232</td>\n",
              "      <td>axis label</td>\n",
              "      <td>9</td>\n",
              "      <td>98</td>\n",
              "      <td>23</td>\n",
              "      <td>165</td>\n",
              "    </tr>\n",
              "    <tr>\n",
              "      <th>286</th>\n",
              "      <td>scatter83.jpg</td>\n",
              "      <td>336</td>\n",
              "      <td>232</td>\n",
              "      <td>axis label</td>\n",
              "      <td>145</td>\n",
              "      <td>206</td>\n",
              "      <td>203</td>\n",
              "      <td>225</td>\n",
              "    </tr>\n",
              "    <tr>\n",
              "      <th>287</th>\n",
              "      <td>radar96.jpg</td>\n",
              "      <td>481</td>\n",
              "      <td>289</td>\n",
              "      <td>legend</td>\n",
              "      <td>396</td>\n",
              "      <td>101</td>\n",
              "      <td>471</td>\n",
              "      <td>191</td>\n",
              "    </tr>\n",
              "  </tbody>\n",
              "</table>\n",
              "<p>288 rows × 8 columns</p>\n",
              "</div>"
            ],
            "text/plain": [
              "          filename  width  height       class  xmin  ymin  xmax  ymax\n",
              "0        bar98.jpg   1042     422       title   533    14   935    93\n",
              "1        bar98.jpg   1042     422      legend   115   383   590   419\n",
              "2        bar98.jpg   1042     422  axis label     8    24    29    99\n",
              "3        bar81.jpg    481     289       title   221    18   328    46\n",
              "4        bar91.jpg    448     224      legend   350    56   432   100\n",
              "..             ...    ...     ...         ...   ...   ...   ...   ...\n",
              "283   radar89.JPEG    602     391       title    61    15   577    33\n",
              "284   radar89.JPEG    602     391      legend    28    46   158   132\n",
              "285  scatter83.jpg    336     232  axis label     9    98    23   165\n",
              "286  scatter83.jpg    336     232  axis label   145   206   203   225\n",
              "287    radar96.jpg    481     289      legend   396   101   471   191\n",
              "\n",
              "[288 rows x 8 columns]"
            ]
          },
          "metadata": {
            "tags": []
          },
          "execution_count": 23
        }
      ]
    },
    {
      "cell_type": "code",
      "metadata": {
        "id": "CQXwu-j15bja",
        "colab_type": "code",
        "colab": {}
      },
      "source": [
        "#Gaussian noise function inspired from https://www.oreilly.com/library/view/programming-pytorch-for/9781492045342/ch04.html\n",
        "class Noise():\n",
        "    def __init__(self, mean, stddev):\n",
        "        self.mean = mean\n",
        "        self.stddev = stddev\n",
        "\n",
        "    def __call__(self, img):\n",
        "        self.stddev = np.random.exponential(self.stddev)\n",
        "        noise = torch.zeros_like(img).normal_(self.mean, self.stddev)\n",
        "        return img.add_(noise)\n",
        "\n",
        "    def __repr__(self):\n",
        "        repr = f\"{self.__class__.__name__  }(mean={self.mean},stddev={self.stddev})\"\n",
        "        return repr"
      ],
      "execution_count": null,
      "outputs": []
    },
    {
      "cell_type": "code",
      "metadata": {
        "id": "GCxu202gYhY1",
        "colab_type": "code",
        "colab": {}
      },
      "source": [
        "transform_img = transforms.Compose([\n",
        "    transforms.ToPILImage(),\n",
        "    transforms.Resize(224),\n",
        "    transforms.ColorJitter(brightness=0.2),\n",
        "    transforms.ToTensor(),\n",
        "    Noise(mean=0.0, stddev=0.15), \n",
        "    utils.normalize_transform()\n",
        "])"
      ],
      "execution_count": null,
      "outputs": []
    },
    {
      "cell_type": "code",
      "metadata": {
        "id": "vpv4ohLz3dzY",
        "colab_type": "code",
        "colab": {}
      },
      "source": [
        "dataset = core.Dataset('train.csv', 'images/', transform=transform_img)"
      ],
      "execution_count": null,
      "outputs": []
    },
    {
      "cell_type": "code",
      "metadata": {
        "id": "QBR-8iCVdpLP",
        "colab_type": "code",
        "colab": {
          "base_uri": "https://localhost:8080/",
          "height": 269
        },
        "outputId": "cdd232f1-8aad-4870-d58e-1adf8417becf"
      },
      "source": [
        "from detecto.visualize import show_labeled_image\n",
        "\n",
        "image, targets = dataset[1000]\n",
        "visualize.show_labeled_image(image, targets['boxes'], targets['labels'])"
      ],
      "execution_count": null,
      "outputs": [
        {
          "output_type": "display_data",
          "data": {
            "image/png": "[encoded data removed]",
            "text/plain": [
              "<Figure size 432x288 with 1 Axes>"
            ]
          },
          "metadata": {
            "tags": [],
            "needs_background": "light"
          }
        }
      ]
    },
    {
      "cell_type": "code",
      "metadata": {
        "id": "CTnGp_Lr4V9k",
        "colab_type": "code",
        "colab": {}
      },
      "source": [
        "val_dataset = core.Dataset('val.csv', 'images/')"
      ],
      "execution_count": null,
      "outputs": []
    },
    {
      "cell_type": "code",
      "metadata": {
        "id": "_YuHjGrhWl4R",
        "colab_type": "code",
        "colab": {
          "base_uri": "https://localhost:8080/",
          "height": 439
        },
        "outputId": "5030f0a5-a9e2-4349-d17b-70bb151efc84"
      },
      "source": [
        "model = core.Model(['title', 'legend', 'axis label'])\n",
        "\n",
        "loader = core.DataLoader(dataset=dataset, shuffle=True)\n",
        "losses = model.fit(loader, val_dataset, epochs=5, verbose=True, learning_rate=0.001)\n",
        "plt.plot(losses)\n",
        "plt.show()"
      ],
      "execution_count": null,
      "outputs": [
        {
          "output_type": "stream",
          "text": [
            "Epoch 1 of 5\n",
            "Loss: 0.19540438143626992\n",
            "Epoch 2 of 5\n",
            "Loss: 0.1592806227854453\n",
            "Epoch 3 of 5\n",
            "Loss: 0.16032703150348324\n",
            "Epoch 4 of 5\n",
            "Loss: 0.152997743706995\n",
            "Epoch 5 of 5\n",
            "Loss: 0.15571472130250186\n"
          ],
          "name": "stdout"
        },
        {
          "output_type": "display_data",
          "data": {
            "image/png": "[encoded data removed]",
            "text/plain": [
              "<Figure size 432x288 with 1 Axes>"
            ]
          },
          "metadata": {
            "tags": [],
            "needs_background": "light"
          }
        }
      ]
    },
    {
      "cell_type": "code",
      "metadata": {
        "id": "ElT5mC5otKON",
        "colab_type": "code",
        "colab": {}
      },
      "source": [
        "model.save('/content/drive/My Drive/Colab Notebooks/Obj det model noise.pth')"
      ],
      "execution_count": null,
      "outputs": []
    },
    {
      "cell_type": "code",
      "metadata": {
        "id": "lyH0lh3ba1Pa",
        "colab_type": "code",
        "colab": {
          "resources": {
            "http://localhost:8080/nbextensions/google.colab/files.js": {
              "data": "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",
              "ok": true,
              "headers": [
                [
                  "content-type",
                  "application/javascript"
                ]
              ],
              "status": 200,
              "status_text": ""
            }
          },
          "base_uri": "https://localhost:8080/",
          "height": 73
        },
        "outputId": "96a04ef7-d0d1-426b-f7ec-8a4d4f615459"
      },
      "source": [
        "from google.colab import files\n",
        "uploaded = files.upload()"
      ],
      "execution_count": null,
      "outputs": [
        {
          "output_type": "display_data",
          "data": {
            "text/html": [
              "\n",
              "     <input type=\"file\" id=\"files-50c49246-faa1-4a2a-a0c1-06bb241dc43b\" name=\"files[]\" multiple disabled\n",
              "        style=\"border:none\" />\n",
              "     <output id=\"result-50c49246-faa1-4a2a-a0c1-06bb241dc43b\">\n",
              "      Upload widget is only available when the cell has been executed in the\n",
              "      current browser session. Please rerun this cell to enable.\n",
              "      </output>\n",
              "      <script src=\"/nbextensions/google.colab/files.js\"></script> "
            ],
            "text/plain": [
              "<IPython.core.display.HTML object>"
            ]
          },
          "metadata": {
            "tags": []
          }
        },
        {
          "output_type": "stream",
          "text": [
            "Saving bar-horizontal.png to bar-horizontal.png\n"
          ],
          "name": "stdout"
        }
      ]
    },
    {
      "cell_type": "code",
      "metadata": {
        "id": "Y1MAludp9_Ly",
        "colab_type": "code",
        "colab": {
          "base_uri": "https://localhost:8080/",
          "height": 104,
          "referenced_widgets": [
            "3be21e7d90f446818aafb9e77d991897",
            "175e08149a3842598a7a472637cd02bf",
            "fcec933fdf574e30ae76962b432de233",
            "009c89358c3d431287d47548441a1d18",
            "7761ffe388a741e9b1366c11d7e83dd7",
            "2e8b47a7aa834071b2c5e4cb92681e08",
            "c71c442b7c514139803e60f142346666",
            "224915a004104b079c9785530deeb19a"
          ]
        },
        "outputId": "9bd1b512-4595-49a0-d4b1-dd1cadc921f5"
      },
      "source": [
        "model2 = core.Model.load('/content/drive/My Drive/Colab Notebooks/Obj det model noise.pth', ['title', 'legend', 'axis label'])"
      ],
      "execution_count": 7,
      "outputs": [
        {
          "output_type": "stream",
          "text": [
            "Downloading: \"https://download.pytorch.org/models/fasterrcnn_resnet50_fpn_coco-258fb6c6.pth\" to /root/.cache/torch/checkpoints/fasterrcnn_resnet50_fpn_coco-258fb6c6.pth\n"
          ],
          "name": "stderr"
        },
        {
          "output_type": "display_data",
          "data": {
            "application/vnd.jupyter.widget-view+json": {
              "model_id": "3be21e7d90f446818aafb9e77d991897",
              "version_minor": 0,
              "version_major": 2
            },
            "text/plain": [
              "HBox(children=(FloatProgress(value=0.0, max=167502836.0), HTML(value='')))"
            ]
          },
          "metadata": {
            "tags": []
          }
        },
        {
          "output_type": "stream",
          "text": [
            "\n"
          ],
          "name": "stdout"
        }
      ]
    },
    {
      "cell_type": "code",
      "metadata": {
        "id": "iqtMJYSWzDJB",
        "colab_type": "code",
        "colab": {}
      },
      "source": [
        "images =[]\n",
        "files = glob.glob('/content/drive/My Drive/Colab Notebooks/object detection/Validation/*.jpg') + glob.glob('/content/drive/My Drive/Colab Notebooks/object detection/Validation/*.jpeg') + glob.glob('/content/drive/My Drive/Colab Notebooks/object detection/Validation/*.JPEG') + glob.glob('/content/drive/My Drive/Colab Notebooks/object detection/Validation/*.JPG')\n",
        "for img in files:\n",
        "  image2 = utils.read_image(img)\n",
        "  images.append(image2)"
      ],
      "execution_count": 8,
      "outputs": []
    },
    {
      "cell_type": "code",
      "metadata": {
        "id": "bwKCRAC9Kz_5",
        "colab_type": "code",
        "colab": {
          "base_uri": "https://localhost:8080/",
          "height": 35
        },
        "outputId": "a4aebd27-9fd4-450a-fbce-158aa184c8bb"
      },
      "source": [
        "print(len(images))"
      ],
      "execution_count": 9,
      "outputs": [
        {
          "output_type": "stream",
          "text": [
            "140\n"
          ],
          "name": "stdout"
        }
      ]
    },
    {
      "cell_type": "code",
      "metadata": {
        "id": "ZyxDmIfRVIhW",
        "colab_type": "code",
        "colab": {}
      },
      "source": [
        "\n",
        "\n",
        "l3=[]\n",
        "s3=[]\n",
        "b3=[]\n",
        "for image in images:\n",
        "  pred3 = model2.predict(image)\n",
        "  l2 =[]\n",
        "  b2=[]\n",
        "  s2=[]\n",
        "  for l_loop, b_loop, s_loop in zip(*pred3):\n",
        "    if s_loop > 0.5:\n",
        "      l2.append(l_loop)\n",
        "      b2.append(b_loop)\n",
        "      s2.append(s_loop)\n",
        "  l3.append(l2)\n",
        "  s3.append(s2)\n",
        "  b3.append(b2)"
      ],
      "execution_count": null,
      "outputs": []
    },
    {
      "cell_type": "code",
      "metadata": {
        "id": "GtRDh9GAKJ8w",
        "colab_type": "code",
        "colab": {
          "base_uri": "https://localhost:8080/",
          "height": 55
        },
        "outputId": "785550ba-4fa5-4065-93c4-05f7cb46ed39"
      },
      "source": [
        "print(l3)"
      ],
      "execution_count": null,
      "outputs": [
        {
          "output_type": "stream",
          "text": [
            "[['title', 'legend', 'axis label', 'legend'], ['title', 'legend'], ['axis label', 'axis label', 'title', 'legend'], ['title'], ['title', 'legend'], ['axis label', 'axis label'], ['title', 'axis label'], ['title', 'axis label'], ['axis label', 'legend', 'axis label'], ['axis label', 'title', 'title'], ['legend', 'axis label', 'axis label'], ['axis label', 'legend'], ['axis label', 'legend', 'axis label'], [], ['axis label', 'legend', 'axis label'], ['title'], ['title', 'axis label'], ['title'], ['title'], ['title', 'legend', 'axis label'], ['axis label', 'title', 'title'], [], [], ['title', 'axis label', 'axis label'], ['title'], ['legend', 'title', 'axis label', 'axis label', 'axis label'], ['legend', 'axis label', 'title', 'axis label'], ['title', 'legend'], ['axis label', 'axis label'], ['legend', 'title', 'axis label'], ['axis label', 'axis label'], ['title', 'legend'], ['title', 'axis label', 'legend'], ['title', 'legend'], ['legend'], ['title', 'legend'], ['title', 'axis label', 'axis label', 'axis label', 'axis label', 'axis label'], ['axis label', 'axis label'], ['title', 'legend'], ['legend', 'axis label'], ['axis label'], ['legend', 'title'], ['title', 'legend'], ['title', 'legend', 'axis label'], ['axis label', 'axis label', 'axis label', 'axis label', 'axis label'], [], ['title', 'legend'], ['title', 'axis label'], ['axis label', 'title', 'axis label'], ['axis label'], ['axis label', 'axis label'], ['legend', 'title', 'legend'], ['legend'], ['title'], ['axis label', 'axis label', 'axis label'], [], ['title', 'axis label'], ['title', 'axis label'], ['title'], ['axis label'], ['title', 'axis label'], ['title', 'legend'], ['legend', 'axis label', 'title'], ['title'], ['title', 'axis label', 'axis label', 'axis label'], ['title', 'axis label', 'axis label'], [], ['legend', 'title'], ['title', 'axis label'], ['axis label', 'axis label'], ['legend'], ['legend', 'title'], ['legend', 'title'], ['title', 'legend'], ['title', 'axis label'], ['title', 'legend'], ['legend', 'title', 'legend'], ['title', 'title'], ['legend', 'title'], ['title'], ['legend'], ['title', 'legend'], ['legend'], ['title'], ['legend', 'legend', 'legend'], ['legend'], ['title', 'legend'], ['title', 'axis label'], ['title'], ['title'], ['legend', 'title', 'legend'], ['axis label', 'title', 'legend'], ['title', 'title', 'axis label'], ['axis label', 'title'], ['legend', 'title', 'axis label'], ['legend', 'axis label', 'title'], ['title', 'legend', 'axis label'], ['title'], ['title'], ['title'], ['legend', 'title', 'axis label'], ['title', 'legend'], ['title', 'axis label'], ['title'], ['title'], ['title', 'axis label'], ['title', 'legend'], ['legend'], ['title', 'axis label', 'axis label'], ['axis label', 'axis label'], ['axis label', 'axis label'], ['axis label', 'axis label'], ['axis label', 'axis label'], ['title'], ['axis label', 'axis label'], ['axis label', 'axis label'], ['title', 'axis label'], ['axis label', 'title', 'axis label'], ['axis label', 'axis label'], ['title', 'axis label', 'axis label'], ['axis label', 'axis label'], ['title'], ['axis label', 'axis label'], ['title'], ['title', 'axis label', 'axis label'], ['title', 'axis label', 'axis label'], ['legend', 'axis label', 'axis label'], ['axis label', 'title'], ['title', 'legend', 'axis label', 'title'], ['title', 'legend', 'axis label', 'axis label'], ['legend', 'axis label'], ['legend', 'title'], ['axis label', 'title', 'legend'], ['title', 'legend'], ['title', 'axis label'], ['title', 'axis label'], ['legend', 'title', 'axis label'], ['legend', 'title'], ['legend', 'title', 'title'], ['title', 'axis label']]\n"
          ],
          "name": "stdout"
        }
      ]
    },
    {
      "cell_type": "code",
      "metadata": {
        "id": "pUSY9HeJKMCv",
        "colab_type": "code",
        "colab": {
          "base_uri": "https://localhost:8080/",
          "height": 55
        },
        "outputId": "ae6a04f7-f3e1-40ce-e62e-6acd4bd4babe"
      },
      "source": [
        "print(s3)"
      ],
      "execution_count": null,
      "outputs": [
        {
          "output_type": "stream",
          "text": [
            "[[tensor(0.9489), tensor(0.9454), tensor(0.7044), tensor(0.5212)], [tensor(0.8601), tensor(0.7051)], [tensor(0.8204), tensor(0.7895), tensor(0.7502), tensor(0.5197)], [tensor(0.6902)], [tensor(0.7974), tensor(0.7061)], [tensor(0.7278), tensor(0.6913)], [tensor(0.8794), tensor(0.6244)], [tensor(0.8767), tensor(0.8278)], [tensor(0.7329), tensor(0.7265), tensor(0.6106)], [tensor(0.8094), tensor(0.8049), tensor(0.6698)], [tensor(0.7619), tensor(0.6262), tensor(0.5334)], [tensor(0.8240), tensor(0.6609)], [tensor(0.7870), tensor(0.7848), tensor(0.7640)], [], [tensor(0.8691), tensor(0.8615), tensor(0.7205)], [tensor(0.9663)], [tensor(0.9013), tensor(0.8816)], [tensor(0.6914)], [tensor(0.9269)], [tensor(0.9282), tensor(0.8459), tensor(0.6129)], [tensor(0.7214), tensor(0.5987), tensor(0.5189)], [], [], [tensor(0.7876), tensor(0.5818), tensor(0.5261)], [tensor(0.8871)], [tensor(0.9636), tensor(0.9515), tensor(0.6019), tensor(0.5552), tensor(0.5401)], [tensor(0.8354), tensor(0.8182), tensor(0.6053), tensor(0.5539)], [tensor(0.9176), tensor(0.7465)], [tensor(0.8467), tensor(0.5832)], [tensor(0.9013), tensor(0.5599), tensor(0.5223)], [tensor(0.7873), tensor(0.7587)], [tensor(0.9354), tensor(0.8023)], [tensor(0.8385), tensor(0.7963), tensor(0.6991)], [tensor(0.8824), tensor(0.7998)], [tensor(0.8974)], [tensor(0.8930), tensor(0.7848)], [tensor(0.8600), tensor(0.7579), tensor(0.7576), tensor(0.7010), tensor(0.6423), tensor(0.6259)], [tensor(0.8361), tensor(0.7472)], [tensor(0.8927), tensor(0.6057)], [tensor(0.9034), tensor(0.7040)], [tensor(0.8514)], [tensor(0.9649), tensor(0.8793)], [tensor(0.8701), tensor(0.8626)], [tensor(0.7885), tensor(0.6751), tensor(0.6176)], [tensor(0.8942), tensor(0.8234), tensor(0.8187), tensor(0.7805), tensor(0.7724)], [], [tensor(0.8945), tensor(0.7375)], [tensor(0.6409), tensor(0.5746)], [tensor(0.8946), tensor(0.8863), tensor(0.8704)], [tensor(0.7642)], [tensor(0.8443), tensor(0.5093)], [tensor(0.9181), tensor(0.8544), tensor(0.5432)], [tensor(0.5502)], [tensor(0.7149)], [tensor(0.7889), tensor(0.7024), tensor(0.5957)], [], [tensor(0.9373), tensor(0.8641)], [tensor(0.8899), tensor(0.6379)], [tensor(0.5364)], [tensor(0.5555)], [tensor(0.8919), tensor(0.6293)], [tensor(0.9230), tensor(0.5304)], [tensor(0.7966), tensor(0.7816), tensor(0.7332)], [tensor(0.8958)], [tensor(0.8735), tensor(0.7315), tensor(0.7192), tensor(0.5243)], [tensor(0.8885), tensor(0.7527), tensor(0.6916)], [], [tensor(0.7887), tensor(0.6880)], [tensor(0.8683), tensor(0.8194)], [tensor(0.8057), tensor(0.6108)], [tensor(0.8911)], [tensor(0.5717), tensor(0.5703)], [tensor(0.8807), tensor(0.8131)], [tensor(0.8780), tensor(0.6710)], [tensor(0.9134), tensor(0.6210)], [tensor(0.9203), tensor(0.8500)], [tensor(0.9449), tensor(0.8875), tensor(0.7162)], [tensor(0.7904), tensor(0.7441)], [tensor(0.8952), tensor(0.8129)], [tensor(0.8663)], [tensor(0.9046)], [tensor(0.9379), tensor(0.7580)], [tensor(0.9260)], [tensor(0.9036)], [tensor(0.7878), tensor(0.7848), tensor(0.5485)], [tensor(0.7112)], [tensor(0.8572), tensor(0.5067)], [tensor(0.9290), tensor(0.5419)], [tensor(0.9057)], [tensor(0.8345)], [tensor(0.8428), tensor(0.7383), tensor(0.5987)], [tensor(0.8284), tensor(0.7529), tensor(0.5578)], [tensor(0.8241), tensor(0.6019), tensor(0.5481)], [tensor(0.8281), tensor(0.6022)], [tensor(0.9579), tensor(0.8936), tensor(0.6802)], [tensor(0.9091), tensor(0.7870), tensor(0.5463)], [tensor(0.9267), tensor(0.8128), tensor(0.6079)], [tensor(0.7586)], [tensor(0.7048)], [tensor(0.7519)], [tensor(0.9379), tensor(0.7038), tensor(0.6759)], [tensor(0.6673), tensor(0.5921)], [tensor(0.7863), tensor(0.6082)], [tensor(0.8774)], [tensor(0.8946)], [tensor(0.8116), tensor(0.7864)], [tensor(0.9228), tensor(0.8761)], [tensor(0.9212)], [tensor(0.8924), tensor(0.7799), tensor(0.6496)], [tensor(0.8008), tensor(0.7836)], [tensor(0.8476), tensor(0.7707)], [tensor(0.7645), tensor(0.6785)], [tensor(0.8574), tensor(0.8457)], [tensor(0.9321)], [tensor(0.8286), tensor(0.5480)], [tensor(0.8016), tensor(0.6294)], [tensor(0.8701), tensor(0.7815)], [tensor(0.7749), tensor(0.6737), tensor(0.6515)], [tensor(0.6666), tensor(0.5341)], [tensor(0.9074), tensor(0.8092), tensor(0.5342)], [tensor(0.8939), tensor(0.8619)], [tensor(0.8893)], [tensor(0.9096), tensor(0.7627)], [tensor(0.9084)], [tensor(0.9118), tensor(0.8147), tensor(0.6020)], [tensor(0.8709), tensor(0.8190), tensor(0.6242)], [tensor(0.8784), tensor(0.7532), tensor(0.6615)], [tensor(0.8961), tensor(0.8634)], [tensor(0.9276), tensor(0.8962), tensor(0.7445), tensor(0.5169)], [tensor(0.9034), tensor(0.8632), tensor(0.6438), tensor(0.6236)], [tensor(0.8693), tensor(0.7814)], [tensor(0.6854), tensor(0.6822)], [tensor(0.7814), tensor(0.7546), tensor(0.5329)], [tensor(0.8785), tensor(0.5454)], [tensor(0.6442), tensor(0.5335)], [tensor(0.9067), tensor(0.8727)], [tensor(0.7736), tensor(0.6315), tensor(0.5934)], [tensor(0.8441), tensor(0.7240)], [tensor(0.9222), tensor(0.7846), tensor(0.5093)], [tensor(0.8881), tensor(0.5495)]]\n"
          ],
          "name": "stdout"
        }
      ]
    },
    {
      "cell_type": "code",
      "metadata": {
        "id": "-FFcksfxOGq3",
        "colab_type": "code",
        "colab": {
          "base_uri": "https://localhost:8080/",
          "height": 55
        },
        "outputId": "a7e90af1-6bca-48fa-975a-2c87aefc6746"
      },
      "source": [
        "print(b3)"
      ],
      "execution_count": null,
      "outputs": [
        {
          "output_type": "stream",
          "text": [
            "[[tensor([ 11.9657,   2.6695, 123.0901,  15.1436]), tensor([201.8099,  68.6619, 234.3179, 101.1365]), tensor([231.0754, 182.1517, 255.7809, 193.0854]), tensor([ 13.5438, 158.7620, 211.6116, 176.9664])], [tensor([ 43.9703,   7.1465, 241.7280,  21.1045]), tensor([112.3136, 166.4566, 169.5984, 178.8831])], [tensor([536.6852, 731.8302, 682.0660, 765.4489]), tensor([  6.1892, 382.3308,  34.8848, 474.5214]), tensor([ 13.4813,  11.9538, 328.0172,  53.8548]), tensor([ 324.3607,  107.5657, 1054.6277,  144.4674])], [tensor([ 520.6955,   64.2909, 1033.8629,  144.3233])], [tensor([110.6345,   7.2259, 159.7248,  17.5395]), tensor([ 98.4184, 171.0920, 169.6729, 182.6293])], [tensor([383.9412, 471.7232, 498.4102, 491.3257]), tensor([  7.9441, 224.6968,  26.9644, 261.6542])], [tensor([ 10.9788,   3.5967, 182.4353,  21.1231]), tensor([ 11.6812, 218.3848,  72.7864, 228.9425])], [tensor([ 76.0477,   1.3982, 180.4203,  10.7196]), tensor([  2.1766,  69.5999,  10.7176, 120.2734])], [tensor([ 9.0720, 72.8696, 18.3988, 99.1041]), tensor([207.2427,  10.5540, 241.5918,  26.0786]), tensor([112.5370, 176.1500, 130.4373, 184.9498])], [tensor([  1.3753,  79.9942,   8.4511, 109.7356]), tensor([ 5.3101,  6.3687, 96.8888, 15.7133]), tensor([171.4595,   3.8332, 214.2073,  17.3102])], [tensor([ 55.5039,  29.4502, 217.9265,  42.6346]), tensor([ 81.0386, 205.9937, 114.4854, 224.0652]), tensor([159.0514, 206.5019, 192.6654, 223.8026])], [tensor([  2.2957,  57.8322,  13.7230, 110.6622]), tensor([ 13.4272, 205.4643, 226.6074, 218.6844])], [tensor([11.0546, 47.2447, 23.0545, 84.9425]), tensor([284.6219,  49.9911, 308.4200, 114.9379]), tensor([145.2041, 139.5708, 168.6535, 150.5212])], [], [tensor([  4.0251, 128.9012,  24.7914, 333.5992]), tensor([ 77.6671,  17.8345, 329.4190,  59.6802]), tensor([468.9776, 455.8232, 513.8925, 476.1159])], [tensor([ 89.1665,   4.0370, 304.8424,  17.9201])], [tensor([160.8455,   1.4164, 361.3837,  18.9467]), tensor([239.2357, 356.9668, 283.1240, 372.0177])], [tensor([198.3031,  19.4882, 302.8100,  43.4459])], [tensor([139.6939,  19.9828, 445.4116,  56.9407])], [tensor([136.4027,   9.3002, 379.8984,  37.1158]), tensor([203.7405, 275.9609, 315.5464, 298.1797]), tensor([ 13.4840,  95.2814,  34.4695, 172.0232])], [tensor([  9.5887, 146.4619,  27.5908, 210.6101]), tensor([ 84.9388,  28.2794, 132.9478,  47.6094]), tensor([449.9384,  27.3012, 489.6500,  47.0289])], [], [], [tensor([225.2270,  19.1265, 328.9028,  43.8640]), tensor([443.9410, 269.2301, 476.4704, 285.3282]), tensor([392.0194, 269.8588, 424.5764, 285.3935])], [tensor([187.1312,  28.6719, 424.3240,  61.6689])], [tensor([343.6065,  86.3213, 397.6664, 146.5659]), tensor([125.4028,   2.6594, 245.4603,  18.3478]), tensor([275.8793, 222.8690, 313.0445, 238.8199]), tensor([199.7976, 222.8064, 235.3742, 238.2395]), tensor([123.0403, 222.5272, 161.5490, 238.8317])], [tensor([226.4398, 387.1207, 583.6003, 416.5930]), tensor([ 6.1271, 23.5601, 28.5261, 93.2520]), tensor([539.6851,  15.5349, 933.9109,  97.0294]), tensor([121.5048, 388.9453, 178.7413, 413.6261])], [tensor([179.1287,  32.1210, 393.2229,  57.6731]), tensor([ 43.0039, 383.7728, 571.4222, 420.4058])], [tensor([  2.2407, 245.1519,  23.2482, 289.8932]), tensor([395.4788, 505.4044, 433.7431, 530.7736])], [tensor([287.7790,  49.9809, 536.3154,  78.8464]), tensor([  0.0000,   0.5954, 505.8670,  19.8488]), tensor([268.1842, 260.9694, 562.7663, 281.1893])], [tensor([  0.0000, 134.6760,  11.1004, 218.3282]), tensor([172.2878, 313.5742, 262.3092, 329.3059])], [tensor([139.0470,  12.4613, 550.2056,  46.9595]), tensor([271.7427, 368.3854, 420.0223, 395.2668])], [tensor([124.2918,   0.5353, 445.0495,  19.8459]), tensor([256.4483, 317.9359, 309.6132, 338.5604]), tensor([411.7869, 240.9267, 486.8602, 279.8210])], [tensor([139.9971,   1.5839, 215.3901,  11.1809]), tensor([ 7.3257, 37.6733, 80.8359, 93.3355])], [tensor([358.2668,  96.9566, 411.4589, 161.2089])], [tensor([151.7255,   4.0363, 239.7676,  23.2438]), tensor([326.5972,  82.9364, 389.9952, 113.6134])], [tensor([163.8635,   5.3987, 503.1970,  39.3345]), tensor([310.5398, 336.5266, 364.7030, 355.5145]), tensor([  5.4415, 135.0819,  26.6359, 248.4931]), tensor([178.2700, 335.8377, 228.7268, 356.0583]), tensor([ 45.3570, 335.7119,  90.6425, 356.3685]), tensor([577.7990, 336.3179, 638.2076, 357.5481])], [tensor([325.6710, 367.3455, 375.5616, 385.8174]), tensor([ 14.6362, 157.7550,  32.1877, 199.3953])], [tensor([238.1667,  21.1048, 572.0667,  50.9680]), tensor([626.2522, 385.1412, 784.6863, 429.4193])], [tensor([347.1657,  15.6294, 432.5147,  95.3789]), tensor([ 10.4866,  60.3409,  29.2138, 125.6768])], [tensor([  3.9958, 166.7439,  21.3371, 304.1430])], [tensor([581.3254,  59.2102, 681.5939, 115.7172]), tensor([ 20.3320,  21.0379, 266.1024,  51.6725])], [tensor([175.0987,   9.7018, 763.3329,  37.3951]), tensor([729.1975, 193.8144, 892.0046, 321.9490])], [tensor([ 58.4435,   2.2282, 176.0792,  11.8129]), tensor([ 32.5261, 140.5154, 222.8650, 151.8266]), tensor([ 3.8387, 53.4419, 12.7520, 91.4401])], [tensor([  0.6348, 102.3714,  14.0323, 191.6997]), tensor([294.5113, 327.6357, 367.5571, 341.8986]), tensor([182.5844, 327.6647, 257.2387, 341.8562]), tensor([ 79.3177, 326.5670, 136.3660, 342.1518]), tensor([412.9221, 326.8235, 472.7621, 341.8611])], [], [tensor([ 57.0950,   5.7162, 428.1685,  29.3009]), tensor([ 30.0128, 363.0375, 442.1093, 388.1377])], [tensor([ 86.6939,  39.2071, 981.4985, 110.5090]), tensor([ 807.3710, 1175.4346,  918.5724, 1235.7408])], [tensor([  3.6100, 575.6146, 127.9313, 604.3931]), tensor([259.8880,  13.4905, 689.5836,  56.8387]), tensor([438.1010, 560.2758, 509.5750, 593.1348])], [tensor([ 11.1806, 329.4219,  43.4050, 495.8093])], [tensor([  5.4799, 255.0692,  27.0591, 329.3020]), tensor([261.1179,  82.9889, 345.9826, 108.2685])], [tensor([217.9420,  85.8260, 284.6482, 112.8916]), tensor([ 36.7409,   7.4300, 255.9462,  24.9244]), tensor([217.2462,  98.9395, 284.1409, 112.2202])], [tensor([187.3494, 126.4507, 213.4755, 144.7841])], [tensor([ 16.8130,  19.5987, 305.2318,  48.3901])], [tensor([150.9972, 136.9839, 181.5259, 147.9479]), tensor([ 3.0223, 50.9289, 12.3473, 75.5045]), tensor([327.9255,  48.9853, 336.5483,  78.8555])], [], [tensor([ 66.8994,   2.5117, 208.7531,  12.8500]), tensor([  2.2393,  61.9242,  10.5441, 122.0984])], [tensor([107.0325,   1.8938, 168.0462,  13.8173]), tensor([ 27.0752,  27.4688,  40.1900, 145.1610])], [tensor([ 66.8244,  28.8286, 182.7983,  45.8343])], [tensor([227.1870, 491.0527, 435.3558, 512.2130])], [tensor([289.6147,   4.1956, 462.6957,  27.9132]), tensor([578.7070, 405.8654, 701.0605, 426.1805])], [tensor([ 82.5005,  13.5763, 403.8700,  38.6113]), tensor([ 68.7423, 220.5942, 468.8499, 243.5117])], [tensor([ 81.2608,  21.1817, 214.0482,  29.9638]), tensor([  5.0441,  42.4944,  14.7830, 139.3753]), tensor([ 61.2774,   3.0611, 230.5943,  17.5068])], [tensor([ 99.9743,   9.4186, 203.3414,  19.5264])], [tensor([ 92.8966,   1.8715, 184.0548,  12.8881]), tensor([  4.7277,  66.0251,  13.2689, 122.2435]), tensor([117.3845, 177.8997, 150.2135, 186.0291]), tensor([210.3959, 171.5107, 238.3329, 180.3765])], [tensor([ 63.0347,   6.5366, 203.6284,  19.7074]), tensor([ 5.4714, 49.4038, 15.1640, 71.2059]), tensor([258.2025,  46.9062, 266.3556,  72.6962])], [], [tensor([130.9864, 370.6966, 575.5576, 399.3503]), tensor([166.0710,  20.0430, 561.2202,  61.5579])], [tensor([105.7950,   0.7708, 183.0082,  10.1027]), tensor([  2.7723,  74.8417,  11.2883, 109.3870])], [tensor([  9.5602, 415.2745,  52.7076, 535.3168]), tensor([1628.9342,  242.2005, 1671.4158,  717.9311])], [tensor([353.5565,  46.0823, 473.2623, 253.1309])], [tensor([ 865.9927,  792.2454, 1321.6707,  888.4048]), tensor([ 415.1467,   59.1744, 1016.2659,  116.5380])], [tensor([230.4576, 269.8519, 386.6498, 297.8292]), tensor([235.2667,   3.8022, 382.5826,  21.5530])], [tensor([ 17.2738,   0.6148, 332.9679,  20.8939]), tensor([309.1510, 115.7392, 389.9588, 262.0851])], [tensor([  7.2822,   7.1121, 483.7387,  36.7052]), tensor([ 60.8323, 471.9879, 509.5193, 488.3798])], [tensor([189.4167,   5.8477, 419.8403,  32.4193]), tensor([360.9775,  82.3829, 544.3976, 193.2187])], [tensor([479.5753, 180.3324, 570.6905, 285.3465]), tensor([219.2554,   7.6745, 398.3133,  27.3272]), tensor([468.0789, 427.8288, 592.3066, 452.4972])], [tensor([ 92.7647,   1.1944, 171.6797,  11.1106]), tensor([ 94.4229,   0.7291, 170.7364,  22.1110])], [tensor([ 775.6298,  260.0777, 1237.9381,  673.6019]), tensor([  79.8775,   31.7567, 1153.1169,  146.5799])], [tensor([171.0109,   3.2999, 282.2081,  19.6453])], [tensor([254.1684,  66.3802, 316.4494, 176.1146])], [tensor([181.3486,   6.4700, 340.7542,  30.1566]), tensor([108.9185, 295.4539, 446.2885, 315.7945])], [tensor([407.2945, 274.0688, 558.6641, 415.9726])], [tensor([ 16.7351,  12.2703, 214.2457,  39.3048])], [tensor([125.4437, 317.5968, 216.1096, 379.2639]), tensor([214.3618, 318.8379, 375.6574, 345.3094]), tensor([131.4990, 316.0129, 383.1161, 364.1256])], [tensor([611.7329, 183.3179, 793.0194, 247.0954])], [tensor([163.4302,  17.2951, 825.1411,  66.6444]), tensor([ 59.2077, 658.4021, 894.8890, 706.1898])], [tensor([ 10.0923,   2.4583, 240.0896,  24.6476]), tensor([266.4089, 366.9647, 434.2172, 387.7754])], [tensor([ 96.1681,   7.3062, 529.5881,  38.4535])], [tensor([ 29.6083,  25.7248, 742.5881,  90.4463])], [tensor([291.7551,  28.1992, 486.9020,  59.6356]), tensor([325.9010,   4.8694, 469.9861,  28.3103]), tensor([286.7874,  11.2221, 511.3655,  67.3077])], [tensor([  0.0000, 240.4368,  14.8831, 265.8881]), tensor([ 72.2648,   0.0000, 241.5212,  23.0757]), tensor([334.3120, 303.3919, 391.6468, 386.6779])], [tensor([137.8714,  16.3733, 337.5284,  40.7906]), tensor([146.8662,  12.8129, 341.1370,  65.6773]), tensor([312.2426, 308.8540, 369.5117, 331.6346])], [tensor([105.9989, 231.0350, 196.0642, 246.6365]), tensor([172.8129,  10.3510, 290.6731,  39.1299])], [tensor([128.5692,  37.9496, 385.8001,  61.1226]), tensor([207.3496,   7.4921, 330.7296,  25.0815]), tensor([211.6573, 417.6201, 324.9511, 438.9785])], [tensor([225.5029,  76.6750, 254.3403, 115.8363]), tensor([ 99.0221, 182.2211, 128.6605, 191.5744]), tensor([100.9750,   1.6168, 127.6338,  10.9626])], [tensor([417.9860,   3.7533, 731.4086,  53.0217]), tensor([338.3625, 106.4197, 805.0872, 147.4143]), tensor([685.8625, 677.5911, 773.1380, 709.0691])], [tensor([ 87.9802,   1.9058, 155.7946,  25.2973])], [tensor([ 665.8003,   14.3085, 1060.1959,   78.6993])], [tensor([ 72.2799,  73.2619, 388.6136, 134.3303])], [tensor([360.6951, 122.7520, 423.0956, 164.0201]), tensor([132.5582,  12.7612, 180.6000,  29.7822]), tensor([121.1786, 257.2640, 192.9661, 277.6041])], [tensor([134.6162,   4.3260, 684.1008,  30.9240]), tensor([268.3179,  32.1306, 507.0526,  58.7860])], [tensor([1.9648e+02, 2.0823e-01, 3.1503e+02, 2.9480e+01]), tensor([ 99.5553, 394.5441, 330.9676, 410.9430])], [tensor([ 60.4050,  40.8435, 532.3370,  91.9034])], [tensor([ 77.8738,   5.9435, 202.5090,  15.4465])], [tensor([153.3541,   5.2184, 277.9192,  22.6360]), tensor([173.4513, 265.9012, 261.8691, 281.3800])], [tensor([ 72.0973,   3.4878, 177.8599,  17.1127]), tensor([ 73.0301, 182.0318, 176.1030, 193.3436])], [tensor([392.4624,  98.3199, 469.6039, 190.1618])], [tensor([ 71.5607,   3.2268, 378.2867,  29.9586]), tensor([  4.6340, 165.5373,  26.5737, 267.6323]), tensor([179.0965, 383.9713, 283.1008, 410.2759])], [tensor([ 15.4629, 126.6708,  39.4091, 226.5668]), tensor([272.5100, 350.7538, 371.5876, 370.8672])], [tensor([  1.8793,  84.8069,  13.1345, 130.9521]), tensor([ 89.4088, 205.2666, 155.3190, 217.8313])], [tensor([ 4.1857,  5.1282, 13.6632, 74.5048]), tensor([ 80.1634,  92.9799, 138.9106, 102.8054])], [tensor([141.6129, 176.4375, 190.8009, 187.2427]), tensor([ 0.9748, 66.0476, 10.6723, 99.9240])], [tensor([ 33.1093,   4.7266, 190.5136,  23.0725])], [tensor([  8.0838, 143.4975,  33.0088, 206.5952]), tensor([320.0158, 389.1831, 369.8320, 416.5125])], [tensor([ 3.2008, 63.9314, 14.6162, 92.5826]), tensor([142.7213, 173.6262, 164.3970, 186.0667])], [tensor([ 59.9274,  32.5429, 439.4497,  53.2317]), tensor([ 28.4342,  57.7611,  52.2723, 124.6516])], [tensor([  5.9879, 345.3155,  38.9656, 430.9444]), tensor([491.5555,   7.7656, 649.8735,  46.3718]), tensor([523.0954, 759.7570, 607.0154, 793.8244])], [tensor([  8.6515,  56.2512,  24.6946, 161.6105]), tensor([139.9747, 204.6476, 217.4832, 223.3678])], [tensor([ 90.8371,   1.4292, 207.4543,  15.0408]), tensor([  4.0195,  95.3982,  17.2917, 195.2512]), tensor([150.8286, 280.2589, 174.8077, 292.7589])], [tensor([226.7841, 398.2666, 323.4797, 412.8851]), tensor([  1.0644, 138.8379,  15.7564, 236.1005])], [tensor([143.8116,   9.0071, 238.6820,  26.4071])], [tensor([181.4188, 265.4818, 251.3095, 277.8949]), tensor([ 18.7944, 105.8065,  35.7496, 176.3482])], [tensor([ 28.3811,   0.0000, 177.8376,  10.6694])], [tensor([ 16.0255,   0.0000, 171.5226,  11.2981]), tensor([  0.7919,  76.6699,  11.1028, 132.5970]), tensor([ 65.2997, 234.8398, 136.4997, 247.8016])], [tensor([ 277.4439,   48.3729, 1000.2408,  101.0786]), tensor([  6.8355, 449.0835,  44.2287, 759.6313]), tensor([ 543.2933, 1123.7441,  712.6683, 1170.4749])], [tensor([398.2081, 187.7745, 463.7646, 264.1563]), tensor([12.1612, 12.6338, 31.7736, 63.2764]), tensor([336.9467, 447.4781, 393.4679, 468.1570])], [tensor([  1.2784, 300.1955,  24.3808, 472.0401]), tensor([148.7792,  13.4925, 861.5789,  53.1407])], [tensor([ 95.0945,  14.7701, 493.9038,  46.5995]), tensor([191.2897, 310.5750, 395.5748, 330.0400]), tensor([ 21.8836, 105.5842,  44.1354, 233.1178]), tensor([ 87.1686,  16.6970, 333.6658,  43.1587])], [tensor([334.9423,  12.7239, 858.4812,  57.5834]), tensor([ 993.2524,  232.9440, 1175.3254,  458.2415]), tensor([498.0350, 728.3687, 596.3459, 765.9998]), tensor([ 24.1203, 272.8126,  64.1817, 525.3545])], [tensor([931.3600,   4.8516, 997.2229, 100.3618]), tensor([453.1503, 595.1603, 529.9239, 616.1077])], [tensor([ 978.3644,   92.5946, 1234.6779,  171.5095]), tensor([ 137.5559,   11.1397, 1167.7596,   46.1966])], [tensor([ 20.8848, 442.8895,  68.6888, 678.5121]), tensor([353.4380,  17.0996, 883.8901,  80.4136]), tensor([  82.8951, 1097.8280, 1144.2686, 1161.4132])], [tensor([ 278.8914,   24.3170, 1132.2642,   80.6525]), tensor([ 445.1855,  716.1755, 1128.8846,  765.8646])], [tensor([ 493.7907,  237.3183, 1597.8444,  304.0670]), tensor([ 112.1553,  782.5818,  173.3116, 1032.5780])], [tensor([ 62.1445,  22.6003, 635.8018,  54.8616]), tensor([  3.9035, 166.8143,  23.0514, 263.4436])], [tensor([185.8521, 159.7388, 321.4677, 174.0256]), tensor([213.9215,   0.8123, 276.3553,  12.6278]), tensor([ 1.7040, 43.3583, 10.7389, 88.7072])], [tensor([196.0726, 447.9237, 391.1740, 574.6108]), tensor([227.8428,  26.9322, 352.4328,  54.6646])], [tensor([ 25.9677,  41.8642, 163.9853, 129.2905]), tensor([ 42.9289,  11.8118, 598.3184,  38.6968]), tensor([ 53.2947,  12.3736, 299.6661,  33.8083])], [tensor([494.8770,  56.6445, 804.4938,  92.2664]), tensor([234.4878, 284.2351, 262.7664, 409.0780])]]\n"
          ],
          "name": "stdout"
        }
      ]
    },
    {
      "cell_type": "code",
      "metadata": {
        "id": "DizJc032LPPm",
        "colab_type": "code",
        "colab": {
          "base_uri": "https://localhost:8080/",
          "height": 218
        },
        "outputId": "5988662a-c915-414f-f676-c98824416d50"
      },
      "source": [
        "s3 = [torch.cat(s) for s in s3]"
      ],
      "execution_count": null,
      "outputs": [
        {
          "output_type": "error",
          "ename": "RuntimeError",
          "evalue": "ignored",
          "traceback": [
            "\u001b[0;31m---------------------------------------------------------------------------\u001b[0m",
            "\u001b[0;31mRuntimeError\u001b[0m                              Traceback (most recent call last)",
            "\u001b[0;32m<ipython-input-21-07c7801118d1>\u001b[0m in \u001b[0;36m<module>\u001b[0;34m()\u001b[0m\n\u001b[0;32m----> 1\u001b[0;31m \u001b[0ms3\u001b[0m \u001b[0;34m=\u001b[0m \u001b[0;34m[\u001b[0m\u001b[0mtorch\u001b[0m\u001b[0;34m.\u001b[0m\u001b[0mcat\u001b[0m\u001b[0;34m(\u001b[0m\u001b[0ms\u001b[0m\u001b[0;34m)\u001b[0m \u001b[0;32mfor\u001b[0m \u001b[0ms\u001b[0m \u001b[0;32min\u001b[0m \u001b[0ms3\u001b[0m\u001b[0;34m]\u001b[0m\u001b[0;34m\u001b[0m\u001b[0;34m\u001b[0m\u001b[0m\n\u001b[0m",
            "\u001b[0;32m<ipython-input-21-07c7801118d1>\u001b[0m in \u001b[0;36m<listcomp>\u001b[0;34m(.0)\u001b[0m\n\u001b[0;32m----> 1\u001b[0;31m \u001b[0ms3\u001b[0m \u001b[0;34m=\u001b[0m \u001b[0;34m[\u001b[0m\u001b[0mtorch\u001b[0m\u001b[0;34m.\u001b[0m\u001b[0mcat\u001b[0m\u001b[0;34m(\u001b[0m\u001b[0ms\u001b[0m\u001b[0;34m)\u001b[0m \u001b[0;32mfor\u001b[0m \u001b[0ms\u001b[0m \u001b[0;32min\u001b[0m \u001b[0ms3\u001b[0m\u001b[0;34m]\u001b[0m\u001b[0;34m\u001b[0m\u001b[0;34m\u001b[0m\u001b[0m\n\u001b[0m",
            "\u001b[0;31mRuntimeError\u001b[0m: zero-dimensional tensor (at position 0) cannot be concatenated"
          ]
        }
      ]
    },
    {
      "cell_type": "code",
      "metadata": {
        "id": "ZJIBvyw1MgHE",
        "colab_type": "code",
        "colab": {}
      },
      "source": [
        "s3 = [torch.stack(s) if len(s) > 0 else None for s in s3]"
      ],
      "execution_count": null,
      "outputs": []
    },
    {
      "cell_type": "code",
      "metadata": {
        "id": "NAlyjmgdM6VU",
        "colab_type": "code",
        "colab": {
          "base_uri": "https://localhost:8080/",
          "height": 55
        },
        "outputId": "2e781dd2-6d80-4082-dbd7-2122eefbd826"
      },
      "source": [
        "print(s3)"
      ],
      "execution_count": null,
      "outputs": [
        {
          "output_type": "stream",
          "text": [
            "[tensor([0.9489, 0.9454, 0.7044, 0.5212]), tensor([0.8601, 0.7051]), tensor([0.8204, 0.7895, 0.7502, 0.5197]), tensor([0.6902]), tensor([0.7974, 0.7061]), tensor([0.7278, 0.6913]), tensor([0.8794, 0.6244]), tensor([0.8767, 0.8278]), tensor([0.7329, 0.7265, 0.6106]), tensor([0.8094, 0.8049, 0.6698]), tensor([0.7619, 0.6262, 0.5334]), tensor([0.8240, 0.6609]), tensor([0.7870, 0.7848, 0.7640]), None, tensor([0.8691, 0.8615, 0.7205]), tensor([0.9663]), tensor([0.9013, 0.8816]), tensor([0.6914]), tensor([0.9269]), tensor([0.9282, 0.8459, 0.6129]), tensor([0.7214, 0.5987, 0.5189]), None, None, tensor([0.7876, 0.5818, 0.5261]), tensor([0.8871]), tensor([0.9636, 0.9515, 0.6019, 0.5552, 0.5401]), tensor([0.8354, 0.8182, 0.6053, 0.5539]), tensor([0.9176, 0.7465]), tensor([0.8467, 0.5832]), tensor([0.9013, 0.5599, 0.5223]), tensor([0.7873, 0.7587]), tensor([0.9354, 0.8023]), tensor([0.8385, 0.7963, 0.6991]), tensor([0.8824, 0.7998]), tensor([0.8974]), tensor([0.8930, 0.7848]), tensor([0.8600, 0.7579, 0.7576, 0.7010, 0.6423, 0.6259]), tensor([0.8361, 0.7472]), tensor([0.8927, 0.6057]), tensor([0.9034, 0.7040]), tensor([0.8514]), tensor([0.9649, 0.8793]), tensor([0.8701, 0.8626]), tensor([0.7885, 0.6751, 0.6176]), tensor([0.8942, 0.8234, 0.8187, 0.7805, 0.7724]), None, tensor([0.8945, 0.7375]), tensor([0.6409, 0.5746]), tensor([0.8946, 0.8863, 0.8704]), tensor([0.7642]), tensor([0.8443, 0.5093]), tensor([0.9181, 0.8544, 0.5432]), tensor([0.5502]), tensor([0.7149]), tensor([0.7889, 0.7024, 0.5957]), None, tensor([0.9373, 0.8641]), tensor([0.8899, 0.6379]), tensor([0.5364]), tensor([0.5555]), tensor([0.8919, 0.6293]), tensor([0.9230, 0.5304]), tensor([0.7966, 0.7816, 0.7332]), tensor([0.8958]), tensor([0.8735, 0.7315, 0.7192, 0.5243]), tensor([0.8885, 0.7527, 0.6916]), None, tensor([0.7887, 0.6880]), tensor([0.8683, 0.8194]), tensor([0.8057, 0.6108]), tensor([0.8911]), tensor([0.5717, 0.5703]), tensor([0.8807, 0.8131]), tensor([0.8780, 0.6710]), tensor([0.9134, 0.6210]), tensor([0.9203, 0.8500]), tensor([0.9449, 0.8875, 0.7162]), tensor([0.7904, 0.7441]), tensor([0.8952, 0.8129]), tensor([0.8663]), tensor([0.9046]), tensor([0.9379, 0.7580]), tensor([0.9260]), tensor([0.9036]), tensor([0.7878, 0.7848, 0.5485]), tensor([0.7112]), tensor([0.8572, 0.5067]), tensor([0.9290, 0.5419]), tensor([0.9057]), tensor([0.8345]), tensor([0.8428, 0.7383, 0.5987]), tensor([0.8284, 0.7529, 0.5578]), tensor([0.8241, 0.6019, 0.5481]), tensor([0.8281, 0.6022]), tensor([0.9579, 0.8936, 0.6802]), tensor([0.9091, 0.7870, 0.5463]), tensor([0.9267, 0.8128, 0.6079]), tensor([0.7586]), tensor([0.7048]), tensor([0.7519]), tensor([0.9379, 0.7038, 0.6759]), tensor([0.6673, 0.5921]), tensor([0.7863, 0.6082]), tensor([0.8774]), tensor([0.8946]), tensor([0.8116, 0.7864]), tensor([0.9228, 0.8761]), tensor([0.9212]), tensor([0.8924, 0.7799, 0.6496]), tensor([0.8008, 0.7836]), tensor([0.8476, 0.7707]), tensor([0.7645, 0.6785]), tensor([0.8574, 0.8457]), tensor([0.9321]), tensor([0.8286, 0.5480]), tensor([0.8016, 0.6294]), tensor([0.8701, 0.7815]), tensor([0.7749, 0.6737, 0.6515]), tensor([0.6666, 0.5341]), tensor([0.9074, 0.8092, 0.5342]), tensor([0.8939, 0.8619]), tensor([0.8893]), tensor([0.9096, 0.7627]), tensor([0.9084]), tensor([0.9118, 0.8147, 0.6020]), tensor([0.8709, 0.8190, 0.6242]), tensor([0.8784, 0.7532, 0.6615]), tensor([0.8961, 0.8634]), tensor([0.9276, 0.8962, 0.7445, 0.5169]), tensor([0.9034, 0.8632, 0.6438, 0.6236]), tensor([0.8693, 0.7814]), tensor([0.6854, 0.6822]), tensor([0.7814, 0.7546, 0.5329]), tensor([0.8785, 0.5454]), tensor([0.6442, 0.5335]), tensor([0.9067, 0.8727]), tensor([0.7736, 0.6315, 0.5934]), tensor([0.8441, 0.7240]), tensor([0.9222, 0.7846, 0.5093]), tensor([0.8881, 0.5495])]\n"
          ],
          "name": "stdout"
        }
      ]
    },
    {
      "cell_type": "code",
      "metadata": {
        "id": "oPvljQSYOl_2",
        "colab_type": "code",
        "colab": {}
      },
      "source": [
        "b3 = [torch.stack(b) if len(b) > 0 else None for b in b3]"
      ],
      "execution_count": null,
      "outputs": []
    },
    {
      "cell_type": "code",
      "metadata": {
        "id": "fllt0stdOqeI",
        "colab_type": "code",
        "colab": {
          "base_uri": "https://localhost:8080/",
          "height": 1000
        },
        "outputId": "e57c3e19-7079-43b8-df24-6282644b4cf5"
      },
      "source": [
        "print(b3)"
      ],
      "execution_count": null,
      "outputs": [
        {
          "output_type": "stream",
          "text": [
            "[tensor([[ 11.9657,   2.6695, 123.0901,  15.1436],\n",
            "        [201.8099,  68.6619, 234.3179, 101.1365],\n",
            "        [231.0754, 182.1517, 255.7809, 193.0854],\n",
            "        [ 13.5438, 158.7620, 211.6116, 176.9664]]), tensor([[ 43.9703,   7.1465, 241.7280,  21.1045],\n",
            "        [112.3136, 166.4566, 169.5984, 178.8831]]), tensor([[ 536.6852,  731.8302,  682.0660,  765.4489],\n",
            "        [   6.1892,  382.3308,   34.8848,  474.5214],\n",
            "        [  13.4813,   11.9538,  328.0172,   53.8548],\n",
            "        [ 324.3607,  107.5657, 1054.6277,  144.4674]]), tensor([[ 520.6955,   64.2909, 1033.8629,  144.3233]]), tensor([[110.6345,   7.2259, 159.7248,  17.5395],\n",
            "        [ 98.4184, 171.0920, 169.6729, 182.6293]]), tensor([[383.9412, 471.7232, 498.4102, 491.3257],\n",
            "        [  7.9441, 224.6968,  26.9644, 261.6542]]), tensor([[ 10.9788,   3.5967, 182.4353,  21.1231],\n",
            "        [ 11.6812, 218.3848,  72.7864, 228.9425]]), tensor([[ 76.0477,   1.3982, 180.4203,  10.7196],\n",
            "        [  2.1766,  69.5999,  10.7176, 120.2734]]), tensor([[  9.0720,  72.8696,  18.3988,  99.1041],\n",
            "        [207.2427,  10.5540, 241.5918,  26.0786],\n",
            "        [112.5370, 176.1500, 130.4373, 184.9498]]), tensor([[  1.3753,  79.9942,   8.4511, 109.7356],\n",
            "        [  5.3101,   6.3687,  96.8888,  15.7133],\n",
            "        [171.4595,   3.8332, 214.2073,  17.3102]]), tensor([[ 55.5039,  29.4502, 217.9265,  42.6346],\n",
            "        [ 81.0386, 205.9937, 114.4854, 224.0652],\n",
            "        [159.0514, 206.5019, 192.6654, 223.8026]]), tensor([[  2.2957,  57.8322,  13.7230, 110.6622],\n",
            "        [ 13.4272, 205.4643, 226.6074, 218.6844]]), tensor([[ 11.0546,  47.2447,  23.0545,  84.9425],\n",
            "        [284.6219,  49.9911, 308.4200, 114.9379],\n",
            "        [145.2041, 139.5708, 168.6535, 150.5212]]), None, tensor([[  4.0251, 128.9012,  24.7914, 333.5992],\n",
            "        [ 77.6671,  17.8345, 329.4190,  59.6802],\n",
            "        [468.9776, 455.8232, 513.8925, 476.1159]]), tensor([[ 89.1665,   4.0370, 304.8424,  17.9201]]), tensor([[160.8455,   1.4164, 361.3837,  18.9467],\n",
            "        [239.2357, 356.9668, 283.1240, 372.0177]]), tensor([[198.3031,  19.4882, 302.8100,  43.4459]]), tensor([[139.6939,  19.9828, 445.4116,  56.9407]]), tensor([[136.4027,   9.3002, 379.8984,  37.1158],\n",
            "        [203.7405, 275.9609, 315.5464, 298.1797],\n",
            "        [ 13.4840,  95.2814,  34.4695, 172.0232]]), tensor([[  9.5887, 146.4619,  27.5908, 210.6101],\n",
            "        [ 84.9388,  28.2794, 132.9478,  47.6094],\n",
            "        [449.9384,  27.3012, 489.6500,  47.0289]]), None, None, tensor([[225.2270,  19.1265, 328.9028,  43.8640],\n",
            "        [443.9410, 269.2301, 476.4704, 285.3282],\n",
            "        [392.0194, 269.8588, 424.5764, 285.3935]]), tensor([[187.1312,  28.6719, 424.3240,  61.6689]]), tensor([[343.6065,  86.3213, 397.6664, 146.5659],\n",
            "        [125.4028,   2.6594, 245.4603,  18.3478],\n",
            "        [275.8793, 222.8690, 313.0445, 238.8199],\n",
            "        [199.7976, 222.8064, 235.3742, 238.2395],\n",
            "        [123.0403, 222.5272, 161.5490, 238.8317]]), tensor([[226.4398, 387.1207, 583.6003, 416.5930],\n",
            "        [  6.1271,  23.5601,  28.5261,  93.2520],\n",
            "        [539.6851,  15.5349, 933.9109,  97.0294],\n",
            "        [121.5048, 388.9453, 178.7413, 413.6261]]), tensor([[179.1287,  32.1210, 393.2229,  57.6731],\n",
            "        [ 43.0039, 383.7728, 571.4222, 420.4058]]), tensor([[  2.2407, 245.1519,  23.2482, 289.8932],\n",
            "        [395.4788, 505.4044, 433.7431, 530.7736]]), tensor([[287.7790,  49.9809, 536.3154,  78.8464],\n",
            "        [  0.0000,   0.5954, 505.8670,  19.8488],\n",
            "        [268.1842, 260.9694, 562.7663, 281.1893]]), tensor([[  0.0000, 134.6760,  11.1004, 218.3282],\n",
            "        [172.2878, 313.5742, 262.3092, 329.3059]]), tensor([[139.0470,  12.4613, 550.2056,  46.9595],\n",
            "        [271.7427, 368.3854, 420.0223, 395.2668]]), tensor([[124.2918,   0.5353, 445.0495,  19.8459],\n",
            "        [256.4483, 317.9359, 309.6132, 338.5604],\n",
            "        [411.7869, 240.9267, 486.8602, 279.8210]]), tensor([[139.9971,   1.5839, 215.3901,  11.1809],\n",
            "        [  7.3257,  37.6733,  80.8359,  93.3355]]), tensor([[358.2668,  96.9566, 411.4589, 161.2089]]), tensor([[151.7255,   4.0363, 239.7676,  23.2438],\n",
            "        [326.5972,  82.9364, 389.9952, 113.6134]]), tensor([[163.8635,   5.3987, 503.1970,  39.3345],\n",
            "        [310.5398, 336.5266, 364.7030, 355.5145],\n",
            "        [  5.4415, 135.0819,  26.6359, 248.4931],\n",
            "        [178.2700, 335.8377, 228.7268, 356.0583],\n",
            "        [ 45.3570, 335.7119,  90.6425, 356.3685],\n",
            "        [577.7990, 336.3179, 638.2076, 357.5481]]), tensor([[325.6710, 367.3455, 375.5616, 385.8174],\n",
            "        [ 14.6362, 157.7550,  32.1877, 199.3953]]), tensor([[238.1667,  21.1048, 572.0667,  50.9680],\n",
            "        [626.2522, 385.1412, 784.6863, 429.4193]]), tensor([[347.1657,  15.6294, 432.5147,  95.3789],\n",
            "        [ 10.4866,  60.3409,  29.2138, 125.6768]]), tensor([[  3.9958, 166.7439,  21.3371, 304.1430]]), tensor([[581.3254,  59.2102, 681.5939, 115.7172],\n",
            "        [ 20.3320,  21.0379, 266.1024,  51.6725]]), tensor([[175.0987,   9.7018, 763.3329,  37.3951],\n",
            "        [729.1975, 193.8144, 892.0046, 321.9490]]), tensor([[ 58.4435,   2.2282, 176.0792,  11.8129],\n",
            "        [ 32.5261, 140.5154, 222.8650, 151.8266],\n",
            "        [  3.8387,  53.4419,  12.7520,  91.4401]]), tensor([[  0.6348, 102.3714,  14.0323, 191.6997],\n",
            "        [294.5113, 327.6357, 367.5571, 341.8986],\n",
            "        [182.5844, 327.6647, 257.2387, 341.8562],\n",
            "        [ 79.3177, 326.5670, 136.3660, 342.1518],\n",
            "        [412.9221, 326.8235, 472.7621, 341.8611]]), None, tensor([[ 57.0950,   5.7162, 428.1685,  29.3009],\n",
            "        [ 30.0128, 363.0375, 442.1093, 388.1377]]), tensor([[  86.6939,   39.2071,  981.4985,  110.5090],\n",
            "        [ 807.3710, 1175.4346,  918.5724, 1235.7408]]), tensor([[  3.6100, 575.6146, 127.9313, 604.3931],\n",
            "        [259.8880,  13.4905, 689.5836,  56.8387],\n",
            "        [438.1010, 560.2758, 509.5750, 593.1348]]), tensor([[ 11.1806, 329.4219,  43.4050, 495.8093]]), tensor([[  5.4799, 255.0692,  27.0591, 329.3020],\n",
            "        [261.1179,  82.9889, 345.9826, 108.2685]]), tensor([[217.9420,  85.8260, 284.6482, 112.8916],\n",
            "        [ 36.7409,   7.4300, 255.9462,  24.9244],\n",
            "        [217.2462,  98.9395, 284.1409, 112.2202]]), tensor([[187.3494, 126.4507, 213.4755, 144.7841]]), tensor([[ 16.8130,  19.5987, 305.2318,  48.3901]]), tensor([[150.9972, 136.9839, 181.5259, 147.9479],\n",
            "        [  3.0223,  50.9289,  12.3473,  75.5045],\n",
            "        [327.9255,  48.9853, 336.5483,  78.8555]]), None, tensor([[ 66.8994,   2.5117, 208.7531,  12.8500],\n",
            "        [  2.2393,  61.9242,  10.5441, 122.0984]]), tensor([[107.0325,   1.8938, 168.0462,  13.8173],\n",
            "        [ 27.0752,  27.4688,  40.1900, 145.1610]]), tensor([[ 66.8244,  28.8286, 182.7983,  45.8343]]), tensor([[227.1870, 491.0527, 435.3558, 512.2130]]), tensor([[289.6147,   4.1956, 462.6957,  27.9132],\n",
            "        [578.7070, 405.8654, 701.0605, 426.1805]]), tensor([[ 82.5005,  13.5763, 403.8700,  38.6113],\n",
            "        [ 68.7423, 220.5942, 468.8499, 243.5117]]), tensor([[ 81.2608,  21.1817, 214.0482,  29.9638],\n",
            "        [  5.0441,  42.4944,  14.7830, 139.3753],\n",
            "        [ 61.2774,   3.0611, 230.5943,  17.5068]]), tensor([[ 99.9743,   9.4186, 203.3414,  19.5264]]), tensor([[ 92.8966,   1.8715, 184.0548,  12.8881],\n",
            "        [  4.7277,  66.0251,  13.2689, 122.2435],\n",
            "        [117.3845, 177.8997, 150.2135, 186.0291],\n",
            "        [210.3959, 171.5107, 238.3329, 180.3765]]), tensor([[ 63.0347,   6.5366, 203.6284,  19.7074],\n",
            "        [  5.4714,  49.4038,  15.1640,  71.2059],\n",
            "        [258.2025,  46.9062, 266.3556,  72.6962]]), None, tensor([[130.9864, 370.6966, 575.5576, 399.3503],\n",
            "        [166.0710,  20.0430, 561.2202,  61.5579]]), tensor([[105.7950,   0.7708, 183.0082,  10.1027],\n",
            "        [  2.7723,  74.8417,  11.2883, 109.3870]]), tensor([[   9.5602,  415.2745,   52.7076,  535.3168],\n",
            "        [1628.9342,  242.2005, 1671.4158,  717.9311]]), tensor([[353.5565,  46.0823, 473.2623, 253.1309]]), tensor([[ 865.9927,  792.2454, 1321.6707,  888.4048],\n",
            "        [ 415.1467,   59.1744, 1016.2659,  116.5380]]), tensor([[230.4576, 269.8519, 386.6498, 297.8292],\n",
            "        [235.2667,   3.8022, 382.5826,  21.5530]]), tensor([[ 17.2738,   0.6148, 332.9679,  20.8939],\n",
            "        [309.1510, 115.7392, 389.9588, 262.0851]]), tensor([[  7.2822,   7.1121, 483.7387,  36.7052],\n",
            "        [ 60.8323, 471.9879, 509.5193, 488.3798]]), tensor([[189.4167,   5.8477, 419.8403,  32.4193],\n",
            "        [360.9775,  82.3829, 544.3976, 193.2187]]), tensor([[479.5753, 180.3324, 570.6905, 285.3465],\n",
            "        [219.2554,   7.6745, 398.3133,  27.3272],\n",
            "        [468.0789, 427.8288, 592.3066, 452.4972]]), tensor([[ 92.7647,   1.1944, 171.6797,  11.1106],\n",
            "        [ 94.4229,   0.7291, 170.7364,  22.1110]]), tensor([[ 775.6298,  260.0777, 1237.9381,  673.6019],\n",
            "        [  79.8775,   31.7567, 1153.1169,  146.5799]]), tensor([[171.0109,   3.2999, 282.2081,  19.6453]]), tensor([[254.1684,  66.3802, 316.4494, 176.1146]]), tensor([[181.3486,   6.4700, 340.7542,  30.1566],\n",
            "        [108.9185, 295.4539, 446.2885, 315.7945]]), tensor([[407.2945, 274.0688, 558.6641, 415.9726]]), tensor([[ 16.7351,  12.2703, 214.2457,  39.3048]]), tensor([[125.4437, 317.5968, 216.1096, 379.2639],\n",
            "        [214.3618, 318.8379, 375.6574, 345.3094],\n",
            "        [131.4990, 316.0129, 383.1161, 364.1256]]), tensor([[611.7329, 183.3179, 793.0194, 247.0954]]), tensor([[163.4302,  17.2951, 825.1411,  66.6444],\n",
            "        [ 59.2077, 658.4021, 894.8890, 706.1898]]), tensor([[ 10.0923,   2.4583, 240.0896,  24.6476],\n",
            "        [266.4089, 366.9647, 434.2172, 387.7754]]), tensor([[ 96.1681,   7.3062, 529.5881,  38.4535]]), tensor([[ 29.6083,  25.7248, 742.5881,  90.4463]]), tensor([[291.7551,  28.1992, 486.9020,  59.6356],\n",
            "        [325.9010,   4.8694, 469.9861,  28.3103],\n",
            "        [286.7874,  11.2221, 511.3655,  67.3077]]), tensor([[  0.0000, 240.4368,  14.8831, 265.8881],\n",
            "        [ 72.2648,   0.0000, 241.5212,  23.0757],\n",
            "        [334.3120, 303.3919, 391.6468, 386.6779]]), tensor([[137.8714,  16.3733, 337.5284,  40.7906],\n",
            "        [146.8662,  12.8129, 341.1370,  65.6773],\n",
            "        [312.2426, 308.8540, 369.5117, 331.6346]]), tensor([[105.9989, 231.0350, 196.0642, 246.6365],\n",
            "        [172.8129,  10.3510, 290.6731,  39.1299]]), tensor([[128.5692,  37.9496, 385.8001,  61.1226],\n",
            "        [207.3496,   7.4921, 330.7296,  25.0815],\n",
            "        [211.6573, 417.6201, 324.9511, 438.9785]]), tensor([[225.5029,  76.6750, 254.3403, 115.8363],\n",
            "        [ 99.0221, 182.2211, 128.6605, 191.5744],\n",
            "        [100.9750,   1.6168, 127.6338,  10.9626]]), tensor([[417.9860,   3.7533, 731.4086,  53.0217],\n",
            "        [338.3625, 106.4197, 805.0872, 147.4143],\n",
            "        [685.8625, 677.5911, 773.1380, 709.0691]]), tensor([[ 87.9802,   1.9058, 155.7946,  25.2973]]), tensor([[ 665.8003,   14.3085, 1060.1959,   78.6993]]), tensor([[ 72.2799,  73.2619, 388.6136, 134.3303]]), tensor([[360.6951, 122.7520, 423.0956, 164.0201],\n",
            "        [132.5582,  12.7612, 180.6000,  29.7822],\n",
            "        [121.1786, 257.2640, 192.9661, 277.6041]]), tensor([[134.6162,   4.3260, 684.1008,  30.9240],\n",
            "        [268.3179,  32.1306, 507.0526,  58.7860]]), tensor([[1.9648e+02, 2.0823e-01, 3.1503e+02, 2.9480e+01],\n",
            "        [9.9555e+01, 3.9454e+02, 3.3097e+02, 4.1094e+02]]), tensor([[ 60.4050,  40.8435, 532.3370,  91.9034]]), tensor([[ 77.8738,   5.9435, 202.5090,  15.4465]]), tensor([[153.3541,   5.2184, 277.9192,  22.6360],\n",
            "        [173.4513, 265.9012, 261.8691, 281.3800]]), tensor([[ 72.0973,   3.4878, 177.8599,  17.1127],\n",
            "        [ 73.0301, 182.0318, 176.1030, 193.3436]]), tensor([[392.4624,  98.3199, 469.6039, 190.1618]]), tensor([[ 71.5607,   3.2268, 378.2867,  29.9586],\n",
            "        [  4.6340, 165.5373,  26.5737, 267.6323],\n",
            "        [179.0965, 383.9713, 283.1008, 410.2759]]), tensor([[ 15.4629, 126.6708,  39.4091, 226.5668],\n",
            "        [272.5100, 350.7538, 371.5876, 370.8672]]), tensor([[  1.8793,  84.8069,  13.1345, 130.9521],\n",
            "        [ 89.4088, 205.2666, 155.3190, 217.8313]]), tensor([[  4.1857,   5.1282,  13.6632,  74.5048],\n",
            "        [ 80.1634,  92.9799, 138.9106, 102.8054]]), tensor([[141.6129, 176.4375, 190.8009, 187.2427],\n",
            "        [  0.9748,  66.0476,  10.6723,  99.9240]]), tensor([[ 33.1093,   4.7266, 190.5136,  23.0725]]), tensor([[  8.0838, 143.4975,  33.0088, 206.5952],\n",
            "        [320.0158, 389.1831, 369.8320, 416.5125]]), tensor([[  3.2008,  63.9314,  14.6162,  92.5826],\n",
            "        [142.7213, 173.6262, 164.3970, 186.0667]]), tensor([[ 59.9274,  32.5429, 439.4497,  53.2317],\n",
            "        [ 28.4342,  57.7611,  52.2723, 124.6516]]), tensor([[  5.9879, 345.3155,  38.9656, 430.9444],\n",
            "        [491.5555,   7.7656, 649.8735,  46.3718],\n",
            "        [523.0954, 759.7570, 607.0154, 793.8244]]), tensor([[  8.6515,  56.2512,  24.6946, 161.6105],\n",
            "        [139.9747, 204.6476, 217.4832, 223.3678]]), tensor([[ 90.8371,   1.4292, 207.4543,  15.0408],\n",
            "        [  4.0195,  95.3982,  17.2917, 195.2512],\n",
            "        [150.8286, 280.2589, 174.8077, 292.7589]]), tensor([[226.7841, 398.2666, 323.4797, 412.8851],\n",
            "        [  1.0644, 138.8379,  15.7564, 236.1005]]), tensor([[143.8116,   9.0071, 238.6820,  26.4071]]), tensor([[181.4188, 265.4818, 251.3095, 277.8949],\n",
            "        [ 18.7944, 105.8065,  35.7496, 176.3482]]), tensor([[ 28.3811,   0.0000, 177.8376,  10.6694]]), tensor([[ 16.0255,   0.0000, 171.5226,  11.2981],\n",
            "        [  0.7919,  76.6699,  11.1028, 132.5970],\n",
            "        [ 65.2997, 234.8398, 136.4997, 247.8016]]), tensor([[ 277.4439,   48.3729, 1000.2408,  101.0786],\n",
            "        [   6.8355,  449.0835,   44.2287,  759.6313],\n",
            "        [ 543.2933, 1123.7441,  712.6683, 1170.4749]]), tensor([[398.2081, 187.7745, 463.7646, 264.1563],\n",
            "        [ 12.1612,  12.6338,  31.7736,  63.2764],\n",
            "        [336.9467, 447.4781, 393.4679, 468.1570]]), tensor([[  1.2784, 300.1955,  24.3808, 472.0401],\n",
            "        [148.7792,  13.4925, 861.5789,  53.1407]]), tensor([[ 95.0945,  14.7701, 493.9038,  46.5995],\n",
            "        [191.2897, 310.5750, 395.5748, 330.0400],\n",
            "        [ 21.8836, 105.5842,  44.1354, 233.1178],\n",
            "        [ 87.1686,  16.6970, 333.6658,  43.1587]]), tensor([[ 334.9423,   12.7239,  858.4812,   57.5834],\n",
            "        [ 993.2524,  232.9440, 1175.3254,  458.2415],\n",
            "        [ 498.0350,  728.3687,  596.3459,  765.9998],\n",
            "        [  24.1203,  272.8126,   64.1817,  525.3545]]), tensor([[931.3600,   4.8516, 997.2229, 100.3618],\n",
            "        [453.1503, 595.1603, 529.9239, 616.1077]]), tensor([[ 978.3644,   92.5946, 1234.6779,  171.5095],\n",
            "        [ 137.5559,   11.1397, 1167.7596,   46.1966]]), tensor([[  20.8848,  442.8895,   68.6888,  678.5121],\n",
            "        [ 353.4380,   17.0996,  883.8901,   80.4136],\n",
            "        [  82.8951, 1097.8280, 1144.2686, 1161.4132]]), tensor([[ 278.8914,   24.3170, 1132.2642,   80.6525],\n",
            "        [ 445.1855,  716.1755, 1128.8846,  765.8646]]), tensor([[ 493.7907,  237.3183, 1597.8444,  304.0670],\n",
            "        [ 112.1553,  782.5818,  173.3116, 1032.5780]]), tensor([[ 62.1445,  22.6003, 635.8018,  54.8616],\n",
            "        [  3.9035, 166.8143,  23.0514, 263.4436]]), tensor([[185.8521, 159.7388, 321.4677, 174.0256],\n",
            "        [213.9215,   0.8123, 276.3553,  12.6278],\n",
            "        [  1.7040,  43.3583,  10.7389,  88.7072]]), tensor([[196.0726, 447.9237, 391.1740, 574.6108],\n",
            "        [227.8428,  26.9322, 352.4328,  54.6646]]), tensor([[ 25.9677,  41.8642, 163.9853, 129.2905],\n",
            "        [ 42.9289,  11.8118, 598.3184,  38.6968],\n",
            "        [ 53.2947,  12.3736, 299.6661,  33.8083]]), tensor([[494.8770,  56.6445, 804.4938,  92.2664],\n",
            "        [234.4878, 284.2351, 262.7664, 409.0780]])]\n"
          ],
          "name": "stdout"
        }
      ]
    },
    {
      "cell_type": "code",
      "metadata": {
        "id": "dTa_DE1PNA85",
        "colab_type": "code",
        "colab": {
          "base_uri": "https://localhost:8080/",
          "height": 35
        },
        "outputId": "3164797f-042c-41ca-b575-bf24869b8d02"
      },
      "source": [
        "print(len(s3))"
      ],
      "execution_count": null,
      "outputs": [
        {
          "output_type": "stream",
          "text": [
            "140\n"
          ],
          "name": "stdout"
        }
      ]
    },
    {
      "cell_type": "code",
      "metadata": {
        "id": "hfo_vepdVyoW",
        "colab_type": "code",
        "colab": {
          "base_uri": "https://localhost:8080/",
          "height": 55
        },
        "outputId": "16f93e7d-dba8-4b98-effb-c5e303ddc922"
      },
      "source": [
        "print(l2)"
      ],
      "execution_count": null,
      "outputs": [
        {
          "output_type": "stream",
          "text": [
            "['title', 'legend', 'axis label', 'legend', 'title', 'legend', 'axis label', 'axis label', 'title', 'legend', 'title', 'title', 'legend', 'axis label', 'axis label', 'title', 'axis label', 'title', 'axis label', 'axis label', 'legend', 'axis label', 'axis label', 'title', 'title', 'legend', 'axis label', 'axis label', 'axis label', 'legend', 'axis label', 'legend', 'axis label', 'axis label', 'legend', 'axis label', 'title', 'title', 'axis label', 'title', 'title', 'title', 'legend', 'axis label', 'axis label', 'title', 'title', 'title', 'axis label', 'axis label', 'title', 'legend', 'title', 'axis label', 'axis label', 'axis label', 'legend', 'axis label', 'title', 'axis label', 'title', 'legend', 'axis label', 'axis label', 'legend', 'title', 'axis label', 'axis label', 'axis label', 'title', 'legend', 'title', 'axis label', 'legend', 'title', 'legend', 'legend', 'title', 'legend', 'title', 'axis label', 'axis label', 'axis label', 'axis label', 'axis label', 'axis label', 'axis label', 'title', 'legend', 'legend', 'axis label', 'axis label', 'legend', 'title', 'title', 'legend', 'title', 'legend', 'axis label', 'axis label', 'axis label', 'axis label', 'axis label', 'axis label', 'title', 'legend', 'title', 'axis label', 'axis label', 'title', 'axis label', 'axis label', 'axis label', 'axis label', 'legend', 'title', 'legend', 'legend', 'title', 'axis label', 'axis label', 'axis label', 'title', 'axis label', 'title', 'axis label', 'title', 'axis label', 'title', 'axis label', 'title', 'legend', 'legend', 'axis label', 'title', 'title', 'title', 'axis label', 'axis label', 'axis label', 'title', 'axis label', 'axis label', 'legend', 'title', 'title', 'axis label', 'axis label', 'axis label', 'legend', 'legend', 'title', 'legend', 'title', 'title', 'legend', 'title', 'axis label', 'title', 'legend', 'legend', 'title', 'legend', 'title', 'title', 'legend', 'title', 'title', 'legend', 'title', 'legend', 'legend', 'title', 'legend', 'legend', 'legend', 'legend', 'title', 'legend', 'title', 'axis label', 'title', 'title', 'legend', 'title', 'legend', 'axis label', 'title', 'legend', 'title', 'title', 'axis label', 'axis label', 'title', 'legend', 'title', 'axis label', 'legend', 'axis label', 'title', 'title', 'legend', 'axis label', 'title', 'title', 'title', 'legend', 'title', 'axis label', 'title', 'legend', 'title', 'axis label', 'title', 'title', 'title', 'axis label', 'title', 'legend', 'legend', 'title', 'axis label', 'axis label', 'axis label', 'axis label', 'axis label', 'axis label', 'axis label', 'axis label', 'axis label', 'axis label', 'title', 'axis label', 'axis label', 'axis label', 'axis label', 'title', 'axis label', 'axis label', 'title', 'axis label', 'axis label', 'axis label', 'title', 'axis label', 'axis label', 'axis label', 'axis label', 'title', 'axis label', 'axis label', 'title', 'title', 'axis label', 'axis label', 'title', 'axis label', 'axis label', 'legend', 'axis label', 'axis label', 'axis label', 'title', 'title', 'legend', 'axis label', 'title', 'title', 'legend', 'axis label', 'axis label', 'legend', 'axis label', 'legend', 'title', 'axis label', 'title', 'legend', 'title', 'legend', 'title', 'axis label', 'title', 'axis label', 'legend', 'title', 'axis label', 'legend', 'title', 'legend', 'title', 'title', 'title', 'axis label']\n"
          ],
          "name": "stdout"
        }
      ]
    },
    {
      "cell_type": "code",
      "metadata": {
        "id": "lcUonU9GXFbO",
        "colab_type": "code",
        "colab": {}
      },
      "source": [
        "l =[]\n",
        "b=[]\n",
        "s=[]\n",
        "for image in images:\n",
        "  pred2 = model2.predict(image)\n",
        "  labels2, boxes2, scores2 = pred2\n",
        "  l.append(labels2)\n",
        "  b.append(boxes2)\n",
        "  s.append(scores2)"
      ],
      "execution_count": 68,
      "outputs": []
    },
    {
      "cell_type": "code",
      "metadata": {
        "id": "FD2Gtg1voS8Z",
        "colab_type": "code",
        "colab": {}
      },
      "source": [
        "voc_labels = ('title', 'legend', 'axis label')\n",
        "label_map = {k: v + 1 for v, k in enumerate(voc_labels)}"
      ],
      "execution_count": 11,
      "outputs": []
    },
    {
      "cell_type": "code",
      "metadata": {
        "id": "s5Pv5pGAt5c7",
        "colab_type": "code",
        "colab": {
          "base_uri": "https://localhost:8080/",
          "height": 35
        },
        "outputId": "f48d3567-7bfe-4689-9c1c-6ca6531971e6"
      },
      "source": [
        "print(label_map)"
      ],
      "execution_count": 12,
      "outputs": [
        {
          "output_type": "stream",
          "text": [
            "{'title': 1, 'legend': 2, 'axis label': 3}\n"
          ],
          "name": "stdout"
        }
      ]
    },
    {
      "cell_type": "code",
      "metadata": {
        "id": "Qp4w_haUS0DY",
        "colab_type": "code",
        "colab": {}
      },
      "source": [
        "label_map['background']=0"
      ],
      "execution_count": 13,
      "outputs": []
    },
    {
      "cell_type": "code",
      "metadata": {
        "id": "XczPnfhVS4Vu",
        "colab_type": "code",
        "colab": {
          "base_uri": "https://localhost:8080/",
          "height": 35
        },
        "outputId": "a500f7c7-edab-405b-a73e-2d7377af0a96"
      },
      "source": [
        "print(label_map)"
      ],
      "execution_count": 14,
      "outputs": [
        {
          "output_type": "stream",
          "text": [
            "{'title': 1, 'legend': 2, 'axis label': 3, 'background': 0}\n"
          ],
          "name": "stdout"
        }
      ]
    },
    {
      "cell_type": "code",
      "metadata": {
        "id": "T_yjwgHmadbo",
        "colab_type": "code",
        "colab": {
          "base_uri": "https://localhost:8080/",
          "height": 55
        },
        "outputId": "03a0cc11-10c6-4209-f1bd-aefe191db843"
      },
      "source": [
        "print(l)"
      ],
      "execution_count": 15,
      "outputs": [
        {
          "output_type": "stream",
          "text": [
            "[['legend', 'axis label', 'title'], ['legend', 'axis label', 'title'], ['axis label', 'legend', 'title'], ['legend', 'axis label', 'title'], ['legend', 'axis label', 'title'], ['axis label', 'legend', 'title'], ['axis label', 'legend', 'title'], ['axis label', 'legend', 'title'], ['axis label', 'legend', 'title'], ['axis label', 'legend', 'title'], ['legend', 'axis label'], ['axis label', 'legend', 'title'], ['axis label', 'legend'], ['legend', 'axis label', 'title'], ['axis label', 'legend', 'title'], ['legend', 'axis label', 'title'], ['axis label', 'title'], ['legend', 'axis label', 'title'], ['title'], ['legend', 'axis label', 'title'], ['axis label', 'title'], ['legend', 'axis label', 'title'], ['legend', 'title'], ['axis label', 'legend', 'title'], ['axis label', 'title'], ['legend', 'axis label', 'title'], ['legend', 'axis label', 'title'], ['legend', 'axis label', 'title'], ['axis label'], ['legend', 'axis label', 'title'], ['axis label', 'legend'], ['legend', 'axis label', 'title'], ['axis label', 'legend', 'title'], ['legend', 'axis label', 'title'], ['legend', 'axis label', 'title'], ['legend', 'axis label', 'title'], ['axis label', 'legend', 'title'], ['axis label'], ['legend', 'axis label', 'title'], ['legend', 'axis label', 'title'], ['axis label', 'title'], ['legend', 'axis label', 'title'], ['legend', 'axis label', 'title'], ['legend', 'axis label', 'title'], ['axis label', 'legend'], [], ['legend', 'axis label', 'title'], ['axis label', 'title'], ['axis label', 'legend', 'title'], ['axis label', 'title'], ['axis label', 'legend', 'title'], ['legend', 'title'], ['legend'], ['title'], ['axis label', 'legend'], ['title'], ['axis label', 'title'], ['axis label', 'title'], ['axis label', 'legend', 'title'], ['axis label', 'legend', 'title'], ['axis label', 'legend', 'title'], ['legend', 'axis label', 'title'], ['legend', 'axis label', 'title'], ['axis label', 'title'], ['axis label', 'title'], ['axis label', 'title'], ['title'], ['legend', 'axis label', 'title'], ['axis label', 'legend', 'title'], ['axis label'], ['legend'], ['legend', 'title'], ['legend', 'title'], ['legend', 'title'], ['axis label', 'legend', 'title'], ['legend', 'axis label', 'title'], ['legend', 'axis label', 'title'], ['legend', 'title'], ['legend', 'title'], ['axis label', 'title'], ['legend', 'axis label', 'title'], ['legend', 'axis label', 'title'], ['legend', 'axis label', 'title'], ['legend', 'axis label', 'title'], ['legend', 'axis label'], ['legend', 'title'], ['legend', 'axis label', 'title'], ['axis label', 'legend', 'title'], ['legend', 'title'], ['legend', 'axis label', 'title'], ['legend', 'axis label', 'title'], ['axis label', 'legend', 'title'], ['axis label', 'legend', 'title'], ['axis label', 'legend', 'title'], ['legend', 'axis label', 'title'], ['legend', 'axis label', 'title'], ['legend', 'axis label', 'title'], ['legend', 'title'], ['axis label', 'title'], ['axis label', 'title'], ['legend', 'axis label', 'title'], ['legend', 'axis label', 'title'], ['axis label', 'legend', 'title'], ['axis label', 'legend', 'title'], ['axis label', 'title'], ['axis label', 'legend', 'title'], ['legend', 'axis label', 'title'], ['legend', 'axis label', 'title'], ['axis label', 'legend', 'title'], ['axis label'], ['axis label', 'legend'], ['axis label', 'legend', 'title'], ['axis label'], ['title'], ['axis label', 'legend'], ['axis label', 'legend'], ['axis label', 'title'], ['axis label', 'title'], ['axis label', 'legend'], ['axis label', 'title'], ['axis label'], ['axis label', 'title'], ['axis label'], ['legend', 'axis label', 'title'], ['axis label', 'legend', 'title'], ['axis label', 'legend', 'title'], ['legend', 'axis label'], ['axis label', 'legend', 'title'], ['legend', 'axis label', 'title'], ['legend', 'axis label', 'title'], ['legend', 'axis label'], ['legend', 'axis label', 'title'], ['axis label', 'legend', 'title'], ['legend', 'axis label', 'title'], ['axis label', 'title'], ['axis label', 'title'], ['legend', 'axis label', 'title'], ['legend', 'axis label', 'title'], ['legend', 'axis label', 'title'], ['axis label', 'title']]\n"
          ],
          "name": "stdout"
        }
      ]
    },
    {
      "cell_type": "code",
      "metadata": {
        "id": "tdje0k557q3h",
        "colab_type": "code",
        "colab": {
          "base_uri": "https://localhost:8080/",
          "height": 1000
        },
        "outputId": "d3d6b7a1-c9b8-400a-9fdc-2c24331f5777"
      },
      "source": [
        "print(b)"
      ],
      "execution_count": 16,
      "outputs": [
        {
          "output_type": "stream",
          "text": [
            "[tensor([[201.8099,  68.6619, 234.3179, 101.1365],\n",
            "        [231.0754, 182.1517, 255.7809, 193.0854],\n",
            "        [ 11.9657,   2.6695, 123.0901,  15.1436]]), tensor([[112.3136, 166.4566, 169.5984, 178.8831],\n",
            "        [111.0788, 167.4719, 168.5630, 178.5811],\n",
            "        [ 43.9703,   7.1465, 241.7280,  21.1045]]), tensor([[ 536.6852,  731.8302,  682.0660,  765.4489],\n",
            "        [ 324.3607,  107.5657, 1054.6277,  144.4674],\n",
            "        [  13.4813,   11.9538,  328.0172,   53.8548]]), tensor([[ 364.7311,  788.4434, 1513.5726,  870.4327],\n",
            "        [  12.2457,  998.9368,  369.6984, 1071.5175],\n",
            "        [ 520.6955,   64.2909, 1033.8629,  144.3233]]), tensor([[ 98.4184, 171.0920, 169.6729, 182.6293],\n",
            "        [ 98.4811, 171.5011, 164.6891, 182.1981],\n",
            "        [110.6345,   7.2259, 159.7248,  17.5395]]), tensor([[383.9412, 471.7232, 498.4102, 491.3257],\n",
            "        [ 16.9873,   6.7606, 259.4028,  29.6471],\n",
            "        [440.7068,   5.0322, 500.4666,  30.7494]]), tensor([[ 11.6812, 218.3848,  72.7864, 228.9425],\n",
            "        [ 13.1537, 218.9613,  77.2486, 229.1192],\n",
            "        [ 10.9788,   3.5967, 182.4353,  21.1231]]), tensor([[  2.1766,  69.5999,  10.7176, 120.2734],\n",
            "        [ 59.8366, 186.8182, 203.6345, 193.7803],\n",
            "        [ 76.0477,   1.3982, 180.4203,  10.7196]]), tensor([[  9.0720,  72.8696,  18.3988,  99.1041],\n",
            "        [207.2427,  10.5540, 241.5918,  26.0786],\n",
            "        [ 16.5985,   7.9353,  42.5663,  17.3214]]), tensor([[  1.3753,  79.9942,   8.4511, 109.7356],\n",
            "        [105.3354,  19.6571, 195.7413,  35.4958],\n",
            "        [  5.3101,   6.3687,  96.8888,  15.7133]]), tensor([[ 55.5039,  29.4502, 217.9265,  42.6346],\n",
            "        [ 81.0386, 205.9937, 114.4854, 224.0652]]), tensor([[  2.2957,  57.8322,  13.7230, 110.6622],\n",
            "        [ 13.4272, 205.4643, 226.6074, 218.6844],\n",
            "        [  8.7246, 204.4804, 228.0000, 218.9353]]), tensor([[ 11.0546,  47.2447,  23.0545,  84.9425],\n",
            "        [284.6219,  49.9911, 308.4200, 114.9379]]), tensor([[ 29.8877, 170.3184, 241.1662, 182.6962],\n",
            "        [ 19.0867, 169.3519, 193.9411, 183.6668],\n",
            "        [ 31.4787, 168.0483, 240.3642, 184.6736]]), tensor([[  4.0251, 128.9012,  24.7914, 333.5992],\n",
            "        [ 77.6671,  17.8345, 329.4190,  59.6802],\n",
            "        [ 59.3648,  14.7213, 357.1613,  63.3328]]), tensor([[140.1233, 218.4287, 249.5782, 235.0628],\n",
            "        [147.6229, 218.2271, 248.5455, 234.7203],\n",
            "        [ 89.1665,   4.0370, 304.8424,  17.9201]]), tensor([[239.2357, 356.9668, 283.1240, 372.0177],\n",
            "        [160.8455,   1.4164, 361.3837,  18.9467]]), tensor([[429.9431, 161.9218, 478.0422, 181.1286],\n",
            "        [195.4006,  19.7125, 293.9306,  41.5479],\n",
            "        [198.3031,  19.4882, 302.8100,  43.4459]]), tensor([[139.6939,  19.9828, 445.4116,  56.9407]]), tensor([[203.7405, 275.9609, 315.5464, 298.1797],\n",
            "        [ 13.4840,  95.2814,  34.4695, 172.0232],\n",
            "        [136.4027,   9.3002, 379.8984,  37.1158]]), tensor([[  9.5887, 146.4619,  27.5908, 210.6101],\n",
            "        [ 84.9388,  28.2794, 132.9478,  47.6094]]), tensor([[186.3910, 376.3564, 337.7263, 400.5393],\n",
            "        [190.3989, 379.2801, 334.1287, 399.6055],\n",
            "        [ 39.7331,  30.7295, 478.8590,  53.8453]]), tensor([[ 11.3069,   9.2178, 116.4690, 106.7883],\n",
            "        [  8.5389,   7.4809, 113.1590,  30.4957]]), tensor([[443.9410, 269.2301, 476.4704, 285.3282],\n",
            "        [ 19.0081,  58.0631,  84.0408, 207.8312],\n",
            "        [225.2270,  19.1265, 328.9028,  43.8640]]), tensor([[458.4870, 310.1804, 502.2580, 329.3736],\n",
            "        [187.1312,  28.6719, 424.3240,  61.6689]]), tensor([[343.6065,  86.3213, 397.6664, 146.5659],\n",
            "        [275.8793, 222.8690, 313.0445, 238.8199],\n",
            "        [125.4028,   2.6594, 245.4603,  18.3478]]), tensor([[226.4398, 387.1207, 583.6003, 416.5930],\n",
            "        [  6.1271,  23.5601,  28.5261,  93.2520],\n",
            "        [539.6851,  15.5349, 933.9109,  97.0294]]), tensor([[ 43.0039, 383.7728, 571.4222, 420.4058],\n",
            "        [263.2079, 394.5091, 463.0703, 412.0814],\n",
            "        [179.1287,  32.1210, 393.2229,  57.6731]]), tensor([[  2.2407, 245.1519,  23.2482, 289.8932]]), tensor([[287.7790,  49.9809, 536.3154,  78.8464],\n",
            "        [268.1842, 260.9694, 562.7663, 281.1893],\n",
            "        [  0.0000,   0.5954, 505.8670,  19.8488]]), tensor([[  0.0000, 134.6760,  11.1004, 218.3282],\n",
            "        [168.0897, 312.0387, 273.1812, 329.1866]]), tensor([[271.7427, 368.3854, 420.0223, 395.2668],\n",
            "        [541.4415, 332.0177, 636.3176, 359.4926],\n",
            "        [139.0470,  12.4613, 550.2056,  46.9595]]), tensor([[256.4483, 317.9359, 309.6132, 338.5604],\n",
            "        [411.7869, 240.9267, 486.8602, 279.8210],\n",
            "        [124.2918,   0.5353, 445.0495,  19.8459]]), tensor([[  7.3257,  37.6733,  80.8359,  93.3355],\n",
            "        [  7.0483,  41.5070,  20.6899,  93.2482],\n",
            "        [139.9971,   1.5839, 215.3901,  11.1809]]), tensor([[358.2668,  96.9566, 411.4589, 161.2089],\n",
            "        [124.4185, 233.2108, 153.4178, 247.4802],\n",
            "        [354.5379,  94.4505, 413.0219, 171.0267]]), tensor([[326.5972,  82.9364, 389.9952, 113.6134],\n",
            "        [ 55.6253,  37.4650,  76.6517, 170.4003],\n",
            "        [151.7255,   4.0363, 239.7676,  23.2438]]), tensor([[310.5398, 336.5266, 364.7030, 355.5145],\n",
            "        [442.9763,  54.9521, 601.1959,  78.1214],\n",
            "        [163.8635,   5.3987, 503.1970,  39.3345]]), tensor([[325.6710, 367.3455, 375.5616, 385.8174]]), tensor([[626.2522, 385.1412, 784.6863, 429.4193],\n",
            "        [ 48.6432, 384.6811, 133.1221, 408.1887],\n",
            "        [238.1667,  21.1048, 572.0667,  50.9680]]), tensor([[347.1657,  15.6294, 432.5147,  95.3789],\n",
            "        [ 10.4866,  60.3409,  29.2138, 125.6768],\n",
            "        [343.7418,   2.9986, 407.0444,  45.0194]]), tensor([[  3.9958, 166.7439,  21.3371, 304.1430],\n",
            "        [444.0316,   2.0712, 542.6863,  28.4319]]), tensor([[581.3254,  59.2102, 681.5939, 115.7172],\n",
            "        [286.4024, 384.8134, 332.8199, 410.9078],\n",
            "        [ 20.3320,  21.0379, 266.1024,  51.6725]]), tensor([[729.1975, 193.8144, 892.0046, 321.9490],\n",
            "        [  5.3241, 192.6095,  85.2796, 217.9347],\n",
            "        [175.0987,   9.7018, 763.3329,  37.3951]]), tensor([[ 32.5261, 140.5154, 222.8650, 151.8266],\n",
            "        [  3.8387,  53.4419,  12.7520,  91.4401],\n",
            "        [ 58.4435,   2.2282, 176.0792,  11.8129]]), tensor([[  0.6348, 102.3714,  14.0323, 191.6997],\n",
            "        [ 51.9876, 326.7534, 500.0000, 342.4624]]), tensor([], size=(0, 4)), tensor([[ 30.0128, 363.0375, 442.1093, 388.1377],\n",
            "        [320.2868, 368.6986, 451.5962, 385.6277],\n",
            "        [ 57.0950,   5.7162, 428.1685,  29.3009]]), tensor([[ 807.3710, 1175.4346,  918.5724, 1235.7408],\n",
            "        [  86.6939,   39.2071,  981.4985,  110.5090]]), tensor([[  3.6100, 575.6146, 127.9313, 604.3931],\n",
            "        [ 15.2872,   8.3233,  95.8784, 493.1310],\n",
            "        [259.8880,  13.4905, 689.5836,  56.8387]]), tensor([[ 11.1806, 329.4219,  43.4050, 495.8093],\n",
            "        [462.7691, 132.8546, 738.4413, 176.6702]]), tensor([[  5.4799, 255.0692,  27.0591, 329.3020],\n",
            "        [106.9742, 467.0360, 563.4894, 499.2167],\n",
            "        [257.9488,  84.8215, 348.0016, 107.9511]]), tensor([[217.9420,  85.8260, 284.6482, 112.8916],\n",
            "        [ 36.7409,   7.4300, 255.9462,  24.9244]]), tensor([[187.3494, 126.4507, 213.4755, 144.7841]]), tensor([[ 16.8130,  19.5987, 305.2318,  48.3901]]), tensor([[150.9972, 136.9839, 181.5259, 147.9479],\n",
            "        [201.8897,   6.3546, 310.7439,  14.6062]]), tensor([[ 48.9200,   2.1078, 185.2771,  16.6376]]), tensor([[  2.2393,  61.9242,  10.5441, 122.0984],\n",
            "        [ 66.8994,   2.5117, 208.7531,  12.8500]]), tensor([[ 27.0752,  27.4688,  40.1900, 145.1610],\n",
            "        [107.0325,   1.8938, 168.0462,  13.8173]]), tensor([[ 71.9795,  53.7740, 178.9110,  60.9097],\n",
            "        [ 82.6720,  53.5311, 180.6173,  63.1390],\n",
            "        [ 66.8244,  28.8286, 182.7983,  45.8343]]), tensor([[2.2719e+02, 4.9105e+02, 4.3536e+02, 5.1221e+02],\n",
            "        [2.1725e+02, 4.9017e+02, 4.5620e+02, 5.1232e+02],\n",
            "        [2.6560e+02, 5.0479e-01, 4.0226e+02, 1.9745e+01]]), tensor([[578.7070, 405.8654, 701.0605, 426.1805],\n",
            "        [ 22.5754, 379.4676, 730.8464, 423.8755],\n",
            "        [289.6147,   4.1956, 462.6957,  27.9132]]), tensor([[ 68.7423, 220.5942, 468.8499, 243.5117],\n",
            "        [146.3391, 190.1916, 198.7187, 207.3748],\n",
            "        [ 82.5005,  13.5763, 403.8700,  38.6113]]), tensor([[ 81.2608,  21.1817, 214.0482,  29.9638],\n",
            "        [  5.0441,  42.4944,  14.7830, 139.3753],\n",
            "        [ 61.2774,   3.0611, 230.5943,  17.5068]]), tensor([[190.0831, 152.6211, 216.2948, 161.3503],\n",
            "        [ 99.9743,   9.4186, 203.3414,  19.5264]]), tensor([[  4.7277,  66.0251,  13.2689, 122.2435],\n",
            "        [ 92.8966,   1.8715, 184.0548,  12.8881]]), tensor([[  5.4714,  49.4038,  15.1640,  71.2059],\n",
            "        [ 63.0347,   6.5366, 203.6284,  19.7074]]), tensor([[46.1097, 28.2184, 82.3353, 37.6343]]), tensor([[130.9864, 370.6966, 575.5576, 399.3503],\n",
            "        [148.6773, 371.6794, 410.2227, 399.2889],\n",
            "        [166.0710,  20.0430, 561.2202,  61.5579]]), tensor([[  2.7723,  74.8417,  11.2883, 109.3870],\n",
            "        [255.6473,  67.3127, 280.6331, 108.1916],\n",
            "        [105.7950,   0.7708, 183.0082,  10.1027]]), tensor([[  9.5602, 415.2745,  52.7076, 535.3168]]), tensor([[353.5565,  46.0823, 473.2623, 253.1309]]), tensor([[ 865.9927,  792.2454, 1321.6707,  888.4048],\n",
            "        [ 415.1467,   59.1744, 1016.2659,  116.5380]]), tensor([[230.4576, 269.8519, 386.6498, 297.8292],\n",
            "        [235.2667,   3.8022, 382.5826,  21.5530]]), tensor([[309.1510, 115.7392, 389.9588, 262.0851],\n",
            "        [ 17.2738,   0.6148, 332.9679,  20.8939]]), tensor([[ 60.8323, 471.9879, 509.5193, 488.3798],\n",
            "        [408.8664, 328.6903, 577.6420, 453.6803],\n",
            "        [  7.2822,   7.1121, 483.7387,  36.7052]]), tensor([[360.9775,  82.3829, 544.3976, 193.2187],\n",
            "        [372.9056, 155.4859, 546.9548, 176.8706],\n",
            "        [189.4167,   5.8477, 419.8403,  32.4193]]), tensor([[479.5753, 180.3324, 570.6905, 285.3465],\n",
            "        [467.7674, 421.2620, 562.7136, 461.7202],\n",
            "        [219.2554,   7.6745, 398.3133,  27.3272]]), tensor([[148.4724,  97.7669, 188.9677, 116.0946],\n",
            "        [ 92.7647,   1.1944, 171.6797,  11.1106]]), tensor([[ 775.6298,  260.0777, 1237.9381,  673.6019],\n",
            "        [  79.8775,   31.7567, 1153.1169,  146.5799]]), tensor([[148.1772, 265.9810, 192.8423, 283.7670],\n",
            "        [171.0109,   3.2999, 282.2081,  19.6453]]), tensor([[254.1684,  66.3802, 316.4494, 176.1146],\n",
            "        [ 82.8179, 185.1612, 133.9403, 217.3589],\n",
            "        [ 81.9348, 182.4535, 134.4035, 220.7289]]), tensor([[108.9185, 295.4539, 446.2885, 315.7945],\n",
            "        [118.2038, 294.4455, 309.0380, 316.2418],\n",
            "        [181.3486,   6.4700, 340.7542,  30.1566]]), tensor([[407.2945, 274.0688, 558.6641, 415.9726],\n",
            "        [413.4940, 393.4704, 526.3774, 419.8438],\n",
            "        [ 31.9677,   4.6708, 567.4048,  72.6624]]), tensor([[350.6171, 126.0230, 417.4236, 159.0692],\n",
            "        [297.6956, 260.8680, 348.8932, 293.9784],\n",
            "        [ 16.7351,  12.2703, 214.2457,  39.3048]]), tensor([[125.4437, 317.5968, 216.1096, 379.2639],\n",
            "        [139.3631, 358.2880, 206.2651, 378.6725]]), tensor([[611.7329, 183.3179, 793.0194, 247.0954],\n",
            "        [612.1183, 177.6729, 793.1698, 249.1244]]), tensor([[ 59.2077, 658.4021, 894.8890, 706.1898],\n",
            "        [ 30.8774, 663.9064, 646.6147, 704.1842],\n",
            "        [163.4302,  17.2951, 825.1411,  66.6444]]), tensor([[266.4089, 366.9647, 434.2172, 387.7754],\n",
            "        [111.5922,  63.3117, 238.3895, 117.6063],\n",
            "        [ 10.0923,   2.4583, 240.0896,  24.6476]]), tensor([[ 21.9274, 466.6662, 379.0152, 516.9849],\n",
            "        [ 96.1681,   7.3062, 529.5881,  38.4535]]), tensor([[ 879.1078,  696.7762, 1275.3722,  872.1938],\n",
            "        [ 787.7059, 1022.1747,  836.9252, 1068.5900],\n",
            "        [  29.6083,   25.7248,  742.5881,   90.4463]]), tensor([[291.7551,  28.1992, 486.9020,  59.6356],\n",
            "        [725.6886, 572.2032, 796.9174, 598.5468],\n",
            "        [325.9010,   4.8694, 469.9861,  28.3103]]), tensor([[  0.0000, 240.4368,  14.8831, 265.8881],\n",
            "        [334.3120, 303.3919, 391.6468, 386.6779],\n",
            "        [ 72.2648,   0.0000, 241.5212,  23.0757]]), tensor([[312.2426, 308.8540, 369.5117, 331.6346],\n",
            "        [158.2064,  17.0597, 341.4281,  72.5131],\n",
            "        [137.8714,  16.3733, 337.5284,  40.7906]]), tensor([[105.9989, 231.0350, 196.0642, 246.6365],\n",
            "        [176.2898,  12.5508, 292.2568,  39.6042],\n",
            "        [172.8129,  10.3510, 290.6731,  39.1299]]), tensor([[128.5692,  37.9496, 385.8001,  61.1226],\n",
            "        [211.6573, 417.6201, 324.9511, 438.9785],\n",
            "        [207.3496,   7.4921, 330.7296,  25.0815]]), tensor([[225.5029,  76.6750, 254.3403, 115.8363],\n",
            "        [ 99.0221, 182.2211, 128.6605, 191.5744],\n",
            "        [100.9750,   1.6168, 127.6338,  10.9626]]), tensor([[338.3625, 106.4197, 805.0872, 147.4143],\n",
            "        [685.8625, 677.5911, 773.1380, 709.0691],\n",
            "        [417.9860,   3.7533, 731.4086,  53.0217]]), tensor([[ 91.7843,   2.9475, 155.7042,  24.2731],\n",
            "        [ 87.9802,   1.9058, 155.7946,  25.2973]]), tensor([[ 655.2812,   14.4992, 1023.8174,   74.5923],\n",
            "        [ 665.8003,   14.3085, 1060.1959,   78.6993]]), tensor([[ 73.5378,  74.2299, 386.4306, 127.0749],\n",
            "        [ 72.2799,  73.2619, 388.6136, 134.3303]]), tensor([[360.6951, 122.7520, 423.0956, 164.0201],\n",
            "        [121.1786, 257.2640, 192.9661, 277.6041],\n",
            "        [132.5582,  12.7612, 180.6000,  29.7822]]), tensor([[268.3179,  32.1306, 507.0526,  58.7860],\n",
            "        [725.7051, 572.2062, 796.8452, 598.5914],\n",
            "        [134.6162,   4.3260, 684.1008,  30.9240]]), tensor([[9.9555e+01, 3.9454e+02, 3.3097e+02, 4.1094e+02],\n",
            "        [9.8783e+01, 3.9520e+02, 4.2346e+02, 4.1006e+02],\n",
            "        [1.9648e+02, 2.0823e-01, 3.1503e+02, 2.9480e+01]]), tensor([[532.5486, 625.3432, 749.3959, 669.4548],\n",
            "        [558.4877,  97.2888, 736.9738, 159.7588],\n",
            "        [ 60.4050,  40.8435, 532.3370,  91.9034]]), tensor([[1.5530e-02, 1.7147e+02, 5.9389e+00, 1.7900e+02],\n",
            "        [7.7874e+01, 5.9435e+00, 2.0251e+02, 1.5446e+01]]), tensor([[173.4513, 265.9012, 261.8691, 281.3800],\n",
            "        [162.1145,   4.2381, 283.8234,  63.7276],\n",
            "        [153.3541,   5.2184, 277.9192,  22.6360]]), tensor([[ 73.0301, 182.0318, 176.1030, 193.3436],\n",
            "        [ 73.8548, 181.7837, 173.9643, 193.4338],\n",
            "        [ 72.0973,   3.4878, 177.8599,  17.1127]]), tensor([[392.4624,  98.3199, 469.6039, 190.1618],\n",
            "        [408.6356, 172.1165, 470.7433, 188.0479],\n",
            "        [170.6145,   7.3690, 224.2280,  23.1473]]), tensor([[  4.6340, 165.5373,  26.5737, 267.6323],\n",
            "        [ 50.2356,  40.3817, 339.4331,  63.0692],\n",
            "        [ 71.5607,   3.2268, 378.2867,  29.9586]]), tensor([[ 15.4629, 126.6708,  39.4091, 226.5668]]), tensor([[  1.8793,  84.8069,  13.1345, 130.9521],\n",
            "        [134.1168,  44.8442, 199.9149, 108.4313]]), tensor([[  4.1857,   5.1282,  13.6632,  74.5048],\n",
            "        [ 78.9176,  91.1834, 147.2551, 103.4734],\n",
            "        [ 77.2038,  90.3822, 149.1808, 104.0512]]), tensor([[141.6129, 176.4375, 190.8009, 187.2427]]), tensor([[ 33.1093,   4.7266, 190.5136,  23.0725]]), tensor([[  8.0838, 143.4975,  33.0088, 206.5952],\n",
            "        [299.8288, 254.8190, 458.1178, 292.5820]]), tensor([[  3.2008,  63.9314,  14.6162,  92.5826],\n",
            "        [136.1848, 112.8576, 205.5081, 131.5354]]), tensor([[ 28.4342,  57.7611,  52.2723, 124.6516],\n",
            "        [ 59.9274,  32.5429, 439.4497,  53.2317]]), tensor([[  5.9879, 345.3155,  38.9656, 430.9444],\n",
            "        [491.5555,   7.7656, 649.8735,  46.3718]]), tensor([[  8.6515,  56.2512,  24.6946, 161.6105],\n",
            "        [ 86.0051, 141.6488, 132.8508, 165.7888]]), tensor([[  4.0195,  95.3982,  17.2917, 195.2512],\n",
            "        [ 90.8371,   1.4292, 207.4543,  15.0408]]), tensor([[226.7841, 398.2666, 323.4797, 412.8851]]), tensor([[ 12.8426, 116.2235,  29.7007, 131.0883],\n",
            "        [143.8116,   9.0071, 238.6820,  26.4071]]), tensor([[181.4188, 265.4818, 251.3095, 277.8949]]), tensor([[ 68.8162, 236.7484, 205.1234, 245.0000],\n",
            "        [  0.5473,  62.9461,   9.4686,  76.2878],\n",
            "        [ 28.3811,   0.0000, 177.8376,  10.6694]]), tensor([[  0.7919,  76.6699,  11.1028, 132.5970],\n",
            "        [ 66.1658, 235.3051, 139.8831, 248.0000],\n",
            "        [ 16.0255,   0.0000, 171.5226,  11.2981]]), tensor([[   6.8355,  449.0835,   44.2287,  759.6313],\n",
            "        [ 789.2644,  565.3273, 1124.2379, 1043.7332],\n",
            "        [ 277.4439,   48.3729, 1000.2408,  101.0786]]), tensor([[398.2081, 187.7745, 463.7646, 264.1563],\n",
            "        [ 12.1612,  12.6338,  31.7736,  63.2764]]), tensor([[  1.2784, 300.1955,  24.3808, 472.0401],\n",
            "        [300.0462,  90.5151, 428.4402, 128.1048],\n",
            "        [148.7792,  13.4925, 861.5789,  53.1407]]), tensor([[191.2897, 310.5750, 395.5748, 330.0400],\n",
            "        [ 21.8836, 105.5842,  44.1354, 233.1178],\n",
            "        [ 95.0945,  14.7701, 493.9038,  46.5995]]), tensor([[ 993.2524,  232.9440, 1175.3254,  458.2415],\n",
            "        [ 498.0350,  728.3687,  596.3459,  765.9998],\n",
            "        [ 334.9423,   12.7239,  858.4812,   57.5834]]), tensor([[931.3600,   4.8516, 997.2229, 100.3618],\n",
            "        [453.1503, 595.1603, 529.9239, 616.1077]]), tensor([[ 978.3644,   92.5946, 1234.6779,  171.5095],\n",
            "        [  22.6114,  473.5434,  663.3918,  511.6732],\n",
            "        [ 137.5559,   11.1397, 1167.7596,   46.1966]]), tensor([[  20.8848,  442.8895,   68.6888,  678.5121],\n",
            "        [  82.8951, 1097.8280, 1144.2686, 1161.4132],\n",
            "        [ 353.4380,   17.0996,  883.8901,   80.4136]]), tensor([[ 445.1855,  716.1755, 1128.8846,  765.8646],\n",
            "        [  80.9732,  216.6597,  133.3692,  563.0784],\n",
            "        [ 278.8914,   24.3170, 1132.2642,   80.6525]]), tensor([[ 112.1553,  782.5818,  173.3116, 1032.5780],\n",
            "        [ 493.7907,  237.3183, 1597.8444,  304.0670]]), tensor([[  3.9035, 166.8143,  23.0514, 263.4436],\n",
            "        [ 62.1445,  22.6003, 635.8018,  54.8616]]), tensor([[185.8521, 159.7388, 321.4677, 174.0256],\n",
            "        [  1.7040,  43.3583,  10.7389,  88.7072],\n",
            "        [213.9215,   0.8123, 276.3553,  12.6278]]), tensor([[196.0726, 447.9237, 391.1740, 574.6108],\n",
            "        [462.1863, 345.1452, 524.2490, 375.1970],\n",
            "        [227.8428,  26.9322, 352.4328,  54.6646]]), tensor([[ 25.9677,  41.8642, 163.9853, 129.2905],\n",
            "        [173.2660, 354.4800, 222.6065, 377.8941],\n",
            "        [ 42.9289,  11.8118, 598.3184,  38.6968]]), tensor([[234.4878, 284.2351, 262.7664, 409.0780],\n",
            "        [494.8770,  56.6445, 804.4938,  92.2664]])]\n"
          ],
          "name": "stdout"
        }
      ]
    },
    {
      "cell_type": "code",
      "metadata": {
        "id": "k8uzOk0PVp0P",
        "colab_type": "code",
        "colab": {
          "base_uri": "https://localhost:8080/",
          "height": 55
        },
        "outputId": "917f3273-68a6-4ee4-aeb6-f19e353ba490"
      },
      "source": [
        "print(s)"
      ],
      "execution_count": 17,
      "outputs": [
        {
          "output_type": "stream",
          "text": [
            "[tensor([0.9454, 0.7044, 0.9489]), tensor([0.7051, 0.3194, 0.8601]), tensor([0.8204, 0.5197, 0.7502]), tensor([0.2103, 0.1731, 0.6902]), tensor([0.7061, 0.0974, 0.7974]), tensor([0.7278, 0.4706, 0.3340]), tensor([0.6244, 0.1701, 0.8794]), tensor([0.8278, 0.3475, 0.8767]), tensor([0.7329, 0.7265, 0.4981]), tensor([0.8094, 0.4466, 0.8049]), tensor([0.7619, 0.6262]), tensor([0.8240, 0.6609, 0.0855]), tensor([0.7870, 0.7848]), tensor([0.3746, 0.0553, 0.2262]), tensor([0.8691, 0.8615, 0.0523]), tensor([0.4699, 0.3848, 0.9663]), tensor([0.8816, 0.9013]), tensor([0.3234, 0.1917, 0.6914]), tensor([0.9269]), tensor([0.8459, 0.6129, 0.9282]), tensor([0.7214, 0.5987]), tensor([0.3663, 0.1965, 0.4608]), tensor([0.1831, 0.1701]), tensor([0.5818, 0.1216, 0.7876]), tensor([0.1903, 0.8871]), tensor([0.9636, 0.6019, 0.9515]), tensor([0.8354, 0.8182, 0.6053]), tensor([0.7465, 0.1178, 0.9176]), tensor([0.8467]), tensor([0.9013, 0.5223, 0.5599]), tensor([0.7873, 0.0557]), tensor([0.8023, 0.2680, 0.9354]), tensor([0.7963, 0.6991, 0.8385]), tensor([0.7998, 0.0664, 0.8824]), tensor([0.8974, 0.2923, 0.0558]), tensor([0.7848, 0.1452, 0.8930]), tensor([0.7579, 0.4290, 0.8600]), tensor([0.8361]), tensor([0.6057, 0.1592, 0.8927]), tensor([0.9034, 0.7040, 0.1424]), tensor([0.8514, 0.4926]), tensor([0.9649, 0.4904, 0.8793]), tensor([0.8626, 0.3562, 0.8701]), tensor([0.6751, 0.6176, 0.7885]), tensor([0.8942, 0.0898]), tensor([]), tensor([0.7375, 0.1498, 0.8945]), tensor([0.5746, 0.6409]), tensor([0.8946, 0.1704, 0.8863]), tensor([0.7642, 0.3776]), tensor([0.8443, 0.0662, 0.1449]), tensor([0.9181, 0.8544]), tensor([0.5502]), tensor([0.7149]), tensor([0.7889, 0.0586]), tensor([0.4390]), tensor([0.8641, 0.9373]), tensor([0.6379, 0.8899]), tensor([0.1469, 0.1309, 0.5364]), tensor([0.5555, 0.1951, 0.4929]), tensor([0.6293, 0.0850, 0.8919]), tensor([0.5304, 0.2166, 0.9230]), tensor([0.7966, 0.7816, 0.7332]), tensor([0.2535, 0.8958]), tensor([0.7315, 0.8735]), tensor([0.7527, 0.8885]), tensor([0.0942]), tensor([0.7887, 0.1116, 0.6880]), tensor([0.8194, 0.0994, 0.8683]), tensor([0.8057]), tensor([0.8911]), tensor([0.5717, 0.5703]), tensor([0.8807, 0.8131]), tensor([0.6710, 0.8780]), tensor([0.6210, 0.1236, 0.9134]), tensor([0.8500, 0.0564, 0.9203]), tensor([0.9449, 0.2225, 0.8875]), tensor([0.0746, 0.7904]), tensor([0.8952, 0.8129]), tensor([0.2204, 0.8663]), tensor([0.9046, 0.2414, 0.0529]), tensor([0.7580, 0.0682, 0.9379]), tensor([0.9260, 0.4912, 0.4632]), tensor([0.2659, 0.1387, 0.9036]), tensor([0.7878, 0.2266]), tensor([0.7112, 0.0805]), tensor([0.5067, 0.1302, 0.8572]), tensor([0.5419, 0.1587, 0.9290]), tensor([0.1606, 0.9057]), tensor([0.0678, 0.0633, 0.8345]), tensor([0.8428, 0.4702, 0.7383]), tensor([0.8284, 0.5578, 0.7529]), tensor([0.5481, 0.1937, 0.8241]), tensor([0.8281, 0.1148, 0.6022]), tensor([0.9579, 0.6802, 0.8936]), tensor([0.9091, 0.7870, 0.5463]), tensor([0.8128, 0.6079, 0.9267]), tensor([0.0743, 0.7586]), tensor([0.1132, 0.7048]), tensor([0.2329, 0.7519]), tensor([0.9379, 0.6759, 0.7038]), tensor([0.5921, 0.4912, 0.6673]), tensor([0.6082, 0.4381, 0.7863]), tensor([0.3576, 0.1138, 0.8774]), tensor([0.0744, 0.8946]), tensor([0.7864, 0.2930, 0.8116]), tensor([0.8761, 0.0823, 0.9228]), tensor([0.9212, 0.3125, 0.3067]), tensor([0.7799, 0.1336, 0.8924]), tensor([0.8008]), tensor([0.8476, 0.1354]), tensor([0.7645, 0.1167, 0.0553]), tensor([0.8574]), tensor([0.9321]), tensor([0.8286, 0.1704]), tensor([0.8016, 0.1517]), tensor([0.7815, 0.8701]), tensor([0.7749, 0.6737]), tensor([0.6666, 0.4333]), tensor([0.8092, 0.9074]), tensor([0.8939]), tensor([0.1460, 0.8893]), tensor([0.9096]), tensor([0.3623, 0.3179, 0.9084]), tensor([0.8147, 0.0871, 0.9118]), tensor([0.8190, 0.3940, 0.8709]), tensor([0.8784, 0.7532]), tensor([0.8961, 0.0975, 0.8634]), tensor([0.8962, 0.7445, 0.9276]), tensor([0.8632, 0.6438, 0.9034]), tensor([0.8693, 0.7814]), tensor([0.6854, 0.1688, 0.6822]), tensor([0.7814, 0.5329, 0.7546]), tensor([0.5454, 0.3855, 0.8785]), tensor([0.5335, 0.6442]), tensor([0.8727, 0.9067]), tensor([0.7736, 0.5934, 0.6315]), tensor([0.8441, 0.0637, 0.7240]), tensor([0.9222, 0.1324, 0.7846]), tensor([0.5495, 0.8881])]\n"
          ],
          "name": "stdout"
        }
      ]
    },
    {
      "cell_type": "code",
      "metadata": {
        "id": "LiMZ6vrqtp8G",
        "colab_type": "code",
        "colab": {}
      },
      "source": [
        "for x in l:\n",
        "  for y in range(len(x)):\n",
        "    x[y] = int(label_map[x[y]])"
      ],
      "execution_count": 18,
      "outputs": []
    },
    {
      "cell_type": "code",
      "metadata": {
        "id": "ZXXBucbNRrIU",
        "colab_type": "code",
        "colab": {}
      },
      "source": [
        "for x in l3:\n",
        "  for y in range(len(x)):\n",
        "    x[y] = int(label_map[x[y]])"
      ],
      "execution_count": null,
      "outputs": []
    },
    {
      "cell_type": "code",
      "metadata": {
        "id": "HcWGIN9ovE22",
        "colab_type": "code",
        "colab": {
          "base_uri": "https://localhost:8080/",
          "height": 55
        },
        "outputId": "85412490-99b8-4d84-b5fb-b125ebd7ec42"
      },
      "source": [
        "print(l3)"
      ],
      "execution_count": null,
      "outputs": [
        {
          "output_type": "stream",
          "text": [
            "[[1, 2, 3, 2], [1, 2], [3, 3, 1, 2], [1], [1, 2], [3, 3], [1, 3], [1, 3], [3, 2, 3], [3, 1, 1], [2, 3, 3], [3, 2], [3, 2, 3], [], [3, 2, 3], [1], [1, 3], [1], [1], [1, 2, 3], [3, 1, 1], [], [], [1, 3, 3], [1], [2, 1, 3, 3, 3], [2, 3, 1, 3], [1, 2], [3, 3], [2, 1, 3], [3, 3], [1, 2], [1, 3, 2], [1, 2], [2], [1, 2], [1, 3, 3, 3, 3, 3], [3, 3], [1, 2], [2, 3], [3], [2, 1], [1, 2], [1, 2, 3], [3, 3, 3, 3, 3], [], [1, 2], [1, 3], [3, 1, 3], [3], [3, 3], [2, 1, 2], [2], [1], [3, 3, 3], [], [1, 3], [1, 3], [1], [3], [1, 3], [1, 2], [2, 3, 1], [1], [1, 3, 3, 3], [1, 3, 3], [], [2, 1], [1, 3], [3, 3], [2], [2, 1], [2, 1], [1, 2], [1, 3], [1, 2], [2, 1, 2], [1, 1], [2, 1], [1], [2], [1, 2], [2], [1], [2, 2, 2], [2], [1, 2], [1, 3], [1], [1], [2, 1, 2], [3, 1, 2], [1, 1, 3], [3, 1], [2, 1, 3], [2, 3, 1], [1, 2, 3], [1], [1], [1], [2, 1, 3], [1, 2], [1, 3], [1], [1], [1, 3], [1, 2], [2], [1, 3, 3], [3, 3], [3, 3], [3, 3], [3, 3], [1], [3, 3], [3, 3], [1, 3], [3, 1, 3], [3, 3], [1, 3, 3], [3, 3], [1], [3, 3], [1], [1, 3, 3], [1, 3, 3], [2, 3, 3], [3, 1], [1, 2, 3, 1], [1, 2, 3, 3], [2, 3], [2, 1], [3, 1, 2], [1, 2], [1, 3], [1, 3], [2, 1, 3], [2, 1], [2, 1, 1], [1, 3]]\n"
          ],
          "name": "stdout"
        }
      ]
    },
    {
      "cell_type": "code",
      "metadata": {
        "id": "5OBXU4B3R5SP",
        "colab_type": "code",
        "colab": {}
      },
      "source": [
        "for x in range(len(l3)):\n",
        "  l3[x] = np.asarray(l3[x])\n",
        "\n",
        "for x in range(len(l3)):\n",
        "  l3[x] = torch.from_numpy(l3[x]).type(torch.LongTensor)"
      ],
      "execution_count": null,
      "outputs": []
    },
    {
      "cell_type": "code",
      "metadata": {
        "id": "YEZ_I5SKvePo",
        "colab_type": "code",
        "colab": {}
      },
      "source": [
        "for x in range(len(l)):\n",
        "  l[x] = np.asarray(l[x])"
      ],
      "execution_count": 19,
      "outputs": []
    },
    {
      "cell_type": "code",
      "metadata": {
        "id": "QCpjggnRznoz",
        "colab_type": "code",
        "colab": {
          "base_uri": "https://localhost:8080/",
          "height": 55
        },
        "outputId": "dfce1b3f-3ab6-4cda-83cb-db5e07459fab"
      },
      "source": [
        "print(l)"
      ],
      "execution_count": 20,
      "outputs": [
        {
          "output_type": "stream",
          "text": [
            "[array([2, 3, 1]), array([2, 3, 1]), array([3, 2, 1]), array([2, 3, 1]), array([2, 3, 1]), array([3, 2, 1]), array([3, 2, 1]), array([3, 2, 1]), array([3, 2, 1]), array([3, 2, 1]), array([2, 3]), array([3, 2, 1]), array([3, 2]), array([2, 3, 1]), array([3, 2, 1]), array([2, 3, 1]), array([3, 1]), array([2, 3, 1]), array([1]), array([2, 3, 1]), array([3, 1]), array([2, 3, 1]), array([2, 1]), array([3, 2, 1]), array([3, 1]), array([2, 3, 1]), array([2, 3, 1]), array([2, 3, 1]), array([3]), array([2, 3, 1]), array([3, 2]), array([2, 3, 1]), array([3, 2, 1]), array([2, 3, 1]), array([2, 3, 1]), array([2, 3, 1]), array([3, 2, 1]), array([3]), array([2, 3, 1]), array([2, 3, 1]), array([3, 1]), array([2, 3, 1]), array([2, 3, 1]), array([2, 3, 1]), array([3, 2]), array([], dtype=float64), array([2, 3, 1]), array([3, 1]), array([3, 2, 1]), array([3, 1]), array([3, 2, 1]), array([2, 1]), array([2]), array([1]), array([3, 2]), array([1]), array([3, 1]), array([3, 1]), array([3, 2, 1]), array([3, 2, 1]), array([3, 2, 1]), array([2, 3, 1]), array([2, 3, 1]), array([3, 1]), array([3, 1]), array([3, 1]), array([1]), array([2, 3, 1]), array([3, 2, 1]), array([3]), array([2]), array([2, 1]), array([2, 1]), array([2, 1]), array([3, 2, 1]), array([2, 3, 1]), array([2, 3, 1]), array([2, 1]), array([2, 1]), array([3, 1]), array([2, 3, 1]), array([2, 3, 1]), array([2, 3, 1]), array([2, 3, 1]), array([2, 3]), array([2, 1]), array([2, 3, 1]), array([3, 2, 1]), array([2, 1]), array([2, 3, 1]), array([2, 3, 1]), array([3, 2, 1]), array([3, 2, 1]), array([3, 2, 1]), array([2, 3, 1]), array([2, 3, 1]), array([2, 3, 1]), array([2, 1]), array([3, 1]), array([3, 1]), array([2, 3, 1]), array([2, 3, 1]), array([3, 2, 1]), array([3, 2, 1]), array([3, 1]), array([3, 2, 1]), array([2, 3, 1]), array([2, 3, 1]), array([3, 2, 1]), array([3]), array([3, 2]), array([3, 2, 1]), array([3]), array([1]), array([3, 2]), array([3, 2]), array([3, 1]), array([3, 1]), array([3, 2]), array([3, 1]), array([3]), array([3, 1]), array([3]), array([2, 3, 1]), array([3, 2, 1]), array([3, 2, 1]), array([2, 3]), array([3, 2, 1]), array([2, 3, 1]), array([2, 3, 1]), array([2, 3]), array([2, 3, 1]), array([3, 2, 1]), array([2, 3, 1]), array([3, 1]), array([3, 1]), array([2, 3, 1]), array([2, 3, 1]), array([2, 3, 1]), array([3, 1])]\n"
          ],
          "name": "stdout"
        }
      ]
    },
    {
      "cell_type": "code",
      "metadata": {
        "id": "ggHyoxOt2KMf",
        "colab_type": "code",
        "colab": {}
      },
      "source": [
        "for x in range(len(l)):\n",
        "  l[x] = torch.from_numpy(l[x]).type(torch.LongTensor)"
      ],
      "execution_count": 21,
      "outputs": []
    },
    {
      "cell_type": "code",
      "metadata": {
        "id": "HOCSQPFl2tbx",
        "colab_type": "code",
        "colab": {
          "base_uri": "https://localhost:8080/",
          "height": 55
        },
        "outputId": "823d74cd-50e8-45d8-da34-af61a63db1d8"
      },
      "source": [
        "print(l)"
      ],
      "execution_count": 22,
      "outputs": [
        {
          "output_type": "stream",
          "text": [
            "[tensor([2, 3, 1]), tensor([2, 3, 1]), tensor([3, 2, 1]), tensor([2, 3, 1]), tensor([2, 3, 1]), tensor([3, 2, 1]), tensor([3, 2, 1]), tensor([3, 2, 1]), tensor([3, 2, 1]), tensor([3, 2, 1]), tensor([2, 3]), tensor([3, 2, 1]), tensor([3, 2]), tensor([2, 3, 1]), tensor([3, 2, 1]), tensor([2, 3, 1]), tensor([3, 1]), tensor([2, 3, 1]), tensor([1]), tensor([2, 3, 1]), tensor([3, 1]), tensor([2, 3, 1]), tensor([2, 1]), tensor([3, 2, 1]), tensor([3, 1]), tensor([2, 3, 1]), tensor([2, 3, 1]), tensor([2, 3, 1]), tensor([3]), tensor([2, 3, 1]), tensor([3, 2]), tensor([2, 3, 1]), tensor([3, 2, 1]), tensor([2, 3, 1]), tensor([2, 3, 1]), tensor([2, 3, 1]), tensor([3, 2, 1]), tensor([3]), tensor([2, 3, 1]), tensor([2, 3, 1]), tensor([3, 1]), tensor([2, 3, 1]), tensor([2, 3, 1]), tensor([2, 3, 1]), tensor([3, 2]), tensor([], dtype=torch.int64), tensor([2, 3, 1]), tensor([3, 1]), tensor([3, 2, 1]), tensor([3, 1]), tensor([3, 2, 1]), tensor([2, 1]), tensor([2]), tensor([1]), tensor([3, 2]), tensor([1]), tensor([3, 1]), tensor([3, 1]), tensor([3, 2, 1]), tensor([3, 2, 1]), tensor([3, 2, 1]), tensor([2, 3, 1]), tensor([2, 3, 1]), tensor([3, 1]), tensor([3, 1]), tensor([3, 1]), tensor([1]), tensor([2, 3, 1]), tensor([3, 2, 1]), tensor([3]), tensor([2]), tensor([2, 1]), tensor([2, 1]), tensor([2, 1]), tensor([3, 2, 1]), tensor([2, 3, 1]), tensor([2, 3, 1]), tensor([2, 1]), tensor([2, 1]), tensor([3, 1]), tensor([2, 3, 1]), tensor([2, 3, 1]), tensor([2, 3, 1]), tensor([2, 3, 1]), tensor([2, 3]), tensor([2, 1]), tensor([2, 3, 1]), tensor([3, 2, 1]), tensor([2, 1]), tensor([2, 3, 1]), tensor([2, 3, 1]), tensor([3, 2, 1]), tensor([3, 2, 1]), tensor([3, 2, 1]), tensor([2, 3, 1]), tensor([2, 3, 1]), tensor([2, 3, 1]), tensor([2, 1]), tensor([3, 1]), tensor([3, 1]), tensor([2, 3, 1]), tensor([2, 3, 1]), tensor([3, 2, 1]), tensor([3, 2, 1]), tensor([3, 1]), tensor([3, 2, 1]), tensor([2, 3, 1]), tensor([2, 3, 1]), tensor([3, 2, 1]), tensor([3]), tensor([3, 2]), tensor([3, 2, 1]), tensor([3]), tensor([1]), tensor([3, 2]), tensor([3, 2]), tensor([3, 1]), tensor([3, 1]), tensor([3, 2]), tensor([3, 1]), tensor([3]), tensor([3, 1]), tensor([3]), tensor([2, 3, 1]), tensor([3, 2, 1]), tensor([3, 2, 1]), tensor([2, 3]), tensor([3, 2, 1]), tensor([2, 3, 1]), tensor([2, 3, 1]), tensor([2, 3]), tensor([2, 3, 1]), tensor([3, 2, 1]), tensor([2, 3, 1]), tensor([3, 1]), tensor([3, 1]), tensor([2, 3, 1]), tensor([2, 3, 1]), tensor([2, 3, 1]), tensor([3, 1])]\n"
          ],
          "name": "stdout"
        }
      ]
    },
    {
      "cell_type": "code",
      "metadata": {
        "id": "mqsiZ-xaGXsX",
        "colab_type": "code",
        "colab": {
          "base_uri": "https://localhost:8080/",
          "height": 55
        },
        "outputId": "c94750b8-d025-477f-ddbc-e49c67df31f4"
      },
      "source": [
        "#def xml_to_list(xml_folder, output_file=None):\n",
        "xml_list = []\n",
        "box_gt2 = []\n",
        "label_gt =[]\n",
        "difficult_gt =[]\n",
        "      # Loop through every XML file\n",
        "for xml_file in glob.glob('/content/drive/My Drive/Colab Notebooks/object detection/Validation' + '/*.xml'):\n",
        "          tree = ET.parse(xml_file)\n",
        "          root = tree.getroot()\n",
        "\n",
        "          filename = root.find('filename').text\n",
        "          objects = root.findall('object')\n",
        "          # Each object represents each actual image label\n",
        "          box_gt =[]\n",
        "          label_tmp =[]\n",
        "          difficult_tmp=[]\n",
        "          for member in objects:\n",
        "              box = member.find('bndbox')\n",
        "              row_1 = int(float(box[0].text)), int(float(box[1].text)), int(float(box[2].text)), int(float(box[3].text))\n",
        "              \n",
        "              #print(type(row_1))\n",
        "              box_gt.append(list(row_1))\n",
        "              #print(type(box_gt))\n",
        "              \n",
        "              label = member.find('name').text\n",
        "              label_tmp.append(label)\n",
        "              difficult = int(member.find('difficult').text)\n",
        "              difficult_tmp.append(difficult)\n",
        "              row = (filename, label, int(float(box[0].text)),\n",
        "                    int(float(box[1].text)), int(float(box[2].text)), int(float(box[3].text)))\n",
        "              xml_list.append(row)\n",
        "          difficult_gt.append(difficult_tmp)\n",
        "          label_gt.append(label_tmp)\n",
        "          box_gt2.append(np.asarray(box_gt))\n",
        "print(difficult_gt)\n",
        "#print(box_gt2)\n",
        "     # return xml_list"
      ],
      "execution_count": 23,
      "outputs": [
        {
          "output_type": "stream",
          "text": [
            "[[0, 0], [0, 0], [0, 0], [0, 0], [0, 0, 0], [0, 0, 0], [0, 0, 0], [0], [0], [0, 0, 0, 0], [0, 0], [0, 0, 0, 0], [0, 0], [0, 0, 0], [0, 0, 0], [0], [0, 0, 0], [0, 0], [0, 0], [0, 0], [0, 0], [0, 0, 0], [0, 0], [0, 0], [0, 0], [0, 0], [0, 0], [0], [0], [0, 0], [0, 0, 0], [0, 0], [0, 0], [0, 0], [0, 0], [0, 0], [0, 0, 0], [0], [0], [0, 0, 0], [0, 0, 0], [0, 0], [0, 0, 0, 0], [0, 0, 0], [0, 0], [0, 0, 0, 0], [0], [0, 0], [0, 0, 0], [0, 0, 0], [0, 0, 0], [0, 0], [0, 0, 0, 0], [0, 0], [0, 0], [0, 0], [0, 0], [0, 0, 0, 0], [0, 0, 0, 0], [0, 0], [0, 0], [0], [0, 0, 0, 0], [0], [0, 0, 0], [0, 0, 0], [0, 0, 0], [0], [0], [0, 0, 0], [0], [0], [0, 0, 0], [0, 0, 0], [0, 0], [0, 0], [0, 0], [0], [0, 0], [0, 0], [0, 0], [0, 0], [0], [0, 0], [0], [0], [0], [0], [0], [0], [0, 0], [0, 0], [0], [0], [0, 0], [0], [0, 0], [0, 0], [0, 0], [0], [0], [0, 0], [0], [0], [0, 0], [0], [0], [0, 0], [0, 0], [0], [0, 0], [0], [0, 0], [0], [0], [0], [0, 0], [0, 0], [0], [0], [0, 0, 0], [0, 0], [0, 0], [0, 0], [0, 0], [0, 0, 0, 0], [0], [0], [0, 0, 0], [0, 0, 0], [0, 0], [0, 0, 0], [0, 0], [0, 0], [0, 0], [0, 0, 0, 0], [0, 0], [0, 0, 0], [0, 0, 0], [0, 0, 0]]\n"
          ],
          "name": "stdout"
        }
      ]
    },
    {
      "cell_type": "code",
      "metadata": {
        "id": "hAHpCg_TKYUI",
        "colab_type": "code",
        "colab": {}
      },
      "source": [
        "for x in range(len(difficult_gt)):\n",
        "  difficult_gt[x] = np.asarray(difficult_gt[x])"
      ],
      "execution_count": 24,
      "outputs": []
    },
    {
      "cell_type": "code",
      "metadata": {
        "id": "3b6kHcCzKMBB",
        "colab_type": "code",
        "colab": {}
      },
      "source": [
        "for x in range(len(difficult_gt)):\n",
        "  difficult_gt[x] = torch.from_numpy(difficult_gt[x])"
      ],
      "execution_count": 25,
      "outputs": []
    },
    {
      "cell_type": "code",
      "metadata": {
        "id": "xF-0ETTjKSv3",
        "colab_type": "code",
        "colab": {
          "base_uri": "https://localhost:8080/",
          "height": 55
        },
        "outputId": "c1b44bea-091f-4537-c2e5-cf13ed6096b7"
      },
      "source": [
        "print(difficult_gt)"
      ],
      "execution_count": 26,
      "outputs": [
        {
          "output_type": "stream",
          "text": [
            "[tensor([0, 0]), tensor([0, 0]), tensor([0, 0]), tensor([0, 0]), tensor([0, 0, 0]), tensor([0, 0, 0]), tensor([0, 0, 0]), tensor([0]), tensor([0]), tensor([0, 0, 0, 0]), tensor([0, 0]), tensor([0, 0, 0, 0]), tensor([0, 0]), tensor([0, 0, 0]), tensor([0, 0, 0]), tensor([0]), tensor([0, 0, 0]), tensor([0, 0]), tensor([0, 0]), tensor([0, 0]), tensor([0, 0]), tensor([0, 0, 0]), tensor([0, 0]), tensor([0, 0]), tensor([0, 0]), tensor([0, 0]), tensor([0, 0]), tensor([0]), tensor([0]), tensor([0, 0]), tensor([0, 0, 0]), tensor([0, 0]), tensor([0, 0]), tensor([0, 0]), tensor([0, 0]), tensor([0, 0]), tensor([0, 0, 0]), tensor([0]), tensor([0]), tensor([0, 0, 0]), tensor([0, 0, 0]), tensor([0, 0]), tensor([0, 0, 0, 0]), tensor([0, 0, 0]), tensor([0, 0]), tensor([0, 0, 0, 0]), tensor([0]), tensor([0, 0]), tensor([0, 0, 0]), tensor([0, 0, 0]), tensor([0, 0, 0]), tensor([0, 0]), tensor([0, 0, 0, 0]), tensor([0, 0]), tensor([0, 0]), tensor([0, 0]), tensor([0, 0]), tensor([0, 0, 0, 0]), tensor([0, 0, 0, 0]), tensor([0, 0]), tensor([0, 0]), tensor([0]), tensor([0, 0, 0, 0]), tensor([0]), tensor([0, 0, 0]), tensor([0, 0, 0]), tensor([0, 0, 0]), tensor([0]), tensor([0]), tensor([0, 0, 0]), tensor([0]), tensor([0]), tensor([0, 0, 0]), tensor([0, 0, 0]), tensor([0, 0]), tensor([0, 0]), tensor([0, 0]), tensor([0]), tensor([0, 0]), tensor([0, 0]), tensor([0, 0]), tensor([0, 0]), tensor([0]), tensor([0, 0]), tensor([0]), tensor([0]), tensor([0]), tensor([0]), tensor([0]), tensor([0]), tensor([0, 0]), tensor([0, 0]), tensor([0]), tensor([0]), tensor([0, 0]), tensor([0]), tensor([0, 0]), tensor([0, 0]), tensor([0, 0]), tensor([0]), tensor([0]), tensor([0, 0]), tensor([0]), tensor([0]), tensor([0, 0]), tensor([0]), tensor([0]), tensor([0, 0]), tensor([0, 0]), tensor([0]), tensor([0, 0]), tensor([0]), tensor([0, 0]), tensor([0]), tensor([0]), tensor([0]), tensor([0, 0]), tensor([0, 0]), tensor([0]), tensor([0]), tensor([0, 0, 0]), tensor([0, 0]), tensor([0, 0]), tensor([0, 0]), tensor([0, 0]), tensor([0, 0, 0, 0]), tensor([0]), tensor([0]), tensor([0, 0, 0]), tensor([0, 0, 0]), tensor([0, 0]), tensor([0, 0, 0]), tensor([0, 0]), tensor([0, 0]), tensor([0, 0]), tensor([0, 0, 0, 0]), tensor([0, 0]), tensor([0, 0, 0]), tensor([0, 0, 0]), tensor([0, 0, 0])]\n"
          ],
          "name": "stdout"
        }
      ]
    },
    {
      "cell_type": "code",
      "metadata": {
        "id": "TT3BwbzL850J",
        "colab_type": "code",
        "colab": {}
      },
      "source": [
        "for x in label_gt:\n",
        "  for y in range(len(x)):\n",
        "    x[y] = int(label_map[x[y]])"
      ],
      "execution_count": 27,
      "outputs": []
    },
    {
      "cell_type": "code",
      "metadata": {
        "id": "FJlcL_iP8-R7",
        "colab_type": "code",
        "colab": {
          "base_uri": "https://localhost:8080/",
          "height": 55
        },
        "outputId": "446d3aae-a0a0-4c00-fa37-c72529fc9bfc"
      },
      "source": [
        "print(label_gt)"
      ],
      "execution_count": 28,
      "outputs": [
        {
          "output_type": "stream",
          "text": [
            "[[2, 3], [2, 3], [1, 2], [1, 2], [3, 3, 2], [1, 3, 2], [2, 3, 3], [1], [2], [1, 2, 3, 3], [1, 2], [1, 2, 3, 3], [1, 2], [2, 3, 3], [2, 3, 3], [1], [1, 2, 3], [1, 2], [1, 2], [1, 2], [1, 2], [1, 2, 3], [3, 3], [1, 2], [1, 3], [1, 2], [3, 3], [1], [1], [1, 2], [1, 2, 3], [1, 3], [3, 3], [2, 1], [1, 2], [3, 3], [1, 2, 3], [2], [1], [2, 3, 3], [1, 3, 2], [1, 2], [1, 2, 3, 3], [1, 2, 3], [1, 3], [1, 2, 3, 3], [3], [2, 3], [1, 3, 2], [1, 3, 2], [1, 2, 3], [1, 2], [1, 2, 3, 3], [1, 3], [1, 3], [1, 3], [1, 3], [1, 2, 3, 3], [1, 3, 3, 2], [1, 2], [1, 3], [1], [1, 2, 3, 3], [1], [1, 3, 3], [1, 3, 3], [1, 3, 3], [1], [1], [3, 3, 3], [2], [1], [1, 3, 3], [1, 3, 3], [1, 2], [1, 2], [1, 2], [1], [1, 2], [3, 3], [1, 2], [1, 2], [1], [1, 2], [1], [1], [2], [2], [1], [1], [1, 2], [1, 2], [1], [2], [1, 2], [1], [1, 2], [1, 2], [1, 2], [2], [1], [1, 2], [1], [2], [1, 2], [1], [2], [1, 2], [1, 2], [2], [2, 1], [1], [1, 2], [2], [2], [1], [1, 2], [1, 2], [2], [1], [1, 3, 3], [3, 3], [3, 3], [3, 3], [3, 3], [1, 2, 3, 3], [1], [1], [1, 3, 3], [1, 3, 3], [3, 3], [1, 3, 3], [3, 3], [3, 3], [3, 3], [1, 3, 3, 2], [3, 3], [1, 3, 3], [1, 3, 3], [2, 3, 3]]\n"
          ],
          "name": "stdout"
        }
      ]
    },
    {
      "cell_type": "code",
      "metadata": {
        "id": "1zVcMYrl9JnY",
        "colab_type": "code",
        "colab": {}
      },
      "source": [
        "for x in range(len(label_gt)):\n",
        "  label_gt[x] = np.asarray(label_gt[x])"
      ],
      "execution_count": 29,
      "outputs": []
    },
    {
      "cell_type": "code",
      "metadata": {
        "id": "n8-5s2Oh9qwu",
        "colab_type": "code",
        "colab": {}
      },
      "source": [
        "for x in range(len(label_gt)):\n",
        "  label_gt[x] = torch.from_numpy(label_gt[x])"
      ],
      "execution_count": 30,
      "outputs": []
    },
    {
      "cell_type": "code",
      "metadata": {
        "id": "41-bo89U90aC",
        "colab_type": "code",
        "colab": {
          "base_uri": "https://localhost:8080/",
          "height": 55
        },
        "outputId": "ab527cf3-e784-4afe-ff81-fda913514e65"
      },
      "source": [
        "print(label_gt)"
      ],
      "execution_count": 31,
      "outputs": [
        {
          "output_type": "stream",
          "text": [
            "[tensor([2, 3]), tensor([2, 3]), tensor([1, 2]), tensor([1, 2]), tensor([3, 3, 2]), tensor([1, 3, 2]), tensor([2, 3, 3]), tensor([1]), tensor([2]), tensor([1, 2, 3, 3]), tensor([1, 2]), tensor([1, 2, 3, 3]), tensor([1, 2]), tensor([2, 3, 3]), tensor([2, 3, 3]), tensor([1]), tensor([1, 2, 3]), tensor([1, 2]), tensor([1, 2]), tensor([1, 2]), tensor([1, 2]), tensor([1, 2, 3]), tensor([3, 3]), tensor([1, 2]), tensor([1, 3]), tensor([1, 2]), tensor([3, 3]), tensor([1]), tensor([1]), tensor([1, 2]), tensor([1, 2, 3]), tensor([1, 3]), tensor([3, 3]), tensor([2, 1]), tensor([1, 2]), tensor([3, 3]), tensor([1, 2, 3]), tensor([2]), tensor([1]), tensor([2, 3, 3]), tensor([1, 3, 2]), tensor([1, 2]), tensor([1, 2, 3, 3]), tensor([1, 2, 3]), tensor([1, 3]), tensor([1, 2, 3, 3]), tensor([3]), tensor([2, 3]), tensor([1, 3, 2]), tensor([1, 3, 2]), tensor([1, 2, 3]), tensor([1, 2]), tensor([1, 2, 3, 3]), tensor([1, 3]), tensor([1, 3]), tensor([1, 3]), tensor([1, 3]), tensor([1, 2, 3, 3]), tensor([1, 3, 3, 2]), tensor([1, 2]), tensor([1, 3]), tensor([1]), tensor([1, 2, 3, 3]), tensor([1]), tensor([1, 3, 3]), tensor([1, 3, 3]), tensor([1, 3, 3]), tensor([1]), tensor([1]), tensor([3, 3, 3]), tensor([2]), tensor([1]), tensor([1, 3, 3]), tensor([1, 3, 3]), tensor([1, 2]), tensor([1, 2]), tensor([1, 2]), tensor([1]), tensor([1, 2]), tensor([3, 3]), tensor([1, 2]), tensor([1, 2]), tensor([1]), tensor([1, 2]), tensor([1]), tensor([1]), tensor([2]), tensor([2]), tensor([1]), tensor([1]), tensor([1, 2]), tensor([1, 2]), tensor([1]), tensor([2]), tensor([1, 2]), tensor([1]), tensor([1, 2]), tensor([1, 2]), tensor([1, 2]), tensor([2]), tensor([1]), tensor([1, 2]), tensor([1]), tensor([2]), tensor([1, 2]), tensor([1]), tensor([2]), tensor([1, 2]), tensor([1, 2]), tensor([2]), tensor([2, 1]), tensor([1]), tensor([1, 2]), tensor([2]), tensor([2]), tensor([1]), tensor([1, 2]), tensor([1, 2]), tensor([2]), tensor([1]), tensor([1, 3, 3]), tensor([3, 3]), tensor([3, 3]), tensor([3, 3]), tensor([3, 3]), tensor([1, 2, 3, 3]), tensor([1]), tensor([1]), tensor([1, 3, 3]), tensor([1, 3, 3]), tensor([3, 3]), tensor([1, 3, 3]), tensor([3, 3]), tensor([3, 3]), tensor([3, 3]), tensor([1, 3, 3, 2]), tensor([3, 3]), tensor([1, 3, 3]), tensor([1, 3, 3]), tensor([2, 3, 3])]\n"
          ],
          "name": "stdout"
        }
      ]
    },
    {
      "cell_type": "code",
      "metadata": {
        "id": "cNOm2MiJADuQ",
        "colab_type": "code",
        "colab": {}
      },
      "source": [
        "for x in range(len(box_gt2)):\n",
        "  box_gt2[x] = torch.from_numpy(box_gt2[x])"
      ],
      "execution_count": 32,
      "outputs": []
    },
    {
      "cell_type": "code",
      "metadata": {
        "id": "8gzucBUgAOs0",
        "colab_type": "code",
        "colab": {
          "base_uri": "https://localhost:8080/",
          "height": 1000
        },
        "outputId": "c2a9ff0a-0398-4d2b-85e0-c1cd9ec65df3"
      },
      "source": [
        "print(box_gt2)"
      ],
      "execution_count": 33,
      "outputs": [
        {
          "output_type": "stream",
          "text": [
            "[tensor([[ 52,  32, 221,  46],\n",
            "        [ 11,  96,  30, 148]]), tensor([[ 14, 205, 219, 217],\n",
            "        [  3,  57,  15, 117]]), tensor([[  6,   2, 128,  18],\n",
            "        [200,  72, 235, 103]]), tensor([[107,   6, 161,  20],\n",
            "        [ 98, 171, 172, 185]]), tensor([[  9,  46,  25,  90],\n",
            "        [146, 139, 170, 155],\n",
            "        [284,  51, 308, 115]]), tensor([[ 74,   2, 183,  12],\n",
            "        [  3,  70,  12, 123],\n",
            "        [ 60, 186, 200, 194]]), tensor([[207,   7, 245,  29],\n",
            "        [110, 176, 135, 188],\n",
            "        [  6,  71,  20,  99]]), tensor([[ 11,  16, 147,  32]]), tensor([[ 22, 168, 242, 183]]), tensor([[  4,   6, 102,  18],\n",
            "        [109,  21, 195,  38],\n",
            "        [  2,  79,  13, 111],\n",
            "        [ 98, 158, 132, 165]]), tensor([[ 39,   7, 243,  23],\n",
            "        [106, 166, 171, 179]]), tensor([[   8,   11,  340,   44],\n",
            "        [  25,  100, 1061,  152],\n",
            "        [ 528,  727,  699,  770],\n",
            "        [   2,  375,   41,  497]]), tensor([[ 549,   57, 1058,  190],\n",
            "        [  83,  765, 1549,  904]]), tensor([[ 78,  17, 336,  71],\n",
            "        [  1, 115,  34, 340],\n",
            "        [452, 455, 536, 479]]), tensor([[ 84,   4, 498,  40],\n",
            "        [  6, 219,  30, 292],\n",
            "        [379, 467, 504, 495]]), tensor([[221,  18, 328,  46]]), tensor([[132,   9, 386,  38],\n",
            "        [196, 274, 325, 302],\n",
            "        [ 10,  91,  34, 183]]), tensor([[120,   2, 249,  21],\n",
            "        [344,  86, 398, 153]]), tensor([[  3,   3, 488,  22],\n",
            "        [288,  50, 547,  80]]), tensor([[ 89,   2, 300,  23],\n",
            "        [140, 216, 253, 237]]), tensor([[ 66,  33, 466,  64],\n",
            "        [190, 379, 339, 400]]), tensor([[124,   1, 445,  19],\n",
            "        [406, 241, 487, 290],\n",
            "        [250, 314, 318, 341]]), tensor([[  1, 136,  16, 226],\n",
            "        [170, 313, 265, 330]]), tensor([[182,  21, 397,  61],\n",
            "        [ 32, 389, 572, 419]]), tensor([[164,   2, 364,  25],\n",
            "        [236, 356, 288, 372]]), tensor([[136,  11, 559,  49],\n",
            "        [266, 367, 424, 399]]), tensor([[ 14,   7, 115,  55],\n",
            "        [330, 281, 386, 310]]), tensor([[140,  21, 456,  66]]), tensor([[190,  24, 428,  74]]), tensor([[195,  20, 301,  47],\n",
            "        [424, 162, 480, 189]]), tensor([[533,  14, 935,  93],\n",
            "        [115, 383, 590, 419],\n",
            "        [  8,  24,  29,  99]]), tensor([[221,  10, 364,  29],\n",
            "        [  6, 144,  32, 215]]), tensor([[390, 500, 449, 538],\n",
            "        [  3, 240,  27, 300]]), tensor([[  8,  42,  57, 100],\n",
            "        [139,   2, 216,  14]]), tensor([[152,   4, 238,  26],\n",
            "        [321,  83, 390, 119]]), tensor([[ 12, 158,  36, 215],\n",
            "        [325, 366, 374, 393]]), tensor([[152,   7, 493,  38],\n",
            "        [438,  55, 601,  76],\n",
            "        [  6, 134,  28, 248]]), tensor([[355,  97, 409, 165]]), tensor([[230,  19, 573,  58]]), tensor([[350,  56, 432, 100],\n",
            "        [174, 176, 215, 196],\n",
            "        [ 10,  60,  30, 126]]), tensor([[ 87,  15, 500,  44],\n",
            "        [ 25, 107,  44, 234],\n",
            "        [192, 311, 392, 332]]), tensor([[ 190,   10, 1114,   47],\n",
            "        [ 976,   88, 1221,  160]]), tensor([[ 332,   14,  858,   56],\n",
            "        [ 986,  235, 1172,  444],\n",
            "        [  26,  269,   61,  527],\n",
            "        [ 498,  730,  592,  768]]), tensor([[153,  15, 866,  58],\n",
            "        [291,  86, 739, 130],\n",
            "        [  2, 295,  25, 492]]), tensor([[339,  14, 866,  81],\n",
            "        [ 32, 443,  76, 697]]), tensor([[447,   3, 542,  23],\n",
            "        [ 82,  53, 186,  77],\n",
            "        [  4, 166,  26, 310],\n",
            "        [468, 453, 510, 470]]), tensor([[  1, 105,  18, 192]]), tensor([[938,   8, 996, 104],\n",
            "        [452, 595, 532, 615]]), tensor([[ 312,   27, 1141,   81],\n",
            "        [  83,  214,  136,  566],\n",
            "        [ 358,  713, 1102,  772]]), tensor([[ 58,   3, 179,  12],\n",
            "        [  3,  53,  14,  93],\n",
            "        [ 30, 141, 210, 151]]), tensor([[ 19,  26, 277,  54],\n",
            "        [582,  62, 679, 123],\n",
            "        [284, 384, 341, 417]]), tensor([[197,   6, 718,  40],\n",
            "        [732, 188, 889, 318]]), tensor([[ 487,  223, 1548,  310],\n",
            "        [ 620,  321, 1450,  376],\n",
            "        [ 109,  771,  190, 1036],\n",
            "        [1879,  810, 1933, 1012]]), tensor([[ 42,  22, 654,  57],\n",
            "        [  5, 167,  29, 264]]), tensor([[472, 133, 731, 174],\n",
            "        [ 10, 334,  45, 494]]), tensor([[257,  15, 688,  57],\n",
            "        [437, 562, 510, 596]]), tensor([[  75,   43, 1489,  113],\n",
            "        [ 797, 1184,  918, 1242]]), tensor([[211,   1, 278,   9],\n",
            "        [179, 164, 308, 171],\n",
            "        [237, 155, 270, 162],\n",
            "        [  2,  47,  10,  85]]), tensor([[413,  91, 792, 155],\n",
            "        [174, 351, 210, 441],\n",
            "        [560, 551, 682, 589],\n",
            "        [322, 608, 890, 648]]), tensor([[ 52,   7, 421,  32],\n",
            "        [ 29, 368, 452, 390]]), tensor([[251,  88, 347, 108],\n",
            "        [  8, 256,  25, 327]]), tensor([[ 15,  12, 100,  32]]), tensor([[ 61,   4, 232,  13],\n",
            "        [ 78,  21, 217,  31],\n",
            "        [  4,  42,  16, 141],\n",
            "        [116, 160, 183, 170]]), tensor([[100,  10, 200,  20]]), tensor([[ 89,   2, 183,  12],\n",
            "        [  4,  65,  13, 120],\n",
            "        [117, 180, 148, 186]]), tensor([[ 65,   2, 207,  13],\n",
            "        [  2,  61,  11, 121],\n",
            "        [125, 177, 142, 183]]), tensor([[107,   1, 166,  13],\n",
            "        [ 29,  31,  39, 144],\n",
            "        [220,  70, 229, 106]]), tensor([[ 48,   3, 190,  20]]), tensor([[48, 26, 82, 39]]), tensor([[  4,  53,  12,  77],\n",
            "        [328,  50, 336,  78],\n",
            "        [151, 139, 180, 147]]), tensor([[124, 145, 173, 155]]), tensor([[ 78,  26, 184,  45]]), tensor([[ 71,   6, 206,  21],\n",
            "        [  5,  48,  15,  73],\n",
            "        [258,  48, 266,  74]]), tensor([[107,   1, 183,  12],\n",
            "        [  3,  76,  12, 110],\n",
            "        [271,  76, 279, 110]]), tensor([[270,   1, 398,  22],\n",
            "        [227, 487, 433, 511]]), tensor([[ 40,   9, 249,  24],\n",
            "        [217,  87, 281, 113]]), tensor([[176,  26, 553,  58],\n",
            "        [152, 371, 586, 402]]), tensor([[286,   5, 460,  26]]), tensor([[ 76,  16, 406,  38],\n",
            "        [ 54, 226, 455, 241]]), tensor([[  12,  421,   53,  539],\n",
            "        [1628,  251, 1671,  718]]), tensor([[196,   7, 423,  34],\n",
            "        [364,  81, 535, 194]]), tensor([[224,  10, 377,  33],\n",
            "        [474, 185, 571, 285]]), tensor([[ 92,   3, 171,  21]]), tensor([[234,   7, 381,  25],\n",
            "        [228, 275, 382, 293]]), tensor([[ 14,   7, 476,  39]]), tensor([[111,   7, 551,  33]]), tensor([[351,  54, 475, 246]]), tensor([[129, 321, 371, 377]]), tensor([[ 42,  35, 743,  89]]), tensor([[ 19,  15, 206,  38]]), tensor([[ 17,   7, 574,  92],\n",
            "        [411, 284, 554, 416]]), tensor([[  78,   29, 1157,  111],\n",
            "        [ 780,  239, 1255,  655]]), tensor([[173,   2, 283,  23]]), tensor([[601, 176, 794, 248]]), tensor([[ 188,   66, 1274,  192],\n",
            "        [ 880,  294, 1377,  892]]), tensor([[  9,   3, 237,  28]]), tensor([[ 14,   2, 335,  21],\n",
            "        [311, 103, 391, 267]]), tensor([[163,  12, 798,  74],\n",
            "        [ 58, 663, 910, 710]]), tensor([[182,   6, 344,  29],\n",
            "        [114, 294, 412, 318]]), tensor([[255,  63, 320, 174]]), tensor([[ 90,   6, 154,  23]]), tensor([[ 72,   1, 244,  21],\n",
            "        [334, 301, 396, 387]]), tensor([[ 63,  40, 527,  93]]), tensor([[173,  13, 287,  37]]), tensor([[327,   7, 462,  27],\n",
            "        [296,  33, 491,  53]]), tensor([[150,  17, 333,  42]]), tensor([[364, 124, 421, 162]]), tensor([[ 667,   16, 1023,   70],\n",
            "        [1519,  665, 1679,  741]]), tensor([[ 61,  15, 577,  33],\n",
            "        [ 28,  46, 158, 132]]), tensor([[195, 489, 399, 578]]), tensor([[ 73, 182, 177, 194],\n",
            "        [ 71,   4, 180,  16]]), tensor([[ 82,   6, 201,  16]]), tensor([[145,   8, 646,  29],\n",
            "        [281,  33, 503,  55]]), tensor([[229,  79, 255, 115]]), tensor([[396, 101, 471, 191]]), tensor([[ 82,  78, 382, 131]]), tensor([[421,   8, 728,  51],\n",
            "        [343, 110, 796, 142]]), tensor([[210,   8, 328,  28],\n",
            "        [135,  40, 389,  60]]), tensor([[ 93, 395, 413, 411]]), tensor([[153,   5, 281,  23]]), tensor([[ 17,   1, 170,  15],\n",
            "        [  1,  76,  12, 132],\n",
            "        [ 62, 235, 136, 248]]), tensor([[  4,  64,  14,  92],\n",
            "        [143, 174, 164, 186]]), tensor([[  9,  98,  23, 165],\n",
            "        [145, 206, 203, 225]]), tensor([[  2,  85,  12, 129],\n",
            "        [ 90, 205, 154, 218]]), tensor([[  4,   5,  16,  75],\n",
            "        [ 79,  92, 144, 104]]), tensor([[ 73,   3, 383,  30],\n",
            "        [ 58,  41, 346,  62],\n",
            "        [  8, 167,  26, 265],\n",
            "        [184, 384, 279, 411]]), tensor([[ 28,   1, 179,  12]]), tensor([[ 41,   6, 191,  21]]), tensor([[ 92,   1, 206,  16],\n",
            "        [  5,  97,  17, 196],\n",
            "        [151, 280, 172, 292]]), tensor([[480,   6, 638,  41],\n",
            "        [  6, 349,  37, 421],\n",
            "        [523, 754, 605, 798]]), tensor([[ 10, 146,  31, 205],\n",
            "        [323, 391, 366, 419]]), tensor([[144,   9, 237,  26],\n",
            "        [ 13, 115,  28, 135],\n",
            "        [182, 245, 203, 262]]), tensor([[  1,  66,  11, 101],\n",
            "        [141, 177, 188, 187]]), tensor([[ 18, 123,  37, 225],\n",
            "        [275, 348, 368, 373]]), tensor([[ 20, 107,  35, 176],\n",
            "        [180, 267, 250, 279]]), tensor([[496,  54, 808,  89],\n",
            "        [237, 288, 263, 410],\n",
            "        [631, 608, 708, 629],\n",
            "        [621, 635, 690, 655]]), tensor([[  2, 145,  18, 235],\n",
            "        [226, 398, 318, 415]]), tensor([[ 68,  29, 425,  56],\n",
            "        [ 33,  61,  49, 123],\n",
            "        [589, 388, 668, 408]]), tensor([[ 308,   46,  956,  102],\n",
            "        [   7,  454,   46,  760],\n",
            "        [ 536, 1124,  712, 1169]]), tensor([[402, 188, 463, 265],\n",
            "        [ 15,  16,  29,  61],\n",
            "        [340, 451, 391, 469]])]\n"
          ],
          "name": "stdout"
        }
      ]
    },
    {
      "cell_type": "code",
      "metadata": {
        "id": "pM_UfP57989K",
        "colab_type": "code",
        "colab": {
          "base_uri": "https://localhost:8080/",
          "height": 35
        },
        "outputId": "5c7f8c74-de3e-4801-cd47-a0a4593a0c1d"
      },
      "source": [
        "print(len(box_gt2))"
      ],
      "execution_count": 34,
      "outputs": [
        {
          "output_type": "stream",
          "text": [
            "140\n"
          ],
          "name": "stdout"
        }
      ]
    },
    {
      "cell_type": "code",
      "metadata": {
        "id": "0diiy8hN-Rfc",
        "colab_type": "code",
        "colab": {
          "base_uri": "https://localhost:8080/",
          "height": 35
        },
        "outputId": "b42a0cfd-daa8-4345-9eeb-565e1e49f6eb"
      },
      "source": [
        "print(len(b))"
      ],
      "execution_count": 35,
      "outputs": [
        {
          "output_type": "stream",
          "text": [
            "140\n"
          ],
          "name": "stdout"
        }
      ]
    },
    {
      "cell_type": "code",
      "metadata": {
        "id": "YcfXIiL6NRKz",
        "colab_type": "code",
        "colab": {}
      },
      "source": [
        "device = torch.device(\"cuda\" if torch.cuda.is_available() else \"cpu\")"
      ],
      "execution_count": 36,
      "outputs": []
    },
    {
      "cell_type": "code",
      "metadata": {
        "id": "dJ4WGHY5R2Un",
        "colab_type": "code",
        "colab": {}
      },
      "source": [
        "rev_label_map = {v: k for k, v in label_map.items()}"
      ],
      "execution_count": 37,
      "outputs": []
    },
    {
      "cell_type": "code",
      "metadata": {
        "id": "N_S5lb9uK2hT",
        "colab_type": "code",
        "colab": {}
      },
      "source": [
        "def find_intersection(set_1, set_2):\n",
        "    \"\"\"\n",
        "    Find the intersection of every box combination between two sets of boxes that are in boundary coordinates.\n",
        "    :param set_1: set 1, a tensor of dimensions (n1, 4)\n",
        "    :param set_2: set 2, a tensor of dimensions (n2, 4)\n",
        "    :return: intersection of each of the boxes in set 1 with respect to each of the boxes in set 2, a tensor of dimensions (n1, n2)\n",
        "    \"\"\"\n",
        "\n",
        "    # PyTorch auto-broadcasts singleton dimensions\n",
        "    lower_bounds = torch.max(set_1[:, :2].unsqueeze(1), set_2[:, :2].unsqueeze(0))  # (n1, n2, 2)\n",
        "    upper_bounds = torch.min(set_1[:, 2:].unsqueeze(1), set_2[:, 2:].unsqueeze(0))  # (n1, n2, 2)\n",
        "    intersection_dims = torch.clamp(upper_bounds - lower_bounds, min=0)  # (n1, n2, 2)\n",
        "    return intersection_dims[:, :, 0] * intersection_dims[:, :, 1]  # (n1, n2)\n",
        "\n",
        "\n",
        "def find_jaccard_overlap(set_1, set_2):\n",
        "    \"\"\"\n",
        "    Find the Jaccard Overlap (IoU) of every box combination between two sets of boxes that are in boundary coordinates.\n",
        "    :param set_1: set 1, a tensor of dimensions (n1, 4)\n",
        "    :param set_2: set 2, a tensor of dimensions (n2, 4)\n",
        "    :return: Jaccard Overlap of each of the boxes in set 1 with respect to each of the boxes in set 2, a tensor of dimensions (n1, n2)\n",
        "    \"\"\"\n",
        "\n",
        "    # Find intersections\n",
        "    intersection = find_intersection(set_1, set_2)  # (n1, n2)\n",
        "\n",
        "    # Find areas of each box in both sets\n",
        "    areas_set_1 = (set_1[:, 2] - set_1[:, 0]) * (set_1[:, 3] - set_1[:, 1])  # (n1)\n",
        "    areas_set_2 = (set_2[:, 2] - set_2[:, 0]) * (set_2[:, 3] - set_2[:, 1])  # (n2)\n",
        "\n",
        "    # Find the union\n",
        "    # PyTorch auto-broadcasts singleton dimensions\n",
        "    union = areas_set_1.unsqueeze(1) + areas_set_2.unsqueeze(0) - intersection  # (n1, n2)\n",
        "\n",
        "    return intersection / union"
      ],
      "execution_count": 38,
      "outputs": []
    },
    {
      "cell_type": "code",
      "metadata": {
        "id": "v_HcxbLKAvWI",
        "colab_type": "code",
        "colab": {}
      },
      "source": [
        "def calculate_mAP(det_boxes, det_labels, det_scores, true_boxes, true_labels, true_difficulties):\n",
        "    \n",
        "    assert len(det_boxes) == len(det_labels) == len(det_scores) == len(true_boxes) == len(\n",
        "        true_labels) == len(\n",
        "        true_difficulties)  # these are all lists of tensors of the same length, i.e. number of images\n",
        "    n_classes = len(label_map)\n",
        "\n",
        "    # Store all (true) objects in a single continuous tensor while keeping track of the image it is from\n",
        "    true_images = list()\n",
        "    for i in range(len(true_labels)):\n",
        "        true_images.extend([i] * true_labels[i].size(0))\n",
        "    true_images = torch.LongTensor(true_images).to(device)  # (n_objects), n_objects is the total no. of objects across all images\n",
        "    true_boxes = torch.cat(true_boxes, dim=0)  # (n_objects, 4)\n",
        "    true_labels = torch.cat(true_labels, dim=0)  # (n_objects)\n",
        "    true_difficulties = torch.cat(true_difficulties, dim=0)  # (n_objects)\n",
        "\n",
        "    assert true_images.size(0) == true_boxes.size(0) == true_labels.size(0)\n",
        "\n",
        "    # Store all detections in a single continuous tensor while keeping track of the image it is from\n",
        "    det_images = list()\n",
        "    for i in range(len(det_labels)):\n",
        "        det_images.extend([i] * det_labels[i].size(0))\n",
        "    det_images = torch.LongTensor(det_images).to(device)  # (n_detections)\n",
        "    det_boxes = torch.cat(det_boxes, dim=0)  # (n_detections, 4)\n",
        "    det_labels = torch.cat(det_labels, dim=0)  # (n_detections)\n",
        "    det_scores = torch.cat(det_scores, dim=0)  # (n_detections)\n",
        "\n",
        "    assert det_images.size(0) == det_boxes.size(0) == det_labels.size(0) == det_scores.size(0)\n",
        "\n",
        "    # Calculate APs for each class (except background)\n",
        "    average_precisions = torch.zeros((n_classes - 1), dtype=torch.float)  # (n_classes - 1)\n",
        "    for c in range(1, n_classes):\n",
        "        # Extract only objects with this class\n",
        "        true_class_images = true_images[true_labels == c]  # (n_class_objects)\n",
        "        true_class_boxes = true_boxes[true_labels == c]  # (n_class_objects, 4)\n",
        "        true_class_difficulties = true_difficulties[true_labels == c]  # (n_class_objects)\n",
        "        n_easy_class_objects = (1 - true_class_difficulties).sum().item()  # ignore difficult objects\n",
        "\n",
        "        # Keep track of which true objects with this class have already been 'detected'\n",
        "        # So far, none\n",
        "        true_class_boxes_detected = torch.zeros((true_class_difficulties.size(0)), dtype=torch.uint8).to(\n",
        "            device)  # (n_class_objects)\n",
        "\n",
        "        # Extract only detections with this class\n",
        "        det_class_images = det_images[det_labels == c]  # (n_class_detections)\n",
        "        det_class_boxes = det_boxes[det_labels == c]  # (n_class_detections, 4)\n",
        "        det_class_scores = det_scores[det_labels == c]  # (n_class_detections)\n",
        "        n_class_detections = det_class_boxes.size(0)\n",
        "        if n_class_detections == 0:\n",
        "            continue\n",
        "\n",
        "        # Sort detections in decreasing order of confidence/scores\n",
        "        det_class_scores, sort_ind = torch.sort(det_class_scores, dim=0, descending=True)  # (n_class_detections)\n",
        "        det_class_images = det_class_images[sort_ind]  # (n_class_detections)\n",
        "        det_class_boxes = det_class_boxes[sort_ind]  # (n_class_detections, 4)\n",
        "\n",
        "        # In the order of decreasing scores, check if true or false positive\n",
        "        true_positives = torch.zeros((n_class_detections), dtype=torch.float).to(device)  # (n_class_detections)\n",
        "        false_positives = torch.zeros((n_class_detections), dtype=torch.float).to(device)  # (n_class_detections)\n",
        "        for d in range(n_class_detections):\n",
        "            this_detection_box = det_class_boxes[d].unsqueeze(0)  # (1, 4)\n",
        "            this_image = det_class_images[d]  # (), scalar\n",
        "\n",
        "            # Find objects in the same image with this class, their difficulties, and whether they have been detected before\n",
        "            object_boxes = true_class_boxes[true_class_images == this_image]  # (n_class_objects_in_img)\n",
        "            object_difficulties = true_class_difficulties[true_class_images == this_image]  # (n_class_objects_in_img)\n",
        "            print(object_difficulties)\n",
        "            # If no such object in this image, then the detection is a false positive\n",
        "            if object_boxes.size(0) == 0:\n",
        "                false_positives[d] = 1\n",
        "                continue\n",
        "\n",
        "            # Find maximum overlap of this detection with objects in this image of this class\n",
        "            overlaps = find_jaccard_overlap(this_detection_box.type(torch.FloatTensor), object_boxes.type(torch.FloatTensor))  # (1, n_class_objects_in_img)\n",
        "            max_overlap, ind = torch.max(overlaps.squeeze(0), dim=0)  # (), () - scalars\n",
        "\n",
        "            # 'ind' is the index of the object in these image-level tensors 'object_boxes', 'object_difficulties'\n",
        "            # In the original class-level tensors 'true_class_boxes', etc., 'ind' corresponds to object with index...\n",
        "            original_ind = torch.LongTensor(range(true_class_boxes.size(0)))[true_class_images == this_image][ind]\n",
        "            # We need 'original_ind' to update 'true_class_boxes_detected'\n",
        "\n",
        "            # If the maximum overlap is greater than the threshold of 0.5, it's a match\n",
        "            if max_overlap.item() > 0.1:\n",
        "                # If the object it matched with is 'difficult', ignore it\n",
        "                if object_difficulties[ind] == 0:\n",
        "                    # If this object has already not been detected, it's a true positive\n",
        "                    if true_class_boxes_detected[original_ind] == 0:\n",
        "                        true_positives[d] = 1\n",
        "                        true_class_boxes_detected[original_ind] = 1  # this object has now been detected/accounted for\n",
        "                    # Otherwise, it's a false positive (since this object is already accounted for)\n",
        "                    else:\n",
        "                        false_positives[d] = 1\n",
        "            # Otherwise, the detection occurs in a different location than the actual object, and is a false positive\n",
        "            else:\n",
        "                false_positives[d] = 1\n",
        "\n",
        "        # Compute cumulative precision and recall at each detection in the order of decreasing scores\n",
        "        cumul_true_positives = torch.cumsum(true_positives, dim=0)  # (n_class_detections)\n",
        "        cumul_false_positives = torch.cumsum(false_positives, dim=0)  # (n_class_detections)\n",
        "        cumul_precision = cumul_true_positives / (\n",
        "                cumul_true_positives + cumul_false_positives + 1e-10)  # (n_class_detections)\n",
        "        cumul_recall = cumul_true_positives / n_easy_class_objects  # (n_class_detections)\n",
        "\n",
        "        # Find the mean of the maximum of the precisions corresponding to recalls above the threshold 't'\n",
        "        recall_thresholds = torch.arange(start=0, end=1.1, step=.1).tolist()  # (11)\n",
        "        precisions = torch.zeros((len(recall_thresholds)), dtype=torch.float).to(device)  # (11)\n",
        "        for i, t in enumerate(recall_thresholds):\n",
        "            recalls_above_t = cumul_recall >= t\n",
        "            if recalls_above_t.any():\n",
        "                precisions[i] = cumul_precision[recalls_above_t].max()\n",
        "            else:\n",
        "                precisions[i] = 0.\n",
        "        average_precisions[c - 1] = precisions.mean()  # c is in [1, n_classes - 1]\n",
        "\n",
        "    # Calculate Mean Average Precision (mAP)\n",
        "    mean_average_precision = average_precisions.mean().item()\n",
        "\n",
        "    # Keep class-wise average precisions in a dictionary\n",
        "    average_precisions = {rev_label_map[c + 1]: v for c, v in enumerate(average_precisions.tolist())}\n",
        "\n",
        "    return average_precisions, mean_average_precision"
      ],
      "execution_count": 64,
      "outputs": []
    },
    {
      "cell_type": "code",
      "metadata": {
        "id": "96aI07mbA9Fl",
        "colab_type": "code",
        "colab": {
          "base_uri": "https://localhost:8080/",
          "height": 1000
        },
        "outputId": "cf3e49fa-cb05-4c37-bf7b-bf87eadb3d18"
      },
      "source": [
        "ap, map = calculate_mAP(b, l, s, box_gt2, label_gt, difficult_gt )"
      ],
      "execution_count": 65,
      "outputs": [
        {
          "output_type": "stream",
          "text": [
            "tensor([0])\n",
            "tensor([0])\n",
            "tensor([], dtype=torch.int64)\n",
            "tensor([0])\n",
            "tensor([0])\n",
            "tensor([0])\n",
            "tensor([], dtype=torch.int64)\n",
            "tensor([], dtype=torch.int64)\n",
            "tensor([0])\n",
            "tensor([0])\n",
            "tensor([0])\n",
            "tensor([0])\n",
            "tensor([0])\n",
            "tensor([], dtype=torch.int64)\n",
            "tensor([0])\n",
            "tensor([0])\n",
            "tensor([0])\n",
            "tensor([], dtype=torch.int64)\n",
            "tensor([], dtype=torch.int64)\n",
            "tensor([0])\n",
            "tensor([0])\n",
            "tensor([0])\n",
            "tensor([0])\n",
            "tensor([0])\n",
            "tensor([0])\n",
            "tensor([0])\n",
            "tensor([0])\n",
            "tensor([], dtype=torch.int64)\n",
            "tensor([0])\n",
            "tensor([], dtype=torch.int64)\n",
            "tensor([0])\n",
            "tensor([0])\n",
            "tensor([0])\n",
            "tensor([0])\n",
            "tensor([], dtype=torch.int64)\n",
            "tensor([0])\n",
            "tensor([], dtype=torch.int64)\n",
            "tensor([0])\n",
            "tensor([0])\n",
            "tensor([0])\n",
            "tensor([0])\n",
            "tensor([], dtype=torch.int64)\n",
            "tensor([0])\n",
            "tensor([], dtype=torch.int64)\n",
            "tensor([0])\n",
            "tensor([], dtype=torch.int64)\n",
            "tensor([0])\n",
            "tensor([0])\n",
            "tensor([0])\n",
            "tensor([0])\n",
            "tensor([0])\n",
            "tensor([0])\n",
            "tensor([], dtype=torch.int64)\n",
            "tensor([0])\n",
            "tensor([], dtype=torch.int64)\n",
            "tensor([0])\n",
            "tensor([], dtype=torch.int64)\n",
            "tensor([0])\n",
            "tensor([], dtype=torch.int64)\n",
            "tensor([0])\n",
            "tensor([0])\n",
            "tensor([0])\n",
            "tensor([0])\n",
            "tensor([0])\n",
            "tensor([0])\n",
            "tensor([], dtype=torch.int64)\n",
            "tensor([0])\n",
            "tensor([0])\n",
            "tensor([0])\n",
            "tensor([0])\n",
            "tensor([0])\n",
            "tensor([0])\n",
            "tensor([], dtype=torch.int64)\n",
            "tensor([0])\n",
            "tensor([], dtype=torch.int64)\n",
            "tensor([0])\n",
            "tensor([0])\n",
            "tensor([0])\n",
            "tensor([0])\n",
            "tensor([0])\n",
            "tensor([0])\n",
            "tensor([0])\n",
            "tensor([0])\n",
            "tensor([0])\n",
            "tensor([0])\n",
            "tensor([0])\n",
            "tensor([0])\n",
            "tensor([0])\n",
            "tensor([], dtype=torch.int64)\n",
            "tensor([], dtype=torch.int64)\n",
            "tensor([], dtype=torch.int64)\n",
            "tensor([], dtype=torch.int64)\n",
            "tensor([], dtype=torch.int64)\n",
            "tensor([0])\n",
            "tensor([0])\n",
            "tensor([0])\n",
            "tensor([0])\n",
            "tensor([0])\n",
            "tensor([], dtype=torch.int64)\n",
            "tensor([0])\n",
            "tensor([0])\n",
            "tensor([0])\n",
            "tensor([0])\n",
            "tensor([0])\n",
            "tensor([0])\n",
            "tensor([0])\n",
            "tensor([0])\n",
            "tensor([], dtype=torch.int64)\n",
            "tensor([], dtype=torch.int64)\n",
            "tensor([0])\n",
            "tensor([], dtype=torch.int64)\n",
            "tensor([0])\n",
            "tensor([0])\n",
            "tensor([0])\n",
            "tensor([0])\n",
            "tensor([0])\n",
            "tensor([0])\n",
            "tensor([], dtype=torch.int64)\n",
            "tensor([0])\n",
            "tensor([0])\n",
            "tensor([0])\n",
            "tensor([0])\n",
            "tensor([0])\n",
            "tensor([], dtype=torch.int64)\n",
            "tensor([], dtype=torch.int64)\n",
            "tensor([], dtype=torch.int64)\n",
            "tensor([0])\n",
            "tensor([0])\n",
            "tensor([], dtype=torch.int64)\n",
            "tensor([0])\n",
            "tensor([0])\n",
            "tensor([0])\n",
            "tensor([0])\n",
            "tensor([], dtype=torch.int64)\n",
            "tensor([0])\n",
            "tensor([0])\n",
            "tensor([], dtype=torch.int64)\n",
            "tensor([], dtype=torch.int64)\n",
            "tensor([0])\n",
            "tensor([], dtype=torch.int64)\n",
            "tensor([], dtype=torch.int64)\n",
            "tensor([0])\n",
            "tensor([0])\n",
            "tensor([0])\n",
            "tensor([0])\n",
            "tensor([], dtype=torch.int64)\n",
            "tensor([0])\n",
            "tensor([], dtype=torch.int64)\n",
            "tensor([0])\n",
            "tensor([], dtype=torch.int64)\n",
            "tensor([0])\n",
            "tensor([0])\n",
            "tensor([], dtype=torch.int64)\n",
            "tensor([], dtype=torch.int64)\n",
            "tensor([0])\n",
            "tensor([], dtype=torch.int64)\n",
            "tensor([], dtype=torch.int64)\n",
            "tensor([0])\n",
            "tensor([0])\n",
            "tensor([], dtype=torch.int64)\n",
            "tensor([], dtype=torch.int64)\n",
            "tensor([0])\n",
            "tensor([], dtype=torch.int64)\n",
            "tensor([0])\n",
            "tensor([0])\n",
            "tensor([], dtype=torch.int64)\n",
            "tensor([], dtype=torch.int64)\n",
            "tensor([0])\n",
            "tensor([], dtype=torch.int64)\n",
            "tensor([0])\n",
            "tensor([], dtype=torch.int64)\n",
            "tensor([0])\n",
            "tensor([], dtype=torch.int64)\n",
            "tensor([0])\n",
            "tensor([0])\n",
            "tensor([], dtype=torch.int64)\n",
            "tensor([], dtype=torch.int64)\n",
            "tensor([], dtype=torch.int64)\n",
            "tensor([0])\n",
            "tensor([0])\n",
            "tensor([0])\n",
            "tensor([], dtype=torch.int64)\n",
            "tensor([0])\n",
            "tensor([], dtype=torch.int64)\n",
            "tensor([0])\n",
            "tensor([0])\n",
            "tensor([0])\n",
            "tensor([0])\n",
            "tensor([0])\n",
            "tensor([], dtype=torch.int64)\n",
            "tensor([], dtype=torch.int64)\n",
            "tensor([0])\n",
            "tensor([], dtype=torch.int64)\n",
            "tensor([0])\n",
            "tensor([0])\n",
            "tensor([0])\n",
            "tensor([], dtype=torch.int64)\n",
            "tensor([], dtype=torch.int64)\n",
            "tensor([0])\n",
            "tensor([0])\n",
            "tensor([0])\n",
            "tensor([], dtype=torch.int64)\n",
            "tensor([0])\n",
            "tensor([], dtype=torch.int64)\n",
            "tensor([0])\n",
            "tensor([0])\n",
            "tensor([0])\n",
            "tensor([0])\n",
            "tensor([0])\n",
            "tensor([], dtype=torch.int64)\n",
            "tensor([0])\n",
            "tensor([0])\n",
            "tensor([], dtype=torch.int64)\n",
            "tensor([], dtype=torch.int64)\n",
            "tensor([], dtype=torch.int64)\n",
            "tensor([], dtype=torch.int64)\n",
            "tensor([], dtype=torch.int64)\n",
            "tensor([], dtype=torch.int64)\n",
            "tensor([0])\n",
            "tensor([], dtype=torch.int64)\n",
            "tensor([0])\n",
            "tensor([], dtype=torch.int64)\n",
            "tensor([0])\n",
            "tensor([0, 0])\n",
            "tensor([], dtype=torch.int64)\n",
            "tensor([0])\n",
            "tensor([0])\n",
            "tensor([0, 0])\n",
            "tensor([0])\n",
            "tensor([0, 0])\n",
            "tensor([0, 0])\n",
            "tensor([0])\n",
            "tensor([], dtype=torch.int64)\n",
            "tensor([0])\n",
            "tensor([], dtype=torch.int64)\n",
            "tensor([], dtype=torch.int64)\n",
            "tensor([0])\n",
            "tensor([], dtype=torch.int64)\n",
            "tensor([], dtype=torch.int64)\n",
            "tensor([], dtype=torch.int64)\n",
            "tensor([], dtype=torch.int64)\n",
            "tensor([], dtype=torch.int64)\n",
            "tensor([0, 0])\n",
            "tensor([], dtype=torch.int64)\n",
            "tensor([], dtype=torch.int64)\n",
            "tensor([0, 0])\n",
            "tensor([0, 0])\n",
            "tensor([0, 0])\n",
            "tensor([0, 0])\n",
            "tensor([], dtype=torch.int64)\n",
            "tensor([0, 0, 0])\n",
            "tensor([], dtype=torch.int64)\n",
            "tensor([], dtype=torch.int64)\n",
            "tensor([0, 0])\n",
            "tensor([0])\n",
            "tensor([0])\n",
            "tensor([], dtype=torch.int64)\n",
            "tensor([], dtype=torch.int64)\n",
            "tensor([], dtype=torch.int64)\n",
            "tensor([0, 0])\n",
            "tensor([], dtype=torch.int64)\n",
            "tensor([0, 0])\n",
            "tensor([0, 0])\n",
            "tensor([], dtype=torch.int64)\n",
            "tensor([], dtype=torch.int64)\n",
            "tensor([], dtype=torch.int64)\n",
            "tensor([0])\n",
            "tensor([0])\n",
            "tensor([], dtype=torch.int64)\n",
            "tensor([0, 0])\n",
            "tensor([0, 0])\n",
            "tensor([], dtype=torch.int64)\n",
            "tensor([0, 0])\n",
            "tensor([0])\n",
            "tensor([], dtype=torch.int64)\n",
            "tensor([0])\n",
            "tensor([0, 0])\n",
            "tensor([], dtype=torch.int64)\n",
            "tensor([], dtype=torch.int64)\n",
            "tensor([], dtype=torch.int64)\n",
            "tensor([0, 0])\n",
            "tensor([0, 0])\n",
            "tensor([0])\n",
            "tensor([], dtype=torch.int64)\n",
            "tensor([0, 0])\n",
            "tensor([], dtype=torch.int64)\n",
            "tensor([0])\n",
            "tensor([], dtype=torch.int64)\n",
            "tensor([], dtype=torch.int64)\n",
            "tensor([], dtype=torch.int64)\n",
            "tensor([], dtype=torch.int64)\n",
            "tensor([0, 0])\n",
            "tensor([], dtype=torch.int64)\n",
            "tensor([0])\n",
            "tensor([], dtype=torch.int64)\n",
            "tensor([0, 0])\n",
            "tensor([], dtype=torch.int64)\n",
            "tensor([], dtype=torch.int64)\n",
            "tensor([0, 0])\n",
            "tensor([], dtype=torch.int64)\n",
            "tensor([], dtype=torch.int64)\n",
            "tensor([], dtype=torch.int64)\n",
            "tensor([], dtype=torch.int64)\n",
            "tensor([], dtype=torch.int64)\n",
            "tensor([0, 0])\n",
            "tensor([], dtype=torch.int64)\n",
            "tensor([], dtype=torch.int64)\n",
            "tensor([0, 0])\n",
            "tensor([0])\n",
            "tensor([0, 0])\n",
            "tensor([], dtype=torch.int64)\n",
            "tensor([], dtype=torch.int64)\n",
            "tensor([0])\n",
            "tensor([], dtype=torch.int64)\n",
            "tensor([], dtype=torch.int64)\n",
            "tensor([], dtype=torch.int64)\n",
            "tensor([], dtype=torch.int64)\n",
            "tensor([], dtype=torch.int64)\n",
            "tensor([0, 0])\n",
            "tensor([], dtype=torch.int64)\n",
            "tensor([0])\n",
            "tensor([], dtype=torch.int64)\n",
            "tensor([0])\n",
            "tensor([], dtype=torch.int64)\n",
            "tensor([0, 0])\n",
            "tensor([], dtype=torch.int64)\n",
            "tensor([0])\n",
            "tensor([0, 0])\n",
            "tensor([0, 0])\n",
            "tensor([0, 0])\n",
            "tensor([], dtype=torch.int64)\n",
            "tensor([0, 0])\n",
            "tensor([], dtype=torch.int64)\n",
            "tensor([], dtype=torch.int64)\n",
            "tensor([], dtype=torch.int64)\n",
            "tensor([], dtype=torch.int64)\n",
            "tensor([0, 0])\n",
            "tensor([], dtype=torch.int64)\n",
            "tensor([], dtype=torch.int64)\n",
            "tensor([], dtype=torch.int64)\n",
            "tensor([], dtype=torch.int64)\n",
            "tensor([0, 0])\n",
            "tensor([], dtype=torch.int64)\n",
            "tensor([], dtype=torch.int64)\n",
            "tensor([0, 0])\n"
          ],
          "name": "stdout"
        }
      ]
    },
    {
      "cell_type": "code",
      "metadata": {
        "id": "vUa_gRmkHU8e",
        "colab_type": "code",
        "colab": {
          "base_uri": "https://localhost:8080/",
          "height": 35
        },
        "outputId": "eae5a7ae-bf19-4481-b983-6b3f837e0c15"
      },
      "source": [
        "print(map)"
      ],
      "execution_count": 66,
      "outputs": [
        {
          "output_type": "stream",
          "text": [
            "0.044274087995290756\n"
          ],
          "name": "stdout"
        }
      ]
    },
    {
      "cell_type": "code",
      "metadata": {
        "id": "9c-h6kS0R9EB",
        "colab_type": "code",
        "colab": {
          "base_uri": "https://localhost:8080/",
          "height": 35
        },
        "outputId": "d8dd069f-5565-4878-cdef-14b0ae775fde"
      },
      "source": [
        "print(ap)"
      ],
      "execution_count": 67,
      "outputs": [
        {
          "output_type": "stream",
          "text": [
            "{'title': 0.0998251810669899, 'legend': 0.0216334480792284, 'axis label': 0.011363636702299118}\n"
          ],
          "name": "stdout"
        }
      ]
    },
    {
      "cell_type": "code",
      "metadata": {
        "id": "2RX7JKA9SjhM",
        "colab_type": "code",
        "colab": {}
      },
      "source": [
        ""
      ],
      "execution_count": null,
      "outputs": []
    }
  ]
}